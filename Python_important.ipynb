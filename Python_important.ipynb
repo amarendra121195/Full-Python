{
 "cells": [
  {
   "cell_type": "code",
   "execution_count": 1,
   "id": "b9dd06ed",
   "metadata": {},
   "outputs": [
    {
     "name": "stdout",
     "output_type": "stream",
     "text": [
      "i am a good boy and\n",
      "viewer are also good boy/girl\n"
     ]
    }
   ],
   "source": [
    "print('i am a good boy and\\nviewer are also good boy/girl')"
   ]
  },
  {
   "cell_type": "code",
   "execution_count": 2,
   "id": "d5711f11",
   "metadata": {},
   "outputs": [
    {
     "name": "stdout",
     "output_type": "stream",
     "text": [
      "i am a good boy and\\nviewer are also good boy/girl\n"
     ]
    }
   ],
   "source": [
    "print(r'i am a good boy and\\nviewer are also good boy/girl')   # row formating are not allows escape "
   ]
  },
  {
   "cell_type": "code",
   "execution_count": 3,
   "id": "eb4a39f8",
   "metadata": {},
   "outputs": [
    {
     "name": "stdout",
     "output_type": "stream",
     "text": [
      "arr\n"
     ]
    }
   ],
   "source": [
    "name='harry'\n",
    "print(name[len(name)-4:-1])"
   ]
  },
  {
   "cell_type": "code",
   "execution_count": 4,
   "id": "be3b2cfd",
   "metadata": {},
   "outputs": [
    {
     "data": {
      "text/plain": [
       "'harry'"
      ]
     },
     "execution_count": 4,
     "metadata": {},
     "output_type": "execute_result"
    }
   ],
   "source": [
    "name"
   ]
  },
  {
   "cell_type": "code",
   "execution_count": 5,
   "id": "93255a93",
   "metadata": {},
   "outputs": [
    {
     "data": {
      "text/plain": [
       "1"
      ]
     },
     "execution_count": 5,
     "metadata": {},
     "output_type": "execute_result"
    }
   ],
   "source": [
    "name.find('a')"
   ]
  },
  {
   "cell_type": "code",
   "execution_count": 6,
   "id": "404c8cf0",
   "metadata": {},
   "outputs": [
    {
     "name": "stdout",
     "output_type": "stream",
     "text": [
      "enter the value of number :85\n",
      "elif block : num is special\n"
     ]
    }
   ],
   "source": [
    "num=int(input('enter the value of number :'))\n",
    "if (num<=0):\n",
    "    print(\"number is negative \")\n",
    "elif (num==0):\n",
    "    print('num is zero')\n",
    "elif (num<999):\n",
    "    print('elif block : num is special')\n",
    "else:\n",
    "    print('i am happy now')"
   ]
  },
  {
   "cell_type": "code",
   "execution_count": 7,
   "id": "033d23f6",
   "metadata": {},
   "outputs": [],
   "source": [
    "import time"
   ]
  },
  {
   "cell_type": "code",
   "execution_count": 8,
   "id": "35686d18",
   "metadata": {},
   "outputs": [
    {
     "name": "stdout",
     "output_type": "stream",
     "text": [
      "10:46:26\n"
     ]
    }
   ],
   "source": [
    "timestamp=time.strftime('%H:%M:%S')\n",
    "print(timestamp)"
   ]
  },
  {
   "cell_type": "code",
   "execution_count": 9,
   "id": "d62eacae",
   "metadata": {},
   "outputs": [
    {
     "name": "stdout",
     "output_type": "stream",
     "text": [
      "[1, 4, 2, 5, 3, 6]\n"
     ]
    }
   ],
   "source": [
    "l=[1,2,3,4,5,6]\n",
    "output=[]\n",
    "for i in range(3):\n",
    "    output.append(l[i])\n",
    "    output.append(l[i+3])\n",
    "print(output)"
   ]
  },
  {
   "cell_type": "code",
   "execution_count": 10,
   "id": "879fd364",
   "metadata": {},
   "outputs": [
    {
     "name": "stdout",
     "output_type": "stream",
     "text": [
      "[1, 4, 2, 5, 3, 6]\n"
     ]
    }
   ],
   "source": [
    "output=[]\n",
    "for i in range(int(len(l)/2)):\n",
    "    output.append(l[i])\n",
    "    output.append(l[i+int(len(l)/2)])\n",
    "print(output)"
   ]
  },
  {
   "cell_type": "code",
   "execution_count": 11,
   "id": "a92cc3f0",
   "metadata": {},
   "outputs": [
    {
     "name": "stdout",
     "output_type": "stream",
     "text": [
      "5 * 1 = 5\n",
      "5 * 2 = 10\n",
      "5 * 3 = 15\n",
      "5 * 4 = 20\n",
      "5 * 5 = 25\n",
      "5 * 6 = 30\n",
      "5 * 7 = 35\n",
      "5 * 8 = 40\n",
      "5 * 9 = 45\n",
      "5 * 10 = 50\n"
     ]
    }
   ],
   "source": [
    "for i in range(12):\n",
    "    if(i==10):\n",
    "        break\n",
    "    print(5,'*',i+1,'=',5*(i+1))\n",
    "    "
   ]
  },
  {
   "cell_type": "code",
   "execution_count": 12,
   "id": "f1372cf7",
   "metadata": {},
   "outputs": [
    {
     "name": "stdout",
     "output_type": "stream",
     "text": [
      "5 * 0 = 1\n",
      "5 * 1 = 6\n",
      "5 * 2 = 11\n",
      "5 * 3 = 16\n",
      "5 * 4 = 21\n",
      "5 * 5 = 26\n",
      "5 * 6 = 31\n",
      "5 * 7 = 36\n",
      "5 * 8 = 41\n",
      "5 * 9 = 46\n",
      "5 * 10 = 51\n",
      "5 * 11 = 56\n"
     ]
    }
   ],
   "source": [
    "for i in range(12):\n",
    "    print('5 *',i,'=',5*i+1)"
   ]
  },
  {
   "cell_type": "code",
   "execution_count": 13,
   "id": "2173a782",
   "metadata": {},
   "outputs": [
    {
     "name": "stdout",
     "output_type": "stream",
     "text": [
      "average of numbers :  3.5\n",
      "sum of elements : 21\n"
     ]
    }
   ],
   "source": [
    "def average(*numbers):\n",
    "    sum=0\n",
    "    for i in numbers:\n",
    "        sum=sum+i\n",
    "    print('average of numbers : ',sum/len(numbers))\n",
    "    print(\"sum of elements :\", sum)\n",
    "average(1,2,3,4,5,6)\n",
    "# print(sum)"
   ]
  },
  {
   "cell_type": "markdown",
   "id": "e76590f5",
   "metadata": {},
   "source": [
    "# DocString"
   ]
  },
  {
   "cell_type": "code",
   "execution_count": 14,
   "id": "58d629d0",
   "metadata": {},
   "outputs": [
    {
     "name": "stdout",
     "output_type": "stream",
     "text": [
      "25\n",
      "takes in a numbers n ,return the sqaure of n\n"
     ]
    }
   ],
   "source": [
    "def square(n):\n",
    "    '''takes in a numbers n ,return the sqaure of n'''\n",
    "    print(n**2)\n",
    "square(5)\n",
    "print(square.__doc__)"
   ]
  },
  {
   "cell_type": "code",
   "execution_count": 15,
   "id": "7a78caa0",
   "metadata": {},
   "outputs": [
    {
     "data": {
      "text/plain": [
       "(12+0j)"
      ]
     },
     "execution_count": 15,
     "metadata": {},
     "output_type": "execute_result"
    }
   ],
   "source": [
    "complex(12)"
   ]
  },
  {
   "cell_type": "code",
   "execution_count": 16,
   "id": "75301f98",
   "metadata": {},
   "outputs": [
    {
     "name": "stdout",
     "output_type": "stream",
     "text": [
      "55\n"
     ]
    }
   ],
   "source": [
    "n=10\n",
    "sum=0\n",
    "i=1\n",
    "while i<=n:\n",
    "    sum+=i\n",
    "    i+=1\n",
    "print(sum)"
   ]
  },
  {
   "cell_type": "code",
   "execution_count": 17,
   "id": "2a19c4e9",
   "metadata": {},
   "outputs": [
    {
     "name": "stdout",
     "output_type": "stream",
     "text": [
      "55\n"
     ]
    }
   ],
   "source": [
    "n=10\n",
    "sum=0\n",
    "for i in range(1,n+1):\n",
    "    sum+=i\n",
    "print(sum)"
   ]
  },
  {
   "cell_type": "code",
   "execution_count": 20,
   "id": "e25b7ed5",
   "metadata": {},
   "outputs": [],
   "source": [
    "from array import*"
   ]
  },
  {
   "cell_type": "code",
   "execution_count": 21,
   "id": "8b8c01cc",
   "metadata": {},
   "outputs": [
    {
     "name": "stdout",
     "output_type": "stream",
     "text": [
      " how many elements in the array:4\n",
      "enter the element of array: 1\n",
      "enter the element of array: 2\n",
      "enter the element of array: 3\n",
      "enter the element of array: 4\n",
      "array('i', [1, 2, 3, 4])\n"
     ]
    }
   ],
   "source": [
    "stu_id=array('i',[])\n",
    "n=int(input(\" how many elements in the array:\"))\n",
    "for i in range(n):\n",
    "    stu_id.append(int(input('enter the element of array: ')))\n",
    "print(stu_id)"
   ]
  },
  {
   "cell_type": "code",
   "execution_count": 22,
   "id": "d8d2ed2e",
   "metadata": {},
   "outputs": [
    {
     "data": {
      "text/plain": [
       "array([[0, 0],\n",
       "       [0, 0],\n",
       "       [0, 0]])"
      ]
     },
     "execution_count": 22,
     "metadata": {},
     "output_type": "execute_result"
    }
   ],
   "source": [
    "import numpy\n",
    "numpy.zeros((3,2),dtype=int)"
   ]
  },
  {
   "cell_type": "code",
   "execution_count": 23,
   "id": "8250896a",
   "metadata": {},
   "outputs": [],
   "source": [
    "import array"
   ]
  },
  {
   "cell_type": "code",
   "execution_count": 24,
   "id": "9179ac8f",
   "metadata": {},
   "outputs": [
    {
     "data": {
      "text/plain": [
       "array([3, 2])"
      ]
     },
     "execution_count": 24,
     "metadata": {},
     "output_type": "execute_result"
    }
   ],
   "source": [
    "numpy.array((3,2),dtype=int)"
   ]
  },
  {
   "cell_type": "code",
   "execution_count": 25,
   "id": "e174474a",
   "metadata": {},
   "outputs": [
    {
     "name": "stdout",
     "output_type": "stream",
     "text": [
      "my name is amarendra kumar kushwaha and from bihar\n"
     ]
    }
   ],
   "source": [
    "print(f\"my name is {'amarendra kumar kushwaha'} and from {'bihar'}\")"
   ]
  },
  {
   "cell_type": "code",
   "execution_count": 26,
   "id": "85f5af74",
   "metadata": {},
   "outputs": [],
   "source": [
    "class Info:\n",
    "    def __init__(self,name,state):\n",
    "        self.name=name\n",
    "        self.state=state\n",
    "    def display(self):\n",
    "        return str(self.name)+\" \"+str(self.state)"
   ]
  },
  {
   "cell_type": "code",
   "execution_count": 27,
   "id": "22303068",
   "metadata": {},
   "outputs": [],
   "source": [
    "obj=Info('amarendra kumar kushwaha from ','Bihar')\n",
    "str1=obj.display()"
   ]
  },
  {
   "cell_type": "code",
   "execution_count": 28,
   "id": "ef89a4e5",
   "metadata": {},
   "outputs": [
    {
     "data": {
      "text/plain": [
       "'amarendra kumar kushwaha from  bihar'"
      ]
     },
     "execution_count": 28,
     "metadata": {},
     "output_type": "execute_result"
    }
   ],
   "source": [
    "str1.lower()"
   ]
  },
  {
   "cell_type": "code",
   "execution_count": 29,
   "id": "18404e6c",
   "metadata": {},
   "outputs": [
    {
     "data": {
      "text/plain": [
       "'amarendra kumar kushwaha from  bihar'"
      ]
     },
     "execution_count": 29,
     "metadata": {},
     "output_type": "execute_result"
    }
   ],
   "source": [
    "str1.casefold()"
   ]
  },
  {
   "cell_type": "code",
   "execution_count": 30,
   "id": "17f17344",
   "metadata": {},
   "outputs": [
    {
     "data": {
      "text/plain": [
       "'Amarendra Kumar Kushwaha From  Bihar'"
      ]
     },
     "execution_count": 30,
     "metadata": {},
     "output_type": "execute_result"
    }
   ],
   "source": [
    "str1.title()"
   ]
  },
  {
   "cell_type": "code",
   "execution_count": 31,
   "id": "18dfa374",
   "metadata": {},
   "outputs": [
    {
     "data": {
      "text/plain": [
       "'amarendra kumar kushwaha from  bihar'"
      ]
     },
     "execution_count": 31,
     "metadata": {},
     "output_type": "execute_result"
    }
   ],
   "source": [
    "str1.casefold()"
   ]
  },
  {
   "cell_type": "code",
   "execution_count": 32,
   "id": "e1a7ee1b",
   "metadata": {},
   "outputs": [],
   "source": [
    "x=str1.replace('kushwaha','roy')"
   ]
  },
  {
   "cell_type": "code",
   "execution_count": 33,
   "id": "74dafe89",
   "metadata": {},
   "outputs": [
    {
     "data": {
      "text/plain": [
       "str"
      ]
     },
     "execution_count": 33,
     "metadata": {},
     "output_type": "execute_result"
    }
   ],
   "source": [
    "type(str1)"
   ]
  },
  {
   "cell_type": "code",
   "execution_count": 34,
   "id": "74af2841",
   "metadata": {},
   "outputs": [
    {
     "data": {
      "text/plain": [
       "'amarendra kumar roy from  Bihar'"
      ]
     },
     "execution_count": 34,
     "metadata": {},
     "output_type": "execute_result"
    }
   ],
   "source": [
    "x"
   ]
  },
  {
   "cell_type": "code",
   "execution_count": 35,
   "id": "ea27d68b",
   "metadata": {},
   "outputs": [
    {
     "data": {
      "text/plain": [
       "'amarendra kumar kushwaha from  Bihar'"
      ]
     },
     "execution_count": 35,
     "metadata": {},
     "output_type": "execute_result"
    }
   ],
   "source": [
    "str1"
   ]
  },
  {
   "cell_type": "code",
   "execution_count": 36,
   "id": "e96d5aee",
   "metadata": {},
   "outputs": [
    {
     "data": {
      "text/plain": [
       "['amarendra', 'kumar', 'kushwaha', 'from', 'Bihar']"
      ]
     },
     "execution_count": 36,
     "metadata": {},
     "output_type": "execute_result"
    }
   ],
   "source": [
    "str1.split()"
   ]
  },
  {
   "cell_type": "code",
   "execution_count": 37,
   "id": "f884f055",
   "metadata": {},
   "outputs": [
    {
     "data": {
      "text/plain": [
       "'Amarendra kumar kushwaha from  bihar'"
      ]
     },
     "execution_count": 37,
     "metadata": {},
     "output_type": "execute_result"
    }
   ],
   "source": [
    "str1.capitalize()"
   ]
  },
  {
   "cell_type": "code",
   "execution_count": 38,
   "id": "f2937934",
   "metadata": {},
   "outputs": [
    {
     "data": {
      "text/plain": [
       "'Amarendra Kumar Kushwaha From  Bihar'"
      ]
     },
     "execution_count": 38,
     "metadata": {},
     "output_type": "execute_result"
    }
   ],
   "source": [
    "str1.title()"
   ]
  },
  {
   "cell_type": "code",
   "execution_count": 39,
   "id": "454d5777",
   "metadata": {},
   "outputs": [
    {
     "data": {
      "text/plain": [
       "'Bihar 845105 amrendra kumar kushwaha'"
      ]
     },
     "execution_count": 39,
     "metadata": {},
     "output_type": "execute_result"
    }
   ],
   "source": [
    "class Pin_code(Info):\n",
    "    def __init__(self,pincode,*args):\n",
    "        super(Pin_code,self).__init__(*args)\n",
    "        self.pincode=pincode\n",
    "    def show(self):\n",
    "        return super().display()+' '+self.pincode\n",
    "res=Pin_code(\"amrendra kumar kushwaha\",'Bihar',845105)\n",
    "res.show()"
   ]
  },
  {
   "cell_type": "code",
   "execution_count": null,
   "id": "ece29a84",
   "metadata": {},
   "outputs": [],
   "source": []
  },
  {
   "cell_type": "code",
   "execution_count": 40,
   "id": "b7a105ae",
   "metadata": {},
   "outputs": [
    {
     "name": "stdout",
     "output_type": "stream",
     "text": [
      "{'amarendra': 1, 'kumar': 1, 'kushwaha': 1, 'from': 1, 'Bihar': 1}\n"
     ]
    }
   ],
   "source": [
    "lst={}\n",
    "for i in str1.split():\n",
    "    if i in lst:\n",
    "        lst[i]+=1\n",
    "    else:\n",
    "        lst[i]=1\n",
    "print(lst)"
   ]
  },
  {
   "cell_type": "code",
   "execution_count": 41,
   "id": "d2ca267b",
   "metadata": {},
   "outputs": [
    {
     "name": "stdout",
     "output_type": "stream",
     "text": [
      "6\n"
     ]
    }
   ],
   "source": [
    "s='123'\n",
    "sum=0\n",
    "for i in s:\n",
    "    sum+=int(i)\n",
    "print(sum)"
   ]
  },
  {
   "cell_type": "code",
   "execution_count": 42,
   "id": "4555179a",
   "metadata": {},
   "outputs": [
    {
     "name": "stdout",
     "output_type": "stream",
     "text": [
      "6\n"
     ]
    }
   ],
   "source": [
    "number=123\n",
    "a=number%10\n",
    "number=123//10\n",
    "b=number%10\n",
    "number=number//10\n",
    "c=number%10\n",
    "number=number//10\n",
    "z=a+b+c\n",
    "print(z)"
   ]
  },
  {
   "cell_type": "code",
   "execution_count": 43,
   "id": "32dcddb5",
   "metadata": {},
   "outputs": [
    {
     "name": "stdout",
     "output_type": "stream",
     "text": [
      "321"
     ]
    }
   ],
   "source": [
    "s='123'\n",
    "for i in s[::-1]:\n",
    "    print(int(i),end='')"
   ]
  },
  {
   "cell_type": "code",
   "execution_count": 44,
   "id": "a70c72fe",
   "metadata": {},
   "outputs": [
    {
     "data": {
      "text/plain": [
       "321"
      ]
     },
     "execution_count": 44,
     "metadata": {},
     "output_type": "execute_result"
    }
   ],
   "source": [
    "int(s[::-1])"
   ]
  },
  {
   "cell_type": "code",
   "execution_count": 45,
   "id": "d0d03dd0",
   "metadata": {},
   "outputs": [
    {
     "data": {
      "text/plain": [
       "321"
      ]
     },
     "execution_count": 45,
     "metadata": {},
     "output_type": "execute_result"
    }
   ],
   "source": [
    "int(''.join(reversed(s)))"
   ]
  },
  {
   "cell_type": "code",
   "execution_count": 46,
   "id": "a7674a15",
   "metadata": {},
   "outputs": [],
   "source": [
    "lst1=[1,2,3,4,5,6]"
   ]
  },
  {
   "cell_type": "code",
   "execution_count": 47,
   "id": "36cc9202",
   "metadata": {},
   "outputs": [
    {
     "data": {
      "text/plain": [
       "1"
      ]
     },
     "execution_count": 47,
     "metadata": {},
     "output_type": "execute_result"
    }
   ],
   "source": [
    "lst1.index(2)"
   ]
  },
  {
   "cell_type": "code",
   "execution_count": 48,
   "id": "12ba80bf",
   "metadata": {},
   "outputs": [
    {
     "data": {
      "text/plain": [
       "int"
      ]
     },
     "execution_count": 48,
     "metadata": {},
     "output_type": "execute_result"
    }
   ],
   "source": [
    "type(int(len(lst1)/2))"
   ]
  },
  {
   "cell_type": "code",
   "execution_count": 49,
   "id": "0a1cc366",
   "metadata": {},
   "outputs": [
    {
     "name": "stdout",
     "output_type": "stream",
     "text": [
      "321\n"
     ]
    }
   ],
   "source": [
    "x=123\n",
    "rev=0\n",
    "while 0<x:\n",
    "    a=x%10\n",
    "    rev=rev*10+a\n",
    "    x=x//10\n",
    "print(rev)"
   ]
  },
  {
   "cell_type": "code",
   "execution_count": 50,
   "id": "63abdd03",
   "metadata": {},
   "outputs": [
    {
     "name": "stdout",
     "output_type": "stream",
     "text": [
      "[1, 4, 2, 5, 3, 6]\n"
     ]
    }
   ],
   "source": [
    "output=[]\n",
    "for i in range(int(len(lst1)/2)):\n",
    "    output.append(lst1[i])\n",
    "    output.append(lst1[i+int(len(lst1)/2)])\n",
    "print(output)"
   ]
  },
  {
   "cell_type": "code",
   "execution_count": 51,
   "id": "9ee26407",
   "metadata": {},
   "outputs": [
    {
     "name": "stdout",
     "output_type": "stream",
     "text": [
      "[19, 12, 15]\n"
     ]
    }
   ],
   "source": [
    "l1=[12,3,4]\n",
    "l2=[3,4,5,6]\n",
    "l3=[4,5,6,7,9]\n",
    "l4=[]\n",
    "for a,b,c in zip(l1,l2,l3):\n",
    "    l4.append(a+b+c)\n",
    "print(l4)"
   ]
  },
  {
   "cell_type": "code",
   "execution_count": 52,
   "id": "2fd895fb",
   "metadata": {},
   "outputs": [
    {
     "data": {
      "text/plain": [
       "[19, 12, 15]"
      ]
     },
     "execution_count": 52,
     "metadata": {},
     "output_type": "execute_result"
    }
   ],
   "source": [
    "result=list(map(lambda x,y,z:x+y+z,l1,l2,l3))\n",
    "result"
   ]
  },
  {
   "cell_type": "code",
   "execution_count": 53,
   "id": "93b93cd0",
   "metadata": {},
   "outputs": [],
   "source": [
    "a={'rahul','raj','ramu','samu'}\n",
    "b={'sajan','rahul','samu','python','java'}"
   ]
  },
  {
   "cell_type": "code",
   "execution_count": 54,
   "id": "91f70c7b",
   "metadata": {},
   "outputs": [
    {
     "name": "stdout",
     "output_type": "stream",
     "text": [
      "{'Jill': 99, 'Jack': 56, 'Jeb': 24, 'Jessica': 87}\n"
     ]
    }
   ],
   "source": [
    "names = ['Jill','Jack','Jeb','Jessica']\n",
    "grades = [99,56,24,87]\n",
    "\n",
    "d = dict(zip(names,grades))\n",
    "print(d)"
   ]
  },
  {
   "cell_type": "code",
   "execution_count": 55,
   "id": "1a5c3b94",
   "metadata": {},
   "outputs": [],
   "source": [
    "m = ['Jill','Jack','Jeb','Jessica']\n",
    "ip='aabccad'\n",
    "ip=list(set(ip))\n",
    "lst=[[0,1,5],[2],[3,4],[6]]"
   ]
  },
  {
   "cell_type": "code",
   "execution_count": 56,
   "id": "4d69c433",
   "metadata": {},
   "outputs": [
    {
     "data": {
      "text/plain": [
       "{'c': 'java', 'b': 'sajan', 'd': 'samu', 'a': 'rahul'}"
      ]
     },
     "execution_count": 56,
     "metadata": {},
     "output_type": "execute_result"
    }
   ],
   "source": [
    "dict(zip(ip,b))"
   ]
  },
  {
   "cell_type": "code",
   "execution_count": 57,
   "id": "41ff8441",
   "metadata": {},
   "outputs": [
    {
     "data": {
      "text/plain": [
       "{'Jill': 'java', 'Jack': 'sajan', 'Jeb': 'samu', 'Jessica': 'rahul'}"
      ]
     },
     "execution_count": 57,
     "metadata": {},
     "output_type": "execute_result"
    }
   ],
   "source": [
    "dict(zip(m,b))"
   ]
  },
  {
   "cell_type": "code",
   "execution_count": 58,
   "id": "1368ef07",
   "metadata": {},
   "outputs": [
    {
     "data": {
      "text/plain": [
       "[('Jill', 'java'), ('Jack', 'sajan'), ('Jeb', 'samu'), ('Jessica', 'rahul')]"
      ]
     },
     "execution_count": 58,
     "metadata": {},
     "output_type": "execute_result"
    }
   ],
   "source": [
    "list(zip(m,b))"
   ]
  },
  {
   "cell_type": "code",
   "execution_count": 59,
   "id": "49cfa3da",
   "metadata": {},
   "outputs": [],
   "source": [
    "inpt='aabccad'\n",
    "lst1=list(set(inpt))\n",
    "lst=[[0,1,5],[2],[3,4],[6]]"
   ]
  },
  {
   "cell_type": "code",
   "execution_count": 60,
   "id": "dec8b608",
   "metadata": {},
   "outputs": [
    {
     "data": {
      "text/plain": [
       "{'c': [0, 1, 5], 'b': [2], 'd': [3, 4], 'a': [6]}"
      ]
     },
     "execution_count": 60,
     "metadata": {},
     "output_type": "execute_result"
    }
   ],
   "source": [
    "dict(zip(lst1,lst))"
   ]
  },
  {
   "cell_type": "code",
   "execution_count": 61,
   "id": "145afce0",
   "metadata": {},
   "outputs": [
    {
     "name": "stdout",
     "output_type": "stream",
     "text": [
      "{'c': [0, 1, 5], 'b': [2], 'd': [3, 4], 'a': [6]}\n"
     ]
    }
   ],
   "source": [
    "d={}\n",
    "for k,v in zip(lst1,lst):\n",
    "    d[k]=v\n",
    "print(d)"
   ]
  },
  {
   "cell_type": "code",
   "execution_count": 62,
   "id": "5bc36953",
   "metadata": {},
   "outputs": [
    {
     "data": {
      "text/plain": [
       "{'ramu': 'java', 'rahul': 'sajan', 'raj': 'samu', 'samu': 'rahul'}"
      ]
     },
     "execution_count": 62,
     "metadata": {},
     "output_type": "execute_result"
    }
   ],
   "source": [
    "dict(zip(a,b))"
   ]
  },
  {
   "cell_type": "code",
   "execution_count": 63,
   "id": "ad8d69e2",
   "metadata": {
    "scrolled": true
   },
   "outputs": [
    {
     "data": {
      "text/plain": [
       "{'a', 'b', 'c', 'd'}"
      ]
     },
     "execution_count": 63,
     "metadata": {},
     "output_type": "execute_result"
    }
   ],
   "source": [
    "ipp=set(ip)\n",
    "ipp"
   ]
  },
  {
   "cell_type": "code",
   "execution_count": 64,
   "id": "5fb0c03f",
   "metadata": {},
   "outputs": [
    {
     "data": {
      "text/plain": [
       "[[0, 1, 5], [2], [3, 4], [6]]"
      ]
     },
     "execution_count": 64,
     "metadata": {},
     "output_type": "execute_result"
    }
   ],
   "source": [
    "lst"
   ]
  },
  {
   "cell_type": "code",
   "execution_count": 65,
   "id": "edcf3f2f",
   "metadata": {},
   "outputs": [
    {
     "data": {
      "text/plain": [
       "[('a', [0, 1, 5]), ('c', [2]), ('b', [3, 4]), ('d', [6])]"
      ]
     },
     "execution_count": 65,
     "metadata": {},
     "output_type": "execute_result"
    }
   ],
   "source": [
    "list(zip(ipp,lst))"
   ]
  },
  {
   "cell_type": "code",
   "execution_count": 66,
   "id": "ff1241f1",
   "metadata": {},
   "outputs": [
    {
     "data": {
      "text/plain": [
       "{'a': [0, 1, 5], 'c': [2], 'b': [3, 4], 'd': [6]}"
      ]
     },
     "execution_count": 66,
     "metadata": {},
     "output_type": "execute_result"
    }
   ],
   "source": [
    "dict(zip(ipp,lst))"
   ]
  },
  {
   "cell_type": "code",
   "execution_count": 67,
   "id": "84a346cb",
   "metadata": {},
   "outputs": [
    {
     "name": "stdout",
     "output_type": "stream",
     "text": [
      "{'a': [0, 1, 5], 'b': [2], 'c': [3, 4], 'd': [6]}\n"
     ]
    }
   ],
   "source": [
    "lst=[[0, 1, 5], [2], [3, 4], [6]]\n",
    "ipp=['a', 'b', 'c', 'd']\n",
    "dct={}\n",
    "for k,v in zip(ipp,lst):\n",
    "    dct[k]=v\n",
    "print(dct)"
   ]
  },
  {
   "cell_type": "code",
   "execution_count": 68,
   "id": "11d37780",
   "metadata": {},
   "outputs": [
    {
     "data": {
      "text/plain": [
       "{'J': 'Jill', 'a': 'ack', 'm': 'meb', 'd': 'dessica'}"
      ]
     },
     "execution_count": 68,
     "metadata": {},
     "output_type": "execute_result"
    }
   ],
   "source": [
    "m = ['Jill','ack','meb','dessica']\n",
    "{i[0]:i for i in m}"
   ]
  },
  {
   "cell_type": "code",
   "execution_count": 69,
   "id": "d242a970",
   "metadata": {},
   "outputs": [
    {
     "ename": "TypeError",
     "evalue": "'int' object is not iterable",
     "output_type": "error",
     "traceback": [
      "\u001b[1;31m---------------------------------------------------------------------------\u001b[0m",
      "\u001b[1;31mTypeError\u001b[0m                                 Traceback (most recent call last)",
      "\u001b[1;32m~\\AppData\\Local\\Temp\\ipykernel_4224\\2253509476.py\u001b[0m in \u001b[0;36m<module>\u001b[1;34m\u001b[0m\n\u001b[1;32m----> 1\u001b[1;33m \u001b[0ma\u001b[0m\u001b[1;33m=\u001b[0m\u001b[0mlist\u001b[0m\u001b[1;33m(\u001b[0m\u001b[0mfilter\u001b[0m\u001b[1;33m(\u001b[0m\u001b[1;32mlambda\u001b[0m \u001b[0mx\u001b[0m\u001b[1;33m:\u001b[0m \u001b[0mx\u001b[0m\u001b[1;33m%\u001b[0m\u001b[1;36m2\u001b[0m\u001b[1;33m==\u001b[0m\u001b[1;36m0\u001b[0m \u001b[1;33m,\u001b[0m\u001b[0mnumber\u001b[0m\u001b[1;33m)\u001b[0m\u001b[1;33m)\u001b[0m\u001b[1;33m\u001b[0m\u001b[1;33m\u001b[0m\u001b[0m\n\u001b[0m\u001b[0;32m      2\u001b[0m \u001b[0ma\u001b[0m\u001b[1;33m\u001b[0m\u001b[1;33m\u001b[0m\u001b[0m\n",
      "\u001b[1;31mTypeError\u001b[0m: 'int' object is not iterable"
     ]
    }
   ],
   "source": [
    "a=list(filter(lambda x: x%2==0 ,number))\n",
    "a"
   ]
  },
  {
   "cell_type": "code",
   "execution_count": 70,
   "id": "fc088290",
   "metadata": {},
   "outputs": [
    {
     "data": {
      "text/plain": [
       "['ramuramu', 'rahulrahul', 'rajraj', 'samusamu']"
      ]
     },
     "execution_count": 70,
     "metadata": {},
     "output_type": "execute_result"
    }
   ],
   "source": [
    "list(map(lambda x:x+x,a))"
   ]
  },
  {
   "cell_type": "code",
   "execution_count": 71,
   "id": "c51d22c2",
   "metadata": {},
   "outputs": [
    {
     "name": "stdout",
     "output_type": "stream",
     "text": [
      "[4, 8]\n"
     ]
    }
   ],
   "source": [
    "number=[1,2,3,4]\n",
    "result=map(lambda x: x+x, filter(lambda x: x%2==0 ,number))\n",
    "print(list(result))"
   ]
  },
  {
   "cell_type": "code",
   "execution_count": 72,
   "id": "dc561c77",
   "metadata": {},
   "outputs": [
    {
     "name": "stdout",
     "output_type": "stream",
     "text": [
      "40\n"
     ]
    }
   ],
   "source": [
    "from functools import reduce\n",
    "number=[1,2,3,4,5,6,7,8]\n",
    "result=reduce(lambda x,y:x+y,map(lambda x: x+x, filter(lambda x: x%2==0 ,number)))\n",
    "print(result)"
   ]
  },
  {
   "cell_type": "code",
   "execution_count": 73,
   "id": "30b5ae14",
   "metadata": {},
   "outputs": [
    {
     "data": {
      "text/plain": [
       "[2, 4, 6, 8]"
      ]
     },
     "execution_count": 73,
     "metadata": {},
     "output_type": "execute_result"
    }
   ],
   "source": [
    "l=list(filter(lambda x: x%2==0 ,number))\n",
    "l"
   ]
  },
  {
   "cell_type": "code",
   "execution_count": 74,
   "id": "d467cdf5",
   "metadata": {},
   "outputs": [
    {
     "name": "stdout",
     "output_type": "stream",
     "text": [
      "[4, 8]\n"
     ]
    }
   ],
   "source": [
    "result=list(map(lambda x: x+x,[2,4]))\n",
    "print(result)"
   ]
  },
  {
   "cell_type": "code",
   "execution_count": 75,
   "id": "96e7b41c",
   "metadata": {},
   "outputs": [
    {
     "data": {
      "text/plain": [
       "120"
      ]
     },
     "execution_count": 75,
     "metadata": {},
     "output_type": "execute_result"
    }
   ],
   "source": [
    "import math\n",
    "def factorial(n):\n",
    "    return math.factorial(n-1)\n",
    "factorial(6)   "
   ]
  },
  {
   "cell_type": "code",
   "execution_count": 76,
   "id": "ccacee67",
   "metadata": {},
   "outputs": [
    {
     "data": {
      "text/plain": [
       "120"
      ]
     },
     "execution_count": 76,
     "metadata": {},
     "output_type": "execute_result"
    }
   ],
   "source": [
    "def fact(n):\n",
    "    if(n==0 or n==1):\n",
    "        return 1\n",
    "    else:\n",
    "        return n*fact(n-1)\n",
    "fact(5)"
   ]
  },
  {
   "cell_type": "code",
   "execution_count": 77,
   "id": "95c55198",
   "metadata": {},
   "outputs": [
    {
     "data": {
      "text/plain": [
       "[(1, 3), (1, 4), (2, 3), (2, 1), (2, 4), (3, 1), (3, 4)]"
      ]
     },
     "execution_count": 77,
     "metadata": {},
     "output_type": "execute_result"
    }
   ],
   "source": [
    "[(x, y) for x in [1,2,3] for y in [3,1,4] if x != y]"
   ]
  },
  {
   "cell_type": "code",
   "execution_count": 78,
   "id": "6e87aee9",
   "metadata": {},
   "outputs": [
    {
     "name": "stdout",
     "output_type": "stream",
     "text": [
      "[(1, 3), (1, 4), (2, 3), (2, 1), (2, 4), (3, 1), (3, 4)]\n"
     ]
    }
   ],
   "source": [
    "out=[]\n",
    "for x in [1,2,3]:\n",
    "    for y in [3,1,4]:\n",
    "        if x!=y:\n",
    "            out.append((x,y))\n",
    "print(out)"
   ]
  },
  {
   "cell_type": "code",
   "execution_count": 79,
   "id": "9cc00acb",
   "metadata": {},
   "outputs": [
    {
     "name": "stdout",
     "output_type": "stream",
     "text": [
      "enter the numbers  : 4\n",
      "multiplications tabel of 4 is :\n",
      "4 X 1=4\n",
      "4 X 2=8\n",
      "4 X 3=12\n",
      "4 X 4=16\n",
      "4 X 5=20\n",
      "4 X 6=24\n",
      "4 X 7=28\n",
      "4 X 8=32\n",
      "4 X 9=36\n",
      "4 X 10=40\n",
      "end of code\n"
     ]
    }
   ],
   "source": [
    "a=int(input('enter the numbers  : '))\n",
    "print(f\"multiplications tabel of {a} is :\")\n",
    "try:\n",
    "    for i in range(1,11):\n",
    "          print(f\"{int(a)} X {i}={int(a)*i}\")\n",
    "except exception as e:\n",
    "    print(e)\n",
    "print('end of code')"
   ]
  },
  {
   "cell_type": "code",
   "execution_count": 80,
   "id": "970b1c10",
   "metadata": {},
   "outputs": [
    {
     "name": "stdout",
     "output_type": "stream",
     "text": [
      "enter the number: 4\n",
      "7.5\n",
      "cod is good working try blocks\n",
      "50\n",
      "ok\n",
      "how are u\n"
     ]
    }
   ],
   "source": [
    "s=int(input('enter the number: '))\n",
    "try:\n",
    "    c=5\n",
    "    d=10\n",
    "    z=c+d/s\n",
    "    print(z)\n",
    "except Exception as e:\n",
    "    print('Invalid input')\n",
    "else:\n",
    "    print('cod is good working try blocks')\n",
    "finally:\n",
    "    w=c*d\n",
    "    print(w)\n",
    "    print('ok')\n",
    "print('how are u')"
   ]
  },
  {
   "cell_type": "code",
   "execution_count": 81,
   "id": "a13d5de5",
   "metadata": {},
   "outputs": [
    {
     "name": "stdout",
     "output_type": "stream",
     "text": [
      "enter the number : 4\n",
      "7.5\n",
      "cod is good working try blocks\n",
      "the output of Finally Block :  400\n"
     ]
    }
   ],
   "source": [
    "# s=int(input('enter the string: '))\n",
    "try:\n",
    "    c=5\n",
    "    d=10\n",
    "    s=int(input(\"enter the number : \"))\n",
    "    z=c+d/s\n",
    "    print(z)\n",
    "except Exception as e:\n",
    "    print('Invalid input, Try block failed ')\n",
    "else:\n",
    "    print('cod is good working try blocks')\n",
    "finally:\n",
    "    r=40\n",
    "    e=10\n",
    "    w=e*r\n",
    "    print(\"the output of Finally Block : \",w)\n",
    "# print('how are u')"
   ]
  },
  {
   "cell_type": "code",
   "execution_count": 82,
   "id": "5e804bbf",
   "metadata": {},
   "outputs": [
    {
     "name": "stdout",
     "output_type": "stream",
     "text": [
      "75.35999999999999\n"
     ]
    }
   ],
   "source": [
    "#volume sphere\n",
    "diameter=12\n",
    "r=diameter/2\n",
    "area=4/3*3.14*r*3\n",
    "print(area)"
   ]
  },
  {
   "cell_type": "markdown",
   "id": "0916457f",
   "metadata": {},
   "source": [
    "# cutome error"
   ]
  },
  {
   "cell_type": "code",
   "execution_count": 83,
   "id": "af7b2260",
   "metadata": {},
   "outputs": [
    {
     "name": "stdout",
     "output_type": "stream",
     "text": [
      "enter the value betweeen 5 and 9 : 5\n"
     ]
    }
   ],
   "source": [
    "a=int(input('enter the value betweeen 5 and 9 : '))\n",
    "if(a<5 or a>9):\n",
    "    raise ValueError('value should be 5 and 9') "
   ]
  },
  {
   "cell_type": "code",
   "execution_count": 84,
   "id": "29733307",
   "metadata": {},
   "outputs": [
    {
     "name": "stdout",
     "output_type": "stream",
     "text": [
      "<function outer_fuc.<locals>.inner_fuc at 0x00000222133920D0>\n"
     ]
    }
   ],
   "source": [
    "def outer_fuc(x):\n",
    "    def inner_fuc(y):\n",
    "        return x+y\n",
    "    return inner_fuc\n",
    "result=outer_fuc(10)\n",
    "print(result)"
   ]
  },
  {
   "cell_type": "code",
   "execution_count": 85,
   "id": "0cc65ce6",
   "metadata": {},
   "outputs": [
    {
     "name": "stdout",
     "output_type": "stream",
     "text": [
      "add of two numbers:  30\n",
      "multi of two numbers:  200\n",
      "division of two numbers:  2.0\n"
     ]
    },
    {
     "data": {
      "text/plain": [
       "(None, None, None)"
      ]
     },
     "execution_count": 85,
     "metadata": {},
     "output_type": "execute_result"
    }
   ],
   "source": [
    "def calculation(add,multi):\n",
    "    return add(),multi(),division()\n",
    "def add():\n",
    "    a=10\n",
    "    b=20\n",
    "    z=a+b\n",
    "    print(\"add of two numbers: \",z)\n",
    "def multi():\n",
    "    a=10\n",
    "    b=20\n",
    "    x=a*b\n",
    "    print(\"multi of two numbers: \",x)\n",
    "def division():\n",
    "    a=20\n",
    "    b=10\n",
    "    x=a/b\n",
    "    print(\"division of two numbers: \",x)\n",
    "calculation(add,multi)"
   ]
  },
  {
   "cell_type": "code",
   "execution_count": 86,
   "id": "e23f2e71",
   "metadata": {},
   "outputs": [
    {
     "name": "stdout",
     "output_type": "stream",
     "text": [
      "14\n"
     ]
    }
   ],
   "source": [
    "# lambda\n",
    "\n",
    "def appl(fx,value):\n",
    "    return 6 +fx(value)\n",
    "print(appl(lambda x:x*x*x,2))"
   ]
  },
  {
   "cell_type": "code",
   "execution_count": 87,
   "id": "372a50a6",
   "metadata": {},
   "outputs": [],
   "source": [
    "cube=lambda x:x*x*x"
   ]
  },
  {
   "cell_type": "code",
   "execution_count": 88,
   "id": "57ae1296",
   "metadata": {},
   "outputs": [
    {
     "name": "stdout",
     "output_type": "stream",
     "text": [
      "14\n"
     ]
    }
   ],
   "source": [
    "def appl(fx,value):\n",
    "    return 6 +fx(value)\n",
    "print(appl(cube,2))"
   ]
  },
  {
   "cell_type": "code",
   "execution_count": 89,
   "id": "5af4948e",
   "metadata": {},
   "outputs": [],
   "source": [
    "# map function\n",
    "lst=[1,2,3,4,5,6]"
   ]
  },
  {
   "cell_type": "code",
   "execution_count": 90,
   "id": "bca81d1e",
   "metadata": {},
   "outputs": [
    {
     "data": {
      "text/plain": [
       "8"
      ]
     },
     "execution_count": 90,
     "metadata": {},
     "output_type": "execute_result"
    }
   ],
   "source": [
    "def cube(x):\n",
    "    return x*x*x\n",
    "cube(2)"
   ]
  },
  {
   "cell_type": "code",
   "execution_count": 91,
   "id": "873aaa4c",
   "metadata": {},
   "outputs": [
    {
     "name": "stdout",
     "output_type": "stream",
     "text": [
      "[1, 8, 27, 64, 125, 216]\n"
     ]
    }
   ],
   "source": [
    "lst1=[]\n",
    "for item in lst:\n",
    "    lst1.append(cube(item))\n",
    "print(lst1)"
   ]
  },
  {
   "cell_type": "code",
   "execution_count": 92,
   "id": "fa5e7163",
   "metadata": {},
   "outputs": [
    {
     "name": "stdout",
     "output_type": "stream",
     "text": [
      "[1, 8, 27, 64, 125, 216]\n"
     ]
    }
   ],
   "source": [
    "result=list(map(lambda x:cube(x),lst))\n",
    "print(result)"
   ]
  },
  {
   "cell_type": "code",
   "execution_count": 93,
   "id": "a7f7f6d1",
   "metadata": {},
   "outputs": [
    {
     "name": "stdout",
     "output_type": "stream",
     "text": [
      "[1, 8, 27, 64, 125, 216]\n"
     ]
    }
   ],
   "source": [
    "newl=list(map(cube,lst))\n",
    "print(newl)"
   ]
  },
  {
   "cell_type": "code",
   "execution_count": 94,
   "id": "4114cbf2",
   "metadata": {},
   "outputs": [
    {
     "name": "stdout",
     "output_type": "stream",
     "text": [
      "[1, 8, 27, 64, 125, 216]\n"
     ]
    }
   ],
   "source": [
    "result1=list(map(lambda x: x*x*x,lst))\n",
    "print(result1)"
   ]
  },
  {
   "cell_type": "code",
   "execution_count": 95,
   "id": "2fc4b759",
   "metadata": {},
   "outputs": [
    {
     "data": {
      "text/plain": [
       "[1, 8, 27, 64, 125, 216]"
      ]
     },
     "execution_count": 95,
     "metadata": {},
     "output_type": "execute_result"
    }
   ],
   "source": [
    "[i**3 for i in lst]"
   ]
  },
  {
   "cell_type": "code",
   "execution_count": 96,
   "id": "214b611f",
   "metadata": {},
   "outputs": [
    {
     "name": "stdout",
     "output_type": "stream",
     "text": [
      "[5, 10, 15, 20, 25, 30, 35, 40, 45, 50]\n"
     ]
    }
   ],
   "source": [
    "result2=list(map(lambda x : x*5,range(1,11)))\n",
    "print(result2)"
   ]
  },
  {
   "cell_type": "code",
   "execution_count": 97,
   "id": "7fdeeec2",
   "metadata": {},
   "outputs": [
    {
     "data": {
      "text/plain": [
       "[5, 10, 15, 20, 25, 30, 35, 40, 45, 50]"
      ]
     },
     "execution_count": 97,
     "metadata": {},
     "output_type": "execute_result"
    }
   ],
   "source": [
    "[i*5 for i in range(1,11)]"
   ]
  },
  {
   "cell_type": "code",
   "execution_count": 98,
   "id": "4da61db5",
   "metadata": {},
   "outputs": [],
   "source": [
    "# filter \n",
    "\n",
    "def filter_function(x):\n",
    "    return x>4"
   ]
  },
  {
   "cell_type": "code",
   "execution_count": 99,
   "id": "b8e84b98",
   "metadata": {},
   "outputs": [
    {
     "data": {
      "text/plain": [
       "[5, 6]"
      ]
     },
     "execution_count": 99,
     "metadata": {},
     "output_type": "execute_result"
    }
   ],
   "source": [
    "newn=list(filter(filter_function,lst))\n",
    "newn"
   ]
  },
  {
   "cell_type": "code",
   "execution_count": 100,
   "id": "4c69ad78",
   "metadata": {},
   "outputs": [
    {
     "name": "stdout",
     "output_type": "stream",
     "text": [
      "-5\n"
     ]
    }
   ],
   "source": [
    "result=0\n",
    "for i in range(10):\n",
    "    if i%2==0:\n",
    "        result+=i\n",
    "    else:\n",
    "        result-=i\n",
    "print(result)"
   ]
  },
  {
   "cell_type": "code",
   "execution_count": 101,
   "id": "6bdd5e58",
   "metadata": {},
   "outputs": [
    {
     "name": "stdout",
     "output_type": "stream",
     "text": [
      "25\n"
     ]
    }
   ],
   "source": [
    "# decorator\n",
    "def decor(x):\n",
    "    def adder(y):\n",
    "        return x+y\n",
    "    return adder\n",
    "result=decor(10)\n",
    "print(result(15))"
   ]
  },
  {
   "cell_type": "markdown",
   "id": "bbddff76",
   "metadata": {},
   "source": [
    "# full Oops"
   ]
  },
  {
   "cell_type": "code",
   "execution_count": 102,
   "id": "8e6856af",
   "metadata": {},
   "outputs": [
    {
     "name": "stdout",
     "output_type": "stream",
     "text": [
      "amar is a software development\n",
      "nitika is a HR\n"
     ]
    }
   ],
   "source": [
    "class Person:\n",
    "    name='amar'\n",
    "    occupations='software development'\n",
    "    networth=10\n",
    "    def info(self):\n",
    "        print(f\"{self.name} is a {self.occupations}\")\n",
    "a=Person()\n",
    "# a.name='shubham'\n",
    "# a.occupations='cricket'\n",
    "# print(a.name,a.occupations)\n",
    "b=Person()\n",
    "b.name='nitika'\n",
    "b.occupations='HR'\n",
    "\n",
    "a.info()\n",
    "b.info()"
   ]
  },
  {
   "cell_type": "code",
   "execution_count": 103,
   "id": "db5f0d20",
   "metadata": {},
   "outputs": [
    {
     "name": "stdout",
     "output_type": "stream",
     "text": [
      "I am a persons\n",
      "I am a persons\n",
      "amar is a software developer\n",
      "nikita is a HR\n"
     ]
    }
   ],
   "source": [
    "class Person:\n",
    "    def __init__(self,name,occupations):\n",
    "        print('I am a persons')\n",
    "        self.name=name\n",
    "        self.occupations=occupations\n",
    "\n",
    "    def info(self):\n",
    "        print(\"{} is a {}\".format(self.name,self.occupations))\n",
    "#         print(f\"{self.name} is a {self.occupations}\")\n",
    "\n",
    "a=Person('amar','software developer')\n",
    "b=Person('nikita','HR')\n",
    "# b.name='nitika'\n",
    "# b.occupations='HR'\n",
    "\n",
    "a.info()\n",
    "b.info()"
   ]
  },
  {
   "cell_type": "code",
   "execution_count": 104,
   "id": "4feee431",
   "metadata": {},
   "outputs": [
    {
     "name": "stdout",
     "output_type": "stream",
     "text": [
      "<function decor1.<locals>.inner at 0x000002221A7BAAF0>\n"
     ]
    }
   ],
   "source": [
    "# decorators\n",
    "\n",
    "def decor1(num):\n",
    "    def inner():\n",
    "        b=num()\n",
    "        multi=b*10\n",
    "        return multi\n",
    "    return inner\n",
    "@decor1\n",
    "def num():\n",
    "    return 10\n",
    "num=decor1(num)\n",
    "print(num)"
   ]
  },
  {
   "cell_type": "code",
   "execution_count": 105,
   "id": "5c01b974",
   "metadata": {},
   "outputs": [],
   "source": [
    "def greet(fx): # fx is the functon which is the used as a parameters\n",
    "    def modifyfx():\n",
    "        print('good morning: ')\n",
    "        fx()\n",
    "        print(\"thamks for using this functions : \")\n",
    "    return modifyfx\n",
    "@greet\n",
    "def hello():\n",
    "    print('hello world')\n",
    "# @greet\n",
    "# def sumation(a,b):\n",
    "#     return a+b\n",
    "# # addition=sumation(10,20)\n",
    "# # print(\"sum of two numbers : \",addition)"
   ]
  },
  {
   "cell_type": "code",
   "execution_count": 106,
   "id": "6f89e033",
   "metadata": {},
   "outputs": [
    {
     "name": "stdout",
     "output_type": "stream",
     "text": [
      "good morning: \n",
      "hello world\n",
      "thamks for using this functions : \n",
      "\n",
      "good morning: \n",
      "thamks for using this functions : \n"
     ]
    }
   ],
   "source": [
    "def greet(fx): # fx is the functon which is the used as a parameters\n",
    "    def modifyfx(*args,**kwargs):\n",
    "        print('good morning: ')\n",
    "        fx(*args,**kwargs)\n",
    "        print(\"thamks for using this functions : \")\n",
    "    return modifyfx\n",
    "@greet\n",
    "def hello():\n",
    "    print('hello world')\n",
    "hello()\n",
    "print()\n",
    "@greet\n",
    "def add(a,b):\n",
    "    return a+b\n",
    "add(10,20)\n",
    "# greet(hello)\n",
    "# greet(add)(10,30)\n",
    "# sumation(10,20)\n",
    "# print(\"sum of two numbers : \",addition)"
   ]
  },
  {
   "cell_type": "code",
   "execution_count": 107,
   "id": "4e0b32c1",
   "metadata": {},
   "outputs": [
    {
     "name": "stdout",
     "output_type": "stream",
     "text": [
      "67.0\n",
      " value is :  6.7\n"
     ]
    }
   ],
   "source": [
    "#setter and getter\n",
    "class Myclass:\n",
    "    def __init__(self,value):\n",
    "        self._value=value\n",
    "    def show(self):\n",
    "        print(f\" value is : \",self._value)\n",
    "    @property\n",
    "    def ten_value(self):   # getter\n",
    "        return 10*self._value       # 6.7*10=67 \n",
    "    @ten_value.setter         # new method behave like property setter\n",
    "    def ten_value(self,new_value):\n",
    "        self._value=new_value/10     # set value 67/10=6.7\n",
    "    \n",
    "obj=Myclass(10)\n",
    "obj.ten_value=67\n",
    "print(obj.ten_value)\n",
    "obj.show()"
   ]
  },
  {
   "cell_type": "markdown",
   "id": "c354a649",
   "metadata": {},
   "source": [
    "# Inheritance"
   ]
  },
  {
   "cell_type": "code",
   "execution_count": 108,
   "id": "c792cddd",
   "metadata": {},
   "outputs": [
    {
     "name": "stdout",
     "output_type": "stream",
     "text": [
      "Employee name is Amarendra kumar and id is 400\n",
      "\n",
      "Employee name is samu and id is 4100\n",
      "the default alnguage is the python\n",
      "\n",
      "the default alnguage is the python\n",
      "my name is 4200 and id is update and \n",
      "I am suport programer of data science project ramu the all coding.\n"
     ]
    }
   ],
   "source": [
    "class Employee:\n",
    "    def __init__(self,emp_name,emp_id):\n",
    "        self.emp_name=emp_name\n",
    "        self.emp_id=emp_id\n",
    "    def employeedetails(self):\n",
    "        print(f\"Employee name is {self.emp_name} and id is {self.emp_id}\")\n",
    "        \n",
    "class programmer(Employee):\n",
    "    def showlanguage(self):\n",
    "        print('the default alnguage is the python')\n",
    "        \n",
    "class suport_programmer(programmer):\n",
    "    def __init__(self,update,*args):\n",
    "        super().__init__(*args)\n",
    "#         self.emp_name=emp_name\n",
    "#         self.emp_id=emp_id\n",
    "        self.update=update\n",
    "    def updatecode(self):\n",
    "        print(f\"my name is {self.emp_name} and id is {self.emp_id} and \\nI am suport programer of data science project {self.update} the all coding.\")\n",
    "        \n",
    "        \n",
    "e1=Employee('Amarendra kumar',400)\n",
    "e1.employeedetails()\n",
    "print()\n",
    "e2=programmer('samu',4100)\n",
    "e2.employeedetails()\n",
    "e2.showlanguage()\n",
    "print()\n",
    "e3=suport_programmer('ramu',4200,'update')\n",
    "# e3.employeedetails()\n",
    "e3.showlanguage()\n",
    "e3.updatecode()"
   ]
  },
  {
   "cell_type": "code",
   "execution_count": 118,
   "id": "2e829644",
   "metadata": {},
   "outputs": [
    {
     "name": "stdout",
     "output_type": "stream",
     "text": [
      "\n"
     ]
    },
    {
     "ename": "TypeError",
     "evalue": "__init__() takes 3 positional arguments but 4 were given",
     "output_type": "error",
     "traceback": [
      "\u001b[1;31m---------------------------------------------------------------------------\u001b[0m",
      "\u001b[1;31mTypeError\u001b[0m                                 Traceback (most recent call last)",
      "\u001b[1;32m~\\AppData\\Local\\Temp\\ipykernel_4224\\2701687991.py\u001b[0m in \u001b[0;36m<module>\u001b[1;34m\u001b[0m\n\u001b[0;32m     20\u001b[0m \u001b[0me1\u001b[0m\u001b[1;33m.\u001b[0m\u001b[0memployeedetails\u001b[0m\u001b[1;33m(\u001b[0m\u001b[1;33m)\u001b[0m\u001b[1;33m\u001b[0m\u001b[1;33m\u001b[0m\u001b[0m\n\u001b[0;32m     21\u001b[0m \u001b[0mprint\u001b[0m\u001b[1;33m(\u001b[0m\u001b[1;33m)\u001b[0m\u001b[1;33m\u001b[0m\u001b[1;33m\u001b[0m\u001b[0m\n\u001b[1;32m---> 22\u001b[1;33m \u001b[0me2\u001b[0m\u001b[1;33m=\u001b[0m\u001b[0mProgrammer\u001b[0m\u001b[1;33m(\u001b[0m\u001b[1;34m'samu'\u001b[0m\u001b[1;33m,\u001b[0m\u001b[1;36m400\u001b[0m\u001b[1;33m,\u001b[0m\u001b[1;34m'python'\u001b[0m\u001b[1;33m)\u001b[0m\u001b[1;33m\u001b[0m\u001b[1;33m\u001b[0m\u001b[0m\n\u001b[0m\u001b[0;32m     23\u001b[0m \u001b[0me2\u001b[0m\u001b[1;33m.\u001b[0m\u001b[0mshowdetails\u001b[0m\u001b[1;33m(\u001b[0m\u001b[1;33m)\u001b[0m\u001b[1;33m\u001b[0m\u001b[1;33m\u001b[0m\u001b[0m\n\u001b[0;32m     24\u001b[0m \u001b[0mprint\u001b[0m\u001b[1;33m(\u001b[0m\u001b[1;33m)\u001b[0m\u001b[1;33m\u001b[0m\u001b[1;33m\u001b[0m\u001b[0m\n",
      "\u001b[1;31mTypeError\u001b[0m: __init__() takes 3 positional arguments but 4 were given"
     ]
    }
   ],
   "source": [
    "class Employee:\n",
    "    def __init__(self,emp_name,emp_id):\n",
    "        self.emp_name=emp_name\n",
    "        self.emp_id=emp_id\n",
    "    def employeedetails(self):\n",
    "        return f\"Employee Name: {self.emp_name} \\nid : {self.emp_id}\"\n",
    "class Programmer(Employee):\n",
    "    def __init(self,skills,*args):\n",
    "        super(Programmer,self).__init__(*args)\n",
    "        self.skills=skills\n",
    "    def showdetails(self):\n",
    "        return super(Programmer,self).employeedetails()+\" \"+ self.skills\n",
    "class Upadte(Programmer):\n",
    "    def __init(self,update,*args):\n",
    "        super(Upadte,self).__init__(*args)\n",
    "        self.update=update\n",
    "    def updatecode(self):\n",
    "        return(f\"Employee Name: {self.emp_name} \\nId : {self.emp_id} \\nMaster skills : {self.skills}\\nUpdate code : {self.update}\")\n",
    "e1=Employee('Amarendra kumar',400)\n",
    "e1.employeedetails()\n",
    "print()\n",
    "e2=Programmer('samu',400,'python')\n",
    "e2.showdetails()\n",
    "print()\n",
    "e3=Upadte('ramu',400,'Python','Add new class')\n",
    "e3.updatecode()\n",
    "print()"
   ]
  },
  {
   "cell_type": "markdown",
   "id": "02800773",
   "metadata": {},
   "source": [
    "# Access Modifiers      "
   ]
  },
  {
   "cell_type": "code",
   "execution_count": 131,
   "id": "735ac065",
   "metadata": {},
   "outputs": [
    {
     "name": "stdout",
     "output_type": "stream",
     "text": [
      "this is the public variable :  amar\n",
      "this is the protected variaable :  samu\n",
      "this is the private variable , if access this varibale with class:  ramu\n"
     ]
    }
   ],
   "source": [
    "class A:\n",
    "    def __init__(self):\n",
    "        self.name='amar'\n",
    "        self._name='samu'\n",
    "        self.__name='ramu' # name mangling concept\n",
    "a=A()\n",
    "print('this is the public variable : ',a.name)\n",
    "print('this is the protected variaable : ',a._name)\n",
    "print('this is the private variable , if access this varibale with class: ',a._A__name)"
   ]
  },
  {
   "cell_type": "code",
   "execution_count": 132,
   "id": "1513f9c4",
   "metadata": {},
   "outputs": [
    {
     "name": "stdout",
     "output_type": "stream",
     "text": [
      "0 for snake, 1 for water and 2 for gun : \n",
      "1\n",
      "You:  1\n",
      "computer : 2\n",
      "You won\n"
     ]
    }
   ],
   "source": [
    "# snake water gun games\n",
    "import random\n",
    "def check(comp,user):\n",
    "    if(comp==0 and user==0):\n",
    "        return 0\n",
    "    if(comp==0 and user==1):\n",
    "        return -1\n",
    "    if(comp==1 and user==2):\n",
    "        return -1\n",
    "    if(comp==2 and user==0):\n",
    "        return -1\n",
    "comp=random.randint(0,2)\n",
    "user=int(input('0 for snake, 1 for water and 2 for gun : \\n'))\n",
    "# user_range=0,1,2\n",
    "# if(user==0,1,2):\n",
    "#     print('welscome to palying game : ')\n",
    "# else:\n",
    "#     print(\"plz enter the value under the range(0,1,2) otherwise out of range : \")\n",
    "    \n",
    "\n",
    "score=check(comp,user)\n",
    "\n",
    "print('You: ',user)\n",
    "print('computer :',comp)\n",
    "\n",
    "if(score==0):\n",
    "    print('its draw')\n",
    "elif(score==-1):\n",
    "    print('You lose')\n",
    "else:\n",
    "    print('You won')"
   ]
  },
  {
   "cell_type": "code",
   "execution_count": 133,
   "id": "e2738bac",
   "metadata": {},
   "outputs": [
    {
     "name": "stdout",
     "output_type": "stream",
     "text": [
      "0 for snake, 1 for water and 2 for gun : \n",
      "4\n",
      "o\n",
      "o\n",
      "o\n"
     ]
    }
   ],
   "source": [
    "user=int(input('0 for snake, 1 for water and 2 for gun : \\n'))\n",
    "user_range=0,1,2\n",
    "for i in user_range:\n",
    "#     print(i,user_range[i])\n",
    "    if (user==user_range[i]):\n",
    "        print('w')\n",
    "    else:\n",
    "        print('o')"
   ]
  },
  {
   "cell_type": "code",
   "execution_count": 134,
   "id": "42a1b19b",
   "metadata": {},
   "outputs": [
    {
     "name": "stdout",
     "output_type": "stream",
     "text": [
      "3\n",
      "\n",
      "5\n",
      "\n",
      "11\n"
     ]
    }
   ],
   "source": [
    "# static methods\n",
    "class Math:\n",
    "    def __init__(self,num):\n",
    "        self.num=num\n",
    "    def addtonum(self,n):\n",
    "        self.num=self.num+n\n",
    "        \n",
    "    @staticmethod\n",
    "    def add(a,b):\n",
    "        return a+b\n",
    "result=Math.add(1,2)\n",
    "print(result)\n",
    "print()\n",
    "a=Math(5)\n",
    "print(a.num)\n",
    "print()\n",
    "a.addtonum(6)\n",
    "print(a.num)"
   ]
  },
  {
   "cell_type": "code",
   "execution_count": 135,
   "id": "d92ed5ea",
   "metadata": {},
   "outputs": [
    {
     "name": "stdout",
     "output_type": "stream",
     "text": [
      "the library has 4 books\n",
      "harry porter\n",
      "good english\n",
      "mathematics\n",
      "physics\n"
     ]
    }
   ],
   "source": [
    "# Library code\n",
    "class Library:\n",
    "    def __init__(self):\n",
    "        self.nobooks=0\n",
    "        self.books=[]\n",
    "    def addbook(self,book):\n",
    "        self.books.append(book)\n",
    "        self.nobooks=len(self.books)\n",
    "    def showInfo(self):\n",
    "        print(f\"the library has {self.nobooks} books\")\n",
    "        \n",
    "        for i in self.books:\n",
    "            print(i)\n",
    "l1=Library()\n",
    "l1.addbook('harry porter')\n",
    "l1.addbook('good english')\n",
    "l1.addbook('mathematics')\n",
    "l1.addbook('physics')\n",
    "l1.showInfo()"
   ]
  },
  {
   "cell_type": "code",
   "execution_count": 136,
   "id": "485eeb84",
   "metadata": {},
   "outputs": [
    {
     "name": "stdout",
     "output_type": "stream",
     "text": [
      "amar\n",
      "15000\n",
      "\n",
      "ramu\n",
      "15000\n"
     ]
    }
   ],
   "source": [
    "# class method as alternative constructor\n",
    "class employee:\n",
    "    def __init__(self,name,salary):\n",
    "        self.name=name\n",
    "        self.salary=salary\n",
    "    #alternative constructor\n",
    "    @classmethod\n",
    "    def fromStr(cls,string):\n",
    "        return cls(string.split(\"-\")[0],string.split(\"-\")[1])\n",
    "    \n",
    "e=employee('amar',15000)\n",
    "print(e.name)\n",
    "print(e.salary)\n",
    "print()\n",
    "string='ramu-15000'\n",
    "e2=employee.fromStr(string)\n",
    "print(e2.name)\n",
    "print(e2.salary)"
   ]
  },
  {
   "cell_type": "code",
   "execution_count": 137,
   "id": "45f1be89",
   "metadata": {},
   "outputs": [
    {
     "name": "stdout",
     "output_type": "stream",
     "text": [
      "{'name': 'amar', 'age': 28}\n",
      "Help on class Person in module __main__:\n",
      "\n",
      "class Person(builtins.object)\n",
      " |  Person(name, age)\n",
      " |  \n",
      " |  Methods defined here:\n",
      " |  \n",
      " |  __init__(self, name, age)\n",
      " |      Initialize self.  See help(type(self)) for accurate signature.\n",
      " |  \n",
      " |  ----------------------------------------------------------------------\n",
      " |  Data descriptors defined here:\n",
      " |  \n",
      " |  __dict__\n",
      " |      dictionary for instance variables (if defined)\n",
      " |  \n",
      " |  __weakref__\n",
      " |      list of weak references to the object (if defined)\n",
      "\n",
      "None\n"
     ]
    }
   ],
   "source": [
    "# dir,__dir__ and help method\n",
    "class Person:\n",
    "    def __init__(self,name,age):\n",
    "        self.name=name\n",
    "        self.age=age\n",
    "p=Person('amar',28)\n",
    "print(p.__dict__)\n",
    "print(help(Person)) #describ the class"
   ]
  },
  {
   "cell_type": "code",
   "execution_count": 138,
   "id": "5fd2eb3e",
   "metadata": {},
   "outputs": [
    {
     "name": "stdout",
     "output_type": "stream",
     "text": [
      "12\n",
      "12.56\n"
     ]
    }
   ],
   "source": [
    "#method overriding\n",
    "## those method are come frome parent class in side the child class and change it.\n",
    "class Shape:\n",
    "    def __init__(self,x,y):\n",
    "        self.x=x\n",
    "        self.y=y\n",
    "    def area(self):\n",
    "        return self.x * self.y\n",
    "class Circle(Shape):\n",
    "    def __init__(self,radius):\n",
    "        self.radius=radius\n",
    "        super().__init__(radius,radius)\n",
    "    def area(self):\n",
    "        return 3.14*super().area()\n",
    "#     def area(self):\n",
    "#         return 3.14 * self.radius*self.radius\n",
    "    \n",
    "rec=Shape(3,4)\n",
    "print(rec.area())\n",
    "\n",
    "c=Circle(2)\n",
    "print(c.area())"
   ]
  },
  {
   "cell_type": "code",
   "execution_count": 139,
   "id": "0d1b0a15",
   "metadata": {},
   "outputs": [
    {
     "name": "stdout",
     "output_type": "stream",
     "text": [
      "2.i+3.j+4.k\n",
      "2.i+3.j+4.k\n",
      "3.i+8.j+13.k\n",
      "<class '__main__.vector'>\n"
     ]
    }
   ],
   "source": [
    "class vector:\n",
    "    def __init__(self,i,j,k):\n",
    "        self.i=i\n",
    "        self.j=j\n",
    "        self.k=k\n",
    "    def __str__(self):\n",
    "        return f\"{self.i}.i+{self.j}.j+{self.k}.k\"\n",
    "    def __add__(self,x): # its return vector\n",
    "        return vector(self.i+x.i,self.j+x.j,self.k+x.k)\n",
    "    \n",
    "#     def __add__(self,x): # its return str\n",
    "#         return f\"{self.i+x.i}.i+{self.j+x.j}.j+{self.k+x.k}.k\"\n",
    "    \n",
    "v=vector(2,3,4)\n",
    "print(v)\n",
    "v1=vector(1,5,9)\n",
    "print(v)\n",
    "print(v+v1)\n",
    "print(type(v+v1))"
   ]
  },
  {
   "cell_type": "code",
   "execution_count": 140,
   "id": "7c3c911b",
   "metadata": {},
   "outputs": [
    {
     "name": "stdout",
     "output_type": "stream",
     "text": [
      "bark dog\n",
      "sound made by the animal\n"
     ]
    }
   ],
   "source": [
    "# Single Inheritance\n",
    "class Animal:\n",
    "    def __init__(self,name,species):\n",
    "        self.name=name\n",
    "        self.species=species\n",
    "    def make_sound(self):\n",
    "        print(\"sound made by the animal\")\n",
    "class Dog(Animal):\n",
    "    def __init__(self,name,bread):\n",
    "        Animal.__init__(self,name,species='Dog')\n",
    "        self.bread=bread\n",
    "    def make_sound(self):\n",
    "        print('bark dog')\n",
    "d=Dog('dog','doggerman')\n",
    "d.make_sound()\n",
    "a=Animal('dog','dog')\n",
    "a.make_sound()"
   ]
  },
  {
   "cell_type": "code",
   "execution_count": 141,
   "id": "f63aab1c",
   "metadata": {},
   "outputs": [
    {
     "name": "stdout",
     "output_type": "stream",
     "text": [
      "amar\n",
      "software developement\n",
      "the name is amar\n",
      "[<class '__main__.DepartmentEmployee'>, <class '__main__.Employee'>, <class '__main__.Department'>, <class 'object'>]\n"
     ]
    }
   ],
   "source": [
    "# Multiple Inheritance\n",
    "class Employee:\n",
    "    def __init__(self,name):\n",
    "        self.name=name\n",
    "    def show(self):\n",
    "        print(f\"the name is {self.name}\")\n",
    "        \n",
    "class Department:\n",
    "    def __init__(self,occupation):\n",
    "        self.occupation=occupation\n",
    "    def show(self):\n",
    "        print(f\"the name is {self.occupation}\")\n",
    "class DepartmentEmployee(Employee,Department):\n",
    "    def __init__(self,name,occupation):\n",
    "        self.name=name\n",
    "        self.occupation=occupation\n",
    "d=DepartmentEmployee('amar','software developement')\n",
    "print(d.name)\n",
    "print(d.occupation)\n",
    "d.show()\n",
    "print(DepartmentEmployee.mro())"
   ]
  },
  {
   "cell_type": "code",
   "execution_count": 142,
   "id": "55262a00",
   "metadata": {},
   "outputs": [],
   "source": [
    "import re"
   ]
  },
  {
   "cell_type": "code",
   "execution_count": 143,
   "id": "a2a5c640",
   "metadata": {},
   "outputs": [],
   "source": [
    "pattern=\" was \"\n",
    "text=\"\"\"After the 10th century, Muslim Central Asian nomadic clans, using swift-horse cavalry and raising vast armies \n",
    "united by ethnicity and religion, repeatedly overran South Asia's north-western plains, leading eventually to the \n",
    "establishment of the Islamic Delhi Sultanate in 1206.[116] The sultanate was to control much of North India and to make\n",
    "many forays into South India. Although at first disruptive for the Indian elites, the sultanate largely left its vast\n",
    "non-Muslim subject population to its own laws and customs.[117][118] By repeatedly repulsing Mongol raiders in the 13th\n",
    "century, the sultanate saved India from the devastation visited on West and Central Asia, setting the scene for centuries\n",
    "of migration of fleeing soldiers, learned men, mystics, traders, artists, and artisans from that region into theand Dyclone\n",
    "subcontinent, thereby creating a syncretic Indo-Islamic culture in the north.[119][120] The sultanate's raiding and\n",
    "weakening of the regional kingdoms of South India paved the way for the indigenous Vijayanagara Empire.[121] Embracing \n",
    "a strong Shaivite tradition and building upon the military technology of the sultanate, the empire came to control much of \n",
    "peninsular India,[122] and was to influence South Indian society for long afterwards.[121]  Cyclone \"\"\""
   ]
  },
  {
   "cell_type": "code",
   "execution_count": 144,
   "id": "77badcd0",
   "metadata": {},
   "outputs": [
    {
     "name": "stdout",
     "output_type": "stream",
     "text": [
      "{'After': 1, 'the': 16, '10th': 1, 'century,': 2, 'Muslim': 1, 'Central': 2, 'Asian': 1, 'nomadic': 1, 'clans,': 1, 'using': 1, 'swift-horse': 1, 'cavalry': 1, 'and': 9, 'raising': 1, 'vast': 2, 'armies': 1, 'united': 1, 'by': 1, 'ethnicity': 1, 'religion,': 1, 'repeatedly': 2, 'overran': 1, 'South': 4, \"Asia's\": 1, 'north-western': 1, 'plains,': 1, 'leading': 1, 'eventually': 1, 'to': 6, 'establishment': 1, 'of': 8, 'Islamic': 1, 'Delhi': 1, 'Sultanate': 1, 'in': 3, '1206.[116]': 1, 'The': 2, 'sultanate': 3, 'was': 2, 'control': 2, 'much': 2, 'North': 1, 'India': 3, 'make': 1, 'many': 1, 'forays': 1, 'into': 2, 'India.': 1, 'Although': 1, 'at': 1, 'first': 1, 'disruptive': 1, 'for': 4, 'Indian': 2, 'elites,': 1, 'largely': 1, 'left': 1, 'its': 2, 'non-Muslim': 1, 'subject': 1, 'population': 1, 'own': 1, 'laws': 1, 'customs.[117][118]': 1, 'By': 1, 'repulsing': 1, 'Mongol': 1, 'raiders': 1, '13th': 1, 'saved': 1, 'from': 2, 'devastation': 1, 'visited': 1, 'on': 1, 'West': 1, 'Asia,': 1, 'setting': 1, 'scene': 1, 'centuries': 1, 'migration': 1, 'fleeing': 1, 'soldiers,': 1, 'learned': 1, 'men,': 1, 'mystics,': 1, 'traders,': 1, 'artists,': 1, 'artisans': 1, 'that': 1, 'region': 1, 'theand': 1, 'Dyclone': 1, 'subcontinent,': 1, 'thereby': 1, 'creating': 1, 'a': 2, 'syncretic': 1, 'Indo-Islamic': 1, 'culture': 1, 'north.[119][120]': 1, \"sultanate's\": 1, 'raiding': 1, 'weakening': 1, 'regional': 1, 'kingdoms': 1, 'paved': 1, 'way': 1, 'indigenous': 1, 'Vijayanagara': 1, 'Empire.[121]': 1, 'Embracing': 1, 'strong': 1, 'Shaivite': 1, 'tradition': 1, 'building': 1, 'upon': 1, 'military': 1, 'technology': 1, 'sultanate,': 1, 'empire': 1, 'came': 1, 'peninsular': 1, 'India,[122]': 1, 'influence': 1, 'society': 1, 'long': 1, 'afterwards.[121]': 1, 'Cyclone': 1}\n"
     ]
    }
   ],
   "source": [
    "output={}\n",
    "for i in text.split():\n",
    "    if i in output:\n",
    "        output[i]+=1\n",
    "    else:\n",
    "        output[i]=1\n",
    "print(output)  "
   ]
  },
  {
   "cell_type": "code",
   "execution_count": 145,
   "id": "94c12922",
   "metadata": {},
   "outputs": [
    {
     "name": "stdout",
     "output_type": "stream",
     "text": [
      "['century,', 'Central', 'vast', 'repeatedly', 'The', 'was', 'control', 'much', 'into', 'Indian', 'its', 'from', 'a']\n"
     ]
    },
    {
     "data": {
      "text/plain": [
       "'century, Central vast repeatedly The was control much into Indian its from a'"
      ]
     },
     "execution_count": 145,
     "metadata": {},
     "output_type": "execute_result"
    }
   ],
   "source": [
    "lst=[]\n",
    "for k,v in output.items():\n",
    "    if v==2:\n",
    "        lst.append(k)\n",
    "print(lst)\n",
    "\" \".join(lst)"
   ]
  },
  {
   "cell_type": "code",
   "execution_count": 146,
   "id": "10033fb5",
   "metadata": {},
   "outputs": [
    {
     "data": {
      "text/plain": [
       "[' was ', ' was ']"
      ]
     },
     "execution_count": 146,
     "metadata": {},
     "output_type": "execute_result"
    }
   ],
   "source": [
    "# regular function\n",
    "re.findall(pattern,text) # syntax"
   ]
  },
  {
   "cell_type": "code",
   "execution_count": 147,
   "id": "b2cfc636",
   "metadata": {},
   "outputs": [
    {
     "name": "stdout",
     "output_type": "stream",
     "text": [
      "Dyclone\n",
      "Cyclone\n"
     ]
    }
   ],
   "source": [
    "pattern='[A-Z]+yclone'\n",
    "matches=re.findall(pattern,text)\n",
    "for match in matches:\n",
    "    print(match)"
   ]
  },
  {
   "cell_type": "code",
   "execution_count": 148,
   "id": "6dc721d0",
   "metadata": {},
   "outputs": [
    {
     "name": "stdout",
     "output_type": "stream",
     "text": [
      "enter the first numbers  : \n"
     ]
    },
    {
     "ename": "ValueError",
     "evalue": "could not convert string to float: ''",
     "output_type": "error",
     "traceback": [
      "\u001b[1;31m---------------------------------------------------------------------------\u001b[0m",
      "\u001b[1;31mValueError\u001b[0m                                Traceback (most recent call last)",
      "\u001b[1;32m~\\AppData\\Local\\Temp\\ipykernel_12876\\1391496468.py\u001b[0m in \u001b[0;36m<module>\u001b[1;34m\u001b[0m\n\u001b[0;32m      1\u001b[0m \u001b[1;31m# mini calculator\u001b[0m\u001b[1;33m\u001b[0m\u001b[1;33m\u001b[0m\u001b[0m\n\u001b[1;32m----> 2\u001b[1;33m \u001b[0mnum1\u001b[0m\u001b[1;33m=\u001b[0m\u001b[0mfloat\u001b[0m\u001b[1;33m(\u001b[0m\u001b[0minput\u001b[0m\u001b[1;33m(\u001b[0m\u001b[1;34m'enter the first numbers  : '\u001b[0m\u001b[1;33m)\u001b[0m\u001b[1;33m)\u001b[0m\u001b[1;33m\u001b[0m\u001b[1;33m\u001b[0m\u001b[0m\n\u001b[0m\u001b[0;32m      3\u001b[0m \u001b[0moperators\u001b[0m\u001b[1;33m=\u001b[0m\u001b[0minput\u001b[0m\u001b[1;33m(\u001b[0m\u001b[1;34m\"enter the operators \\n(+ or - or * or (**=bow) or / or//)\"\u001b[0m\u001b[1;33m)\u001b[0m\u001b[1;33m\u001b[0m\u001b[1;33m\u001b[0m\u001b[0m\n\u001b[0;32m      4\u001b[0m \u001b[0mnum2\u001b[0m \u001b[1;33m=\u001b[0m\u001b[0mfloat\u001b[0m\u001b[1;33m(\u001b[0m\u001b[0minput\u001b[0m\u001b[1;33m(\u001b[0m\u001b[1;34m'enter the second numbers :'\u001b[0m\u001b[1;33m)\u001b[0m\u001b[1;33m)\u001b[0m\u001b[1;33m\u001b[0m\u001b[1;33m\u001b[0m\u001b[0m\n\u001b[0;32m      5\u001b[0m \u001b[1;32mif\u001b[0m \u001b[0moperators\u001b[0m\u001b[1;33m==\u001b[0m\u001b[1;34m'+'\u001b[0m\u001b[1;33m:\u001b[0m\u001b[1;33m\u001b[0m\u001b[1;33m\u001b[0m\u001b[0m\n",
      "\u001b[1;31mValueError\u001b[0m: could not convert string to float: ''"
     ]
    }
   ],
   "source": [
    "# mini calculator\n",
    "num1=float(input('enter the first numbers  : '))\n",
    "operators=input(\"enter the operators \\n(+ or - or * or (**=bow) or / or//)\")\n",
    "num2 =float(input('enter the second numbers :'))\n",
    "if operators=='+':\n",
    "    print(f\"{int(num1)} + {int(num2)}={num1+num2}\")\n",
    "elif operators=='-':\n",
    "    print(f\"{int(num1)} - {int(num2)}={num1-num2}\")\n",
    "    \n",
    "elif operators=='*':\n",
    "    print(f\"{int(num1)} * {int(num2)}={num1*num2}\")\n",
    "elif operators=='**':\n",
    "    print(f\"{int(num1)} ** {int(num2)}={num1**num2}\")\n",
    "elif operators=='/':\n",
    "    print(f\"{int(num1)} / {int(num2)}={num1/num2}\")\n",
    "elif operators=='//':\n",
    "    print(f\"{int(num1)} // {int(num2)}={num1+num2}\")\n",
    "else:\n",
    "    print('the operator is the worng')"
   ]
  },
  {
   "cell_type": "code",
   "execution_count": 149,
   "id": "406bd041",
   "metadata": {},
   "outputs": [
    {
     "data": {
      "text/plain": [
       "'def'"
      ]
     },
     "execution_count": 149,
     "metadata": {},
     "output_type": "execute_result"
    }
   ],
   "source": [
    "import re\n",
    "m = re.search('(?<=abc)def', 'abcdef')\n",
    "m.group(0)"
   ]
  },
  {
   "cell_type": "code",
   "execution_count": 122,
   "id": "670652b3",
   "metadata": {},
   "outputs": [
    {
     "ename": "TypeError",
     "evalue": "split() missing 1 required positional argument: 'string'",
     "output_type": "error",
     "traceback": [
      "\u001b[1;31m---------------------------------------------------------------------------\u001b[0m",
      "\u001b[1;31mTypeError\u001b[0m                                 Traceback (most recent call last)",
      "\u001b[1;32m~\\AppData\\Local\\Temp\\ipykernel_9708\\1196113424.py\u001b[0m in \u001b[0;36m<module>\u001b[1;34m\u001b[0m\n\u001b[0;32m      1\u001b[0m \u001b[0mpattern\u001b[0m\u001b[1;33m=\u001b[0m\u001b[1;34m'[a-f]+'\u001b[0m\u001b[1;33m,\u001b[0m \u001b[1;34m'0a3B9'\u001b[0m\u001b[1;33m\u001b[0m\u001b[1;33m\u001b[0m\u001b[0m\n\u001b[1;32m----> 2\u001b[1;33m \u001b[0mre\u001b[0m\u001b[1;33m.\u001b[0m\u001b[0msplit\u001b[0m\u001b[1;33m(\u001b[0m\u001b[0mpattern\u001b[0m\u001b[1;33m,\u001b[0m \u001b[0mflags\u001b[0m\u001b[1;33m=\u001b[0m\u001b[0mre\u001b[0m\u001b[1;33m.\u001b[0m\u001b[0mIGNORECASE\u001b[0m\u001b[1;33m)\u001b[0m\u001b[1;33m\u001b[0m\u001b[1;33m\u001b[0m\u001b[0m\n\u001b[0m",
      "\u001b[1;31mTypeError\u001b[0m: split() missing 1 required positional argument: 'string'"
     ]
    }
   ],
   "source": [
    "pattern='[a-f]+', '0a3B9'\n",
    "re.split(pattern, flags=re.IGNORECASE)"
   ]
  },
  {
   "cell_type": "code",
   "execution_count": null,
   "id": "e9c89fc4",
   "metadata": {},
   "outputs": [],
   "source": []
  }
 ],
 "metadata": {
  "kernelspec": {
   "display_name": "Python 3 (ipykernel)",
   "language": "python",
   "name": "python3"
  },
  "language_info": {
   "codemirror_mode": {
    "name": "ipython",
    "version": 3
   },
   "file_extension": ".py",
   "mimetype": "text/x-python",
   "name": "python",
   "nbconvert_exporter": "python",
   "pygments_lexer": "ipython3",
   "version": "3.9.13"
  }
 },
 "nbformat": 4,
 "nbformat_minor": 5
}
