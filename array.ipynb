{
 "cells": [
  {
   "cell_type": "code",
   "execution_count": 1,
   "id": "ddff2b50",
   "metadata": {},
   "outputs": [],
   "source": [
    "import array\n",
    "from array import*\n",
    "import numpy as np"
   ]
  },
  {
   "cell_type": "code",
   "execution_count": 2,
   "id": "e321d07d",
   "metadata": {},
   "outputs": [
    {
     "data": {
      "text/plain": [
       "array('i', [1, 2, 3, 4, 5])"
      ]
     },
     "execution_count": 2,
     "metadata": {},
     "output_type": "execute_result"
    }
   ],
   "source": [
    "import array\n",
    "arr1=array.array('i',[1,2,3,4,5])  # array.array means (module name.class name)\n",
    "arr1"
   ]
  },
  {
   "cell_type": "code",
   "execution_count": 3,
   "id": "fa70dbfc",
   "metadata": {},
   "outputs": [
    {
     "name": "stdout",
     "output_type": "stream",
     "text": [
      "1\n",
      "2\n",
      "3\n",
      "4\n",
      "5\n"
     ]
    }
   ],
   "source": [
    "for i in arr1:\n",
    "    print(i)"
   ]
  },
  {
   "cell_type": "code",
   "execution_count": 4,
   "id": "e1e5cf70",
   "metadata": {},
   "outputs": [
    {
     "data": {
      "text/plain": [
       "[1, 2, 3, 4, 5]"
      ]
     },
     "execution_count": 4,
     "metadata": {},
     "output_type": "execute_result"
    }
   ],
   "source": [
    "[x if x is not None else '' for x in arr1]"
   ]
  },
  {
   "cell_type": "code",
   "execution_count": 5,
   "id": "4f25049c",
   "metadata": {},
   "outputs": [
    {
     "data": {
      "text/plain": [
       "['odd', 2, 'odd', 4, 'odd']"
      ]
     },
     "execution_count": 5,
     "metadata": {},
     "output_type": "execute_result"
    }
   ],
   "source": [
    "[x if x%2==0 else 'odd' for x in arr1]"
   ]
  },
  {
   "cell_type": "code",
   "execution_count": null,
   "id": "d7327e5b",
   "metadata": {},
   "outputs": [],
   "source": []
  },
  {
   "cell_type": "code",
   "execution_count": 6,
   "id": "aefbffb6",
   "metadata": {},
   "outputs": [
    {
     "name": "stdout",
     "output_type": "stream",
     "text": [
      "1\n"
     ]
    }
   ],
   "source": [
    "print(arr1[0])"
   ]
  },
  {
   "cell_type": "code",
   "execution_count": 7,
   "id": "21f573f2",
   "metadata": {},
   "outputs": [
    {
     "data": {
      "text/plain": [
       "array('i', [1, 2, 3, 4, 5])"
      ]
     },
     "execution_count": 7,
     "metadata": {},
     "output_type": "execute_result"
    }
   ],
   "source": [
    "(arr1)"
   ]
  },
  {
   "cell_type": "code",
   "execution_count": 8,
   "id": "912c7b7a",
   "metadata": {},
   "outputs": [
    {
     "data": {
      "text/plain": [
       "array('i', [1, 2, 3, 45])"
      ]
     },
     "execution_count": 8,
     "metadata": {},
     "output_type": "execute_result"
    }
   ],
   "source": [
    "from array import*\n",
    "arr2=array('i',[1,2,3,45])\n",
    "arr2"
   ]
  },
  {
   "cell_type": "code",
   "execution_count": 9,
   "id": "85308298",
   "metadata": {},
   "outputs": [
    {
     "name": "stdout",
     "output_type": "stream",
     "text": [
      "3\n"
     ]
    }
   ],
   "source": [
    "print(arr2[2])"
   ]
  },
  {
   "cell_type": "code",
   "execution_count": 11,
   "id": "ad4be66f",
   "metadata": {},
   "outputs": [
    {
     "name": "stdout",
     "output_type": "stream",
     "text": [
      "enter the lenght of array : 1\n",
      "enter the enlement of array : 4\n",
      "0 ---> 4\n"
     ]
    }
   ],
   "source": [
    "# 1-D\n",
    "stu_roll=array('i',[])\n",
    "# n=int(input('enter the lenght of array : ')\n",
    "for i in range(int(input('enter the lenght of array : '))):\n",
    "      stu_roll.append(int(input('enter the enlement of array : ')))\n",
    "for i in range(len(stu_roll)):\n",
    "      print(i,'--->',stu_roll[i])"
   ]
  },
  {
   "cell_type": "code",
   "execution_count": 12,
   "id": "ed02b18a",
   "metadata": {},
   "outputs": [],
   "source": [
    "str2='amarendra kumar '"
   ]
  },
  {
   "cell_type": "code",
   "execution_count": 13,
   "id": "cf479dcd",
   "metadata": {},
   "outputs": [
    {
     "data": {
      "text/plain": [
       "['amare', 'dra kumar ']"
      ]
     },
     "execution_count": 13,
     "metadata": {},
     "output_type": "execute_result"
    }
   ],
   "source": [
    "str2.split('n')"
   ]
  },
  {
   "cell_type": "code",
   "execution_count": 14,
   "id": "42fe0d8d",
   "metadata": {},
   "outputs": [
    {
     "data": {
      "text/plain": [
       "array([[[0, 0],\n",
       "        [0, 0],\n",
       "        [0, 0]],\n",
       "\n",
       "       [[0, 0],\n",
       "        [0, 0],\n",
       "        [0, 0]]])"
      ]
     },
     "execution_count": 14,
     "metadata": {},
     "output_type": "execute_result"
    }
   ],
   "source": [
    "import numpy as np \n",
    "d=np.zeros((2,3,2),dtype='int')\n",
    "d"
   ]
  },
  {
   "cell_type": "code",
   "execution_count": 15,
   "id": "4f4b87c8",
   "metadata": {},
   "outputs": [
    {
     "data": {
      "text/plain": [
       "'amarendra kumar '"
      ]
     },
     "execution_count": 15,
     "metadata": {},
     "output_type": "execute_result"
    }
   ],
   "source": [
    "str2"
   ]
  },
  {
   "cell_type": "code",
   "execution_count": 16,
   "id": "c7021a1e",
   "metadata": {},
   "outputs": [
    {
     "name": "stdout",
     "output_type": "stream",
     "text": [
      "{'amarendra': 1, 'kumar': 1}\n"
     ]
    }
   ],
   "source": [
    "fre={}\n",
    "for i in str2.split():\n",
    "    if i in fre:\n",
    "        fre[i]+=1\n",
    "    else:\n",
    "        fre[i]=1\n",
    "print(fre)"
   ]
  },
  {
   "cell_type": "code",
   "execution_count": 17,
   "id": "9874fc10",
   "metadata": {},
   "outputs": [
    {
     "data": {
      "text/plain": [
       "{'Narendra': 1,\n",
       " 'Damodardas': 1,\n",
       " 'Modi': 2,\n",
       " 'is': 2,\n",
       " 'an': 1,\n",
       " 'Indian': 1,\n",
       " 'politician': 1,\n",
       " 'who': 1,\n",
       " 'has': 1,\n",
       " 'served': 1,\n",
       " 'as': 1,\n",
       " 'the': 3,\n",
       " '14th': 1,\n",
       " 'Prime': 1,\n",
       " 'Minister': 2,\n",
       " 'of': 3,\n",
       " 'India': 1,\n",
       " 'since': 1,\n",
       " 'May': 1,\n",
       " '2014.': 1,\n",
       " 'was': 1,\n",
       " 'Chief': 1,\n",
       " 'Gujarat': 1,\n",
       " 'from': 1,\n",
       " '2001': 1,\n",
       " 'to': 1,\n",
       " '2014': 1,\n",
       " 'and': 1,\n",
       " 'Member': 1,\n",
       " 'Parliament': 1,\n",
       " 'for': 1,\n",
       " 'Varanasi.': 1}"
      ]
     },
     "execution_count": 17,
     "metadata": {},
     "output_type": "execute_result"
    }
   ],
   "source": [
    "from collections import Counter\n",
    "str3='Narendra Damodardas Modi is an Indian politician who has served as the 14th Prime Minister of India since May 2014. Modi was the Chief Minister of Gujarat from 2001 to 2014 and is the Member of Parliament for Varanasi.'\n",
    "counter=dict(Counter(str3.split()))\n",
    "counter"
   ]
  },
  {
   "cell_type": "code",
   "execution_count": 18,
   "id": "d33686b5",
   "metadata": {},
   "outputs": [
    {
     "data": {
      "text/plain": [
       "['the', 'of']"
      ]
     },
     "execution_count": 18,
     "metadata": {},
     "output_type": "execute_result"
    }
   ],
   "source": [
    "max_counts=max(counter.values())\n",
    "[num for num,count in counter.items() if max_counts==count]"
   ]
  },
  {
   "cell_type": "code",
   "execution_count": 19,
   "id": "172c208e",
   "metadata": {},
   "outputs": [
    {
     "data": {
      "text/plain": [
       "'the'"
      ]
     },
     "execution_count": 19,
     "metadata": {},
     "output_type": "execute_result"
    }
   ],
   "source": [
    "max(counter,key=counter.get)"
   ]
  },
  {
   "cell_type": "code",
   "execution_count": 20,
   "id": "d99b2f84",
   "metadata": {},
   "outputs": [
    {
     "name": "stdout",
     "output_type": "stream",
     "text": [
      "{'a': 6, 'm': 2, 'r': 3, 'e': 1, 'n': 1, 'd': 1, ' ': 2, 'k': 2, 'u': 2, 's': 1, 'h': 2, 'w': 1}\n"
     ]
    },
    {
     "data": {
      "text/plain": [
       "['a']"
      ]
     },
     "execution_count": 20,
     "metadata": {},
     "output_type": "execute_result"
    }
   ],
   "source": [
    "str2='amarendra kumar kushwaha'\n",
    "dct={}\n",
    "for i in str2:\n",
    "    if i in dct:\n",
    "        dct[i]+=1\n",
    "    else:\n",
    "        dct[i]=1\n",
    "print(dct)\n",
    "max_values=max(dct.values())\n",
    "[key for key ,value in dct.items() if max_values==value]"
   ]
  },
  {
   "cell_type": "code",
   "execution_count": 21,
   "id": "6e795e73",
   "metadata": {},
   "outputs": [
    {
     "data": {
      "text/plain": [
       "'a'"
      ]
     },
     "execution_count": 21,
     "metadata": {},
     "output_type": "execute_result"
    }
   ],
   "source": [
    "result=max(dct,key=dct.get)\n",
    "result"
   ]
  },
  {
   "cell_type": "code",
   "execution_count": 22,
   "id": "08c8450c",
   "metadata": {},
   "outputs": [
    {
     "data": {
      "text/plain": [
       "'e'"
      ]
     },
     "execution_count": 22,
     "metadata": {},
     "output_type": "execute_result"
    }
   ],
   "source": [
    "result=min(dct,key=dct.get)\n",
    "result"
   ]
  },
  {
   "cell_type": "code",
   "execution_count": 23,
   "id": "04a05c82",
   "metadata": {},
   "outputs": [],
   "source": [
    "array=np.arange(12).reshape(3,4)"
   ]
  },
  {
   "cell_type": "code",
   "execution_count": null,
   "id": "61b91e44",
   "metadata": {},
   "outputs": [],
   "source": []
  },
  {
   "cell_type": "code",
   "execution_count": 24,
   "id": "d7f4f8b0",
   "metadata": {},
   "outputs": [
    {
     "data": {
      "text/plain": [
       "array([[ 0,  1,  2,  3],\n",
       "       [ 4,  5,  6,  7],\n",
       "       [ 8,  9, 10, 11]])"
      ]
     },
     "execution_count": 24,
     "metadata": {},
     "output_type": "execute_result"
    }
   ],
   "source": [
    "array"
   ]
  },
  {
   "cell_type": "code",
   "execution_count": 25,
   "id": "d9736b01",
   "metadata": {},
   "outputs": [
    {
     "data": {
      "text/plain": [
       "11"
      ]
     },
     "execution_count": 25,
     "metadata": {},
     "output_type": "execute_result"
    }
   ],
   "source": [
    "np.argmax(array)"
   ]
  },
  {
   "cell_type": "code",
   "execution_count": 26,
   "id": "7ec757dd",
   "metadata": {},
   "outputs": [
    {
     "data": {
      "text/plain": [
       "array([3, 3, 3], dtype=int64)"
      ]
     },
     "execution_count": 26,
     "metadata": {},
     "output_type": "execute_result"
    }
   ],
   "source": [
    "np.argmax(array,axis=1)"
   ]
  },
  {
   "cell_type": "code",
   "execution_count": 27,
   "id": "b6cc7cb8",
   "metadata": {},
   "outputs": [
    {
     "data": {
      "text/plain": [
       "array([ 0,  1,  2,  3,  4,  5,  6,  7,  8,  9, 10, 11])"
      ]
     },
     "execution_count": 27,
     "metadata": {},
     "output_type": "execute_result"
    }
   ],
   "source": [
    "arr1=array.flatten()\n",
    "arr1"
   ]
  },
  {
   "cell_type": "code",
   "execution_count": 30,
   "id": "f21ab271",
   "metadata": {},
   "outputs": [
    {
     "data": {
      "text/plain": [
       "{'m': 4,\n",
       " 'y': 1,\n",
       " ' ': 5,\n",
       " 'n': 2,\n",
       " 'a': 7,\n",
       " 'e': 2,\n",
       " 'i': 1,\n",
       " 's': 2,\n",
       " 'r': 3,\n",
       " 'd': 1,\n",
       " 'k': 2,\n",
       " 'u': 2,\n",
       " 'h': 2,\n",
       " 'w': 1}"
      ]
     },
     "execution_count": 30,
     "metadata": {},
     "output_type": "execute_result"
    }
   ],
   "source": [
    "str1='my name is amarendra kumar kushwaha'\n",
    "dct=dict(Counter(str1))\n",
    "dct"
   ]
  },
  {
   "cell_type": "code",
   "execution_count": null,
   "id": "98a746d8",
   "metadata": {},
   "outputs": [],
   "source": []
  }
 ],
 "metadata": {
  "kernelspec": {
   "display_name": "Python 3 (ipykernel)",
   "language": "python",
   "name": "python3"
  },
  "language_info": {
   "codemirror_mode": {
    "name": "ipython",
    "version": 3
   },
   "file_extension": ".py",
   "mimetype": "text/x-python",
   "name": "python",
   "nbconvert_exporter": "python",
   "pygments_lexer": "ipython3",
   "version": "3.9.13"
  }
 },
 "nbformat": 4,
 "nbformat_minor": 5
}
