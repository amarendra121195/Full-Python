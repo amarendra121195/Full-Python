{
 "cells": [
  {
   "cell_type": "markdown",
   "id": "5c94e532",
   "metadata": {},
   "source": [
    "# String"
   ]
  },
  {
   "cell_type": "code",
   "execution_count": 1,
   "id": "abc3f229",
   "metadata": {},
   "outputs": [],
   "source": [
    "from flask import Flask\n",
    "app=Flask(\"__name__\")\n",
    "@app.route('/')\n",
    "def index():\n",
    "    return 'Hello World'\n",
    "if '__name__'=='__main__':\n",
    "    app.run(debug=True)"
   ]
  },
  {
   "cell_type": "code",
   "execution_count": 3,
   "id": "8f8c2a1a",
   "metadata": {},
   "outputs": [
    {
     "name": "stdout",
     "output_type": "stream",
     "text": [
      "enter the fact numbers: 4\n",
      "24\n"
     ]
    }
   ],
   "source": [
    "def fact(num):\n",
    "    if (num==0 or num==1):\n",
    "        return 1\n",
    "    else:\n",
    "        return num*fact(num-1)\n",
    "num=int(input('enter the fact numbers: '))\n",
    "res=fact(num)\n",
    "print(res)"
   ]
  },
  {
   "cell_type": "code",
   "execution_count": 4,
   "id": "ef1f482f",
   "metadata": {},
   "outputs": [
    {
     "data": {
      "text/plain": [
       "24"
      ]
     },
     "execution_count": 4,
     "metadata": {},
     "output_type": "execute_result"
    }
   ],
   "source": [
    "f=lambda n:1 if n<=1 else n*fact(n-1)\n",
    "f(4)"
   ]
  },
  {
   "cell_type": "code",
   "execution_count": 9,
   "id": "7da0b882",
   "metadata": {},
   "outputs": [
    {
     "name": "stdout",
     "output_type": "stream",
     "text": [
      "[0, 5, 10, 15, 20, 25, 30, 35, 40, 45, 50]\n",
      "its_prime\n"
     ]
    }
   ],
   "source": [
    "def is_prime(num):\n",
    "    for i in range(2,num):\n",
    "        if num%i==0:\n",
    "            print(\"its not prime\")\n",
    "            break\n",
    "        else:\n",
    "            print('its_prime')\n",
    "            break\n",
    "obj=[i*5 for i in range(0,11)]\n",
    "print(obj)\n",
    "is_prime(5)"
   ]
  },
  {
   "cell_type": "code",
   "execution_count": 10,
   "id": "95e4686f",
   "metadata": {},
   "outputs": [
    {
     "data": {
      "text/plain": [
       "120"
      ]
     },
     "execution_count": 10,
     "metadata": {},
     "output_type": "execute_result"
    }
   ],
   "source": [
    "import math\n",
    "def factorial(num):\n",
    "    return math.factorial(num)\n",
    "factorial(5)"
   ]
  },
  {
   "cell_type": "code",
   "execution_count": 11,
   "id": "13c862ae",
   "metadata": {},
   "outputs": [
    {
     "data": {
      "text/plain": [
       "tuple"
      ]
     },
     "execution_count": 11,
     "metadata": {},
     "output_type": "execute_result"
    }
   ],
   "source": [
    "a=(100,20,'amar',50,'raju','aajam',10.50)\n",
    "type(a)"
   ]
  },
  {
   "cell_type": "code",
   "execution_count": 12,
   "id": "d6cd1428",
   "metadata": {},
   "outputs": [
    {
     "data": {
      "text/plain": [
       "(100, 20, 'amar')"
      ]
     },
     "execution_count": 12,
     "metadata": {},
     "output_type": "execute_result"
    }
   ],
   "source": [
    "s1=a[0:3]\n",
    "s1"
   ]
  },
  {
   "cell_type": "code",
   "execution_count": 14,
   "id": "68681128",
   "metadata": {},
   "outputs": [
    {
     "data": {
      "text/plain": [
       "('raju',)"
      ]
     },
     "execution_count": 14,
     "metadata": {},
     "output_type": "execute_result"
    }
   ],
   "source": [
    "s2=a[4:-2]\n",
    "s2"
   ]
  },
  {
   "cell_type": "code",
   "execution_count": 15,
   "id": "dac002c2",
   "metadata": {},
   "outputs": [
    {
     "name": "stdout",
     "output_type": "stream",
     "text": [
      "(100, 20, 'amar', 'raju')\n"
     ]
    }
   ],
   "source": [
    "# tuple joining\n",
    "c=s1+s2\n",
    "print(c)"
   ]
  },
  {
   "cell_type": "code",
   "execution_count": 16,
   "id": "5b50a2bd",
   "metadata": {},
   "outputs": [
    {
     "name": "stdout",
     "output_type": "stream",
     "text": [
      "[2, 4, 4]\n"
     ]
    }
   ],
   "source": [
    "a=[[1,2,3,4],[4,5]]\n",
    "output=[]\n",
    "for i in range(len(a)):\n",
    "#         b.append(a[i][1])\n",
    "# b\n",
    "    for j in range(len(a[i])):\n",
    "        if (a[i][j])%2==0:\n",
    "            output.append(a[i][j])\n",
    "#         print(i,j,a[i][j])\n",
    "print(output)"
   ]
  },
  {
   "cell_type": "code",
   "execution_count": 17,
   "id": "0dd2bbe2",
   "metadata": {},
   "outputs": [],
   "source": [
    "def set_method(self,name):\n",
    "    self.name=name\n",
    "def getter_method(self):\n",
    "    return self.name"
   ]
  },
  {
   "cell_type": "code",
   "execution_count": null,
   "id": "0cb5d79e",
   "metadata": {},
   "outputs": [],
   "source": []
  },
  {
   "cell_type": "code",
   "execution_count": 20,
   "id": "fe82aa24",
   "metadata": {},
   "outputs": [
    {
     "name": "stdout",
     "output_type": "stream",
     "text": [
      "enter the set size: 2\n",
      "enter the set elements : 4\n",
      "enter the set elements : 5\n",
      "{4, 5}\n"
     ]
    }
   ],
   "source": [
    "n=int(input('enter the set size: '))\n",
    "a=set()\n",
    "for i in range(n): \n",
    "    a.add(int(input('enter the set elements : ')))\n",
    "#     et=int(input('enter the elements:'))\n",
    "#     a.add(et)\n",
    "print(a)"
   ]
  },
  {
   "cell_type": "code",
   "execution_count": 21,
   "id": "b85ebc33",
   "metadata": {},
   "outputs": [
    {
     "data": {
      "text/plain": [
       "'H'"
      ]
     },
     "execution_count": 21,
     "metadata": {},
     "output_type": "execute_result"
    }
   ],
   "source": [
    "my_string = \"Hello\"\n",
    "my_string[0]"
   ]
  },
  {
   "cell_type": "markdown",
   "id": "8357716e",
   "metadata": {},
   "source": [
    "# Slicing"
   ]
  },
  {
   "cell_type": "code",
   "execution_count": 22,
   "id": "371ebcb8",
   "metadata": {},
   "outputs": [],
   "source": [
    "#<string_variable>[start:stop:step]"
   ]
  },
  {
   "cell_type": "code",
   "execution_count": 23,
   "id": "f0fc7c3d",
   "metadata": {},
   "outputs": [
    {
     "data": {
      "text/plain": [
       "'Camp'"
      ]
     },
     "execution_count": 23,
     "metadata": {},
     "output_type": "execute_result"
    }
   ],
   "source": [
    ">>> freecodecamp = \"freeCodeCamp\"\n",
    "\n",
    "#freecodecamp[2:8]\n",
    "freecodecamp[0:3]\n",
    "freecodecamp[0:4]\n",
    "freecodecamp[4:7]\n",
    "freecodecamp[4:8]\n",
    "freecodecamp[8:11]\n",
    "freecodecamp[8:12]\n",
    "freecodecamp[8:13]"
   ]
  },
  {
   "cell_type": "code",
   "execution_count": 24,
   "id": "f29af023",
   "metadata": {},
   "outputs": [
    {
     "data": {
      "text/plain": [
       "'amarendr'"
      ]
     },
     "execution_count": 24,
     "metadata": {},
     "output_type": "execute_result"
    }
   ],
   "source": [
    "freecodecamp = \"amarendra kumar kushwaha\"\n",
    "\n",
    "# Default start and step\n",
    "freecodecamp[:8]"
   ]
  },
  {
   "cell_type": "code",
   "execution_count": 25,
   "id": "84ff525b",
   "metadata": {},
   "outputs": [
    {
     "data": {
      "text/plain": [
       "'endra kumar kushwaha'"
      ]
     },
     "execution_count": 25,
     "metadata": {},
     "output_type": "execute_result"
    }
   ],
   "source": [
    "# Default end and step\n",
    "freecodecamp[4:]"
   ]
  },
  {
   "cell_type": "code",
   "execution_count": 26,
   "id": "0f5e4f74",
   "metadata": {},
   "outputs": [
    {
     "data": {
      "text/plain": [
       "'aahu au '"
      ]
     },
     "execution_count": 26,
     "metadata": {},
     "output_type": "execute_result"
    }
   ],
   "source": [
    "# Default start\n",
    "freecodecamp[:8:-2]"
   ]
  },
  {
   "cell_type": "code",
   "execution_count": 27,
   "id": "0ac525f5",
   "metadata": {},
   "outputs": [
    {
     "data": {
      "text/plain": [
       "'erkakhh'"
      ]
     },
     "execution_count": 27,
     "metadata": {},
     "output_type": "execute_result"
    }
   ],
   "source": [
    "# Default stop\n",
    "freecodecamp[4::3]"
   ]
  },
  {
   "cell_type": "code",
   "execution_count": 28,
   "id": "39f3fe60",
   "metadata": {},
   "outputs": [
    {
     "data": {
      "text/plain": [
       "'aahu au rnrm'"
      ]
     },
     "execution_count": 28,
     "metadata": {},
     "output_type": "execute_result"
    }
   ],
   "source": [
    "# Default start and stop\n",
    "freecodecamp[::-2]"
   ]
  },
  {
   "cell_type": "code",
   "execution_count": 31,
   "id": "e444a7d0",
   "metadata": {},
   "outputs": [
    {
     "name": "stdout",
     "output_type": "stream",
     "text": [
      "[1, 2, 3, 4, 2, 3, 4, 5]\n"
     ]
    }
   ],
   "source": [
    "lst=[1,2,3,4]\n",
    "lst1=[2,3,4,5]\n",
    "lst3=lst+lst1\n",
    "print(lst3)"
   ]
  },
  {
   "cell_type": "markdown",
   "id": "cb958724",
   "metadata": {},
   "source": [
    "# f-Strings"
   ]
  },
  {
   "cell_type": "raw",
   "id": "2520852b",
   "metadata": {},
   "source": [
    "To define an f-string, we just add an f before the single or double quotes. \n",
    "Then, within the string, we surround the variables or expressions with curly braces {}. \n",
    "This replaces their value in the string when we run the program."
   ]
  },
  {
   "cell_type": "code",
   "execution_count": 32,
   "id": "8119b404",
   "metadata": {},
   "outputs": [
    {
     "name": "stdout",
     "output_type": "stream",
     "text": [
      "Hi, I'm Amarendra. I'm learning Python.\n"
     ]
    }
   ],
   "source": [
    "first_name = \"Amarendra\"\n",
    "favorite_language = \"Python\"\n",
    "print(f\"Hi, I'm {first_name}. I'm learning {favorite_language}.\")"
   ]
  },
  {
   "cell_type": "code",
   "execution_count": 33,
   "id": "82b36b46",
   "metadata": {},
   "outputs": [
    {
     "name": "stdout",
     "output_type": "stream",
     "text": [
      "Hi, I'm Amarendra. I'm learning Python.\n"
     ]
    }
   ],
   "source": [
    "print(\"Hi, I'm {}. I'm learning {}.\".format('Amarendra','Python'))"
   ]
  },
  {
   "cell_type": "code",
   "execution_count": 35,
   "id": "5a7bccf7",
   "metadata": {},
   "outputs": [
    {
     "name": "stdout",
     "output_type": "stream",
     "text": [
      "5 multiplied by 2 is: 10\n"
     ]
    }
   ],
   "source": [
    "value = 5\n",
    "print(f\"{value} multiplied by 2 is: {value * 2}\")"
   ]
  },
  {
   "cell_type": "code",
   "execution_count": 36,
   "id": "b0906e3f",
   "metadata": {},
   "outputs": [
    {
     "name": "stdout",
     "output_type": "stream",
     "text": [
      "freecodecamp\n"
     ]
    }
   ],
   "source": [
    "freecodecamp = \"FREECODECAMP\"\n",
    "\n",
    "print(f\"{freecodecamp.lower()}\")"
   ]
  },
  {
   "cell_type": "code",
   "execution_count": 37,
   "id": "d7a8c668",
   "metadata": {},
   "outputs": [
    {
     "name": "stdout",
     "output_type": "stream",
     "text": [
      "Freecodecamp\n"
     ]
    }
   ],
   "source": [
    "print(f\"{freecodecamp.title()}\")"
   ]
  },
  {
   "cell_type": "markdown",
   "id": "f1055f45",
   "metadata": {},
   "source": [
    "# String Methods"
   ]
  },
  {
   "cell_type": "raw",
   "id": "fa19ec35",
   "metadata": {},
   "source": [
    "<string_variable>.<method_name>(<arguments>)"
   ]
  },
  {
   "cell_type": "code",
   "execution_count": 38,
   "id": "cf7713b3",
   "metadata": {},
   "outputs": [
    {
     "data": {
      "text/plain": [
       "'Amarendra kumar kushwaha'"
      ]
     },
     "execution_count": 38,
     "metadata": {},
     "output_type": "execute_result"
    }
   ],
   "source": [
    "freecodecamp = \"amarendra kumar kushwaha\"\n",
    "\n",
    "freecodecamp.capitalize()\n",
    "\n",
    "#freecodecamp.count(\"C\")\n",
    "\n",
    "#freecodecamp.find(\"e\")\n",
    "\n",
    "#freecodecamp.index(\"p\")\n",
    "\n",
    "#freecodecamp.isalnum()\n",
    "\n",
    "#freecodecamp.isalpha()\n",
    "\n",
    "#freecodecamp.isdecimal()\n",
    "\n",
    "#freecodecamp.isdigit()\n",
    "\n",
    "#freecodecamp.isidentifier()\n",
    "\n",
    "#freecodecamp.islower()\n",
    "\n",
    "#freecodecamp.isnumeric()\n",
    "\n",
    "#freecodecamp.isprintable()\n",
    "\n",
    "#freecodecamp.isspace()\n",
    "\n",
    "#freecodecamp.istitle()\n",
    "\n",
    "#freecodecamp.isupper()\n",
    "\n",
    "#freecodecamp.lower()\n",
    "\n",
    "#freecodecamp.lstrip(\"f\")\n",
    "\n",
    "#freecodecamp.rstrip(\"p\")\n",
    "\n",
    "#freecodecamp.replace(\"e\", \"a\")\n",
    "\n",
    "#freecodecamp.split(\"C\")\n",
    "\n",
    "#freecodecamp.swapcase()\n",
    "\n",
    "#freecodecamp.title()\n",
    "\n",
    "#freecodecamp.upper()"
   ]
  },
  {
   "cell_type": "code",
   "execution_count": 39,
   "id": "30d6785a",
   "metadata": {},
   "outputs": [
    {
     "data": {
      "text/plain": [
       "False"
      ]
     },
     "execution_count": 39,
     "metadata": {},
     "output_type": "execute_result"
    }
   ],
   "source": [
    "freecodecamp.isidentifier()"
   ]
  },
  {
   "cell_type": "code",
   "execution_count": 40,
   "id": "eda084e7",
   "metadata": {},
   "outputs": [
    {
     "data": {
      "text/plain": [
       "True"
      ]
     },
     "execution_count": 40,
     "metadata": {},
     "output_type": "execute_result"
    }
   ],
   "source": [
    "freecodecamp.isprintable()"
   ]
  },
  {
   "cell_type": "markdown",
   "id": "b6272135",
   "metadata": {},
   "source": [
    "# Lists in Python"
   ]
  },
  {
   "cell_type": "code",
   "execution_count": 41,
   "id": "95f508e3",
   "metadata": {},
   "outputs": [
    {
     "data": {
      "text/plain": [
       "[4, 5, 6]"
      ]
     },
     "execution_count": 41,
     "metadata": {},
     "output_type": "execute_result"
    }
   ],
   "source": [
    "my_list = [[1, 2, 3], [4, 5, 6]]\n",
    "\n",
    "my_list[1]"
   ]
  },
  {
   "cell_type": "code",
   "execution_count": 42,
   "id": "632212c2",
   "metadata": {},
   "outputs": [
    {
     "data": {
      "text/plain": [
       "[1, 2, 3]"
      ]
     },
     "execution_count": 42,
     "metadata": {},
     "output_type": "execute_result"
    }
   ],
   "source": [
    "my_list[0]"
   ]
  },
  {
   "cell_type": "code",
   "execution_count": 43,
   "id": "e6d630b8",
   "metadata": {},
   "outputs": [
    {
     "data": {
      "text/plain": [
       "2"
      ]
     },
     "execution_count": 43,
     "metadata": {},
     "output_type": "execute_result"
    }
   ],
   "source": [
    "len(my_list)"
   ]
  },
  {
   "cell_type": "code",
   "execution_count": 44,
   "id": "5b01c0d1",
   "metadata": {},
   "outputs": [
    {
     "name": "stdout",
     "output_type": "stream",
     "text": [
      "1\n",
      "2\n",
      "3\n",
      "4\n",
      "5\n"
     ]
    }
   ],
   "source": [
    "l1=[1,2,3,4,5]\n",
    "for i in l1:\n",
    "    print(i)"
   ]
  },
  {
   "cell_type": "code",
   "execution_count": null,
   "id": "a2052878",
   "metadata": {},
   "outputs": [],
   "source": []
  },
  {
   "cell_type": "markdown",
   "id": "2922f8e6",
   "metadata": {},
   "source": [
    "# Update a Value in a List"
   ]
  },
  {
   "cell_type": "raw",
   "id": "2b083486",
   "metadata": {},
   "source": [
    "<list_variable>[<index>] = <value>"
   ]
  },
  {
   "cell_type": "code",
   "execution_count": 45,
   "id": "644d6873",
   "metadata": {},
   "outputs": [],
   "source": [
    "letters = [\"a\", \"b\", \"c\", \"d\"]"
   ]
  },
  {
   "cell_type": "code",
   "execution_count": 46,
   "id": "3a00d4aa",
   "metadata": {},
   "outputs": [
    {
     "data": {
      "text/plain": [
       "['a', 'b', 'c', 'd']"
      ]
     },
     "execution_count": 46,
     "metadata": {},
     "output_type": "execute_result"
    }
   ],
   "source": [
    "letters"
   ]
  },
  {
   "cell_type": "code",
   "execution_count": 47,
   "id": "ab075286",
   "metadata": {},
   "outputs": [],
   "source": [
    "letters[0] = \"z\""
   ]
  },
  {
   "cell_type": "code",
   "execution_count": 48,
   "id": "d46652dc",
   "metadata": {},
   "outputs": [
    {
     "data": {
      "text/plain": [
       "['z', 'b', 'c', 'd']"
      ]
     },
     "execution_count": 48,
     "metadata": {},
     "output_type": "execute_result"
    }
   ],
   "source": [
    "letters"
   ]
  },
  {
   "cell_type": "markdown",
   "id": "e73fd66d",
   "metadata": {},
   "source": [
    "# Add a Value to a List"
   ]
  },
  {
   "cell_type": "code",
   "execution_count": 49,
   "id": "9110d51e",
   "metadata": {},
   "outputs": [],
   "source": [
    "my_list = [1, 2, 3, 4]"
   ]
  },
  {
   "cell_type": "code",
   "execution_count": 50,
   "id": "45716ae6",
   "metadata": {},
   "outputs": [],
   "source": [
    "my_list.append(5)"
   ]
  },
  {
   "cell_type": "code",
   "execution_count": 51,
   "id": "68c8f0af",
   "metadata": {},
   "outputs": [
    {
     "data": {
      "text/plain": [
       "[1, 2, 3, 4, 5]"
      ]
     },
     "execution_count": 51,
     "metadata": {},
     "output_type": "execute_result"
    }
   ],
   "source": [
    "my_list"
   ]
  },
  {
   "cell_type": "markdown",
   "id": "30f2c7ac",
   "metadata": {},
   "source": [
    "# Remove a Value from a List"
   ]
  },
  {
   "cell_type": "code",
   "execution_count": 52,
   "id": "83755dba",
   "metadata": {},
   "outputs": [],
   "source": [
    "my_list = [1, 2, 3, 4]"
   ]
  },
  {
   "cell_type": "code",
   "execution_count": 53,
   "id": "9347993e",
   "metadata": {},
   "outputs": [],
   "source": [
    "my_list.remove(3)"
   ]
  },
  {
   "cell_type": "code",
   "execution_count": 54,
   "id": "43acca4f",
   "metadata": {},
   "outputs": [
    {
     "data": {
      "text/plain": [
       "[1, 2, 4]"
      ]
     },
     "execution_count": 54,
     "metadata": {},
     "output_type": "execute_result"
    }
   ],
   "source": [
    "my_list"
   ]
  },
  {
   "cell_type": "markdown",
   "id": "2931bd6b",
   "metadata": {},
   "source": [
    "# List Indexing"
   ]
  },
  {
   "cell_type": "code",
   "execution_count": 55,
   "id": "26c9d044",
   "metadata": {},
   "outputs": [
    {
     "data": {
      "text/plain": [
       "'d'"
      ]
     },
     "execution_count": 55,
     "metadata": {},
     "output_type": "execute_result"
    }
   ],
   "source": [
    "letters = [\"a\", \"b\", \"c\", \"d\"]\n",
    "\n",
    "letters[0]\n",
    "\n",
    "letters[1]\n",
    "\n",
    "letters[2]\n",
    "\n",
    "letters[3]"
   ]
  },
  {
   "cell_type": "markdown",
   "id": "bb546a00",
   "metadata": {},
   "source": [
    "# List Slicing"
   ]
  },
  {
   "cell_type": "raw",
   "id": "34829ecf",
   "metadata": {},
   "source": [
    "<list_variable>[start:stop:step]"
   ]
  },
  {
   "cell_type": "code",
   "execution_count": 56,
   "id": "855ebea5",
   "metadata": {},
   "outputs": [],
   "source": [
    "my_list = [\"a\", \"b\", \"c\", \"d\", \"e\", \"f\", \"g\", \"h\", \"i\"]"
   ]
  },
  {
   "cell_type": "code",
   "execution_count": 57,
   "id": "4754b833",
   "metadata": {},
   "outputs": [
    {
     "data": {
      "text/plain": [
       "['c', 'e']"
      ]
     },
     "execution_count": 57,
     "metadata": {},
     "output_type": "execute_result"
    }
   ],
   "source": [
    "my_list[2:6:2]"
   ]
  },
  {
   "cell_type": "code",
   "execution_count": 58,
   "id": "c3f94029",
   "metadata": {},
   "outputs": [
    {
     "data": {
      "text/plain": [
       "['c', 'd', 'e', 'f', 'g', 'h']"
      ]
     },
     "execution_count": 58,
     "metadata": {},
     "output_type": "execute_result"
    }
   ],
   "source": [
    "my_list[2:8]"
   ]
  },
  {
   "cell_type": "code",
   "execution_count": 59,
   "id": "a851ae77",
   "metadata": {},
   "outputs": [
    {
     "data": {
      "text/plain": [
       "['b', 'c', 'd', 'e', 'f', 'g', 'h', 'i']"
      ]
     },
     "execution_count": 59,
     "metadata": {},
     "output_type": "execute_result"
    }
   ],
   "source": [
    "my_list[1:10]"
   ]
  },
  {
   "cell_type": "code",
   "execution_count": 60,
   "id": "e5dbfd88",
   "metadata": {},
   "outputs": [
    {
     "data": {
      "text/plain": [
       "['e', 'g']"
      ]
     },
     "execution_count": 60,
     "metadata": {},
     "output_type": "execute_result"
    }
   ],
   "source": [
    "my_list[4:8:2]"
   ]
  },
  {
   "cell_type": "code",
   "execution_count": 61,
   "id": "61a3e68b",
   "metadata": {},
   "outputs": [
    {
     "data": {
      "text/plain": [
       "['i', 'h', 'g', 'f', 'e', 'd', 'c', 'b', 'a']"
      ]
     },
     "execution_count": 61,
     "metadata": {},
     "output_type": "execute_result"
    }
   ],
   "source": [
    "my_list[::-1]"
   ]
  },
  {
   "cell_type": "code",
   "execution_count": 62,
   "id": "a894221a",
   "metadata": {},
   "outputs": [
    {
     "data": {
      "text/plain": [
       "['i', 'g', 'e', 'c', 'a']"
      ]
     },
     "execution_count": 62,
     "metadata": {},
     "output_type": "execute_result"
    }
   ],
   "source": [
    "my_list[::-2]"
   ]
  },
  {
   "cell_type": "code",
   "execution_count": 63,
   "id": "c2a75b94",
   "metadata": {},
   "outputs": [
    {
     "data": {
      "text/plain": [
       "['i', 'h', 'g', 'f', 'e', 'd', 'c']"
      ]
     },
     "execution_count": 63,
     "metadata": {},
     "output_type": "execute_result"
    }
   ],
   "source": [
    "my_list[8:1:-1]"
   ]
  },
  {
   "cell_type": "code",
   "execution_count": 64,
   "id": "e7c35c04",
   "metadata": {},
   "outputs": [
    {
     "data": {
      "text/plain": [
       "['a', 'b', 'c', 'd', 'e', 'f', 'g', 'h', 'i']"
      ]
     },
     "execution_count": 64,
     "metadata": {},
     "output_type": "execute_result"
    }
   ],
   "source": [
    "my_list"
   ]
  },
  {
   "cell_type": "code",
   "execution_count": 65,
   "id": "dc4a592a",
   "metadata": {},
   "outputs": [
    {
     "data": {
      "text/plain": [
       "['e', 'f', 'g', 'h', 'i']"
      ]
     },
     "execution_count": 65,
     "metadata": {},
     "output_type": "execute_result"
    }
   ],
   "source": [
    "my_list[-5::1]"
   ]
  },
  {
   "cell_type": "code",
   "execution_count": 66,
   "id": "97483ace",
   "metadata": {},
   "outputs": [
    {
     "data": {
      "text/plain": [
       "['e', 'd', 'c', 'b', 'a']"
      ]
     },
     "execution_count": 66,
     "metadata": {},
     "output_type": "execute_result"
    }
   ],
   "source": [
    "my_list[-5::-1]"
   ]
  },
  {
   "cell_type": "code",
   "execution_count": null,
   "id": "a412e637",
   "metadata": {},
   "outputs": [],
   "source": []
  },
  {
   "cell_type": "markdown",
   "id": "97e1c941",
   "metadata": {},
   "source": [
    "# List Methods"
   ]
  },
  {
   "cell_type": "code",
   "execution_count": 67,
   "id": "954a1d96",
   "metadata": {},
   "outputs": [],
   "source": [
    "my_list = [1, 2, 3, 3, 4]"
   ]
  },
  {
   "cell_type": "code",
   "execution_count": 68,
   "id": "4bff9611",
   "metadata": {},
   "outputs": [
    {
     "data": {
      "text/plain": [
       "[1, 2, 3, 3, 4, 5]"
      ]
     },
     "execution_count": 68,
     "metadata": {},
     "output_type": "execute_result"
    }
   ],
   "source": [
    "my_list.append(5)\n",
    "my_list"
   ]
  },
  {
   "cell_type": "code",
   "execution_count": 69,
   "id": "0ef62d2f",
   "metadata": {},
   "outputs": [
    {
     "data": {
      "text/plain": [
       "[1, 2, 3, 3, 4, 5, 6, 7, 8]"
      ]
     },
     "execution_count": 69,
     "metadata": {},
     "output_type": "execute_result"
    }
   ],
   "source": [
    "my_list.extend([6, 7, 8])\n",
    "my_list"
   ]
  },
  {
   "cell_type": "code",
   "execution_count": 70,
   "id": "8f8377ce",
   "metadata": {},
   "outputs": [
    {
     "data": {
      "text/plain": [
       "[1, 2, 15, 3, 3, 4, 5, 6, 7, 8]"
      ]
     },
     "execution_count": 70,
     "metadata": {},
     "output_type": "execute_result"
    }
   ],
   "source": [
    "my_list.insert(2, 15)\n",
    "my_list"
   ]
  },
  {
   "cell_type": "code",
   "execution_count": 71,
   "id": "f3e4433c",
   "metadata": {},
   "outputs": [
    {
     "data": {
      "text/plain": [
       "[1, 15, 3, 3, 4, 5, 6, 7, 8]"
      ]
     },
     "execution_count": 71,
     "metadata": {},
     "output_type": "execute_result"
    }
   ],
   "source": [
    "my_list.remove(2)\n",
    "my_list"
   ]
  },
  {
   "cell_type": "code",
   "execution_count": 72,
   "id": "f322b9dc",
   "metadata": {},
   "outputs": [
    {
     "data": {
      "text/plain": [
       "8"
      ]
     },
     "execution_count": 72,
     "metadata": {},
     "output_type": "execute_result"
    }
   ],
   "source": [
    "my_list.pop()"
   ]
  },
  {
   "cell_type": "code",
   "execution_count": 73,
   "id": "fe711d40",
   "metadata": {},
   "outputs": [
    {
     "data": {
      "text/plain": [
       "6"
      ]
     },
     "execution_count": 73,
     "metadata": {},
     "output_type": "execute_result"
    }
   ],
   "source": [
    "my_list.index(6)"
   ]
  },
  {
   "cell_type": "code",
   "execution_count": 74,
   "id": "548a21ea",
   "metadata": {},
   "outputs": [
    {
     "data": {
      "text/plain": [
       "0"
      ]
     },
     "execution_count": 74,
     "metadata": {},
     "output_type": "execute_result"
    }
   ],
   "source": [
    "my_list.count(2)"
   ]
  },
  {
   "cell_type": "code",
   "execution_count": 75,
   "id": "e4a4f986",
   "metadata": {},
   "outputs": [
    {
     "ename": "AttributeError",
     "evalue": "'list' object has no attribute 'max'",
     "output_type": "error",
     "traceback": [
      "\u001b[1;31m---------------------------------------------------------------------------\u001b[0m",
      "\u001b[1;31mAttributeError\u001b[0m                            Traceback (most recent call last)",
      "\u001b[1;32m~\\AppData\\Local\\Temp\\ipykernel_7980\\3599015003.py\u001b[0m in \u001b[0;36m<module>\u001b[1;34m\u001b[0m\n\u001b[1;32m----> 1\u001b[1;33m \u001b[0mmy_list\u001b[0m\u001b[1;33m.\u001b[0m\u001b[0mmax\u001b[0m\u001b[1;33m(\u001b[0m\u001b[1;33m)\u001b[0m  \u001b[1;31m#accending orders\u001b[0m\u001b[1;33m\u001b[0m\u001b[1;33m\u001b[0m\u001b[0m\n\u001b[0m\u001b[0;32m      2\u001b[0m \u001b[0mmy_list\u001b[0m\u001b[1;33m\u001b[0m\u001b[1;33m\u001b[0m\u001b[0m\n",
      "\u001b[1;31mAttributeError\u001b[0m: 'list' object has no attribute 'max'"
     ]
    }
   ],
   "source": [
    "my_list.max()  #accending orders\n",
    "my_list"
   ]
  },
  {
   "cell_type": "code",
   "execution_count": 76,
   "id": "5f2013c4",
   "metadata": {},
   "outputs": [
    {
     "data": {
      "text/plain": [
       "15"
      ]
     },
     "execution_count": 76,
     "metadata": {},
     "output_type": "execute_result"
    }
   ],
   "source": [
    "max(my_list)"
   ]
  },
  {
   "cell_type": "code",
   "execution_count": 77,
   "id": "3898eb4c",
   "metadata": {},
   "outputs": [
    {
     "data": {
      "text/plain": [
       "[7, 6, 5, 4, 3, 3, 15, 1]"
      ]
     },
     "execution_count": 77,
     "metadata": {},
     "output_type": "execute_result"
    }
   ],
   "source": [
    "my_list.reverse()    ## decending orders\n",
    "my_list"
   ]
  },
  {
   "cell_type": "code",
   "execution_count": 78,
   "id": "8b24b2ec",
   "metadata": {},
   "outputs": [
    {
     "data": {
      "text/plain": [
       "[]"
      ]
     },
     "execution_count": 78,
     "metadata": {},
     "output_type": "execute_result"
    }
   ],
   "source": [
    "my_list.clear()\n",
    "my_list"
   ]
  },
  {
   "cell_type": "code",
   "execution_count": 79,
   "id": "ce4e21f0",
   "metadata": {},
   "outputs": [
    {
     "data": {
      "text/plain": [
       "[True, False, False, False, False, False, False, False, False]"
      ]
     },
     "execution_count": 79,
     "metadata": {},
     "output_type": "execute_result"
    }
   ],
   "source": [
    "a=[1,2,3,4,5,6,7,8,9]\n",
    "[i%2==i**2 for i in a]"
   ]
  },
  {
   "cell_type": "code",
   "execution_count": 80,
   "id": "f2a84dcd",
   "metadata": {},
   "outputs": [
    {
     "data": {
      "text/plain": [
       "['hellotimes1',\n",
       " 'hellotimes2',\n",
       " 'hellotimes3',\n",
       " 'hellotimes4',\n",
       " 'hellotimes5',\n",
       " 'hellotimes6',\n",
       " 'hellotimes7',\n",
       " 'hellotimes8',\n",
       " 'hellotimes9']"
      ]
     },
     "execution_count": 80,
     "metadata": {},
     "output_type": "execute_result"
    }
   ],
   "source": [
    "def is_maps(a):\n",
    "    return (list(map(lambda x :\"hellotimes\"+str(x),a)))\n",
    "# a=[1,2,3,4,5,6,7,8,9]\n",
    "is_maps(a)"
   ]
  },
  {
   "cell_type": "markdown",
   "id": "e21afa57",
   "metadata": {},
   "source": [
    "# List comprehension"
   ]
  },
  {
   "cell_type": "code",
   "execution_count": 81,
   "id": "06839e2e",
   "metadata": {},
   "outputs": [],
   "source": [
    "a=[1,2,3,4,5,6,7,8,9,10]"
   ]
  },
  {
   "cell_type": "code",
   "execution_count": 82,
   "id": "453c6b8d",
   "metadata": {},
   "outputs": [
    {
     "data": {
      "text/plain": [
       "[True, False, True, False, True, False, True, False, True, False, True]"
      ]
     },
     "execution_count": 82,
     "metadata": {},
     "output_type": "execute_result"
    }
   ],
   "source": [
    "[i%2==0 for i in range(10+1)]"
   ]
  },
  {
   "cell_type": "code",
   "execution_count": 83,
   "id": "a0bc0ae6",
   "metadata": {},
   "outputs": [
    {
     "data": {
      "text/plain": [
       "[0, 1, 2, 3, 4, 5, 6, 7, 8, 9, 10, 11, 12, 13, 14, 15, 16, 17, 18, 19]"
      ]
     },
     "execution_count": 83,
     "metadata": {},
     "output_type": "execute_result"
    }
   ],
   "source": [
    "[i for i in range(20)]"
   ]
  },
  {
   "cell_type": "code",
   "execution_count": 84,
   "id": "d00a4c8b",
   "metadata": {},
   "outputs": [
    {
     "data": {
      "text/plain": [
       "[5, 10, 15, 20, 25, 30, 35, 40, 45, 50]"
      ]
     },
     "execution_count": 84,
     "metadata": {},
     "output_type": "execute_result"
    }
   ],
   "source": [
    "[(i+1)*5 for i in range(10)]"
   ]
  },
  {
   "cell_type": "code",
   "execution_count": 85,
   "id": "5ab5be9a",
   "metadata": {},
   "outputs": [
    {
     "data": {
      "text/plain": [
       "[5, 10, 15, 20, 25, 30, 35, 40, 45, 50]"
      ]
     },
     "execution_count": 85,
     "metadata": {},
     "output_type": "execute_result"
    }
   ],
   "source": [
    "[i*5 for i in range(1,11)]"
   ]
  },
  {
   "cell_type": "code",
   "execution_count": 86,
   "id": "3360df6b",
   "metadata": {},
   "outputs": [
    {
     "name": "stdout",
     "output_type": "stream",
     "text": [
      "1 * 5 = 5\n",
      "2 * 5 = 10\n",
      "3 * 5 = 15\n",
      "4 * 5 = 20\n",
      "5 * 5 = 25\n",
      "6 * 5 = 30\n",
      "7 * 5 = 35\n",
      "8 * 5 = 40\n",
      "9 * 5 = 45\n",
      "10 * 5 = 50\n"
     ]
    }
   ],
   "source": [
    "for i in range(1,11):\n",
    "    print(i,'*',5,'=',i*5)"
   ]
  },
  {
   "cell_type": "code",
   "execution_count": 87,
   "id": "82d11ac0",
   "metadata": {},
   "outputs": [
    {
     "data": {
      "text/plain": [
       "[0, 2, 4, 6, 8, 10, 12, 14, 16, 18]"
      ]
     },
     "execution_count": 87,
     "metadata": {},
     "output_type": "execute_result"
    }
   ],
   "source": [
    "[i for i in range(20) if i%2==0]"
   ]
  },
  {
   "cell_type": "code",
   "execution_count": 88,
   "id": "f2325126",
   "metadata": {},
   "outputs": [
    {
     "data": {
      "text/plain": [
       "[0, '+', 2, '+', 4, '+', 6, '+', 8, '+', 10]"
      ]
     },
     "execution_count": 88,
     "metadata": {},
     "output_type": "execute_result"
    }
   ],
   "source": [
    "[i if (i%2)==0 else '+' for i in range(11)]"
   ]
  },
  {
   "cell_type": "code",
   "execution_count": 89,
   "id": "ce7131ec",
   "metadata": {},
   "outputs": [
    {
     "data": {
      "text/plain": [
       "[0, 2, 4, 6, 8, 10, 12, 14, 16, 18]"
      ]
     },
     "execution_count": 89,
     "metadata": {},
     "output_type": "execute_result"
    }
   ],
   "source": [
    "[i for i in range(20) if (i%2)==0]"
   ]
  },
  {
   "cell_type": "code",
   "execution_count": 90,
   "id": "4cc3561e",
   "metadata": {},
   "outputs": [
    {
     "data": {
      "text/plain": [
       "[[28]]"
      ]
     },
     "execution_count": 90,
     "metadata": {},
     "output_type": "execute_result"
    }
   ],
   "source": [
    "[[j*i for j in range(4,5)] for i in range(7,8)]"
   ]
  },
  {
   "cell_type": "code",
   "execution_count": null,
   "id": "967059c4",
   "metadata": {},
   "outputs": [],
   "source": []
  },
  {
   "cell_type": "markdown",
   "id": "d9237201",
   "metadata": {},
   "source": [
    "# Tuples in Python\n",
    "To define a tuple in Python, we use parentheses () and separate the elements with a comma. \n",
    "It is recommended to add a space after each comma to make the code more readable."
   ]
  },
  {
   "cell_type": "markdown",
   "id": "b420b61e",
   "metadata": {},
   "source": [
    "# Tuple Indexing"
   ]
  },
  {
   "cell_type": "code",
   "execution_count": 91,
   "id": "b26d2ec5",
   "metadata": {},
   "outputs": [],
   "source": [
    "my_tuple = (1, 2, 3, 4)"
   ]
  },
  {
   "cell_type": "code",
   "execution_count": 92,
   "id": "6483b13d",
   "metadata": {},
   "outputs": [
    {
     "data": {
      "text/plain": [
       "1"
      ]
     },
     "execution_count": 92,
     "metadata": {},
     "output_type": "execute_result"
    }
   ],
   "source": [
    "my_tuple[0]"
   ]
  },
  {
   "cell_type": "code",
   "execution_count": 93,
   "id": "59480817",
   "metadata": {},
   "outputs": [
    {
     "data": {
      "text/plain": [
       "2"
      ]
     },
     "execution_count": 93,
     "metadata": {},
     "output_type": "execute_result"
    }
   ],
   "source": [
    "my_tuple[1]"
   ]
  },
  {
   "cell_type": "code",
   "execution_count": 94,
   "id": "becfa74a",
   "metadata": {},
   "outputs": [
    {
     "data": {
      "text/plain": [
       "3"
      ]
     },
     "execution_count": 94,
     "metadata": {},
     "output_type": "execute_result"
    }
   ],
   "source": [
    "my_tuple[2]"
   ]
  },
  {
   "cell_type": "code",
   "execution_count": 95,
   "id": "53db994b",
   "metadata": {},
   "outputs": [
    {
     "data": {
      "text/plain": [
       "4"
      ]
     },
     "execution_count": 95,
     "metadata": {},
     "output_type": "execute_result"
    }
   ],
   "source": [
    "my_tuple[3]"
   ]
  },
  {
   "cell_type": "code",
   "execution_count": 96,
   "id": "c78cb0b8",
   "metadata": {},
   "outputs": [],
   "source": [
    "my_tuple = (1, 2, 3, 4)"
   ]
  },
  {
   "cell_type": "code",
   "execution_count": 97,
   "id": "25797234",
   "metadata": {},
   "outputs": [
    {
     "data": {
      "text/plain": [
       "4"
      ]
     },
     "execution_count": 97,
     "metadata": {},
     "output_type": "execute_result"
    }
   ],
   "source": [
    "my_tuple[-1]"
   ]
  },
  {
   "cell_type": "code",
   "execution_count": 98,
   "id": "bd3a569c",
   "metadata": {},
   "outputs": [
    {
     "data": {
      "text/plain": [
       "3"
      ]
     },
     "execution_count": 98,
     "metadata": {},
     "output_type": "execute_result"
    }
   ],
   "source": [
    "my_tuple[-2]"
   ]
  },
  {
   "cell_type": "code",
   "execution_count": 99,
   "id": "1edb8f46",
   "metadata": {},
   "outputs": [
    {
     "data": {
      "text/plain": [
       "2"
      ]
     },
     "execution_count": 99,
     "metadata": {},
     "output_type": "execute_result"
    }
   ],
   "source": [
    "my_tuple[-3]"
   ]
  },
  {
   "cell_type": "code",
   "execution_count": 100,
   "id": "fc67ea92",
   "metadata": {},
   "outputs": [
    {
     "data": {
      "text/plain": [
       "1"
      ]
     },
     "execution_count": 100,
     "metadata": {},
     "output_type": "execute_result"
    }
   ],
   "source": [
    "my_tuple[-4]"
   ]
  },
  {
   "cell_type": "code",
   "execution_count": 101,
   "id": "6be1e949",
   "metadata": {},
   "outputs": [
    {
     "data": {
      "text/plain": [
       "4"
      ]
     },
     "execution_count": 101,
     "metadata": {},
     "output_type": "execute_result"
    }
   ],
   "source": [
    "len(my_tuple)"
   ]
  },
  {
   "cell_type": "code",
   "execution_count": 102,
   "id": "192f7ba3",
   "metadata": {},
   "outputs": [],
   "source": [
    "my_tuple = ([1, 2, 3], (4, 5, 6))"
   ]
  },
  {
   "cell_type": "code",
   "execution_count": 103,
   "id": "ae4945d2",
   "metadata": {},
   "outputs": [
    {
     "data": {
      "text/plain": [
       "[1, 2, 3]"
      ]
     },
     "execution_count": 103,
     "metadata": {},
     "output_type": "execute_result"
    }
   ],
   "source": [
    " my_tuple[0]"
   ]
  },
  {
   "cell_type": "code",
   "execution_count": 104,
   "id": "5d597c52",
   "metadata": {},
   "outputs": [
    {
     "data": {
      "text/plain": [
       "(4, 5, 6)"
      ]
     },
     "execution_count": 104,
     "metadata": {},
     "output_type": "execute_result"
    }
   ],
   "source": [
    "my_tuple[1]"
   ]
  },
  {
   "cell_type": "code",
   "execution_count": 105,
   "id": "2b7fad71",
   "metadata": {},
   "outputs": [
    {
     "data": {
      "text/plain": [
       "(4, 5, 6, 7, 8, 9, 10)"
      ]
     },
     "execution_count": 105,
     "metadata": {},
     "output_type": "execute_result"
    }
   ],
   "source": [
    "my_tuple = (4, 5, 6, 7, 8, 9, 10)\n",
    "my_tuple"
   ]
  },
  {
   "cell_type": "code",
   "execution_count": 106,
   "id": "d8c93e26",
   "metadata": {},
   "outputs": [
    {
     "data": {
      "text/plain": [
       "(4, 5, 6, 7, 8)"
      ]
     },
     "execution_count": 106,
     "metadata": {},
     "output_type": "execute_result"
    }
   ],
   "source": [
    "a=my_tuple[:5]\n",
    "a"
   ]
  },
  {
   "cell_type": "code",
   "execution_count": 107,
   "id": "d2ccf310",
   "metadata": {},
   "outputs": [
    {
     "data": {
      "text/plain": [
       "(4, 5, 6, 7, 8, 9, 10)"
      ]
     },
     "execution_count": 107,
     "metadata": {},
     "output_type": "execute_result"
    }
   ],
   "source": [
    "b=my_tuple[:]\n",
    "b"
   ]
  },
  {
   "cell_type": "code",
   "execution_count": 108,
   "id": "88ef3e95",
   "metadata": {},
   "outputs": [
    {
     "data": {
      "text/plain": [
       "{4, 5, 6, 7, 8, 9, 10}"
      ]
     },
     "execution_count": 108,
     "metadata": {},
     "output_type": "execute_result"
    }
   ],
   "source": [
    "z=a+b\n",
    "set(z)"
   ]
  },
  {
   "cell_type": "code",
   "execution_count": 109,
   "id": "fbf5c128",
   "metadata": {},
   "outputs": [
    {
     "data": {
      "text/plain": [
       "(7, 8, 9, 10)"
      ]
     },
     "execution_count": 109,
     "metadata": {},
     "output_type": "execute_result"
    }
   ],
   "source": [
    " my_tuple[3:8]"
   ]
  },
  {
   "cell_type": "code",
   "execution_count": 110,
   "id": "e92ffc11",
   "metadata": {},
   "outputs": [
    {
     "data": {
      "text/plain": [
       "(6, 8, 10)"
      ]
     },
     "execution_count": 110,
     "metadata": {},
     "output_type": "execute_result"
    }
   ],
   "source": [
    "my_tuple[2:9:2]"
   ]
  },
  {
   "cell_type": "code",
   "execution_count": 111,
   "id": "297d14cf",
   "metadata": {},
   "outputs": [
    {
     "data": {
      "text/plain": [
       "(4, 5, 6, 7, 8, 9, 10)"
      ]
     },
     "execution_count": 111,
     "metadata": {},
     "output_type": "execute_result"
    }
   ],
   "source": [
    "my_tuple[:8]"
   ]
  },
  {
   "cell_type": "markdown",
   "id": "41062be8",
   "metadata": {},
   "source": [
    "# Tuple Methods"
   ]
  },
  {
   "cell_type": "code",
   "execution_count": 112,
   "id": "efb13fcf",
   "metadata": {},
   "outputs": [],
   "source": [
    "my_tuple = (4, 4, 5, 6, 6, 7, 8, 9, 10)"
   ]
  },
  {
   "cell_type": "code",
   "execution_count": 113,
   "id": "68df4e14",
   "metadata": {},
   "outputs": [
    {
     "data": {
      "text/plain": [
       "2"
      ]
     },
     "execution_count": 113,
     "metadata": {},
     "output_type": "execute_result"
    }
   ],
   "source": [
    "my_tuple.count(6)"
   ]
  },
  {
   "cell_type": "code",
   "execution_count": 114,
   "id": "a943c6c2",
   "metadata": {},
   "outputs": [
    {
     "data": {
      "text/plain": [
       "5"
      ]
     },
     "execution_count": 114,
     "metadata": {},
     "output_type": "execute_result"
    }
   ],
   "source": [
    "my_tuple.index(7)"
   ]
  },
  {
   "cell_type": "code",
   "execution_count": 115,
   "id": "437d2277",
   "metadata": {},
   "outputs": [
    {
     "name": "stdout",
     "output_type": "stream",
     "text": [
      "2 1\n"
     ]
    }
   ],
   "source": [
    "## swap the two numbers\n",
    "a = 1\n",
    "b = 2\n",
    "\n",
    "# Swap the values\n",
    "a,b=b,a\n",
    "print(a,b)"
   ]
  },
  {
   "cell_type": "code",
   "execution_count": 116,
   "id": "8432f727",
   "metadata": {},
   "outputs": [
    {
     "name": "stdout",
     "output_type": "stream",
     "text": [
      "Value of x: 50\n",
      "Value of y: 10\n"
     ]
    }
   ],
   "source": [
    "x = 10\n",
    "y = 50\n",
    " \n",
    "# Swapping of two variables\n",
    "# Using third variable\n",
    "temp = x\n",
    "x = y\n",
    "y = temp\n",
    " \n",
    "print(\"Value of x:\", x)\n",
    "print(\"Value of y:\", y)"
   ]
  },
  {
   "cell_type": "code",
   "execution_count": 117,
   "id": "69468cf5",
   "metadata": {},
   "outputs": [
    {
     "name": "stdout",
     "output_type": "stream",
     "text": [
      "[1, 1, 2, 3, 5, 8, 13, 21, 34, 55, 89, 144, 233, 377, 610] "
     ]
    }
   ],
   "source": [
    "#n=int(input('enter the no of values : '))\n",
    "n=15\n",
    "a=1\n",
    "b=1\n",
    "output=[]\n",
    "for i in range(n):\n",
    "    output.append(a)\n",
    "    a,b=b,a+b\n",
    "print(output,end=' ')"
   ]
  },
  {
   "cell_type": "markdown",
   "id": "2e2e7d27",
   "metadata": {},
   "source": [
    "# Dictionaries in Python\n",
    "Now let's start diving into dictionaries. This built-in data structure lets us create pairs of values \n",
    "where one value is associated with another one.\n",
    "\n",
    "To define a dictionary in Python, we use curly brackets {} with the key-value pairs separated by a comma.\n",
    "\n",
    "The key is separated from the value with a colon :, like this:"
   ]
  },
  {
   "cell_type": "code",
   "execution_count": null,
   "id": "8bcdc85e",
   "metadata": {},
   "outputs": [],
   "source": []
  },
  {
   "cell_type": "code",
   "execution_count": 118,
   "id": "60844b56",
   "metadata": {},
   "outputs": [
    {
     "name": "stdout",
     "output_type": "stream",
     "text": [
      "[1, 2]\n"
     ]
    }
   ],
   "source": [
    "my_dict = {\"a\":[1,2], \"b\": [3,4], \"c\": [5,6], \"d\": [7,8]}\n",
    "\n",
    "print(my_dict[\"a\"])"
   ]
  },
  {
   "cell_type": "code",
   "execution_count": 119,
   "id": "68a0d750",
   "metadata": {},
   "outputs": [
    {
     "data": {
      "text/plain": [
       "dict_items([('a', [1, 2]), ('b', [3, 4]), ('c', [5, 6]), ('d', [7, 8])])"
      ]
     },
     "execution_count": 119,
     "metadata": {},
     "output_type": "execute_result"
    }
   ],
   "source": [
    "my_dict.items()"
   ]
  },
  {
   "cell_type": "code",
   "execution_count": 120,
   "id": "e3fd58ff",
   "metadata": {},
   "outputs": [
    {
     "data": {
      "text/plain": [
       "dict_values([[1, 2], [3, 4], [5, 6], [7, 8]])"
      ]
     },
     "execution_count": 120,
     "metadata": {},
     "output_type": "execute_result"
    }
   ],
   "source": [
    "my_dict.values()"
   ]
  },
  {
   "cell_type": "code",
   "execution_count": 121,
   "id": "8ee3dd30",
   "metadata": {},
   "outputs": [
    {
     "data": {
      "text/plain": [
       "dict_keys(['a', 'b', 'c', 'd'])"
      ]
     },
     "execution_count": 121,
     "metadata": {},
     "output_type": "execute_result"
    }
   ],
   "source": [
    "my_dict.keys()"
   ]
  },
  {
   "cell_type": "code",
   "execution_count": 122,
   "id": "96ad2dc3",
   "metadata": {},
   "outputs": [
    {
     "data": {
      "text/plain": [
       "[1, 2]"
      ]
     },
     "execution_count": 122,
     "metadata": {},
     "output_type": "execute_result"
    }
   ],
   "source": [
    "my_dict.get('a')"
   ]
  },
  {
   "cell_type": "code",
   "execution_count": 123,
   "id": "b4e37646",
   "metadata": {},
   "outputs": [
    {
     "name": "stdout",
     "output_type": "stream",
     "text": [
      "a 1\n",
      "b 3\n",
      "c 5\n",
      "d 7\n"
     ]
    }
   ],
   "source": [
    "for i in my_dict:\n",
    "    print(i,my_dict[i][0])"
   ]
  },
  {
   "cell_type": "code",
   "execution_count": null,
   "id": "7ce9a2bd",
   "metadata": {},
   "outputs": [],
   "source": []
  },
  {
   "cell_type": "code",
   "execution_count": 124,
   "id": "25b1e4e7",
   "metadata": {},
   "outputs": [
    {
     "data": {
      "text/plain": [
       "{'c': [0, 1, 5], 'b': [2], 'a': [3, 4], 'd': [6]}"
      ]
     },
     "execution_count": 124,
     "metadata": {},
     "output_type": "execute_result"
    }
   ],
   "source": [
    "str1='aabbccd'\n",
    "str1=list(set(str1))\n",
    "str2=[[0,1,5],[2],[3,4],[6]]\n",
    "dct1=dict(zip(str1,str2))\n",
    "dct1"
   ]
  },
  {
   "cell_type": "code",
   "execution_count": 125,
   "id": "9303bfe8",
   "metadata": {},
   "outputs": [],
   "source": [
    "dct1['d']=[6]"
   ]
  },
  {
   "cell_type": "code",
   "execution_count": 126,
   "id": "aad5ff4a",
   "metadata": {},
   "outputs": [
    {
     "data": {
      "text/plain": [
       "{'c': [0, 1, 5], 'b': [2], 'a': [3, 4], 'd': [6]}"
      ]
     },
     "execution_count": 126,
     "metadata": {},
     "output_type": "execute_result"
    }
   ],
   "source": [
    "dct1"
   ]
  },
  {
   "cell_type": "markdown",
   "id": "7de20f93",
   "metadata": {},
   "source": [
    "# Update a Value in a Dictionary"
   ]
  },
  {
   "cell_type": "raw",
   "id": "ff2c811a",
   "metadata": {},
   "source": [
    "<variable_with_dictionary>[<key>] = <value>"
   ]
  },
  {
   "cell_type": "code",
   "execution_count": 127,
   "id": "285ba16a",
   "metadata": {},
   "outputs": [],
   "source": [
    "my_dict = {\"a\": 1, \"b\": 2, \"c\": 3, \"d\": 4}\n",
    "my_dict[\"a\"] = [0,1,5]"
   ]
  },
  {
   "cell_type": "code",
   "execution_count": 128,
   "id": "2363f741",
   "metadata": {},
   "outputs": [
    {
     "data": {
      "text/plain": [
       "{'a': [0, 1, 5], 'b': 2, 'c': 3, 'd': 4}"
      ]
     },
     "execution_count": 128,
     "metadata": {},
     "output_type": "execute_result"
    }
   ],
   "source": [
    "my_dict"
   ]
  },
  {
   "cell_type": "code",
   "execution_count": 132,
   "id": "d672ed31",
   "metadata": {},
   "outputs": [
    {
     "data": {
      "text/plain": [
       "{1: 4, 2: 5, 3: 6, 4: 7}"
      ]
     },
     "execution_count": 132,
     "metadata": {},
     "output_type": "execute_result"
    }
   ],
   "source": [
    "l1=[1,2,3,4]\n",
    "l2=[4,5,6,7]\n",
    "dct=dict(zip(l1,l2))\n",
    "dct"
   ]
  },
  {
   "cell_type": "code",
   "execution_count": 139,
   "id": "74340265",
   "metadata": {},
   "outputs": [
    {
     "data": {
      "text/plain": [
       "4"
      ]
     },
     "execution_count": 139,
     "metadata": {},
     "output_type": "execute_result"
    }
   ],
   "source": [
    "max(dct,key=dct.get)"
   ]
  },
  {
   "cell_type": "markdown",
   "id": "d84bb582",
   "metadata": {},
   "source": [
    "# Add a Key-Value Pair to a Dictionary"
   ]
  },
  {
   "cell_type": "raw",
   "id": "c21d01f6",
   "metadata": {},
   "source": [
    "<variable_with_dictionary>[<new_key>] = <value>"
   ]
  },
  {
   "cell_type": "code",
   "execution_count": 140,
   "id": "0975f7f9",
   "metadata": {},
   "outputs": [],
   "source": [
    "my_dict = {\"a\": 1, \"b\": 2, \"c\": 3, \"d\": 4}\n",
    "\n",
    "my_dict[\"e\"] = 5"
   ]
  },
  {
   "cell_type": "code",
   "execution_count": 141,
   "id": "d11aa259",
   "metadata": {},
   "outputs": [
    {
     "data": {
      "text/plain": [
       "{'a': 1, 'b': 2, 'c': 3, 'd': 4, 'e': 5}"
      ]
     },
     "execution_count": 141,
     "metadata": {},
     "output_type": "execute_result"
    }
   ],
   "source": [
    "my_dict"
   ]
  },
  {
   "cell_type": "code",
   "execution_count": 142,
   "id": "994aa241",
   "metadata": {},
   "outputs": [],
   "source": [
    "import pandas as pd"
   ]
  },
  {
   "cell_type": "code",
   "execution_count": 143,
   "id": "d57858a1",
   "metadata": {},
   "outputs": [],
   "source": [
    "l=[0]"
   ]
  },
  {
   "cell_type": "code",
   "execution_count": 144,
   "id": "89da4872",
   "metadata": {},
   "outputs": [
    {
     "data": {
      "text/html": [
       "<div>\n",
       "<style scoped>\n",
       "    .dataframe tbody tr th:only-of-type {\n",
       "        vertical-align: middle;\n",
       "    }\n",
       "\n",
       "    .dataframe tbody tr th {\n",
       "        vertical-align: top;\n",
       "    }\n",
       "\n",
       "    .dataframe thead th {\n",
       "        text-align: right;\n",
       "    }\n",
       "</style>\n",
       "<table border=\"1\" class=\"dataframe\">\n",
       "  <thead>\n",
       "    <tr style=\"text-align: right;\">\n",
       "      <th></th>\n",
       "      <th>a</th>\n",
       "      <th>b</th>\n",
       "      <th>c</th>\n",
       "      <th>d</th>\n",
       "      <th>e</th>\n",
       "    </tr>\n",
       "  </thead>\n",
       "  <tbody>\n",
       "    <tr>\n",
       "      <th>0</th>\n",
       "      <td>1</td>\n",
       "      <td>2</td>\n",
       "      <td>3</td>\n",
       "      <td>4</td>\n",
       "      <td>5</td>\n",
       "    </tr>\n",
       "  </tbody>\n",
       "</table>\n",
       "</div>"
      ],
      "text/plain": [
       "   a  b  c  d  e\n",
       "0  1  2  3  4  5"
      ]
     },
     "execution_count": 144,
     "metadata": {},
     "output_type": "execute_result"
    }
   ],
   "source": [
    "df=pd.DataFrame(my_dict,l)\n",
    "df"
   ]
  },
  {
   "cell_type": "code",
   "execution_count": null,
   "id": "14aeeb09",
   "metadata": {},
   "outputs": [],
   "source": []
  },
  {
   "cell_type": "code",
   "execution_count": 145,
   "id": "1bfa35db",
   "metadata": {},
   "outputs": [],
   "source": [
    "x=df.iloc[:,:-1]"
   ]
  },
  {
   "cell_type": "code",
   "execution_count": 146,
   "id": "ecfa5a68",
   "metadata": {},
   "outputs": [
    {
     "data": {
      "text/html": [
       "<div>\n",
       "<style scoped>\n",
       "    .dataframe tbody tr th:only-of-type {\n",
       "        vertical-align: middle;\n",
       "    }\n",
       "\n",
       "    .dataframe tbody tr th {\n",
       "        vertical-align: top;\n",
       "    }\n",
       "\n",
       "    .dataframe thead th {\n",
       "        text-align: right;\n",
       "    }\n",
       "</style>\n",
       "<table border=\"1\" class=\"dataframe\">\n",
       "  <thead>\n",
       "    <tr style=\"text-align: right;\">\n",
       "      <th></th>\n",
       "      <th>a</th>\n",
       "      <th>b</th>\n",
       "      <th>c</th>\n",
       "      <th>d</th>\n",
       "    </tr>\n",
       "  </thead>\n",
       "  <tbody>\n",
       "    <tr>\n",
       "      <th>0</th>\n",
       "      <td>1</td>\n",
       "      <td>2</td>\n",
       "      <td>3</td>\n",
       "      <td>4</td>\n",
       "    </tr>\n",
       "  </tbody>\n",
       "</table>\n",
       "</div>"
      ],
      "text/plain": [
       "   a  b  c  d\n",
       "0  1  2  3  4"
      ]
     },
     "execution_count": 146,
     "metadata": {},
     "output_type": "execute_result"
    }
   ],
   "source": [
    "x"
   ]
  },
  {
   "cell_type": "code",
   "execution_count": 147,
   "id": "a16b448b",
   "metadata": {},
   "outputs": [
    {
     "data": {
      "text/html": [
       "<div>\n",
       "<style scoped>\n",
       "    .dataframe tbody tr th:only-of-type {\n",
       "        vertical-align: middle;\n",
       "    }\n",
       "\n",
       "    .dataframe tbody tr th {\n",
       "        vertical-align: top;\n",
       "    }\n",
       "\n",
       "    .dataframe thead th {\n",
       "        text-align: right;\n",
       "    }\n",
       "</style>\n",
       "<table border=\"1\" class=\"dataframe\">\n",
       "  <thead>\n",
       "    <tr style=\"text-align: right;\">\n",
       "      <th></th>\n",
       "      <th>e</th>\n",
       "    </tr>\n",
       "  </thead>\n",
       "  <tbody>\n",
       "    <tr>\n",
       "      <th>0</th>\n",
       "      <td>5</td>\n",
       "    </tr>\n",
       "  </tbody>\n",
       "</table>\n",
       "</div>"
      ],
      "text/plain": [
       "   e\n",
       "0  5"
      ]
     },
     "execution_count": 147,
     "metadata": {},
     "output_type": "execute_result"
    }
   ],
   "source": [
    "y=df.iloc[:,4:5]\n",
    "y"
   ]
  },
  {
   "cell_type": "code",
   "execution_count": 148,
   "id": "1e192b38",
   "metadata": {},
   "outputs": [
    {
     "data": {
      "text/html": [
       "<div>\n",
       "<style scoped>\n",
       "    .dataframe tbody tr th:only-of-type {\n",
       "        vertical-align: middle;\n",
       "    }\n",
       "\n",
       "    .dataframe tbody tr th {\n",
       "        vertical-align: top;\n",
       "    }\n",
       "\n",
       "    .dataframe thead th {\n",
       "        text-align: right;\n",
       "    }\n",
       "</style>\n",
       "<table border=\"1\" class=\"dataframe\">\n",
       "  <thead>\n",
       "    <tr style=\"text-align: right;\">\n",
       "      <th></th>\n",
       "      <th>a</th>\n",
       "      <th>b</th>\n",
       "      <th>c</th>\n",
       "      <th>d</th>\n",
       "      <th>e</th>\n",
       "    </tr>\n",
       "  </thead>\n",
       "  <tbody>\n",
       "    <tr>\n",
       "      <th>0</th>\n",
       "      <td>1</td>\n",
       "      <td>2</td>\n",
       "      <td>3</td>\n",
       "      <td>4</td>\n",
       "      <td>5</td>\n",
       "    </tr>\n",
       "  </tbody>\n",
       "</table>\n",
       "</div>"
      ],
      "text/plain": [
       "   a  b  c  d  e\n",
       "0  1  2  3  4  5"
      ]
     },
     "execution_count": 148,
     "metadata": {},
     "output_type": "execute_result"
    }
   ],
   "source": [
    "result = pd.concat([x,y],axis=1)\n",
    "result"
   ]
  },
  {
   "cell_type": "code",
   "execution_count": null,
   "id": "22ac2c14",
   "metadata": {},
   "outputs": [],
   "source": [
    "result1 = pd.concat([x,y], axis=1)\n",
    "result1"
   ]
  },
  {
   "cell_type": "code",
   "execution_count": 126,
   "id": "a327b10c",
   "metadata": {},
   "outputs": [
    {
     "data": {
      "text/html": [
       "<div>\n",
       "<style scoped>\n",
       "    .dataframe tbody tr th:only-of-type {\n",
       "        vertical-align: middle;\n",
       "    }\n",
       "\n",
       "    .dataframe tbody tr th {\n",
       "        vertical-align: top;\n",
       "    }\n",
       "\n",
       "    .dataframe thead th {\n",
       "        text-align: right;\n",
       "    }\n",
       "</style>\n",
       "<table border=\"1\" class=\"dataframe\">\n",
       "  <thead>\n",
       "    <tr style=\"text-align: right;\">\n",
       "      <th></th>\n",
       "      <th>0</th>\n",
       "      <th>1</th>\n",
       "      <th>2</th>\n",
       "      <th>3</th>\n",
       "      <th>4</th>\n",
       "    </tr>\n",
       "  </thead>\n",
       "  <tbody>\n",
       "    <tr>\n",
       "      <th>0</th>\n",
       "      <td>-2.600547</td>\n",
       "      <td>-0.311205</td>\n",
       "      <td>0.204606</td>\n",
       "      <td>-1.516624</td>\n",
       "      <td>-1.392134</td>\n",
       "    </tr>\n",
       "    <tr>\n",
       "      <th>1</th>\n",
       "      <td>0.535800</td>\n",
       "      <td>0.636265</td>\n",
       "      <td>-0.830454</td>\n",
       "      <td>-0.670169</td>\n",
       "      <td>0.426256</td>\n",
       "    </tr>\n",
       "    <tr>\n",
       "      <th>2</th>\n",
       "      <td>-0.494944</td>\n",
       "      <td>2.097227</td>\n",
       "      <td>2.129522</td>\n",
       "      <td>-0.078934</td>\n",
       "      <td>0.936896</td>\n",
       "    </tr>\n",
       "    <tr>\n",
       "      <th>3</th>\n",
       "      <td>0.855270</td>\n",
       "      <td>-1.222177</td>\n",
       "      <td>1.347107</td>\n",
       "      <td>-0.215507</td>\n",
       "      <td>-0.601107</td>\n",
       "    </tr>\n",
       "  </tbody>\n",
       "</table>\n",
       "</div>"
      ],
      "text/plain": [
       "          0         1         2         3         4\n",
       "0 -2.600547 -0.311205  0.204606 -1.516624 -1.392134\n",
       "1  0.535800  0.636265 -0.830454 -0.670169  0.426256\n",
       "2 -0.494944  2.097227  2.129522 -0.078934  0.936896\n",
       "3  0.855270 -1.222177  1.347107 -0.215507 -0.601107"
      ]
     },
     "execution_count": 126,
     "metadata": {},
     "output_type": "execute_result"
    }
   ],
   "source": [
    "from numpy.random import randn as rn\n",
    "df1=pd.DataFrame(rn(4,5))\n",
    "df1"
   ]
  },
  {
   "cell_type": "code",
   "execution_count": 127,
   "id": "ea0383a3",
   "metadata": {},
   "outputs": [
    {
     "data": {
      "text/html": [
       "<div>\n",
       "<style scoped>\n",
       "    .dataframe tbody tr th:only-of-type {\n",
       "        vertical-align: middle;\n",
       "    }\n",
       "\n",
       "    .dataframe tbody tr th {\n",
       "        vertical-align: top;\n",
       "    }\n",
       "\n",
       "    .dataframe thead th {\n",
       "        text-align: right;\n",
       "    }\n",
       "</style>\n",
       "<table border=\"1\" class=\"dataframe\">\n",
       "  <thead>\n",
       "    <tr style=\"text-align: right;\">\n",
       "      <th></th>\n",
       "      <th>0</th>\n",
       "      <th>1</th>\n",
       "      <th>2</th>\n",
       "      <th>3</th>\n",
       "    </tr>\n",
       "  </thead>\n",
       "  <tbody>\n",
       "    <tr>\n",
       "      <th>0</th>\n",
       "      <td>-2.600547</td>\n",
       "      <td>-0.311205</td>\n",
       "      <td>0.204606</td>\n",
       "      <td>-1.516624</td>\n",
       "    </tr>\n",
       "    <tr>\n",
       "      <th>1</th>\n",
       "      <td>0.535800</td>\n",
       "      <td>0.636265</td>\n",
       "      <td>-0.830454</td>\n",
       "      <td>-0.670169</td>\n",
       "    </tr>\n",
       "    <tr>\n",
       "      <th>2</th>\n",
       "      <td>-0.494944</td>\n",
       "      <td>2.097227</td>\n",
       "      <td>2.129522</td>\n",
       "      <td>-0.078934</td>\n",
       "    </tr>\n",
       "    <tr>\n",
       "      <th>3</th>\n",
       "      <td>0.855270</td>\n",
       "      <td>-1.222177</td>\n",
       "      <td>1.347107</td>\n",
       "      <td>-0.215507</td>\n",
       "    </tr>\n",
       "  </tbody>\n",
       "</table>\n",
       "</div>"
      ],
      "text/plain": [
       "          0         1         2         3\n",
       "0 -2.600547 -0.311205  0.204606 -1.516624\n",
       "1  0.535800  0.636265 -0.830454 -0.670169\n",
       "2 -0.494944  2.097227  2.129522 -0.078934\n",
       "3  0.855270 -1.222177  1.347107 -0.215507"
      ]
     },
     "execution_count": 127,
     "metadata": {},
     "output_type": "execute_result"
    }
   ],
   "source": [
    "x=df1.iloc[:,:-1]\n",
    "x"
   ]
  },
  {
   "cell_type": "code",
   "execution_count": 128,
   "id": "f5b727c8",
   "metadata": {},
   "outputs": [
    {
     "data": {
      "text/html": [
       "<div>\n",
       "<style scoped>\n",
       "    .dataframe tbody tr th:only-of-type {\n",
       "        vertical-align: middle;\n",
       "    }\n",
       "\n",
       "    .dataframe tbody tr th {\n",
       "        vertical-align: top;\n",
       "    }\n",
       "\n",
       "    .dataframe thead th {\n",
       "        text-align: right;\n",
       "    }\n",
       "</style>\n",
       "<table border=\"1\" class=\"dataframe\">\n",
       "  <thead>\n",
       "    <tr style=\"text-align: right;\">\n",
       "      <th></th>\n",
       "      <th>4</th>\n",
       "    </tr>\n",
       "  </thead>\n",
       "  <tbody>\n",
       "    <tr>\n",
       "      <th>0</th>\n",
       "      <td>-1.392134</td>\n",
       "    </tr>\n",
       "    <tr>\n",
       "      <th>1</th>\n",
       "      <td>0.426256</td>\n",
       "    </tr>\n",
       "    <tr>\n",
       "      <th>2</th>\n",
       "      <td>0.936896</td>\n",
       "    </tr>\n",
       "    <tr>\n",
       "      <th>3</th>\n",
       "      <td>-0.601107</td>\n",
       "    </tr>\n",
       "  </tbody>\n",
       "</table>\n",
       "</div>"
      ],
      "text/plain": [
       "          4\n",
       "0 -1.392134\n",
       "1  0.426256\n",
       "2  0.936896\n",
       "3 -0.601107"
      ]
     },
     "execution_count": 128,
     "metadata": {},
     "output_type": "execute_result"
    }
   ],
   "source": [
    "y=df1.drop(x,axis=1)\n",
    "y"
   ]
  },
  {
   "cell_type": "code",
   "execution_count": 129,
   "id": "5b94ffe8",
   "metadata": {},
   "outputs": [
    {
     "data": {
      "text/html": [
       "<div>\n",
       "<style scoped>\n",
       "    .dataframe tbody tr th:only-of-type {\n",
       "        vertical-align: middle;\n",
       "    }\n",
       "\n",
       "    .dataframe tbody tr th {\n",
       "        vertical-align: top;\n",
       "    }\n",
       "\n",
       "    .dataframe thead th {\n",
       "        text-align: right;\n",
       "    }\n",
       "</style>\n",
       "<table border=\"1\" class=\"dataframe\">\n",
       "  <thead>\n",
       "    <tr style=\"text-align: right;\">\n",
       "      <th></th>\n",
       "      <th>0</th>\n",
       "      <th>1</th>\n",
       "      <th>2</th>\n",
       "      <th>3</th>\n",
       "      <th>4</th>\n",
       "    </tr>\n",
       "  </thead>\n",
       "  <tbody>\n",
       "    <tr>\n",
       "      <th>0</th>\n",
       "      <td>-2.600547</td>\n",
       "      <td>-0.311205</td>\n",
       "      <td>0.204606</td>\n",
       "      <td>-1.516624</td>\n",
       "      <td>-1.392134</td>\n",
       "    </tr>\n",
       "    <tr>\n",
       "      <th>1</th>\n",
       "      <td>0.535800</td>\n",
       "      <td>0.636265</td>\n",
       "      <td>-0.830454</td>\n",
       "      <td>-0.670169</td>\n",
       "      <td>0.426256</td>\n",
       "    </tr>\n",
       "    <tr>\n",
       "      <th>2</th>\n",
       "      <td>-0.494944</td>\n",
       "      <td>2.097227</td>\n",
       "      <td>2.129522</td>\n",
       "      <td>-0.078934</td>\n",
       "      <td>0.936896</td>\n",
       "    </tr>\n",
       "    <tr>\n",
       "      <th>3</th>\n",
       "      <td>0.855270</td>\n",
       "      <td>-1.222177</td>\n",
       "      <td>1.347107</td>\n",
       "      <td>-0.215507</td>\n",
       "      <td>-0.601107</td>\n",
       "    </tr>\n",
       "  </tbody>\n",
       "</table>\n",
       "</div>"
      ],
      "text/plain": [
       "          0         1         2         3         4\n",
       "0 -2.600547 -0.311205  0.204606 -1.516624 -1.392134\n",
       "1  0.535800  0.636265 -0.830454 -0.670169  0.426256\n",
       "2 -0.494944  2.097227  2.129522 -0.078934  0.936896\n",
       "3  0.855270 -1.222177  1.347107 -0.215507 -0.601107"
      ]
     },
     "execution_count": 129,
     "metadata": {},
     "output_type": "execute_result"
    }
   ],
   "source": [
    "df2=pd.concat([x,y],axis=1,join='outer')\n",
    "df2"
   ]
  },
  {
   "cell_type": "code",
   "execution_count": null,
   "id": "92352415",
   "metadata": {},
   "outputs": [],
   "source": []
  },
  {
   "cell_type": "markdown",
   "id": "95c536ea",
   "metadata": {},
   "source": [
    "# Delete a Key-Value Pair in a Dictionary"
   ]
  },
  {
   "cell_type": "raw",
   "id": "ff739301",
   "metadata": {},
   "source": [
    "To delete a key-value pair, we use the del statement:"
   ]
  },
  {
   "cell_type": "code",
   "execution_count": 130,
   "id": "8324774b",
   "metadata": {},
   "outputs": [],
   "source": [
    "my_dict = {\"a\": 1, \"b\": 2, \"c\": 3, \"d\": 4}\n",
    "\n",
    "del my_dict[\"c\"]"
   ]
  },
  {
   "cell_type": "code",
   "execution_count": 131,
   "id": "3c83995e",
   "metadata": {},
   "outputs": [
    {
     "data": {
      "text/plain": [
       "{'a': 1, 'b': 2, 'd': 4}"
      ]
     },
     "execution_count": 131,
     "metadata": {},
     "output_type": "execute_result"
    }
   ],
   "source": [
    "my_dict"
   ]
  },
  {
   "cell_type": "markdown",
   "id": "fe6beb8f",
   "metadata": {},
   "source": [
    "# Dictionary Methods"
   ]
  },
  {
   "cell_type": "code",
   "execution_count": 132,
   "id": "ed895e74",
   "metadata": {},
   "outputs": [],
   "source": [
    "my_dict = {\"a\": 1, \"b\": 2, \"c\": 3, \"d\": 4}"
   ]
  },
  {
   "cell_type": "code",
   "execution_count": 133,
   "id": "e97ddd42",
   "metadata": {},
   "outputs": [
    {
     "name": "stdout",
     "output_type": "stream",
     "text": [
      "4\n"
     ]
    },
    {
     "ename": "NameError",
     "evalue": "name 'NOTHING' is not defined",
     "output_type": "error",
     "traceback": [
      "\u001b[1;31m---------------------------------------------------------------------------\u001b[0m",
      "\u001b[1;31mNameError\u001b[0m                                 Traceback (most recent call last)",
      "\u001b[1;32m~\\AppData\\Local\\Temp\\ipykernel_13212\\738732447.py\u001b[0m in \u001b[0;36m<module>\u001b[1;34m\u001b[0m\n\u001b[0;32m      1\u001b[0m \u001b[0mtopping\u001b[0m\u001b[1;33m=\u001b[0m\u001b[0minput\u001b[0m\u001b[1;33m(\u001b[0m\u001b[1;33m)\u001b[0m\u001b[1;33m\u001b[0m\u001b[1;33m\u001b[0m\u001b[0m\n\u001b[1;32m----> 2\u001b[1;33m \u001b[0mtopping\u001b[0m \u001b[1;33m=\u001b[0m \u001b[0mmy_dict\u001b[0m\u001b[1;33m.\u001b[0m\u001b[0mget\u001b[0m\u001b[1;33m(\u001b[0m\u001b[0mtopping\u001b[0m\u001b[1;33m)\u001b[0m \u001b[1;32mif\u001b[0m \u001b[0mtopping\u001b[0m \u001b[1;32mand\u001b[0m \u001b[0mtopping\u001b[0m\u001b[1;33m.\u001b[0m\u001b[0misalpha\u001b[0m\u001b[1;33m(\u001b[0m\u001b[1;33m)\u001b[0m \u001b[1;32melse\u001b[0m \u001b[0mNOTHING\u001b[0m\u001b[1;33m\u001b[0m\u001b[1;33m\u001b[0m\u001b[0m\n\u001b[0m",
      "\u001b[1;31mNameError\u001b[0m: name 'NOTHING' is not defined"
     ]
    }
   ],
   "source": [
    "topping=input()\n",
    "topping = my_dict.get(topping) if topping and topping.isalpha() else NOTHING"
   ]
  },
  {
   "cell_type": "code",
   "execution_count": 134,
   "id": "bb3d1417",
   "metadata": {},
   "outputs": [
    {
     "data": {
      "text/plain": [
       "3"
      ]
     },
     "execution_count": 134,
     "metadata": {},
     "output_type": "execute_result"
    }
   ],
   "source": [
    "my_dict.get(\"c\")"
   ]
  },
  {
   "cell_type": "code",
   "execution_count": 135,
   "id": "324cff57",
   "metadata": {},
   "outputs": [
    {
     "data": {
      "text/plain": [
       "dict_items([('a', 1), ('b', 2), ('c', 3), ('d', 4)])"
      ]
     },
     "execution_count": 135,
     "metadata": {},
     "output_type": "execute_result"
    }
   ],
   "source": [
    "my_dict.items()"
   ]
  },
  {
   "cell_type": "code",
   "execution_count": 136,
   "id": "efce5d70",
   "metadata": {},
   "outputs": [
    {
     "data": {
      "text/plain": [
       "dict_keys(['a', 'b', 'c', 'd'])"
      ]
     },
     "execution_count": 136,
     "metadata": {},
     "output_type": "execute_result"
    }
   ],
   "source": [
    "my_dict.keys()"
   ]
  },
  {
   "cell_type": "code",
   "execution_count": 137,
   "id": "38865b21",
   "metadata": {},
   "outputs": [
    {
     "data": {
      "text/plain": [
       "4"
      ]
     },
     "execution_count": 137,
     "metadata": {},
     "output_type": "execute_result"
    }
   ],
   "source": [
    "my_dict.pop(\"d\")"
   ]
  },
  {
   "cell_type": "code",
   "execution_count": 138,
   "id": "c46fe188",
   "metadata": {},
   "outputs": [
    {
     "data": {
      "text/plain": [
       "('c', 3)"
      ]
     },
     "execution_count": 138,
     "metadata": {},
     "output_type": "execute_result"
    }
   ],
   "source": [
    "my_dict.popitem()"
   ]
  },
  {
   "cell_type": "code",
   "execution_count": 139,
   "id": "dbac9867",
   "metadata": {},
   "outputs": [
    {
     "data": {
      "text/plain": [
       "1"
      ]
     },
     "execution_count": 139,
     "metadata": {},
     "output_type": "execute_result"
    }
   ],
   "source": [
    "my_dict.setdefault(\"a\", 15)"
   ]
  },
  {
   "cell_type": "code",
   "execution_count": 140,
   "id": "0d45245a",
   "metadata": {},
   "outputs": [
    {
     "data": {
      "text/plain": [
       "{'a': 1, 'b': 2}"
      ]
     },
     "execution_count": 140,
     "metadata": {},
     "output_type": "execute_result"
    }
   ],
   "source": [
    "my_dict\n",
    "{'a': 1, 'b': 2}"
   ]
  },
  {
   "cell_type": "code",
   "execution_count": 141,
   "id": "0b759561",
   "metadata": {},
   "outputs": [
    {
     "data": {
      "text/plain": [
       "[2, 3]"
      ]
     },
     "execution_count": 141,
     "metadata": {},
     "output_type": "execute_result"
    }
   ],
   "source": [
    "my_dict.setdefault(\"f\", [2,3])"
   ]
  },
  {
   "cell_type": "code",
   "execution_count": 142,
   "id": "81fc4b08",
   "metadata": {},
   "outputs": [
    {
     "data": {
      "text/plain": [
       "{'a': 1, 'b': 2, 'f': [2, 3]}"
      ]
     },
     "execution_count": 142,
     "metadata": {},
     "output_type": "execute_result"
    }
   ],
   "source": [
    "my_dict"
   ]
  },
  {
   "cell_type": "code",
   "execution_count": 143,
   "id": "06720c15",
   "metadata": {},
   "outputs": [],
   "source": [
    "my_dict.update({\"c\": 3, \"d\": 4, \"e\": 5})"
   ]
  },
  {
   "cell_type": "code",
   "execution_count": 144,
   "id": "4cd59375",
   "metadata": {},
   "outputs": [
    {
     "data": {
      "text/plain": [
       "dict_values([1, 2, [2, 3], 3, 4, 5])"
      ]
     },
     "execution_count": 144,
     "metadata": {},
     "output_type": "execute_result"
    }
   ],
   "source": [
    "my_dict.values()"
   ]
  },
  {
   "cell_type": "code",
   "execution_count": 145,
   "id": "edba1fa4",
   "metadata": {},
   "outputs": [],
   "source": [
    "my_dict.clear()"
   ]
  },
  {
   "cell_type": "code",
   "execution_count": 146,
   "id": "b3e22cbb",
   "metadata": {},
   "outputs": [
    {
     "data": {
      "text/plain": [
       "{}"
      ]
     },
     "execution_count": 146,
     "metadata": {},
     "output_type": "execute_result"
    }
   ],
   "source": [
    "my_dict"
   ]
  },
  {
   "cell_type": "markdown",
   "id": "5c235444",
   "metadata": {},
   "source": [
    "# Python Operators"
   ]
  },
  {
   "cell_type": "markdown",
   "id": "0a293cc1",
   "metadata": {},
   "source": [
    "# Arithmetic Operators in Python"
   ]
  },
  {
   "cell_type": "markdown",
   "id": "58988e57",
   "metadata": {},
   "source": [
    "# Addition: +"
   ]
  },
  {
   "cell_type": "code",
   "execution_count": 147,
   "id": "ec246be7",
   "metadata": {},
   "outputs": [
    {
     "data": {
      "text/plain": [
       "1"
      ]
     },
     "execution_count": 147,
     "metadata": {},
     "output_type": "execute_result"
    }
   ],
   "source": [
    "5 + 6\n",
    "\n",
    "0 + 6\n",
    "\n",
    "3.4 + 5.7\n",
    "\n",
    "\n",
    "\"Hello\" + \", \" + \"World\"\n",
    "'Hello, World'\n",
    "\n",
    "True + False\n"
   ]
  },
  {
   "cell_type": "markdown",
   "id": "9555be1e",
   "metadata": {},
   "source": [
    "# Subtraction: -"
   ]
  },
  {
   "cell_type": "code",
   "execution_count": 148,
   "id": "e4f1b13f",
   "metadata": {},
   "outputs": [
    {
     "data": {
      "text/plain": [
       "-14.0"
      ]
     },
     "execution_count": 148,
     "metadata": {},
     "output_type": "execute_result"
    }
   ],
   "source": [
    "5 - 6\n",
    "\n",
    "10 - 3\n",
    "\n",
    "5 - 6\n",
    "\n",
    "4.5 - 5.6 - 2.3\n",
    "\n",
    "4.5 - 7\n",
    "\n",
    "-7.8 - 6.2\n"
   ]
  },
  {
   "cell_type": "markdown",
   "id": "a29a37ed",
   "metadata": {},
   "source": [
    "# Multiplication: *"
   ]
  },
  {
   "cell_type": "code",
   "execution_count": 149,
   "id": "771dadcc",
   "metadata": {},
   "outputs": [
    {
     "data": {
      "text/plain": [
       "''"
      ]
     },
     "execution_count": 149,
     "metadata": {},
     "output_type": "execute_result"
    }
   ],
   "source": [
    "5 * 6\n",
    "\n",
    "6 * 7\n",
    "\n",
    "10 * 100\n",
    "\n",
    "4 * 0\n",
    "\n",
    "3.4 *6.8\n",
    "\n",
    "4 * (-6)\n",
    "\n",
    "(-6) * (-8)\n",
    "\n",
    "\"Hello\" * 4\n",
    "\n",
    "\n",
    "\"Hello\" * 0\n",
    "\n",
    "\"Hello\" * -1"
   ]
  },
  {
   "cell_type": "code",
   "execution_count": 150,
   "id": "a25c6de7",
   "metadata": {},
   "outputs": [
    {
     "data": {
      "text/plain": [
       "''"
      ]
     },
     "execution_count": 150,
     "metadata": {},
     "output_type": "execute_result"
    }
   ],
   "source": [
    "'hello'*(-8)"
   ]
  },
  {
   "cell_type": "markdown",
   "id": "50c6ea6f",
   "metadata": {},
   "source": [
    "# Exponentiation: **"
   ]
  },
  {
   "cell_type": "code",
   "execution_count": 151,
   "id": "e24db34d",
   "metadata": {},
   "outputs": [
    {
     "data": {
      "text/plain": [
       "0.3333333333333333"
      ]
     },
     "execution_count": 151,
     "metadata": {},
     "output_type": "execute_result"
    }
   ],
   "source": [
    "6 ** 8\n",
    "\n",
    "5 ** 2\n",
    "\n",
    "4 ** 0\n",
    "\n",
    "16 ** (1/2)\n",
    "\n",
    "16 ** (0.5)\n",
    "\n",
    "125 ** (1/3)\n",
    "\n",
    "4.5 ** 2.3\n",
    "\n",
    "3 ** (-1)"
   ]
  },
  {
   "cell_type": "markdown",
   "id": "267b6950",
   "metadata": {},
   "source": [
    "# Division: /"
   ]
  },
  {
   "cell_type": "code",
   "execution_count": 152,
   "id": "43f9dfa6",
   "metadata": {},
   "outputs": [
    {
     "data": {
      "text/plain": [
       "-0.75"
      ]
     },
     "execution_count": 152,
     "metadata": {},
     "output_type": "execute_result"
    }
   ],
   "source": [
    "25 / 5\n",
    "5.0\n",
    "3 / 6\n",
    "0.5\n",
    "0 / 5\n",
    "0.0\n",
    "2467 / 4673\n",
    "0.52\n",
    "1 / 2\n",
    "0.5\n",
    "4.5 / 3.5\n",
    "1.28\n",
    "6 / 7\n",
    "0.85\n",
    "\n",
    "-3 / -4\n",
    "0.75\n",
    "\n",
    "3 / -4\n",
    "-0.75\n",
    "\n",
    "-3 / 4\n",
    "-0.75"
   ]
  },
  {
   "cell_type": "code",
   "execution_count": null,
   "id": "7f1dc3df",
   "metadata": {},
   "outputs": [],
   "source": []
  },
  {
   "cell_type": "markdown",
   "id": "47d166f7",
   "metadata": {},
   "source": [
    "# Integer Division: //"
   ]
  },
  {
   "cell_type": "code",
   "execution_count": 153,
   "id": "68daad7a",
   "metadata": {},
   "outputs": [
    {
     "data": {
      "text/plain": [
       "440"
      ]
     },
     "execution_count": 153,
     "metadata": {},
     "output_type": "execute_result"
    }
   ],
   "source": [
    "5 // 6\n",
    "0\n",
    "\n",
    "8 // 2\n",
    "4\n",
    "\n",
    "-4 // -5\n",
    "0\n",
    "\n",
    "-5 // 8\n",
    "-1\n",
    "\n",
    "0 // 5\n",
    "0\n",
    "\n",
    "156773 // 356\n",
    "440"
   ]
  },
  {
   "cell_type": "markdown",
   "id": "e29a998e",
   "metadata": {},
   "source": [
    "# Modulo: %"
   ]
  },
  {
   "cell_type": "code",
   "execution_count": 154,
   "id": "a6d616e2",
   "metadata": {},
   "outputs": [
    {
     "data": {
      "text/plain": [
       "2.3"
      ]
     },
     "execution_count": 154,
     "metadata": {},
     "output_type": "execute_result"
    }
   ],
   "source": [
    "1 % 5\n",
    "1\n",
    "\n",
    "2 % 5\n",
    "2\n",
    "\n",
    "3 % 5\n",
    "3\n",
    "\n",
    "4 % 5\n",
    "4\n",
    "\n",
    "5 % 5\n",
    "0\n",
    "\n",
    "5 % 8\n",
    "5\n",
    "\n",
    "3 % 1\n",
    "0\n",
    "\n",
    "15 % 3\n",
    "0\n",
    "\n",
    "17 % 8\n",
    "1\n",
    "\n",
    "2568 % 4\n",
    "0\n",
    "\n",
    "245 % 15\n",
    "5\n",
    "\n",
    "0 % 6\n",
    "0\n",
    "\n",
    "3.5 % 2.4\n",
    "1.1\n",
    "\n",
    "6.7 % -7.8\n",
    "-1.0999999999999996\n",
    "\n",
    "2.3 % 7.5\n",
    "2.3"
   ]
  },
  {
   "cell_type": "code",
   "execution_count": 155,
   "id": "125686ec",
   "metadata": {},
   "outputs": [
    {
     "data": {
      "text/plain": [
       "2.0"
      ]
     },
     "execution_count": 155,
     "metadata": {},
     "output_type": "execute_result"
    }
   ],
   "source": [
    "4/2"
   ]
  },
  {
   "cell_type": "markdown",
   "id": "ea0f9c66",
   "metadata": {},
   "source": [
    "# Comparison Operators"
   ]
  },
  {
   "cell_type": "code",
   "execution_count": 156,
   "id": "9f8a7949",
   "metadata": {},
   "outputs": [
    {
     "data": {
      "text/plain": [
       "False"
      ]
     },
     "execution_count": 156,
     "metadata": {},
     "output_type": "execute_result"
    }
   ],
   "source": [
    "5 > 6\n",
    "False\n",
    "\n",
    "10 > 8\n",
    "True\n",
    "\n",
    "8 > 8\n",
    "False\n",
    "\n",
    "8 >= 5\n",
    "True\n",
    "\n",
    "8 >= 8\n",
    "True\n",
    "\n",
    "5 < 6\n",
    "True\n",
    "\n",
    "10 < 8\n",
    "False\n",
    "\n",
    "8 < 8\n",
    "False\n",
    "\n",
    "8 <= 5\n",
    "False\n",
    "\n",
    "8 <= 8\n",
    "True\n",
    "\n",
    "8 <= 10\n",
    "True\n",
    "\n",
    "56 == 56\n",
    "True\n",
    "\n",
    "56 == 78\n",
    "False\n",
    "\n",
    "34 != 59\n",
    "True\n",
    "\n",
    "67 != 67\n",
    "False"
   ]
  },
  {
   "cell_type": "code",
   "execution_count": 157,
   "id": "c600b208",
   "metadata": {},
   "outputs": [
    {
     "data": {
      "text/plain": [
       "True"
      ]
     },
     "execution_count": 157,
     "metadata": {},
     "output_type": "execute_result"
    }
   ],
   "source": [
    "\"Hello\" > \"World\"\n",
    "False\n",
    "\n",
    "\"Hello\" >= \"World\"\n",
    "False\n",
    "\n",
    "\"Hello\" < \"World\"\n",
    "True\n",
    "\n",
    "\"Hello\" <= \"World\"\n",
    "True\n",
    "\n",
    "\"Hello\" == \"World\"\n",
    "False\n",
    "\n",
    "\"Hello\" != \"World\"\n",
    "True\n"
   ]
  },
  {
   "cell_type": "markdown",
   "id": "28ddf22d",
   "metadata": {},
   "source": [
    "# Comparison Operator Chaining"
   ]
  },
  {
   "cell_type": "code",
   "execution_count": 158,
   "id": "7693c778",
   "metadata": {},
   "outputs": [
    {
     "data": {
      "text/plain": [
       "True"
      ]
     },
     "execution_count": 158,
     "metadata": {},
     "output_type": "execute_result"
    }
   ],
   "source": [
    "a = 1\n",
    "b = 2\n",
    "c = 3\n",
    "\n",
    "a < b < c\n",
    "True\n",
    "\n",
    "a > b > c\n",
    "False\n",
    "\n",
    "a <= b <= c\n",
    "True\n",
    "\n",
    "a >= b >= c\n",
    "False\n",
    "\n",
    "a >= b > c\n",
    "False\n",
    "\n",
    "a <= b < c\n",
    "True"
   ]
  },
  {
   "cell_type": "markdown",
   "id": "1bda7fe2",
   "metadata": {},
   "source": [
    "# Logical Operators"
   ]
  },
  {
   "cell_type": "code",
   "execution_count": 159,
   "id": "658b565d",
   "metadata": {},
   "outputs": [
    {
     "data": {
      "text/plain": [
       "False"
      ]
     },
     "execution_count": 159,
     "metadata": {},
     "output_type": "execute_result"
    }
   ],
   "source": [
    "True and True\n",
    "True\n",
    "\n",
    "True and False\n",
    "False\n",
    "\n",
    "False and True\n",
    "False\n",
    "\n",
    "False and False\n",
    "False"
   ]
  },
  {
   "cell_type": "code",
   "execution_count": 160,
   "id": "d3ddffa4",
   "metadata": {},
   "outputs": [
    {
     "data": {
      "text/plain": [
       "False"
      ]
     },
     "execution_count": 160,
     "metadata": {},
     "output_type": "execute_result"
    }
   ],
   "source": [
    "True or True\n",
    "True\n",
    "\n",
    "True or False\n",
    "True\n",
    "\n",
    "False or True\n",
    "True\n",
    "False or False\n",
    "False"
   ]
  },
  {
   "cell_type": "code",
   "execution_count": 161,
   "id": "4c5ef454",
   "metadata": {},
   "outputs": [
    {
     "data": {
      "text/plain": [
       "True"
      ]
     },
     "execution_count": 161,
     "metadata": {},
     "output_type": "execute_result"
    }
   ],
   "source": [
    "not True\n",
    "False\n",
    "\n",
    "not False\n",
    "True"
   ]
  },
  {
   "cell_type": "code",
   "execution_count": 162,
   "id": "010ea98a",
   "metadata": {},
   "outputs": [
    {
     "data": {
      "text/plain": [
       "False"
      ]
     },
     "execution_count": 162,
     "metadata": {},
     "output_type": "execute_result"
    }
   ],
   "source": [
    "a = 6\n",
    "b = 3\n",
    "\n",
    "a < 6 or b > 2\n",
    "True\n",
    "\n",
    "a >= 3 and b >= 1\n",
    "True\n",
    "\n",
    "(a + b) == 9 and b > 1\n",
    "True\n",
    "\n",
    "((a % 3) < 2) and ((a + b) == 3)\n",
    "False"
   ]
  },
  {
   "cell_type": "markdown",
   "id": "7f723b83",
   "metadata": {},
   "source": [
    "# Assignment Operators"
   ]
  },
  {
   "cell_type": "code",
   "execution_count": 163,
   "id": "0fd1b8e3",
   "metadata": {},
   "outputs": [
    {
     "data": {
      "text/plain": [
       "1.0"
      ]
     },
     "execution_count": 163,
     "metadata": {},
     "output_type": "execute_result"
    }
   ],
   "source": [
    "x = 3\n",
    "x\n",
    "3\n",
    "\n",
    "x += 15 \n",
    "x\n",
    "18\n",
    "\n",
    "x -= 2\n",
    "x\n",
    "16\n",
    "\n",
    "x *= 2\n",
    "x\n",
    "32\n",
    "\n",
    "x %= 5\n",
    "x\n",
    "2\n",
    "\n",
    "x /= 1\n",
    "x\n",
    "2.0\n",
    "\n",
    "x //= 2\n",
    "x\n",
    "1.0\n",
    "\n",
    "x **= 5\n",
    "x\n",
    "1.0"
   ]
  },
  {
   "cell_type": "code",
   "execution_count": 164,
   "id": "461f618a",
   "metadata": {},
   "outputs": [
    {
     "name": "stdout",
     "output_type": "stream",
     "text": [
      "720\n"
     ]
    }
   ],
   "source": [
    "a=[1,2,3,4,5,6]\n",
    "product=1\n",
    "for i in a:\n",
    "    product*=i\n",
    "print(product)"
   ]
  },
  {
   "cell_type": "code",
   "execution_count": 165,
   "id": "65211d61",
   "metadata": {},
   "outputs": [
    {
     "name": "stdout",
     "output_type": "stream",
     "text": [
      "21\n"
     ]
    }
   ],
   "source": [
    "sum=0\n",
    "for i in a:\n",
    "    sum+=i\n",
    "print(sum)"
   ]
  },
  {
   "cell_type": "code",
   "execution_count": 166,
   "id": "d566b777",
   "metadata": {},
   "outputs": [
    {
     "name": "stdout",
     "output_type": "stream",
     "text": [
      "1\n",
      "4\n",
      "9\n",
      "16\n",
      "25\n",
      "36\n"
     ]
    }
   ],
   "source": [
    "for i in a:\n",
    "    print(i*i)"
   ]
  },
  {
   "cell_type": "code",
   "execution_count": 167,
   "id": "49994b9a",
   "metadata": {},
   "outputs": [],
   "source": [
    "a=5"
   ]
  },
  {
   "cell_type": "code",
   "execution_count": 170,
   "id": "f9c0e748",
   "metadata": {},
   "outputs": [
    {
     "name": "stdout",
     "output_type": "stream",
     "text": [
      "15\n"
     ]
    }
   ],
   "source": [
    "sum=0\n",
    "for i in range(1,a+1):\n",
    "    sum+=i\n",
    "print(sum)"
   ]
  },
  {
   "cell_type": "code",
   "execution_count": 171,
   "id": "a52a8673",
   "metadata": {},
   "outputs": [
    {
     "data": {
      "text/plain": [
       "[2, 4, 6, 8, 10, 12]"
      ]
     },
     "execution_count": 171,
     "metadata": {},
     "output_type": "execute_result"
    }
   ],
   "source": [
    "[x+x for x in range(1,7)]"
   ]
  },
  {
   "cell_type": "code",
   "execution_count": 172,
   "id": "73449306",
   "metadata": {},
   "outputs": [
    {
     "name": "stdout",
     "output_type": "stream",
     "text": [
      "21\n"
     ]
    }
   ],
   "source": [
    "sum=0\n",
    "for i in range(1,7):\n",
    "    sum=sum+i\n",
    "print(sum)"
   ]
  },
  {
   "cell_type": "markdown",
   "id": "438ef577",
   "metadata": {},
   "source": [
    "# Membership Operators"
   ]
  },
  {
   "cell_type": "code",
   "execution_count": 173,
   "id": "5125c18f",
   "metadata": {},
   "outputs": [
    {
     "data": {
      "text/plain": [
       "False"
      ]
     },
     "execution_count": 173,
     "metadata": {},
     "output_type": "execute_result"
    }
   ],
   "source": [
    ">>> 5 in [1, 2, 3, 4, 5]\n",
    "True\n",
    "\n",
    ">>> 8 in [1, 2, 3, 4, 5]\n",
    "False\n",
    "\n",
    ">>> 5 in (1, 2, 3, 4, 5)\n",
    "True\n",
    "\n",
    "8 in (1, 2, 3, 4, 5)\n",
    "False\n",
    "\n",
    "\"a\" in {\"a\": 1, \"b\": 2}\n",
    "True\n",
    "\n",
    "\"c\" in {\"a\": 1, \"b\": 2}\n",
    "False\n",
    "\n",
    "\"h\" in \"Hello\"\n",
    "False\n",
    "\n",
    "\"H\" in \"Hello\"\n",
    "True\n",
    "\n",
    "\n",
    "5 not in [1, 2, 3, 4, 5]\n",
    "False\n",
    "\n",
    "8 not in (1, 2, 3, 4, 5)\n",
    "True\n",
    "\n",
    "\"a\" not in {\"a\": 1, \"b\": 2}\n",
    "False\n",
    "\n",
    "\"c\" not in {\"a\": 1, \"b\": 2}\n",
    "True\n",
    "\n",
    "\"h\" not in \"Hello\"\n",
    "True\n",
    "\n",
    "\"H\" not in \"Hello\"\n",
    "False"
   ]
  },
  {
   "cell_type": "code",
   "execution_count": 174,
   "id": "ade961d3",
   "metadata": {},
   "outputs": [
    {
     "data": {
      "text/plain": [
       "True"
      ]
     },
     "execution_count": 174,
     "metadata": {},
     "output_type": "execute_result"
    }
   ],
   "source": [
    "message = \"Hello, World!\"\n",
    "\n",
    "\"e\" in message\n",
    "True"
   ]
  },
  {
   "cell_type": "markdown",
   "id": "4151d9c3",
   "metadata": {},
   "source": [
    "# Conditionals in Python"
   ]
  },
  {
   "cell_type": "code",
   "execution_count": 175,
   "id": "3bbc8385",
   "metadata": {},
   "outputs": [
    {
     "name": "stdout",
     "output_type": "stream",
     "text": [
      "False\n"
     ]
    }
   ],
   "source": [
    "x = 5\n",
    "\n",
    "if x > 9:\n",
    "    print(\"Hello, World!\")\n",
    "else:\n",
    "    print('False')"
   ]
  },
  {
   "cell_type": "code",
   "execution_count": 176,
   "id": "5006c902",
   "metadata": {},
   "outputs": [
    {
     "name": "stdout",
     "output_type": "stream",
     "text": [
      "This is my favorite color\n"
     ]
    }
   ],
   "source": [
    "color = \"Blue\"\n",
    "\n",
    "if color == \"Blue\":\n",
    "    print(\"This is my favorite color\")\n",
    "else:\n",
    "    print('Black')"
   ]
  },
  {
   "cell_type": "code",
   "execution_count": 177,
   "id": "ab880b01",
   "metadata": {},
   "outputs": [
    {
     "name": "stdout",
     "output_type": "stream",
     "text": [
      "End\n"
     ]
    }
   ],
   "source": [
    "x = 5\n",
    "\n",
    "if x>9:\n",
    "    print(\"Hello!\")\n",
    "print(\"End\")"
   ]
  },
  {
   "cell_type": "code",
   "execution_count": 178,
   "id": "3b32355e",
   "metadata": {},
   "outputs": [
    {
     "name": "stdout",
     "output_type": "stream",
     "text": [
      "Hello!\n",
      "End\n"
     ]
    }
   ],
   "source": [
    "x = 15\n",
    "\n",
    "if x>9:\n",
    "    print(\"Hello!\")\n",
    "\n",
    "print(\"End\")"
   ]
  },
  {
   "cell_type": "code",
   "execution_count": 179,
   "id": "c026a0a7",
   "metadata": {},
   "outputs": [],
   "source": [
    "favorite_season = \"Winter\"\n",
    "\n",
    "if favorite_season == \"Summer\":\n",
    "    print(\"That is my favorite season too!\")\n",
    "else:\n",
    "    ('its not favorite sesson')"
   ]
  },
  {
   "cell_type": "markdown",
   "id": "f752a96c",
   "metadata": {},
   "source": [
    "# if/else statements in Python"
   ]
  },
  {
   "cell_type": "code",
   "execution_count": 180,
   "id": "4caf748d",
   "metadata": {},
   "outputs": [
    {
     "name": "stdout",
     "output_type": "stream",
     "text": [
      "Hello!\n",
      "End\n"
     ]
    }
   ],
   "source": [
    "x = 15\n",
    "\n",
    "if x > 9:\n",
    "    print(\"Hello!\")\n",
    "else:\n",
    "    print(\"Bye!\")\n",
    "\n",
    "print(\"End\")"
   ]
  },
  {
   "cell_type": "code",
   "execution_count": 181,
   "id": "13288fad",
   "metadata": {},
   "outputs": [
    {
     "name": "stdout",
     "output_type": "stream",
     "text": [
      "Bye!\n",
      "End\n"
     ]
    }
   ],
   "source": [
    "x = 5\n",
    "\n",
    "if x > 9:\n",
    "    print(\"Hello!\")\n",
    "else:\n",
    "    print(\"Bye!\")\n",
    "\n",
    "print(\"End\")"
   ]
  },
  {
   "cell_type": "code",
   "execution_count": 182,
   "id": "d290607b",
   "metadata": {},
   "outputs": [
    {
     "name": "stdout",
     "output_type": "stream",
     "text": [
      "Hello!\n",
      "End\n"
     ]
    }
   ],
   "source": [
    "x = 5\n",
    "\n",
    "if x < 9:\n",
    "    print(\"Hello!\")\n",
    "elif x < 15:\n",
    "    print(\"It's great to see you\")\n",
    "else:\n",
    "    print(\"Bye!\")\n",
    "\n",
    "print(\"End\")"
   ]
  },
  {
   "cell_type": "code",
   "execution_count": 183,
   "id": "375f99ab",
   "metadata": {},
   "outputs": [
    {
     "name": "stdout",
     "output_type": "stream",
     "text": [
      "It's great to see you\n",
      "End\n"
     ]
    }
   ],
   "source": [
    "x = 13\n",
    "\n",
    "if x < 9:\n",
    "    print(\"Hello!\")\n",
    "elif x < 15:\n",
    "    print(\"It's great to see you\")\n",
    "else:\n",
    "    print(\"Bye!\")\n",
    "\n",
    "print(\"End\")"
   ]
  },
  {
   "cell_type": "code",
   "execution_count": 184,
   "id": "b466a891",
   "metadata": {},
   "outputs": [
    {
     "name": "stdout",
     "output_type": "stream",
     "text": [
      "Bye!\n",
      "End\n"
     ]
    }
   ],
   "source": [
    "x = 25\n",
    "\n",
    "if x < 9:\n",
    "    print(\"Hello!\")\n",
    "elif x < 15:\n",
    "    print(\"It's great to see you\")\n",
    "else:\n",
    "    print(\"Bye!\")\n",
    "\n",
    "print(\"End\")"
   ]
  },
  {
   "cell_type": "code",
   "execution_count": 185,
   "id": "e208291f",
   "metadata": {},
   "outputs": [
    {
     "name": "stdout",
     "output_type": "stream",
     "text": [
      "enter the session name: 4\n",
      "oho! its not my favorite season\n"
     ]
    }
   ],
   "source": [
    "def season(favorite_season):\n",
    "    \n",
    "    if favorite_season == \"winter\":\n",
    "        print(\"That is my favorite season too \")\n",
    "    elif favorite_season == \"summer\":\n",
    "        print(\"Summer is amazing for holiday vacation\")\n",
    "    elif favorite_season == \"spring\":\n",
    "        print(\"I love spring\")\n",
    "    else:\n",
    "        print(\"oho! its not my favorite season\")\n",
    "        \n",
    "x=input(\"enter the session name: \")\n",
    "\n",
    "season(x)"
   ]
  },
  {
   "cell_type": "code",
   "execution_count": 186,
   "id": "35a3075d",
   "metadata": {},
   "outputs": [
    {
     "data": {
      "text/plain": [
       "[[7], [7], [7]]"
      ]
     },
     "execution_count": 186,
     "metadata": {},
     "output_type": "execute_result"
    }
   ],
   "source": [
    "a=[[]]*3\n",
    "a[1].append(7)\n",
    "a"
   ]
  },
  {
   "cell_type": "markdown",
   "id": "2517078c",
   "metadata": {},
   "source": [
    "# For Loops in Python"
   ]
  },
  {
   "cell_type": "raw",
   "id": "9149c82b",
   "metadata": {},
   "source": [
    "for <loop_variable> in <iterable>:\n",
    "    <code>"
   ]
  },
  {
   "cell_type": "code",
   "execution_count": 187,
   "id": "d4862e56",
   "metadata": {},
   "outputs": [
    {
     "name": "stdout",
     "output_type": "stream",
     "text": [
      "2 4 6 8 10 12 14 16 18 20 "
     ]
    }
   ],
   "source": [
    "for j in range(1,11):\n",
    "    print(j * 2,end=' ')"
   ]
  },
  {
   "cell_type": "code",
   "execution_count": 188,
   "id": "4735e7a6",
   "metadata": {},
   "outputs": [
    {
     "name": "stdout",
     "output_type": "stream",
     "text": [
      "\n",
      "Hello \n",
      "Hello Hello \n",
      "Hello Hello Hello \n",
      "Hello Hello Hello Hello \n",
      "Hello Hello Hello Hello Hello \n",
      "Hello Hello Hello Hello Hello Hello \n",
      "Hello Hello Hello Hello Hello Hello Hello \n"
     ]
    }
   ],
   "source": [
    "for num in range(8):\n",
    "    print(\"Hello \" * num)"
   ]
  },
  {
   "cell_type": "code",
   "execution_count": 189,
   "id": "edab898a",
   "metadata": {},
   "outputs": [
    {
     "name": "stdout",
     "output_type": "stream",
     "text": [
      "0 = a\n",
      "1 = b\n",
      "2 = c\n",
      "3 = d\n"
     ]
    }
   ],
   "source": [
    "my_list = [\"a\", \"b\", \"c\", \"d\"]\n",
    "for i in range(len(my_list)):\n",
    "    print(i,'=',my_list[i])"
   ]
  },
  {
   "cell_type": "code",
   "execution_count": 190,
   "id": "75271723",
   "metadata": {},
   "outputs": [
    {
     "name": "stdout",
     "output_type": "stream",
     "text": [
      "2 4 6 8 10 12 14 16 18 20 "
     ]
    }
   ],
   "source": [
    "for i in range(1,11):\n",
    "    print(i*2,end=' ')"
   ]
  },
  {
   "cell_type": "code",
   "execution_count": 191,
   "id": "580b72fe",
   "metadata": {},
   "outputs": [
    {
     "data": {
      "text/plain": [
       "[2, 4, 6, 8, 10, 12, 14, 16, 18, 20]"
      ]
     },
     "execution_count": 191,
     "metadata": {},
     "output_type": "execute_result"
    }
   ],
   "source": [
    "[i*2 for i in range(1,11)]"
   ]
  },
  {
   "cell_type": "code",
   "execution_count": 192,
   "id": "c827e0bf",
   "metadata": {},
   "outputs": [
    {
     "name": "stdout",
     "output_type": "stream",
     "text": [
      "Python Python \n",
      "Python Python Python \n",
      "Python Python Python Python \n"
     ]
    }
   ],
   "source": [
    "for j in range(2, 5):\n",
    "    print(\"Python \" * j)"
   ]
  },
  {
   "cell_type": "code",
   "execution_count": 193,
   "id": "97f4eb1e",
   "metadata": {},
   "outputs": [
    {
     "data": {
      "text/plain": [
       "4"
      ]
     },
     "execution_count": 193,
     "metadata": {},
     "output_type": "execute_result"
    }
   ],
   "source": [
    "len(my_list)"
   ]
  },
  {
   "cell_type": "code",
   "execution_count": 194,
   "id": "73fb471f",
   "metadata": {},
   "outputs": [
    {
     "name": "stdout",
     "output_type": "stream",
     "text": [
      "c\n",
      "d\n"
     ]
    }
   ],
   "source": [
    "my_list = [\"a\", \"b\", \"c\", \"d\"]\n",
    "\n",
    "for i in range(2, len(my_list)):\n",
    "    print(my_list[i])"
   ]
  },
  {
   "cell_type": "code",
   "execution_count": 195,
   "id": "45f095b4",
   "metadata": {},
   "outputs": [
    {
     "data": {
      "text/plain": [
       "['a', 'b', 'cc', 'd']"
      ]
     },
     "execution_count": 195,
     "metadata": {},
     "output_type": "execute_result"
    }
   ],
   "source": [
    "my_list = [\"a\", \"b\", \"c\", \"d\"]\n",
    "\n",
    "for i in range(2, len(my_list)-1):\n",
    "    my_list[i] *= i\n",
    "my_list"
   ]
  },
  {
   "cell_type": "code",
   "execution_count": 196,
   "id": "c7326076",
   "metadata": {},
   "outputs": [
    {
     "name": "stdout",
     "output_type": "stream",
     "text": [
      "3 5 7 9 11 13 15 "
     ]
    }
   ],
   "source": [
    "for i in range(3, 16, 2):\n",
    "    print(i,end=' ')"
   ]
  },
  {
   "cell_type": "code",
   "execution_count": 197,
   "id": "2a4f7e6f",
   "metadata": {},
   "outputs": [
    {
     "name": "stdout",
     "output_type": "stream",
     "text": [
      "10 9 8 7 6 "
     ]
    }
   ],
   "source": [
    "for j in range(10, 5,-1):\n",
    "    print(j,end=' ')"
   ]
  },
  {
   "cell_type": "code",
   "execution_count": 198,
   "id": "4721785d",
   "metadata": {},
   "outputs": [
    {
     "name": "stdout",
     "output_type": "stream",
     "text": [
      "g\n",
      "f\n",
      "e\n",
      "d\n"
     ]
    }
   ],
   "source": [
    "my_list = [\"a\", \"b\", \"c\", \"d\", \"e\", \"f\", \"g\"]\n",
    "\n",
    "for i in range(len(my_list)-1, 2, -1):\n",
    "    print(my_list[i])"
   ]
  },
  {
   "cell_type": "code",
   "execution_count": 199,
   "id": "bef6b68a",
   "metadata": {},
   "outputs": [
    {
     "data": {
      "text/plain": [
       "3.5"
      ]
     },
     "execution_count": 199,
     "metadata": {},
     "output_type": "execute_result"
    }
   ],
   "source": [
    "len(my_list)/2"
   ]
  },
  {
   "cell_type": "code",
   "execution_count": 200,
   "id": "be258c8c",
   "metadata": {},
   "outputs": [
    {
     "data": {
      "text/plain": [
       "['a', 'd', 'b', 'e', 'c', 'f']"
      ]
     },
     "execution_count": 200,
     "metadata": {},
     "output_type": "execute_result"
    }
   ],
   "source": [
    "lst=[]\n",
    "for i in range(int(len(my_list)/2)):\n",
    "    lst.append(my_list[i])\n",
    "    lst.append(my_list[i+int(len(my_list)/2)])\n",
    "lst"
   ]
  },
  {
   "cell_type": "markdown",
   "id": "d83e236e",
   "metadata": {},
   "source": [
    "# How to Iterate over Iterables in Python\n",
    "We can iterate directly over iterables such as lists, tuples, dictionaries, strings, and files using for loops. \n",
    "We will get each one of their elements one at a time per iteration. \n",
    "This is very helpful to work with them directly."
   ]
  },
  {
   "cell_type": "code",
   "execution_count": 201,
   "id": "632890d4",
   "metadata": {},
   "outputs": [
    {
     "name": "stdout",
     "output_type": "stream",
     "text": [
      "H e l l o ,   W o r l d ! "
     ]
    }
   ],
   "source": [
    "message = \"Hello, World!\"\n",
    "\n",
    "for char in message:\n",
    "    print(char,end=' ')"
   ]
  },
  {
   "cell_type": "code",
   "execution_count": 202,
   "id": "a313b940",
   "metadata": {},
   "outputs": [
    {
     "name": "stdout",
     "output_type": "stream",
     "text": [
      "h\n",
      "e\n",
      "l\n",
      "l\n",
      "o\n"
     ]
    }
   ],
   "source": [
    "word = \"Hello\"\n",
    "\n",
    "for char in word.lower(): # calling the string method\n",
    "    print(char)"
   ]
  },
  {
   "cell_type": "markdown",
   "id": "ef7702d9",
   "metadata": {},
   "source": [
    "# Iterate Over Lists and Tuples"
   ]
  },
  {
   "cell_type": "code",
   "execution_count": 203,
   "id": "2df86f00",
   "metadata": {},
   "outputs": [
    {
     "name": "stdout",
     "output_type": "stream",
     "text": [
      "2\n",
      "3\n",
      "4\n",
      "5\n"
     ]
    }
   ],
   "source": [
    " my_list = [2, 3, 4, 5]\n",
    "\n",
    "for num in my_list:\n",
    "    print(num)"
   ]
  },
  {
   "cell_type": "code",
   "execution_count": 204,
   "id": "394c49ee",
   "metadata": {},
   "outputs": [
    {
     "name": "stdout",
     "output_type": "stream",
     "text": [
      "Even Odd Even Odd "
     ]
    }
   ],
   "source": [
    "my_list=(2, 3, 4, 5)\n",
    "\n",
    "for num in my_list:\n",
    "    if num % 2 == 0:\n",
    "        print(\"Even\",end=' ')\n",
    "    else:\n",
    "        print(\"Odd\",end=' ')"
   ]
  },
  {
   "cell_type": "markdown",
   "id": "aa41fd85",
   "metadata": {},
   "source": [
    "# Iterate Over the Keys, Values, and Key-Value Pairs of Dictionaries"
   ]
  },
  {
   "cell_type": "raw",
   "id": "865a9689",
   "metadata": {},
   "source": [
    "for <var> in <dictionary_variable>:\n",
    "    <code>"
   ]
  },
  {
   "cell_type": "code",
   "execution_count": 205,
   "id": "b56782d9",
   "metadata": {},
   "outputs": [
    {
     "name": "stdout",
     "output_type": "stream",
     "text": [
      "a --> 1\n",
      "b --> 2\n",
      "c --> 3\n"
     ]
    }
   ],
   "source": [
    "my_dict = {\"a\": 1, \"b\": 2, \"c\": 3}\n",
    "\n",
    "for key,value in my_dict.items():\n",
    "    print(key,'-->',value)"
   ]
  },
  {
   "cell_type": "raw",
   "id": "baa358c3",
   "metadata": {},
   "source": [
    "for <var> in <dictionary_variable>.values():\n",
    "    <code>"
   ]
  },
  {
   "cell_type": "code",
   "execution_count": 206,
   "id": "e26a3e71",
   "metadata": {},
   "outputs": [
    {
     "name": "stdout",
     "output_type": "stream",
     "text": [
      "1\n",
      "2\n",
      "3\n"
     ]
    }
   ],
   "source": [
    "my_dict = {\"a\": 1, \"b\": 2, \"c\": 3}\n",
    "\n",
    "for value in my_dict.values():\n",
    "    print(value)"
   ]
  },
  {
   "cell_type": "raw",
   "id": "ea16c80e",
   "metadata": {},
   "source": [
    "for <key>, <value> in <dictionary_variable>.items():\n",
    "    <code>"
   ]
  },
  {
   "cell_type": "code",
   "execution_count": 207,
   "id": "927a3720",
   "metadata": {},
   "outputs": [
    {
     "name": "stdout",
     "output_type": "stream",
     "text": [
      "a = 1\n",
      "b = 2\n",
      "c = 3\n"
     ]
    }
   ],
   "source": [
    "for key,value in my_dict.items():\n",
    "    print(key,'=',value)"
   ]
  },
  {
   "cell_type": "code",
   "execution_count": 208,
   "id": "53900448",
   "metadata": {},
   "outputs": [
    {
     "name": "stdout",
     "output_type": "stream",
     "text": [
      "('a', [1, 2, 3, 4])\n",
      "('b', 2)\n",
      "('c', 3)\n"
     ]
    }
   ],
   "source": [
    "my_dict = {\"a\": [1,2,3,4], \"b\": 2, \"c\": 3}\n",
    "\n",
    "for pair in my_dict.items():\n",
    "    print(pair)\n"
   ]
  },
  {
   "cell_type": "markdown",
   "id": "1b27f13d",
   "metadata": {},
   "source": [
    "# Break and Continue in Python"
   ]
  },
  {
   "cell_type": "code",
   "execution_count": 209,
   "id": "54953137",
   "metadata": {},
   "outputs": [
    {
     "name": "stdout",
     "output_type": "stream",
     "text": [
      "Odd: 1\n",
      "Even: 2\n",
      "break\n"
     ]
    }
   ],
   "source": [
    "my_list = [1, 2, 3, 4, 5]\n",
    "\n",
    "for elem in my_list:\n",
    "    if elem % 2 == 0:\n",
    "        print(\"\\nEven:\", elem,end='')\n",
    "        print(\"\\nbreak\")\n",
    "        break\n",
    "    else:\n",
    "        print(\"Odd:\", elem,end='')"
   ]
  },
  {
   "cell_type": "markdown",
   "id": "a9687655",
   "metadata": {},
   "source": [
    "# The Continue Statement"
   ]
  },
  {
   "cell_type": "code",
   "execution_count": 210,
   "id": "53c67d40",
   "metadata": {},
   "outputs": [
    {
     "name": "stdout",
     "output_type": "stream",
     "text": [
      "Odd: 1\n",
      "continue\n",
      "Odd: 3\n",
      "continue\n",
      "Odd: 5\n",
      "skip current values and continues\n"
     ]
    }
   ],
   "source": [
    " my_list = [1, 2, 3, 4, 5]\n",
    "\n",
    "for elem in my_list:\n",
    "    if elem % 2 == 0:\n",
    "        print(\"continue\")\n",
    "        continue\n",
    "    print(\"Odd:\", elem)\n",
    "else:\n",
    "    print(\"skip current values and continues\")"
   ]
  },
  {
   "cell_type": "markdown",
   "id": "fec83b84",
   "metadata": {},
   "source": [
    "# The zip() function in Python"
   ]
  },
  {
   "cell_type": "code",
   "execution_count": 211,
   "id": "22218bd1",
   "metadata": {},
   "outputs": [
    {
     "name": "stdout",
     "output_type": "stream",
     "text": [
      "[6, 8, 10, 12]\n"
     ]
    }
   ],
   "source": [
    "list1 = [1, 2, 3, 4]\n",
    "list2 = [5, 6, 7, 8,9,8,4]\n",
    "list3=[]\n",
    "for elem1, elem2 in zip(list1,list2):\n",
    "    list3.append(elem1+elem2)\n",
    "print(list3)"
   ]
  },
  {
   "cell_type": "code",
   "execution_count": 212,
   "id": "08c8c076",
   "metadata": {},
   "outputs": [
    {
     "data": {
      "text/plain": [
       "[1, 2, 3, 4, 5, 6, 7, 8, 9, 8, 4]"
      ]
     },
     "execution_count": 212,
     "metadata": {},
     "output_type": "execute_result"
    }
   ],
   "source": [
    "a=list1+list2\n",
    "a"
   ]
  },
  {
   "cell_type": "code",
   "execution_count": 213,
   "id": "8e28eeec",
   "metadata": {},
   "outputs": [
    {
     "name": "stdout",
     "output_type": "stream",
     "text": [
      "[6, 8, 10, 12]\n"
     ]
    }
   ],
   "source": [
    "z=zip(list1,list2)\n",
    "output=[]\n",
    "for i,j in z:\n",
    "    output.append(i+j)\n",
    "print(output)"
   ]
  },
  {
   "cell_type": "code",
   "execution_count": 214,
   "id": "75e15f9f",
   "metadata": {},
   "outputs": [
    {
     "name": "stdout",
     "output_type": "stream",
     "text": [
      "5 12 21 32 "
     ]
    }
   ],
   "source": [
    "z=zip(list1,list2)\n",
    "for i,j in z:\n",
    "    print(i*j,end=' ')"
   ]
  },
  {
   "cell_type": "code",
   "execution_count": 215,
   "id": "64101578",
   "metadata": {},
   "outputs": [
    {
     "data": {
      "text/plain": [
       "[5, 12, 21, 32]"
      ]
     },
     "execution_count": 215,
     "metadata": {},
     "output_type": "execute_result"
    }
   ],
   "source": [
    "list(map(lambda x,y:x*y,list1,list2))"
   ]
  },
  {
   "cell_type": "code",
   "execution_count": 216,
   "id": "0880c556",
   "metadata": {},
   "outputs": [
    {
     "name": "stdout",
     "output_type": "stream",
     "text": [
      "[6, 8, 10, 12]\n"
     ]
    }
   ],
   "source": [
    "lst3=[]\n",
    "for i,j in zip(list1,list2):\n",
    "    lst3.append(i+j)\n",
    "print(lst3)"
   ]
  },
  {
   "cell_type": "code",
   "execution_count": 217,
   "id": "ae577f3d",
   "metadata": {},
   "outputs": [
    {
     "data": {
      "text/plain": [
       "[1, 2, 3, 4]"
      ]
     },
     "execution_count": 217,
     "metadata": {},
     "output_type": "execute_result"
    }
   ],
   "source": [
    "list1"
   ]
  },
  {
   "cell_type": "code",
   "execution_count": 218,
   "id": "5eade765",
   "metadata": {},
   "outputs": [
    {
     "data": {
      "text/plain": [
       "10"
      ]
     },
     "execution_count": 218,
     "metadata": {},
     "output_type": "execute_result"
    }
   ],
   "source": [
    "from functools import reduce\n",
    "result=reduce(lambda x,y:x+y,list1)\n",
    "result"
   ]
  },
  {
   "cell_type": "code",
   "execution_count": 219,
   "id": "7905296e",
   "metadata": {},
   "outputs": [
    {
     "data": {
      "text/plain": [
       "[6, 8, 10, 12]"
      ]
     },
     "execution_count": 219,
     "metadata": {},
     "output_type": "execute_result"
    }
   ],
   "source": [
    "lst3=list(map(lambda x,y:x+y,list1,list2))\n",
    "lst3"
   ]
  },
  {
   "cell_type": "code",
   "execution_count": 220,
   "id": "27e7858d",
   "metadata": {},
   "outputs": [
    {
     "data": {
      "text/plain": [
       "[(1, 5), (2, 6), (3, 7), (4, 8)]"
      ]
     },
     "execution_count": 220,
     "metadata": {},
     "output_type": "execute_result"
    }
   ],
   "source": [
    "list(zip(list1,list2))"
   ]
  },
  {
   "cell_type": "code",
   "execution_count": 221,
   "id": "5bc177fc",
   "metadata": {},
   "outputs": [
    {
     "name": "stdout",
     "output_type": "stream",
     "text": [
      "1\n",
      "2\n",
      "3\n",
      "4\n"
     ]
    }
   ],
   "source": [
    "for i in list1:\n",
    "    print(i)"
   ]
  },
  {
   "cell_type": "markdown",
   "id": "87990020",
   "metadata": {},
   "source": [
    "# The enumerate() Function in Python\n",
    "You can also keep track of a counter while the loop runs with the enum() function. \n",
    "It is commonly used to iterate over a sequence and get the corresponding index."
   ]
  },
  {
   "cell_type": "code",
   "execution_count": 222,
   "id": "6dabc72d",
   "metadata": {},
   "outputs": [
    {
     "name": "stdout",
     "output_type": "stream",
     "text": [
      "0 5\n",
      "1 6\n",
      "2 7\n",
      "3 8\n"
     ]
    }
   ],
   "source": [
    "my_list=[5, 6, 7, 8]\n",
    "for i,elem in enumerate(my_list):\n",
    "    print(i, elem)"
   ]
  },
  {
   "cell_type": "code",
   "execution_count": 223,
   "id": "05f15dd2",
   "metadata": {},
   "outputs": [
    {
     "name": "stdout",
     "output_type": "stream",
     "text": [
      "0 H\n",
      "1 e\n",
      "2 l\n",
      "3 l\n",
      "4 o\n"
     ]
    }
   ],
   "source": [
    "word=\"Hello\"\n",
    "\n",
    "for i, char in enumerate(word):\n",
    "    print(i, char)"
   ]
  },
  {
   "cell_type": "code",
   "execution_count": 224,
   "id": "986acf7d",
   "metadata": {},
   "outputs": [
    {
     "data": {
      "text/plain": [
       "[15, 18, 21, 24]"
      ]
     },
     "execution_count": 224,
     "metadata": {},
     "output_type": "execute_result"
    }
   ],
   "source": [
    "my_list = [5, 6, 7, 8]\n",
    "\n",
    "for index, num in enumerate(my_list):\n",
    "    my_list[index] = num * 3\n",
    "my_list"
   ]
  },
  {
   "cell_type": "code",
   "execution_count": 225,
   "id": "6d5a06a9",
   "metadata": {},
   "outputs": [
    {
     "name": "stdout",
     "output_type": "stream",
     "text": [
      "0 H\n",
      "1 e\n",
      "2 l\n",
      "3 l\n",
      "4 o\n"
     ]
    }
   ],
   "source": [
    "word = \"Hello\"\n",
    "\n",
    "for i, char in enumerate(word):\n",
    "    print(i, char)"
   ]
  },
  {
   "cell_type": "code",
   "execution_count": 226,
   "id": "49770d8c",
   "metadata": {},
   "outputs": [
    {
     "name": "stdout",
     "output_type": "stream",
     "text": [
      "Not Found\n"
     ]
    }
   ],
   "source": [
    "my_list = [1, 2, 3, 4, 5]\n",
    "\n",
    "for elem in my_list:\n",
    "    if elem > 6:\n",
    "        print(\"Found\")\n",
    "        break\n",
    "else:\n",
    "    print(\"Not Found\")"
   ]
  },
  {
   "cell_type": "code",
   "execution_count": 227,
   "id": "abfbe742",
   "metadata": {},
   "outputs": [
    {
     "name": "stdout",
     "output_type": "stream",
     "text": [
      "Found\n"
     ]
    }
   ],
   "source": [
    "my_list = [1, 2, 3, 4, 5, 8] # Now the list has the value 8\n",
    "\n",
    "for elem in my_list:\n",
    "    if elem > 6:\n",
    "        print(\"Found\")\n",
    "        break\n",
    "else:\n",
    "    print(\"Not Found\")"
   ]
  },
  {
   "cell_type": "markdown",
   "id": "42eac1c5",
   "metadata": {},
   "source": [
    "# While Loops in Python"
   ]
  },
  {
   "cell_type": "raw",
   "id": "5bf28c63",
   "metadata": {},
   "source": [
    "while <condition>:\n",
    "    <code>"
   ]
  },
  {
   "cell_type": "code",
   "execution_count": 228,
   "id": "b279a160",
   "metadata": {},
   "outputs": [
    {
     "name": "stdout",
     "output_type": "stream",
     "text": [
      "6\n",
      "7\n",
      "8\n",
      "9\n",
      "10\n",
      "11\n",
      "12\n",
      "13\n",
      "14\n"
     ]
    }
   ],
   "source": [
    "x = 6\n",
    "\n",
    "while x < 15:\n",
    "    print(x)\n",
    "    x += 1"
   ]
  },
  {
   "cell_type": "code",
   "execution_count": 229,
   "id": "25e24f74",
   "metadata": {},
   "outputs": [
    {
     "name": "stdout",
     "output_type": "stream",
     "text": [
      "HHHH\n",
      "HHH\n",
      "HH\n",
      "H\n",
      "\n"
     ]
    }
   ],
   "source": [
    "x=4\n",
    "while x>=0:\n",
    "    print(\"H\" * x)\n",
    "    x-= 1"
   ]
  },
  {
   "cell_type": "code",
   "execution_count": 230,
   "id": "ef9632c2",
   "metadata": {},
   "outputs": [
    {
     "name": "stdout",
     "output_type": "stream",
     "text": [
      "*****\n",
      "****\n",
      "***\n",
      "**\n",
      "*\n",
      "\n"
     ]
    }
   ],
   "source": [
    "num = 5\n",
    "while num >=0:\n",
    "    print(\"*\" * num)\n",
    "    num-= 1"
   ]
  },
  {
   "cell_type": "code",
   "execution_count": 231,
   "id": "d9cc8dc6",
   "metadata": {},
   "outputs": [
    {
     "name": "stdout",
     "output_type": "stream",
     "text": [
      "*\n",
      "**\n",
      "***\n",
      "****\n",
      "*****\n"
     ]
    }
   ],
   "source": [
    "num=1\n",
    "while num>=0:\n",
    "    print('*' * num)\n",
    "    num+=1\n",
    "    if num==6:\n",
    "        break"
   ]
  },
  {
   "cell_type": "code",
   "execution_count": 232,
   "id": "b71b1ab1",
   "metadata": {},
   "outputs": [
    {
     "name": "stdout",
     "output_type": "stream",
     "text": [
      "*\n",
      "**\n",
      "***\n",
      "****\n",
      "*****\n"
     ]
    }
   ],
   "source": [
    "num = 1\n",
    "while num>= 1:\n",
    "    print(\"*\" * num)\n",
    "    num+= 1\n",
    "    if num==6:\n",
    "        break"
   ]
  },
  {
   "cell_type": "code",
   "execution_count": 233,
   "id": "931097f2",
   "metadata": {},
   "outputs": [
    {
     "name": "stdout",
     "output_type": "stream",
     "text": [
      "['1', '2', '3']\n"
     ]
    }
   ],
   "source": [
    "num=\"123\"\n",
    "l=[]\n",
    "sum=0\n",
    "for i in num:\n",
    "    l.append(i)\n",
    "# for a in l:\n",
    "#     sum+=int(a)\n",
    "# print(sum)\n",
    "print(l)"
   ]
  },
  {
   "cell_type": "code",
   "execution_count": 234,
   "id": "23c3e28f",
   "metadata": {},
   "outputs": [],
   "source": [
    "sum=0\n",
    "for i in l:\n",
    "    sum+=int(i)"
   ]
  },
  {
   "cell_type": "code",
   "execution_count": 235,
   "id": "772acc2b",
   "metadata": {},
   "outputs": [
    {
     "data": {
      "text/plain": [
       "6"
      ]
     },
     "execution_count": 235,
     "metadata": {},
     "output_type": "execute_result"
    }
   ],
   "source": [
    "sum"
   ]
  },
  {
   "cell_type": "code",
   "execution_count": 236,
   "id": "6cc9b381",
   "metadata": {},
   "outputs": [
    {
     "name": "stdout",
     "output_type": "stream",
     "text": [
      "9\n"
     ]
    }
   ],
   "source": [
    "a='153'\n",
    "sum=0\n",
    "for i in  a:\n",
    "    sum+=int(i)\n",
    "print(sum)"
   ]
  },
  {
   "cell_type": "code",
   "execution_count": 237,
   "id": "b168befa",
   "metadata": {},
   "outputs": [
    {
     "data": {
      "text/plain": [
       "9"
      ]
     },
     "execution_count": 237,
     "metadata": {},
     "output_type": "execute_result"
    }
   ],
   "source": [
    "a=153\n",
    "b=a%10\n",
    "a=153//10\n",
    "c=a%10\n",
    "a=a//10\n",
    "d=a%10\n",
    "z=b+c+a\n",
    "z"
   ]
  },
  {
   "cell_type": "code",
   "execution_count": 238,
   "id": "3c0656a9",
   "metadata": {},
   "outputs": [
    {
     "data": {
      "text/plain": [
       "3"
      ]
     },
     "execution_count": 238,
     "metadata": {},
     "output_type": "execute_result"
    }
   ],
   "source": [
    "153%10"
   ]
  },
  {
   "cell_type": "code",
   "execution_count": 239,
   "id": "ac6d01f7",
   "metadata": {},
   "outputs": [
    {
     "data": {
      "text/plain": [
       "15"
      ]
     },
     "execution_count": 239,
     "metadata": {},
     "output_type": "execute_result"
    }
   ],
   "source": [
    "153//10"
   ]
  },
  {
   "cell_type": "code",
   "execution_count": 240,
   "id": "5828067b",
   "metadata": {},
   "outputs": [
    {
     "data": {
      "text/plain": [
       "int"
      ]
     },
     "execution_count": 240,
     "metadata": {},
     "output_type": "execute_result"
    }
   ],
   "source": [
    "type(sum)"
   ]
  },
  {
   "cell_type": "code",
   "execution_count": 241,
   "id": "3bde072a",
   "metadata": {},
   "outputs": [
    {
     "data": {
      "text/plain": [
       "int"
      ]
     },
     "execution_count": 241,
     "metadata": {},
     "output_type": "execute_result"
    }
   ],
   "source": [
    "a='0123'\n",
    "b=int(a[::-1])\n",
    "type(b)"
   ]
  },
  {
   "cell_type": "code",
   "execution_count": 242,
   "id": "c2f5f8e5",
   "metadata": {},
   "outputs": [
    {
     "data": {
      "text/plain": [
       "['1', '2', '3']"
      ]
     },
     "execution_count": 242,
     "metadata": {},
     "output_type": "execute_result"
    }
   ],
   "source": [
    "l"
   ]
  },
  {
   "cell_type": "code",
   "execution_count": 243,
   "id": "111d8a00",
   "metadata": {},
   "outputs": [
    {
     "data": {
      "text/plain": [
       "3210"
      ]
     },
     "execution_count": 243,
     "metadata": {},
     "output_type": "execute_result"
    }
   ],
   "source": [
    "int(''.join(reversed(a)))"
   ]
  },
  {
   "cell_type": "markdown",
   "id": "a56046df",
   "metadata": {},
   "source": [
    "# Break and Continue"
   ]
  },
  {
   "cell_type": "code",
   "execution_count": 244,
   "id": "69d17ce1",
   "metadata": {},
   "outputs": [
    {
     "name": "stdout",
     "output_type": "stream",
     "text": [
      "5\n",
      "Even: 6\n"
     ]
    }
   ],
   "source": [
    "x = 5\n",
    "\n",
    "while x < 15:\n",
    "    if x % 2 == 0:\n",
    "        print(\"Even:\", x)\n",
    "        break\n",
    "    print(x)\n",
    "    x += 1"
   ]
  },
  {
   "cell_type": "code",
   "execution_count": 245,
   "id": "035a0f4b",
   "metadata": {},
   "outputs": [
    {
     "name": "stdout",
     "output_type": "stream",
     "text": [
      "Odd: 5\n",
      "Odd: 7\n",
      "Odd: 9\n",
      "Odd: 11\n",
      "Odd: 13\n"
     ]
    }
   ],
   "source": [
    " x = 5\n",
    "\n",
    "while x < 15:\n",
    "    if x % 2 == 0:\n",
    "        x += 1\n",
    "        continue\n",
    "    print(\"Odd:\", x)\n",
    "    x += 1"
   ]
  },
  {
   "cell_type": "code",
   "execution_count": 246,
   "id": "4fbe809a",
   "metadata": {},
   "outputs": [
    {
     "name": "stdout",
     "output_type": "stream",
     "text": [
      "5\n",
      "7\n",
      "9\n",
      "11\n",
      "13\n",
      "All numbers were odd\n"
     ]
    }
   ],
   "source": [
    "x = 5\n",
    "\n",
    "while x < 15:\n",
    "    if x % 2 == 0:\n",
    "        print(\"Even number found\")\n",
    "        break\n",
    "    print(x)\n",
    "    x += 2\n",
    "else:\n",
    "    print(\"All numbers were odd\")"
   ]
  },
  {
   "cell_type": "markdown",
   "id": "67a69827",
   "metadata": {},
   "source": [
    "# Nested Loops in Python"
   ]
  },
  {
   "cell_type": "code",
   "execution_count": 247,
   "id": "3ebfc663",
   "metadata": {},
   "outputs": [
    {
     "name": "stdout",
     "output_type": "stream",
     "text": [
      "0 0\n",
      "0 1\n",
      "1 0\n",
      "1 1\n",
      "2 0\n",
      "2 1\n"
     ]
    }
   ],
   "source": [
    "for i in range(3):\n",
    "    for j in range(2):\n",
    "        print(i, j)"
   ]
  },
  {
   "cell_type": "code",
   "execution_count": 248,
   "id": "3fa748d9",
   "metadata": {},
   "outputs": [
    {
     "name": "stdout",
     "output_type": "stream",
     "text": [
      "Enter the range : \n"
     ]
    },
    {
     "ename": "ValueError",
     "evalue": "invalid literal for int() with base 10: ''",
     "output_type": "error",
     "traceback": [
      "\u001b[1;31m---------------------------------------------------------------------------\u001b[0m",
      "\u001b[1;31mValueError\u001b[0m                                Traceback (most recent call last)",
      "\u001b[1;32m~\\AppData\\Local\\Temp\\ipykernel_13212\\3563766843.py\u001b[0m in \u001b[0;36m<module>\u001b[1;34m\u001b[0m\n\u001b[1;32m----> 1\u001b[1;33m \u001b[0mnum_rows\u001b[0m \u001b[1;33m=\u001b[0m\u001b[0mint\u001b[0m\u001b[1;33m(\u001b[0m\u001b[0minput\u001b[0m\u001b[1;33m(\u001b[0m\u001b[1;34m\"Enter the range : \"\u001b[0m\u001b[1;33m)\u001b[0m\u001b[1;33m)\u001b[0m\u001b[1;33m\u001b[0m\u001b[1;33m\u001b[0m\u001b[0m\n\u001b[0m\u001b[0;32m      2\u001b[0m \u001b[1;33m\u001b[0m\u001b[0m\n\u001b[0;32m      3\u001b[0m \u001b[1;32mfor\u001b[0m \u001b[0mi\u001b[0m \u001b[1;32min\u001b[0m \u001b[0mrange\u001b[0m\u001b[1;33m(\u001b[0m\u001b[0mnum_rows\u001b[0m\u001b[1;33m)\u001b[0m\u001b[1;33m:\u001b[0m\u001b[1;33m\u001b[0m\u001b[1;33m\u001b[0m\u001b[0m\n\u001b[0;32m      4\u001b[0m     \u001b[1;32mfor\u001b[0m \u001b[0mnum_cols\u001b[0m \u001b[1;32min\u001b[0m \u001b[0mrange\u001b[0m\u001b[1;33m(\u001b[0m\u001b[0mnum_rows\u001b[0m\u001b[1;33m-\u001b[0m\u001b[1;36m1\u001b[0m\u001b[1;33m)\u001b[0m\u001b[1;33m:\u001b[0m\u001b[1;33m\u001b[0m\u001b[1;33m\u001b[0m\u001b[0m\n\u001b[0;32m      5\u001b[0m         \u001b[0mprint\u001b[0m\u001b[1;33m(\u001b[0m\u001b[1;34m\"*\"\u001b[0m\u001b[1;33m,\u001b[0m \u001b[0mend\u001b[0m\u001b[1;33m=\u001b[0m\u001b[1;34m\" \"\u001b[0m\u001b[1;33m)\u001b[0m\u001b[1;33m\u001b[0m\u001b[1;33m\u001b[0m\u001b[0m\n",
      "\u001b[1;31mValueError\u001b[0m: invalid literal for int() with base 10: ''"
     ]
    }
   ],
   "source": [
    "num_rows =int(input(\"Enter the range : \"))\n",
    "\n",
    "for i in range(num_rows):\n",
    "    for num_cols in range(num_rows-1):\n",
    "        print(\"*\", end=\" \")\n",
    "    print()"
   ]
  },
  {
   "cell_type": "markdown",
   "id": "eaa1bd22",
   "metadata": {},
   "source": [
    "# Functions in Python"
   ]
  },
  {
   "cell_type": "markdown",
   "id": "5363fae2",
   "metadata": {},
   "source": [
    "# Function with One Parameter in Python"
   ]
  },
  {
   "cell_type": "code",
   "execution_count": 249,
   "id": "1da3750d",
   "metadata": {},
   "outputs": [
    {
     "name": "stdout",
     "output_type": "stream",
     "text": [
      "Hi, amarendra! Welcome to Python class.\n"
     ]
    }
   ],
   "source": [
    "def welcome_student(name,subject):\n",
    "    print(f\"Hi, {name}! Welcome to {subject} class.\")\n",
    "welcome_student('amarendra','Python')"
   ]
  },
  {
   "cell_type": "code",
   "execution_count": null,
   "id": "81daceef",
   "metadata": {},
   "outputs": [],
   "source": []
  },
  {
   "cell_type": "code",
   "execution_count": null,
   "id": "cb4de4a1",
   "metadata": {},
   "outputs": [],
   "source": []
  },
  {
   "cell_type": "code",
   "execution_count": 250,
   "id": "a5e6f6f7",
   "metadata": {},
   "outputs": [
    {
     "name": "stdout",
     "output_type": "stream",
     "text": [
      "* * * * \n",
      "* * * \n",
      "* * \n",
      "* \n"
     ]
    }
   ],
   "source": [
    "def print_pattern(num_rows):\n",
    "    for i in range(num_rows):\n",
    "        for num_cols in range(num_rows-i):\n",
    "            print(\"*\",end=' ')\n",
    "        print()\n",
    "print_pattern(4)"
   ]
  },
  {
   "cell_type": "code",
   "execution_count": 251,
   "id": "08522ed1",
   "metadata": {},
   "outputs": [
    {
     "name": "stdout",
     "output_type": "stream",
     "text": [
      "****\n",
      "***\n",
      "**\n",
      "*\n"
     ]
    }
   ],
   "source": [
    "x=4\n",
    "while x>0:\n",
    "    print('*' * x)\n",
    "    x-=1"
   ]
  },
  {
   "cell_type": "code",
   "execution_count": null,
   "id": "4b96da8b",
   "metadata": {},
   "outputs": [],
   "source": []
  },
  {
   "cell_type": "code",
   "execution_count": 252,
   "id": "67f68a50",
   "metadata": {},
   "outputs": [
    {
     "name": "stdout",
     "output_type": "stream",
     "text": [
      "A A A A A \n",
      "A A A A \n",
      "A A A \n",
      "A A \n",
      "A \n"
     ]
    }
   ],
   "source": [
    "def print_pattern(num_rows,char):\n",
    "    for i in range(num_rows):\n",
    "        for num_cols in range(num_rows-i):\n",
    "            print(char, end=\" \")\n",
    "        print()\n",
    "print_pattern(5,'A')"
   ]
  },
  {
   "cell_type": "code",
   "execution_count": 253,
   "id": "92297c98",
   "metadata": {},
   "outputs": [
    {
     "name": "stdout",
     "output_type": "stream",
     "text": [
      "0\n",
      "1\n",
      "2\n",
      "3\n",
      "4\n"
     ]
    }
   ],
   "source": [
    "for i in range(5):\n",
    "    print(i)"
   ]
  },
  {
   "cell_type": "code",
   "execution_count": 254,
   "id": "b0dfdc47",
   "metadata": {},
   "outputs": [
    {
     "data": {
      "text/plain": [
       "20"
      ]
     },
     "execution_count": 254,
     "metadata": {},
     "output_type": "execute_result"
    }
   ],
   "source": [
    "def get_rectangle_area(length, width):\n",
    "    return length * width\n",
    "get_rectangle_area(5,4)"
   ]
  },
  {
   "cell_type": "markdown",
   "id": "def861a9",
   "metadata": {},
   "source": [
    "# Default Arguments in Python"
   ]
  },
  {
   "cell_type": "code",
   "execution_count": 255,
   "id": "dbec1421",
   "metadata": {},
   "outputs": [
    {
     "name": "stdout",
     "output_type": "stream",
     "text": [
      "20\n"
     ]
    }
   ],
   "source": [
    "def print_product(a, b=5):\n",
    "    print(a * b)\n",
    "print_product(4)"
   ]
  },
  {
   "cell_type": "markdown",
   "id": "7e0f913d",
   "metadata": {},
   "source": [
    "# Recursion in Python"
   ]
  },
  {
   "cell_type": "code",
   "execution_count": 256,
   "id": "480217d3",
   "metadata": {},
   "outputs": [
    {
     "data": {
      "text/plain": [
       "120"
      ]
     },
     "execution_count": 256,
     "metadata": {},
     "output_type": "execute_result"
    }
   ],
   "source": [
    "def factorials(n):\n",
    "    if n==0 or n==1:\n",
    "        return 1\n",
    "    else:\n",
    "        return n*factorials(n-1)\n",
    "factorials(5)"
   ]
  },
  {
   "cell_type": "code",
   "execution_count": 257,
   "id": "0cd869b8",
   "metadata": {},
   "outputs": [
    {
     "data": {
      "text/plain": [
       "8"
      ]
     },
     "execution_count": 257,
     "metadata": {},
     "output_type": "execute_result"
    }
   ],
   "source": [
    "def fibonacci(n):\n",
    "    if n == 0 or n == 1:\n",
    "        return 1\n",
    "    else:\n",
    "        return fibonacci(n-1) + fibonacci(n-2)\n",
    "fibonacci(5)"
   ]
  },
  {
   "cell_type": "code",
   "execution_count": 258,
   "id": "8ed6677c",
   "metadata": {},
   "outputs": [
    {
     "data": {
      "text/plain": [
       "8"
      ]
     },
     "execution_count": 258,
     "metadata": {},
     "output_type": "execute_result"
    }
   ],
   "source": [
    "def find_power(a, b):\n",
    "    if b == 0:\n",
    "        return 1\n",
    "    else:\n",
    "        return a * find_power(a, b-1)\n",
    "find_power(2,3)"
   ]
  },
  {
   "cell_type": "markdown",
   "id": "87792f46",
   "metadata": {},
   "source": [
    "# Exception Handling in Python\n",
    "An error or unexpected event that that occurs while a program is running is called an exception.\n",
    "Thanks to the elements that we will see in just a moment, we can avoid terminating the program abruptly when this occurs."
   ]
  },
  {
   "cell_type": "code",
   "execution_count": 259,
   "id": "d188d764",
   "metadata": {},
   "outputs": [
    {
     "ename": "ZeroDivisionError",
     "evalue": "division by zero",
     "output_type": "error",
     "traceback": [
      "\u001b[1;31m---------------------------------------------------------------------------\u001b[0m",
      "\u001b[1;31mZeroDivisionError\u001b[0m                         Traceback (most recent call last)",
      "\u001b[1;32m~\\AppData\\Local\\Temp\\ipykernel_13212\\1614716415.py\u001b[0m in \u001b[0;36m<module>\u001b[1;34m\u001b[0m\n\u001b[0;32m      1\u001b[0m \u001b[1;31m#ZeroDivisionError: raised when the second argument of a division or modulo operation is zero.\u001b[0m\u001b[1;33m\u001b[0m\u001b[1;33m\u001b[0m\u001b[0m\n\u001b[0;32m      2\u001b[0m \u001b[1;33m\u001b[0m\u001b[0m\n\u001b[1;32m----> 3\u001b[1;33m \u001b[1;36m5\u001b[0m \u001b[1;33m/\u001b[0m \u001b[1;36m0\u001b[0m\u001b[1;33m\u001b[0m\u001b[1;33m\u001b[0m\u001b[0m\n\u001b[0m",
      "\u001b[1;31mZeroDivisionError\u001b[0m: division by zero"
     ]
    }
   ],
   "source": [
    "#ZeroDivisionError: raised when the second argument of a division or modulo operation is zero.\n",
    "\n",
    "5 / 0"
   ]
  },
  {
   "cell_type": "code",
   "execution_count": 260,
   "id": "f2d9b8ac",
   "metadata": {},
   "outputs": [
    {
     "ename": "IndexError",
     "evalue": "list index out of range",
     "output_type": "error",
     "traceback": [
      "\u001b[1;31m---------------------------------------------------------------------------\u001b[0m",
      "\u001b[1;31mIndexError\u001b[0m                                Traceback (most recent call last)",
      "\u001b[1;32m~\\AppData\\Local\\Temp\\ipykernel_13212\\2677720420.py\u001b[0m in \u001b[0;36m<module>\u001b[1;34m\u001b[0m\n\u001b[0;32m      2\u001b[0m \u001b[1;33m\u001b[0m\u001b[0m\n\u001b[0;32m      3\u001b[0m \u001b[0mmy_list\u001b[0m \u001b[1;33m=\u001b[0m \u001b[1;33m[\u001b[0m\u001b[1;36m3\u001b[0m\u001b[1;33m,\u001b[0m \u001b[1;36m4\u001b[0m\u001b[1;33m,\u001b[0m \u001b[1;36m5\u001b[0m\u001b[1;33m,\u001b[0m \u001b[1;36m6\u001b[0m\u001b[1;33m]\u001b[0m\u001b[1;33m\u001b[0m\u001b[1;33m\u001b[0m\u001b[0m\n\u001b[1;32m----> 4\u001b[1;33m \u001b[0mmy_list\u001b[0m\u001b[1;33m[\u001b[0m\u001b[1;36m15\u001b[0m\u001b[1;33m]\u001b[0m\u001b[1;33m\u001b[0m\u001b[1;33m\u001b[0m\u001b[0m\n\u001b[0m",
      "\u001b[1;31mIndexError\u001b[0m: list index out of range"
     ]
    }
   ],
   "source": [
    "#IndexError: raised when we try to use an invalid index to access an element of a sequence.\n",
    "\n",
    "my_list = [3, 4, 5, 6]\n",
    "my_list[15]"
   ]
  },
  {
   "cell_type": "code",
   "execution_count": 261,
   "id": "b182a9f8",
   "metadata": {},
   "outputs": [
    {
     "ename": "KeyError",
     "evalue": "'d'",
     "output_type": "error",
     "traceback": [
      "\u001b[1;31m---------------------------------------------------------------------------\u001b[0m",
      "\u001b[1;31mKeyError\u001b[0m                                  Traceback (most recent call last)",
      "\u001b[1;32m~\\AppData\\Local\\Temp\\ipykernel_13212\\2748812386.py\u001b[0m in \u001b[0;36m<module>\u001b[1;34m\u001b[0m\n\u001b[0;32m      1\u001b[0m \u001b[1;31m#KeyError: raised when we try to access a key-value pair that doesn't exist because the key is not in the dictionary.\u001b[0m\u001b[1;33m\u001b[0m\u001b[1;33m\u001b[0m\u001b[0m\n\u001b[0;32m      2\u001b[0m \u001b[0mmy_dict\u001b[0m \u001b[1;33m=\u001b[0m \u001b[1;33m{\u001b[0m\u001b[1;34m\"a\"\u001b[0m\u001b[1;33m:\u001b[0m \u001b[1;36m1\u001b[0m\u001b[1;33m,\u001b[0m \u001b[1;34m\"b\"\u001b[0m\u001b[1;33m:\u001b[0m \u001b[1;36m2\u001b[0m\u001b[1;33m,\u001b[0m \u001b[1;34m\"c\"\u001b[0m\u001b[1;33m:\u001b[0m \u001b[1;36m3\u001b[0m\u001b[1;33m}\u001b[0m\u001b[1;33m\u001b[0m\u001b[1;33m\u001b[0m\u001b[0m\n\u001b[1;32m----> 3\u001b[1;33m \u001b[0mmy_dict\u001b[0m\u001b[1;33m[\u001b[0m\u001b[1;34m\"d\"\u001b[0m\u001b[1;33m]\u001b[0m\u001b[1;33m\u001b[0m\u001b[1;33m\u001b[0m\u001b[0m\n\u001b[0m",
      "\u001b[1;31mKeyError\u001b[0m: 'd'"
     ]
    }
   ],
   "source": [
    "#KeyError: raised when we try to access a key-value pair that doesn't exist because the key is not in the dictionary.\n",
    "my_dict = {\"a\": 1, \"b\": 2, \"c\": 3}\n",
    "my_dict[\"d\"]"
   ]
  },
  {
   "cell_type": "code",
   "execution_count": 262,
   "id": "61ecdf9a",
   "metadata": {},
   "outputs": [
    {
     "data": {
      "text/plain": [
       "3210"
      ]
     },
     "execution_count": 262,
     "metadata": {},
     "output_type": "execute_result"
    }
   ],
   "source": [
    "#NameError: raised when we use a variable that has not been defined previously.\n",
    "b"
   ]
  },
  {
   "cell_type": "code",
   "execution_count": 263,
   "id": "2347c8d0",
   "metadata": {},
   "outputs": [
    {
     "data": {
      "text/plain": [
       "120"
      ]
     },
     "execution_count": 263,
     "metadata": {},
     "output_type": "execute_result"
    }
   ],
   "source": [
    "#RecursionError: raised when the interpreter detects that the maximum recursion depth is exceeded. \n",
    "#This usually occurs when the process never reaches the base case.\n",
    "def factorial(n):\n",
    "        if n == 0 or n == 1:\n",
    "            return 1\n",
    "        else:\n",
    "            return n * factorial(n-1)\n",
    "factorial(5)"
   ]
  },
  {
   "cell_type": "markdown",
   "id": "a875f22b",
   "metadata": {},
   "source": [
    "# try / except in Python"
   ]
  },
  {
   "cell_type": "raw",
   "id": "ae49f84d",
   "metadata": {},
   "source": [
    "try:\n",
    "    <code_that_may_raise_an_exception>\n",
    "except:\n",
    "    <code_to_handle_the_exception_if_it_occurs>"
   ]
  },
  {
   "cell_type": "code",
   "execution_count": 264,
   "id": "5544bc62",
   "metadata": {},
   "outputs": [
    {
     "name": "stdout",
     "output_type": "stream",
     "text": [
      "Enter the index: \n"
     ]
    },
    {
     "ename": "ValueError",
     "evalue": "invalid literal for int() with base 10: ''",
     "output_type": "error",
     "traceback": [
      "\u001b[1;31m---------------------------------------------------------------------------\u001b[0m",
      "\u001b[1;31mValueError\u001b[0m                                Traceback (most recent call last)",
      "\u001b[1;32m~\\AppData\\Local\\Temp\\ipykernel_13212\\328068871.py\u001b[0m in \u001b[0;36m<module>\u001b[1;34m\u001b[0m\n\u001b[1;32m----> 1\u001b[1;33m \u001b[0mindex\u001b[0m \u001b[1;33m=\u001b[0m \u001b[0mint\u001b[0m\u001b[1;33m(\u001b[0m\u001b[0minput\u001b[0m\u001b[1;33m(\u001b[0m\u001b[1;34m\"Enter the index: \"\u001b[0m\u001b[1;33m)\u001b[0m\u001b[1;33m)\u001b[0m\u001b[1;33m\u001b[0m\u001b[1;33m\u001b[0m\u001b[0m\n\u001b[0m\u001b[0;32m      2\u001b[0m \u001b[1;33m\u001b[0m\u001b[0m\n\u001b[0;32m      3\u001b[0m \u001b[1;32mtry\u001b[0m\u001b[1;33m:\u001b[0m\u001b[1;33m\u001b[0m\u001b[1;33m\u001b[0m\u001b[0m\n\u001b[0;32m      4\u001b[0m     \u001b[0mmy_list\u001b[0m \u001b[1;33m=\u001b[0m \u001b[1;33m[\u001b[0m\u001b[1;36m1\u001b[0m\u001b[1;33m,\u001b[0m \u001b[1;36m2\u001b[0m\u001b[1;33m,\u001b[0m \u001b[1;36m3\u001b[0m\u001b[1;33m,\u001b[0m \u001b[1;36m4\u001b[0m\u001b[1;33m]\u001b[0m\u001b[1;33m\u001b[0m\u001b[1;33m\u001b[0m\u001b[0m\n\u001b[0;32m      5\u001b[0m     \u001b[0mprint\u001b[0m\u001b[1;33m(\u001b[0m\u001b[0mlist\u001b[0m\u001b[1;33m(\u001b[0m\u001b[0mmap\u001b[0m\u001b[1;33m(\u001b[0m\u001b[1;32mlambda\u001b[0m \u001b[0mx\u001b[0m\u001b[1;33m:\u001b[0m\u001b[1;34m\"Hello\"\u001b[0m\u001b[1;33m+\u001b[0m\u001b[0mstr\u001b[0m\u001b[1;33m(\u001b[0m\u001b[0mx\u001b[0m\u001b[1;33m)\u001b[0m\u001b[1;33m,\u001b[0m\u001b[0mmy_list\u001b[0m\u001b[1;33m)\u001b[0m\u001b[1;33m)\u001b[0m\u001b[1;33m)\u001b[0m\u001b[1;33m\u001b[0m\u001b[1;33m\u001b[0m\u001b[0m\n",
      "\u001b[1;31mValueError\u001b[0m: invalid literal for int() with base 10: ''"
     ]
    }
   ],
   "source": [
    "index = int(input(\"Enter the index: \"))\n",
    "\n",
    "try:\n",
    "    my_list = [1, 2, 3, 4]\n",
    "    print(list(map(lambda x:\"Hello\"+str(x),my_list)))\n",
    "except:\n",
    "    print(\"Please enter a valid index.\")"
   ]
  },
  {
   "cell_type": "code",
   "execution_count": 265,
   "id": "e29eb1f5",
   "metadata": {},
   "outputs": [
    {
     "name": "stdout",
     "output_type": "stream",
     "text": [
      "Enter a: \n"
     ]
    },
    {
     "ename": "ValueError",
     "evalue": "invalid literal for int() with base 10: ''",
     "output_type": "error",
     "traceback": [
      "\u001b[1;31m---------------------------------------------------------------------------\u001b[0m",
      "\u001b[1;31mValueError\u001b[0m                                Traceback (most recent call last)",
      "\u001b[1;32m~\\AppData\\Local\\Temp\\ipykernel_13212\\1825581182.py\u001b[0m in \u001b[0;36m<module>\u001b[1;34m\u001b[0m\n\u001b[1;32m----> 1\u001b[1;33m \u001b[0ma\u001b[0m \u001b[1;33m=\u001b[0m \u001b[0mint\u001b[0m\u001b[1;33m(\u001b[0m\u001b[0minput\u001b[0m\u001b[1;33m(\u001b[0m\u001b[1;34m\"Enter a: \"\u001b[0m\u001b[1;33m)\u001b[0m\u001b[1;33m)\u001b[0m\u001b[1;33m\u001b[0m\u001b[1;33m\u001b[0m\u001b[0m\n\u001b[0m\u001b[0;32m      2\u001b[0m \u001b[0mb\u001b[0m \u001b[1;33m=\u001b[0m \u001b[0mint\u001b[0m\u001b[1;33m(\u001b[0m\u001b[0minput\u001b[0m\u001b[1;33m(\u001b[0m\u001b[1;34m\"Enter b: \"\u001b[0m\u001b[1;33m)\u001b[0m\u001b[1;33m)\u001b[0m\u001b[1;33m\u001b[0m\u001b[1;33m\u001b[0m\u001b[0m\n\u001b[0;32m      3\u001b[0m \u001b[1;33m\u001b[0m\u001b[0m\n\u001b[0;32m      4\u001b[0m \u001b[1;32mtry\u001b[0m\u001b[1;33m:\u001b[0m\u001b[1;33m\u001b[0m\u001b[1;33m\u001b[0m\u001b[0m\n\u001b[0;32m      5\u001b[0m     \u001b[0mdivision\u001b[0m \u001b[1;33m=\u001b[0m \u001b[0ma\u001b[0m \u001b[1;33m/\u001b[0m \u001b[0mb\u001b[0m\u001b[1;33m\u001b[0m\u001b[1;33m\u001b[0m\u001b[0m\n",
      "\u001b[1;31mValueError\u001b[0m: invalid literal for int() with base 10: ''"
     ]
    }
   ],
   "source": [
    "a = int(input(\"Enter a: \"))\n",
    "b = int(input(\"Enter b: \"))\n",
    "\n",
    "try:\n",
    "    division = a / b\n",
    "    print(division)\n",
    "except:\n",
    "    print(\"Please enter valid values.\")\n",
    "else:\n",
    "    print(\"its possible\")\n",
    "finally:\n",
    "    multi=a*b\n",
    "    print('finally results : ',multi)"
   ]
  },
  {
   "cell_type": "markdown",
   "id": "49bc08a6",
   "metadata": {},
   "source": [
    "# How to Catch a Specific Type of Exception in Python"
   ]
  },
  {
   "cell_type": "raw",
   "id": "cfa5ed70",
   "metadata": {},
   "source": [
    "try:\n",
    "    <code_that_may_raise_an_exception>\n",
    "except <exception_type>:\n",
    "    <code_to_handle_an_exception_if_it_occurs>"
   ]
  },
  {
   "cell_type": "code",
   "execution_count": 266,
   "id": "c2df8fa0",
   "metadata": {},
   "outputs": [
    {
     "name": "stdout",
     "output_type": "stream",
     "text": [
      "Enter the index: \n"
     ]
    },
    {
     "ename": "ValueError",
     "evalue": "invalid literal for int() with base 10: ''",
     "output_type": "error",
     "traceback": [
      "\u001b[1;31m---------------------------------------------------------------------------\u001b[0m",
      "\u001b[1;31mValueError\u001b[0m                                Traceback (most recent call last)",
      "\u001b[1;32m~\\AppData\\Local\\Temp\\ipykernel_13212\\3376877285.py\u001b[0m in \u001b[0;36m<module>\u001b[1;34m\u001b[0m\n\u001b[1;32m----> 1\u001b[1;33m \u001b[0mindex\u001b[0m \u001b[1;33m=\u001b[0m \u001b[0mint\u001b[0m\u001b[1;33m(\u001b[0m\u001b[0minput\u001b[0m\u001b[1;33m(\u001b[0m\u001b[1;34m\"Enter the index: \"\u001b[0m\u001b[1;33m)\u001b[0m\u001b[1;33m)\u001b[0m\u001b[1;33m\u001b[0m\u001b[1;33m\u001b[0m\u001b[0m\n\u001b[0m\u001b[0;32m      2\u001b[0m \u001b[1;33m\u001b[0m\u001b[0m\n\u001b[0;32m      3\u001b[0m \u001b[1;32mtry\u001b[0m\u001b[1;33m:\u001b[0m\u001b[1;33m\u001b[0m\u001b[1;33m\u001b[0m\u001b[0m\n\u001b[0;32m      4\u001b[0m     \u001b[0mmy_list\u001b[0m \u001b[1;33m=\u001b[0m \u001b[1;33m[\u001b[0m\u001b[1;36m1\u001b[0m\u001b[1;33m,\u001b[0m \u001b[1;36m2\u001b[0m\u001b[1;33m,\u001b[0m \u001b[1;36m3\u001b[0m\u001b[1;33m,\u001b[0m \u001b[1;36m4\u001b[0m\u001b[1;33m]\u001b[0m\u001b[1;33m\u001b[0m\u001b[1;33m\u001b[0m\u001b[0m\n\u001b[0;32m      5\u001b[0m     \u001b[0mprint\u001b[0m\u001b[1;33m(\u001b[0m\u001b[0mmy_list\u001b[0m\u001b[1;33m[\u001b[0m\u001b[0mindex\u001b[0m\u001b[1;33m]\u001b[0m\u001b[1;33m)\u001b[0m\u001b[1;33m\u001b[0m\u001b[1;33m\u001b[0m\u001b[0m\n",
      "\u001b[1;31mValueError\u001b[0m: invalid literal for int() with base 10: ''"
     ]
    }
   ],
   "source": [
    "index = int(input(\"Enter the index: \"))\n",
    "\n",
    "try:\n",
    "    my_list = [1, 2, 3, 4]\n",
    "    print(my_list[index])\n",
    "except IndexError: # specify the type\n",
    "    print(\"Please enter a valid index.\")"
   ]
  },
  {
   "cell_type": "code",
   "execution_count": 267,
   "id": "1b101d08",
   "metadata": {},
   "outputs": [
    {
     "name": "stdout",
     "output_type": "stream",
     "text": [
      "Enter a: \n"
     ]
    },
    {
     "ename": "ValueError",
     "evalue": "invalid literal for int() with base 10: ''",
     "output_type": "error",
     "traceback": [
      "\u001b[1;31m---------------------------------------------------------------------------\u001b[0m",
      "\u001b[1;31mValueError\u001b[0m                                Traceback (most recent call last)",
      "\u001b[1;32m~\\AppData\\Local\\Temp\\ipykernel_13212\\76390010.py\u001b[0m in \u001b[0;36m<module>\u001b[1;34m\u001b[0m\n\u001b[1;32m----> 1\u001b[1;33m \u001b[0ma\u001b[0m \u001b[1;33m=\u001b[0m \u001b[0mint\u001b[0m\u001b[1;33m(\u001b[0m\u001b[0minput\u001b[0m\u001b[1;33m(\u001b[0m\u001b[1;34m\"Enter a: \"\u001b[0m\u001b[1;33m)\u001b[0m\u001b[1;33m)\u001b[0m\u001b[1;33m\u001b[0m\u001b[1;33m\u001b[0m\u001b[0m\n\u001b[0m\u001b[0;32m      2\u001b[0m \u001b[0mb\u001b[0m \u001b[1;33m=\u001b[0m \u001b[0mint\u001b[0m\u001b[1;33m(\u001b[0m\u001b[0minput\u001b[0m\u001b[1;33m(\u001b[0m\u001b[1;34m\"Enter b: \"\u001b[0m\u001b[1;33m)\u001b[0m\u001b[1;33m)\u001b[0m\u001b[1;33m\u001b[0m\u001b[1;33m\u001b[0m\u001b[0m\n\u001b[0;32m      3\u001b[0m \u001b[1;33m\u001b[0m\u001b[0m\n\u001b[0;32m      4\u001b[0m \u001b[1;32mtry\u001b[0m\u001b[1;33m:\u001b[0m\u001b[1;33m\u001b[0m\u001b[1;33m\u001b[0m\u001b[0m\n\u001b[0;32m      5\u001b[0m     \u001b[0mdivision\u001b[0m \u001b[1;33m=\u001b[0m \u001b[0ma\u001b[0m \u001b[1;33m/\u001b[0m \u001b[0mb\u001b[0m\u001b[1;33m\u001b[0m\u001b[1;33m\u001b[0m\u001b[0m\n",
      "\u001b[1;31mValueError\u001b[0m: invalid literal for int() with base 10: ''"
     ]
    }
   ],
   "source": [
    "a = int(input(\"Enter a: \"))\n",
    "b = int(input(\"Enter b: \"))\n",
    "\n",
    "try:\n",
    "    division = a / b\n",
    "    print(division)\n",
    "except ZeroDivisionError: # specify the type\n",
    "    print(\"Please enter valid values.\")"
   ]
  },
  {
   "cell_type": "markdown",
   "id": "3aa8c068",
   "metadata": {},
   "source": [
    "# How to Assign a Name to the Exception Object in Python"
   ]
  },
  {
   "cell_type": "raw",
   "id": "b5e675c7",
   "metadata": {},
   "source": [
    "try:\n",
    "    <code_that_may_raise_an_exception>\n",
    "except <exception_type> as <name>:\n",
    "    <code_to_handle_an_exception_if_it_occurs>"
   ]
  },
  {
   "cell_type": "code",
   "execution_count": 268,
   "id": "006b17fd",
   "metadata": {},
   "outputs": [
    {
     "name": "stdout",
     "output_type": "stream",
     "text": [
      "Enter the index: \n"
     ]
    },
    {
     "ename": "ValueError",
     "evalue": "invalid literal for int() with base 10: ''",
     "output_type": "error",
     "traceback": [
      "\u001b[1;31m---------------------------------------------------------------------------\u001b[0m",
      "\u001b[1;31mValueError\u001b[0m                                Traceback (most recent call last)",
      "\u001b[1;32m~\\AppData\\Local\\Temp\\ipykernel_13212\\1123834708.py\u001b[0m in \u001b[0;36m<module>\u001b[1;34m\u001b[0m\n\u001b[1;32m----> 1\u001b[1;33m \u001b[0mindex\u001b[0m \u001b[1;33m=\u001b[0m \u001b[0mint\u001b[0m\u001b[1;33m(\u001b[0m\u001b[0minput\u001b[0m\u001b[1;33m(\u001b[0m\u001b[1;34m\"Enter the index: \"\u001b[0m\u001b[1;33m)\u001b[0m\u001b[1;33m)\u001b[0m\u001b[1;33m\u001b[0m\u001b[1;33m\u001b[0m\u001b[0m\n\u001b[0m\u001b[0;32m      2\u001b[0m \u001b[1;33m\u001b[0m\u001b[0m\n\u001b[0;32m      3\u001b[0m \u001b[1;32mtry\u001b[0m\u001b[1;33m:\u001b[0m\u001b[1;33m\u001b[0m\u001b[1;33m\u001b[0m\u001b[0m\n\u001b[0;32m      4\u001b[0m     \u001b[0mmy_list\u001b[0m \u001b[1;33m=\u001b[0m \u001b[1;33m[\u001b[0m\u001b[1;36m1\u001b[0m\u001b[1;33m,\u001b[0m \u001b[1;36m2\u001b[0m\u001b[1;33m,\u001b[0m \u001b[1;36m3\u001b[0m\u001b[1;33m,\u001b[0m \u001b[1;36m4\u001b[0m\u001b[1;33m]\u001b[0m\u001b[1;33m\u001b[0m\u001b[1;33m\u001b[0m\u001b[0m\n\u001b[0;32m      5\u001b[0m     \u001b[0mprint\u001b[0m\u001b[1;33m(\u001b[0m\u001b[0mmy_list\u001b[0m\u001b[1;33m[\u001b[0m\u001b[0mindex\u001b[0m\u001b[1;33m]\u001b[0m\u001b[1;33m)\u001b[0m\u001b[1;33m\u001b[0m\u001b[1;33m\u001b[0m\u001b[0m\n",
      "\u001b[1;31mValueError\u001b[0m: invalid literal for int() with base 10: ''"
     ]
    }
   ],
   "source": [
    "index = int(input(\"Enter the index: \"))\n",
    "\n",
    "try:\n",
    "    my_list = [1, 2, 3, 4]\n",
    "    print(my_list[index])\n",
    "except IndexError as e:\n",
    "    print(\"Exception raised:\", e)"
   ]
  },
  {
   "cell_type": "code",
   "execution_count": 269,
   "id": "91dbe201",
   "metadata": {},
   "outputs": [
    {
     "name": "stdout",
     "output_type": "stream",
     "text": [
      "Enter a: \n"
     ]
    },
    {
     "ename": "ValueError",
     "evalue": "invalid literal for int() with base 10: ''",
     "output_type": "error",
     "traceback": [
      "\u001b[1;31m---------------------------------------------------------------------------\u001b[0m",
      "\u001b[1;31mValueError\u001b[0m                                Traceback (most recent call last)",
      "\u001b[1;32m~\\AppData\\Local\\Temp\\ipykernel_13212\\3973948340.py\u001b[0m in \u001b[0;36m<module>\u001b[1;34m\u001b[0m\n\u001b[1;32m----> 1\u001b[1;33m \u001b[0ma\u001b[0m \u001b[1;33m=\u001b[0m \u001b[0mint\u001b[0m\u001b[1;33m(\u001b[0m\u001b[0minput\u001b[0m\u001b[1;33m(\u001b[0m\u001b[1;34m\"Enter a: \"\u001b[0m\u001b[1;33m)\u001b[0m\u001b[1;33m)\u001b[0m\u001b[1;33m\u001b[0m\u001b[1;33m\u001b[0m\u001b[0m\n\u001b[0m\u001b[0;32m      2\u001b[0m \u001b[0mb\u001b[0m \u001b[1;33m=\u001b[0m \u001b[0mint\u001b[0m\u001b[1;33m(\u001b[0m\u001b[0minput\u001b[0m\u001b[1;33m(\u001b[0m\u001b[1;34m\"Enter b: \"\u001b[0m\u001b[1;33m)\u001b[0m\u001b[1;33m)\u001b[0m\u001b[1;33m\u001b[0m\u001b[1;33m\u001b[0m\u001b[0m\n\u001b[0;32m      3\u001b[0m \u001b[1;33m\u001b[0m\u001b[0m\n\u001b[0;32m      4\u001b[0m \u001b[1;32mtry\u001b[0m\u001b[1;33m:\u001b[0m\u001b[1;33m\u001b[0m\u001b[1;33m\u001b[0m\u001b[0m\n\u001b[0;32m      5\u001b[0m     \u001b[0mdivision\u001b[0m \u001b[1;33m=\u001b[0m \u001b[0ma\u001b[0m \u001b[1;33m/\u001b[0m \u001b[0mb\u001b[0m\u001b[1;33m\u001b[0m\u001b[1;33m\u001b[0m\u001b[0m\n",
      "\u001b[1;31mValueError\u001b[0m: invalid literal for int() with base 10: ''"
     ]
    }
   ],
   "source": [
    "a = int(input(\"Enter a: \"))\n",
    "b = int(input(\"Enter b: \"))\n",
    "\n",
    "try:\n",
    "    division = a / b\n",
    "    print(division)\n",
    "except ZeroDivisionError as err:\n",
    "    print(\"Please enter valid values:\", err)"
   ]
  },
  {
   "cell_type": "markdown",
   "id": "3178c2ea",
   "metadata": {},
   "source": [
    "# try / except / else in Python"
   ]
  },
  {
   "cell_type": "raw",
   "id": "32944334",
   "metadata": {},
   "source": [
    "try:\n",
    "    <code_that_may_raise_an_exception>\n",
    "except:\n",
    "    <code_to_handle_an_exception_if_it_occurs>\n",
    "else:\n",
    "    <code_that_only_runs_if_no_exception_in_try>"
   ]
  },
  {
   "cell_type": "code",
   "execution_count": 270,
   "id": "31ef2af5",
   "metadata": {},
   "outputs": [
    {
     "name": "stdout",
     "output_type": "stream",
     "text": [
      "Enter a: \n"
     ]
    },
    {
     "ename": "ValueError",
     "evalue": "invalid literal for int() with base 10: ''",
     "output_type": "error",
     "traceback": [
      "\u001b[1;31m---------------------------------------------------------------------------\u001b[0m",
      "\u001b[1;31mValueError\u001b[0m                                Traceback (most recent call last)",
      "\u001b[1;32m~\\AppData\\Local\\Temp\\ipykernel_13212\\2321120528.py\u001b[0m in \u001b[0;36m<module>\u001b[1;34m\u001b[0m\n\u001b[1;32m----> 1\u001b[1;33m \u001b[0ma\u001b[0m \u001b[1;33m=\u001b[0m \u001b[0mint\u001b[0m\u001b[1;33m(\u001b[0m\u001b[0minput\u001b[0m\u001b[1;33m(\u001b[0m\u001b[1;34m\"Enter a: \"\u001b[0m\u001b[1;33m)\u001b[0m\u001b[1;33m)\u001b[0m\u001b[1;33m\u001b[0m\u001b[1;33m\u001b[0m\u001b[0m\n\u001b[0m\u001b[0;32m      2\u001b[0m \u001b[0mb\u001b[0m \u001b[1;33m=\u001b[0m \u001b[0mint\u001b[0m\u001b[1;33m(\u001b[0m\u001b[0minput\u001b[0m\u001b[1;33m(\u001b[0m\u001b[1;34m\"Enter b: \"\u001b[0m\u001b[1;33m)\u001b[0m\u001b[1;33m)\u001b[0m\u001b[1;33m\u001b[0m\u001b[1;33m\u001b[0m\u001b[0m\n\u001b[0;32m      3\u001b[0m \u001b[1;33m\u001b[0m\u001b[0m\n\u001b[0;32m      4\u001b[0m \u001b[1;32mtry\u001b[0m\u001b[1;33m:\u001b[0m\u001b[1;33m\u001b[0m\u001b[1;33m\u001b[0m\u001b[0m\n\u001b[0;32m      5\u001b[0m     \u001b[0mdivision\u001b[0m \u001b[1;33m=\u001b[0m \u001b[0ma\u001b[0m \u001b[1;33m/\u001b[0m \u001b[0mb\u001b[0m\u001b[1;33m\u001b[0m\u001b[1;33m\u001b[0m\u001b[0m\n",
      "\u001b[1;31mValueError\u001b[0m: invalid literal for int() with base 10: ''"
     ]
    }
   ],
   "source": [
    "a = int(input(\"Enter a: \"))\n",
    "b = int(input(\"Enter b: \"))\n",
    "\n",
    "try:\n",
    "    division = a / b\n",
    "    print(division)\n",
    "except ZeroDivisionError as err:\n",
    "    print(\"Please enter valid values.\", err)\n",
    "else:\n",
    "    print(\"Both values were valid.\")"
   ]
  },
  {
   "cell_type": "code",
   "execution_count": 271,
   "id": "a31b0ce0",
   "metadata": {},
   "outputs": [
    {
     "name": "stdout",
     "output_type": "stream",
     "text": [
      "Enter a: \n"
     ]
    },
    {
     "ename": "ValueError",
     "evalue": "invalid literal for int() with base 10: ''",
     "output_type": "error",
     "traceback": [
      "\u001b[1;31m---------------------------------------------------------------------------\u001b[0m",
      "\u001b[1;31mValueError\u001b[0m                                Traceback (most recent call last)",
      "\u001b[1;32m~\\AppData\\Local\\Temp\\ipykernel_13212\\1022340530.py\u001b[0m in \u001b[0;36m<module>\u001b[1;34m\u001b[0m\n\u001b[1;32m----> 1\u001b[1;33m \u001b[0ma\u001b[0m \u001b[1;33m=\u001b[0m \u001b[0mint\u001b[0m\u001b[1;33m(\u001b[0m\u001b[0minput\u001b[0m\u001b[1;33m(\u001b[0m\u001b[1;34m\"Enter a: \"\u001b[0m\u001b[1;33m)\u001b[0m\u001b[1;33m)\u001b[0m\u001b[1;33m\u001b[0m\u001b[1;33m\u001b[0m\u001b[0m\n\u001b[0m\u001b[0;32m      2\u001b[0m \u001b[0mb\u001b[0m \u001b[1;33m=\u001b[0m \u001b[0mint\u001b[0m\u001b[1;33m(\u001b[0m\u001b[0minput\u001b[0m\u001b[1;33m(\u001b[0m\u001b[1;34m\"Enter b: \"\u001b[0m\u001b[1;33m)\u001b[0m\u001b[1;33m)\u001b[0m\u001b[1;33m\u001b[0m\u001b[1;33m\u001b[0m\u001b[0m\n\u001b[0;32m      3\u001b[0m \u001b[1;33m\u001b[0m\u001b[0m\n\u001b[0;32m      4\u001b[0m \u001b[1;32mtry\u001b[0m\u001b[1;33m:\u001b[0m\u001b[1;33m\u001b[0m\u001b[1;33m\u001b[0m\u001b[0m\n\u001b[0;32m      5\u001b[0m     \u001b[0mdivision\u001b[0m \u001b[1;33m=\u001b[0m \u001b[0ma\u001b[0m \u001b[1;33m/\u001b[0m \u001b[0mb\u001b[0m\u001b[1;33m\u001b[0m\u001b[1;33m\u001b[0m\u001b[0m\n",
      "\u001b[1;31mValueError\u001b[0m: invalid literal for int() with base 10: ''"
     ]
    }
   ],
   "source": [
    "a = int(input(\"Enter a: \"))\n",
    "b = int(input(\"Enter b: \"))\n",
    "\n",
    "try:\n",
    "    division = a / b\n",
    "    print(division)\n",
    "except ZeroDivisionError as err:\n",
    "    print(\"Please enter valid values.\", err)\n",
    "else:\n",
    "    print(\"Both values were valid.\")\n",
    "finally:\n",
    "    print(\"Finally!\")"
   ]
  },
  {
   "cell_type": "markdown",
   "id": "1e8534b5",
   "metadata": {},
   "source": [
    "# Object-Oriented Programming in Python"
   ]
  },
  {
   "cell_type": "raw",
   "id": "b2329ea9",
   "metadata": {},
   "source": [
    "def __init__(self, <parameter1>, <parameter2>, ...):\n",
    "        self.<attribute1> = <parameter1>  # Instance attribute\n",
    "        self.<attribute2> = <parameter2>  # Instance attribute"
   ]
  },
  {
   "cell_type": "code",
   "execution_count": 272,
   "id": "e0482526",
   "metadata": {},
   "outputs": [
    {
     "data": {
      "text/plain": [
       "10"
      ]
     },
     "execution_count": 272,
     "metadata": {},
     "output_type": "execute_result"
    }
   ],
   "source": [
    "# Class definition\n",
    "class Dog:\n",
    "\n",
    "    def __init__(self, name, age):\n",
    "        self.name = name\n",
    "        self.age = age\n",
    "# Create instance  \n",
    "my_dog = Dog(\"Nora\", 10)\n",
    "\n",
    "# Get attributes\n",
    "my_dog.name\n",
    "my_dog.age"
   ]
  },
  {
   "cell_type": "markdown",
   "id": "ea14cc20",
   "metadata": {},
   "source": [
    "# How to Update an Instance Attribute"
   ]
  },
  {
   "cell_type": "raw",
   "id": "58a4c283",
   "metadata": {},
   "source": [
    "<object_variable>.<attribute> = <new_value>"
   ]
  },
  {
   "cell_type": "code",
   "execution_count": 273,
   "id": "a482c03c",
   "metadata": {},
   "outputs": [
    {
     "data": {
      "text/plain": [
       "'Nora'"
      ]
     },
     "execution_count": 273,
     "metadata": {},
     "output_type": "execute_result"
    }
   ],
   "source": [
    "class Dog:\n",
    "\n",
    "    def __init__(self,name,age):\n",
    "        self.name=name\n",
    "        self.age=age\n",
    "my_dog = Dog(\"Nora\", 10)\n",
    "\n",
    "my_dog.name"
   ]
  },
  {
   "cell_type": "code",
   "execution_count": 274,
   "id": "df67c91e",
   "metadata": {},
   "outputs": [
    {
     "data": {
      "text/plain": [
       "'Norita'"
      ]
     },
     "execution_count": 274,
     "metadata": {},
     "output_type": "execute_result"
    }
   ],
   "source": [
    "# Update the attribute\n",
    "my_dog.name = \"Norita\"\n",
    "\n",
    "my_dog.name"
   ]
  },
  {
   "cell_type": "markdown",
   "id": "71424768",
   "metadata": {},
   "source": [
    "# How to Remove an Instance Attribute"
   ]
  },
  {
   "cell_type": "raw",
   "id": "47c46501",
   "metadata": {},
   "source": [
    "del <object_variable>.<attribute>"
   ]
  },
  {
   "cell_type": "code",
   "execution_count": 275,
   "id": "2fccf121",
   "metadata": {},
   "outputs": [
    {
     "ename": "AttributeError",
     "evalue": "'Dog' object has no attribute 'name'",
     "output_type": "error",
     "traceback": [
      "\u001b[1;31m---------------------------------------------------------------------------\u001b[0m",
      "\u001b[1;31mAttributeError\u001b[0m                            Traceback (most recent call last)",
      "\u001b[1;32m~\\AppData\\Local\\Temp\\ipykernel_13212\\1505221376.py\u001b[0m in \u001b[0;36m<module>\u001b[1;34m\u001b[0m\n\u001b[0;32m      2\u001b[0m \u001b[1;32mdel\u001b[0m \u001b[0mmy_dog\u001b[0m\u001b[1;33m.\u001b[0m\u001b[0mname\u001b[0m\u001b[1;33m\u001b[0m\u001b[1;33m\u001b[0m\u001b[0m\n\u001b[0;32m      3\u001b[0m \u001b[1;33m\u001b[0m\u001b[0m\n\u001b[1;32m----> 4\u001b[1;33m \u001b[0mmy_dog\u001b[0m\u001b[1;33m.\u001b[0m\u001b[0mname\u001b[0m\u001b[1;33m\u001b[0m\u001b[1;33m\u001b[0m\u001b[0m\n\u001b[0m",
      "\u001b[1;31mAttributeError\u001b[0m: 'Dog' object has no attribute 'name'"
     ]
    }
   ],
   "source": [
    "# Delete this attribute\n",
    "del my_dog.name\n",
    "\n",
    "my_dog.name"
   ]
  },
  {
   "cell_type": "code",
   "execution_count": 276,
   "id": "d29e4f20",
   "metadata": {},
   "outputs": [
    {
     "ename": "NameError",
     "evalue": "name 'my_dog' is not defined",
     "output_type": "error",
     "traceback": [
      "\u001b[1;31m---------------------------------------------------------------------------\u001b[0m",
      "\u001b[1;31mNameError\u001b[0m                                 Traceback (most recent call last)",
      "\u001b[1;32m~\\AppData\\Local\\Temp\\ipykernel_13212\\3244039866.py\u001b[0m in \u001b[0;36m<module>\u001b[1;34m\u001b[0m\n\u001b[0;32m      1\u001b[0m \u001b[1;31m# Delete the instance\u001b[0m\u001b[1;33m\u001b[0m\u001b[1;33m\u001b[0m\u001b[0m\n\u001b[0;32m      2\u001b[0m \u001b[1;32mdel\u001b[0m \u001b[0mmy_dog\u001b[0m\u001b[1;33m\u001b[0m\u001b[1;33m\u001b[0m\u001b[0m\n\u001b[1;32m----> 3\u001b[1;33m \u001b[0mmy_dog\u001b[0m\u001b[1;33m\u001b[0m\u001b[1;33m\u001b[0m\u001b[0m\n\u001b[0m",
      "\u001b[1;31mNameError\u001b[0m: name 'my_dog' is not defined"
     ]
    }
   ],
   "source": [
    "# Delete the instance\n",
    "del my_dog\n",
    "my_dog"
   ]
  },
  {
   "cell_type": "markdown",
   "id": "62a59975",
   "metadata": {},
   "source": [
    "# Public vs. Non-Public Attributes in Python"
   ]
  },
  {
   "cell_type": "code",
   "execution_count": 277,
   "id": "4bcd53ca",
   "metadata": {},
   "outputs": [],
   "source": [
    "class Dog:\n",
    "     # Class attributes\n",
    "    kingdom = \"Animalia\"\n",
    "    species = \"Canis lupus\"\n",
    "\n",
    "    def __init__(self, name, age):\n",
    "        self.name = name  # Public attribute\n",
    "        self._age = age   # Non-Public attribute"
   ]
  },
  {
   "cell_type": "code",
   "execution_count": 278,
   "id": "2b58dbbd",
   "metadata": {},
   "outputs": [
    {
     "data": {
      "text/plain": [
       "'Animalia'"
      ]
     },
     "execution_count": 278,
     "metadata": {},
     "output_type": "execute_result"
    }
   ],
   "source": [
    "#How to Get a Class Attribute    <class_name>.<attribute>\n",
    "Dog.kingdom"
   ]
  },
  {
   "cell_type": "code",
   "execution_count": 279,
   "id": "1a9ce0e3",
   "metadata": {},
   "outputs": [
    {
     "data": {
      "text/plain": [
       "'Animalia'"
      ]
     },
     "execution_count": 279,
     "metadata": {},
     "output_type": "execute_result"
    }
   ],
   "source": [
    "#How to Update a Class Attribute    <class_name>.<attribute> = <value>\n",
    "Dog.kingdom"
   ]
  },
  {
   "cell_type": "code",
   "execution_count": 280,
   "id": "c3d2883e",
   "metadata": {},
   "outputs": [
    {
     "data": {
      "text/plain": [
       "'New Kingdom'"
      ]
     },
     "execution_count": 280,
     "metadata": {},
     "output_type": "execute_result"
    }
   ],
   "source": [
    "Dog.kingdom = \"New Kingdom\"\n",
    "Dog.kingdom"
   ]
  },
  {
   "cell_type": "code",
   "execution_count": 281,
   "id": "9d60006f",
   "metadata": {},
   "outputs": [
    {
     "ename": "AttributeError",
     "evalue": "type object 'Dog' has no attribute 'kingdom'",
     "output_type": "error",
     "traceback": [
      "\u001b[1;31m---------------------------------------------------------------------------\u001b[0m",
      "\u001b[1;31mAttributeError\u001b[0m                            Traceback (most recent call last)",
      "\u001b[1;32m~\\AppData\\Local\\Temp\\ipykernel_13212\\3032483575.py\u001b[0m in \u001b[0;36m<module>\u001b[1;34m\u001b[0m\n\u001b[0;32m      2\u001b[0m \u001b[1;31m# Delete class attribute\u001b[0m\u001b[1;33m\u001b[0m\u001b[1;33m\u001b[0m\u001b[0m\n\u001b[0;32m      3\u001b[0m \u001b[1;32mdel\u001b[0m \u001b[0mDog\u001b[0m\u001b[1;33m.\u001b[0m\u001b[0mkingdom\u001b[0m\u001b[1;33m\u001b[0m\u001b[1;33m\u001b[0m\u001b[0m\n\u001b[1;32m----> 4\u001b[1;33m \u001b[0mDog\u001b[0m\u001b[1;33m.\u001b[0m\u001b[0mkingdom\u001b[0m\u001b[1;33m\u001b[0m\u001b[1;33m\u001b[0m\u001b[0m\n\u001b[0m",
      "\u001b[1;31mAttributeError\u001b[0m: type object 'Dog' has no attribute 'kingdom'"
     ]
    }
   ],
   "source": [
    "## How to Delete a Class Attribute  \n",
    "# Delete class attribute\n",
    "del Dog.kingdom\n",
    "Dog.kingdom"
   ]
  },
  {
   "cell_type": "markdown",
   "id": "460d303b",
   "metadata": {},
   "source": [
    "# How to Define Methods"
   ]
  },
  {
   "cell_type": "raw",
   "id": "deacfedb",
   "metadata": {},
   "source": [
    " Tip: Instance methods can work with the attributes of the instance that is calling the method\n",
    "        if we write self.<attribute> in the method definition."
   ]
  },
  {
   "cell_type": "code",
   "execution_count": 282,
   "id": "97a51553",
   "metadata": {},
   "outputs": [
    {
     "ename": "TypeError",
     "evalue": "unsupported operand type(s) for /: 'str' and 'tuple'",
     "output_type": "error",
     "traceback": [
      "\u001b[1;31m---------------------------------------------------------------------------\u001b[0m",
      "\u001b[1;31mTypeError\u001b[0m                                 Traceback (most recent call last)",
      "\u001b[1;32m~\\AppData\\Local\\Temp\\ipykernel_13212\\3087673902.py\u001b[0m in \u001b[0;36m<module>\u001b[1;34m\u001b[0m\n\u001b[0;32m     16\u001b[0m \u001b[1;33m\u001b[0m\u001b[0m\n\u001b[0;32m     17\u001b[0m \u001b[1;31m# Call the method\u001b[0m\u001b[1;33m\u001b[0m\u001b[1;33m\u001b[0m\u001b[0m\n\u001b[1;32m---> 18\u001b[1;33m \u001b[0mmy_dog\u001b[0m\u001b[1;33m.\u001b[0m\u001b[0mbark\u001b[0m\u001b[1;33m(\u001b[0m\u001b[1;33m)\u001b[0m\u001b[1;33m\u001b[0m\u001b[1;33m\u001b[0m\u001b[0m\n\u001b[0m",
      "\u001b[1;32m~\\AppData\\Local\\Temp\\ipykernel_13212\\3087673902.py\u001b[0m in \u001b[0;36mbark\u001b[1;34m(self)\u001b[0m\n\u001b[0;32m      6\u001b[0m \u001b[1;33m\u001b[0m\u001b[0m\n\u001b[0;32m      7\u001b[0m     \u001b[1;32mdef\u001b[0m \u001b[0mbark\u001b[0m\u001b[1;33m(\u001b[0m\u001b[0mself\u001b[0m\u001b[1;33m)\u001b[0m\u001b[1;33m:\u001b[0m\u001b[1;33m\u001b[0m\u001b[1;33m\u001b[0m\u001b[0m\n\u001b[1;32m----> 8\u001b[1;33m         \u001b[1;32mreturn\u001b[0m \u001b[1;34m\"woof_woof. I am :%s \\nand age is :%d\"\u001b[0m\u001b[1;33m/\u001b[0m\u001b[1;33m(\u001b[0m\u001b[0mself\u001b[0m\u001b[1;33m.\u001b[0m\u001b[0mname\u001b[0m\u001b[1;33m,\u001b[0m\u001b[0mself\u001b[0m\u001b[1;33m.\u001b[0m\u001b[0mage\u001b[0m\u001b[1;33m)\u001b[0m\u001b[1;33m\u001b[0m\u001b[1;33m\u001b[0m\u001b[0m\n\u001b[0m\u001b[0;32m      9\u001b[0m \u001b[1;31m#         return str(\"name: \"+self.name)+' '+str(self.age)\u001b[0m\u001b[1;33m\u001b[0m\u001b[1;33m\u001b[0m\u001b[0m\n\u001b[0;32m     10\u001b[0m \u001b[1;31m#         return(f\"woof_woof. I'm {self.name} and age is {self.age}\")\u001b[0m\u001b[1;33m\u001b[0m\u001b[1;33m\u001b[0m\u001b[0m\n",
      "\u001b[1;31mTypeError\u001b[0m: unsupported operand type(s) for /: 'str' and 'tuple'"
     ]
    }
   ],
   "source": [
    "class Dog:\n",
    "\n",
    "    def __init__(self, name, age):\n",
    "        self.name = name\n",
    "        self.age = age\n",
    "\n",
    "    def bark(self):\n",
    "        return \"woof_woof. I am :%s \\nand age is :%d\"/(self.name,self.age)\n",
    "#         return str(\"name: \"+self.name)+' '+str(self.age)\n",
    "#         return(f\"woof_woof. I'm {self.name} and age is {self.age}\")\n",
    "\n",
    "        \n",
    "# Create the instance\n",
    "my_dog = Dog(\"Nora\", 10)\n",
    "\n",
    "\n",
    "# Call the method\n",
    "my_dog.bark()"
   ]
  },
  {
   "cell_type": "code",
   "execution_count": 283,
   "id": "cd1aebfc",
   "metadata": {},
   "outputs": [],
   "source": [
    "class Player:\n",
    "\n",
    "    def __init__(self, name):\n",
    "        self.name=name\n",
    "        self.speed=50\n",
    "\n",
    "    def increment_speed(self,value):\n",
    "        self.speed += value"
   ]
  },
  {
   "cell_type": "code",
   "execution_count": 284,
   "id": "e8eb99a0",
   "metadata": {},
   "outputs": [
    {
     "data": {
      "text/plain": [
       "50"
      ]
     },
     "execution_count": 284,
     "metadata": {},
     "output_type": "execute_result"
    }
   ],
   "source": [
    "# Create instance        \n",
    "my_player = Player(\"Nora\")\n",
    "\n",
    "# Check initial speed to see the change\n",
    "my_player.speed"
   ]
  },
  {
   "cell_type": "code",
   "execution_count": 285,
   "id": "2e9bf217",
   "metadata": {},
   "outputs": [
    {
     "data": {
      "text/plain": [
       "55"
      ]
     },
     "execution_count": 285,
     "metadata": {},
     "output_type": "execute_result"
    }
   ],
   "source": [
    "# Increment the speed\n",
    "my_player.increment_speed(5)\n",
    "\n",
    "# Confirm the change\n",
    "my_player.speed"
   ]
  },
  {
   "cell_type": "markdown",
   "id": "f438242c",
   "metadata": {},
   "source": [
    "# Properties, Getters and Setters in Python\n",
    "Getters and setters are methods that we can define to get and set the value of an instance attribute, respectively. \n",
    "They work as intermediaries to \"protect\" the attributes from direct changes."
   ]
  },
  {
   "cell_type": "raw",
   "id": "197d217e",
   "metadata": {},
   "source": [
    "@property\n",
    "def <property_name>(self):\n",
    "    return self.<attribute>"
   ]
  },
  {
   "cell_type": "raw",
   "id": "638bc402",
   "metadata": {},
   "source": [
    "# Defined setter method\n",
    "\n",
    "@<property_name>.setter\n",
    "def <property_name>(self, <param>):\n",
    "    self.<attribute> = <param>"
   ]
  },
  {
   "cell_type": "raw",
   "id": "373d075d",
   "metadata": {},
   "source": [
    "#delete the attribute:\n",
    "\n",
    "@<property_name>.deleter\n",
    "def <property_name>(self):\n",
    "    del self.<attribute>"
   ]
  },
  {
   "cell_type": "code",
   "execution_count": 286,
   "id": "ad244a8f",
   "metadata": {},
   "outputs": [
    {
     "name": "stdout",
     "output_type": "stream",
     "text": [
      "Calling getter\n"
     ]
    },
    {
     "data": {
      "text/plain": [
       "'Nora'"
      ]
     },
     "execution_count": 286,
     "metadata": {},
     "output_type": "execute_result"
    }
   ],
   "source": [
    "class Dog:\n",
    "\n",
    "    def __init__(self, name):\n",
    "        self._name = name\n",
    "\n",
    "    @property\n",
    "    def name(self):\n",
    "        print(\"Calling getter\")\n",
    "        return self._name\n",
    "\n",
    "    @name.setter\n",
    "    def name(self, new_name):\n",
    "        print(\"Calling setter\")\n",
    "        self._name = new_name\n",
    "\n",
    "    @name.deleter\n",
    "    def name(self):\n",
    "        print(\"Calling deleter\")\n",
    "        del self._name\n",
    "\n",
    "        \n",
    "my_dog = Dog(\"Nora\")\n",
    "my_dog.name"
   ]
  },
  {
   "cell_type": "code",
   "execution_count": 287,
   "id": "ddf93afb",
   "metadata": {},
   "outputs": [
    {
     "name": "stdout",
     "output_type": "stream",
     "text": [
      "Calling setter\n",
      "Calling getter\n"
     ]
    },
    {
     "data": {
      "text/plain": [
       "'Norita'"
      ]
     },
     "execution_count": 287,
     "metadata": {},
     "output_type": "execute_result"
    }
   ],
   "source": [
    "my_dog.name = \"Norita\"\n",
    "my_dog.name"
   ]
  },
  {
   "cell_type": "code",
   "execution_count": 288,
   "id": "12ddac4f",
   "metadata": {},
   "outputs": [
    {
     "name": "stdout",
     "output_type": "stream",
     "text": [
      "Calling deleter\n"
     ]
    }
   ],
   "source": [
    "del my_dog.name"
   ]
  },
  {
   "cell_type": "markdown",
   "id": "ea481673",
   "metadata": {},
   "source": [
    "# How to Work with Files in Python"
   ]
  },
  {
   "cell_type": "markdown",
   "id": "e9c1fafb",
   "metadata": {},
   "source": [
    "# How to Read Files in Python\n",
    "In Python, it's recommended to use a with statement to work with files because it opens them only while we need them and it closes them automatically when the process is completed."
   ]
  },
  {
   "cell_type": "raw",
   "id": "f98af3f2",
   "metadata": {},
   "source": [
    "# To read a file, we use this syntax:\n",
    "with open(\"<file_path>\") as <file_var>:\n",
    "    <code>"
   ]
  },
  {
   "cell_type": "raw",
   "id": "75432523",
   "metadata": {},
   "source": [
    "# We can also specify that we want to open the file in read mode with an \"r\":\n",
    "with open(\"<file_path>\", \"r\") as <file_var>:\n",
    "    <code>"
   ]
  },
  {
   "cell_type": "code",
   "execution_count": 289,
   "id": "eaceb749",
   "metadata": {},
   "outputs": [
    {
     "ename": "UnsupportedOperation",
     "evalue": "not readable",
     "output_type": "error",
     "traceback": [
      "\u001b[1;31m---------------------------------------------------------------------------\u001b[0m",
      "\u001b[1;31mUnsupportedOperation\u001b[0m                      Traceback (most recent call last)",
      "\u001b[1;32m~\\AppData\\Local\\Temp\\ipykernel_13212\\3121248940.py\u001b[0m in \u001b[0;36m<module>\u001b[1;34m\u001b[0m\n\u001b[0;32m      1\u001b[0m \u001b[1;32mwith\u001b[0m \u001b[0mopen\u001b[0m\u001b[1;33m(\u001b[0m\u001b[1;34m\"famous_quotes.txt\"\u001b[0m\u001b[1;33m,\u001b[0m\u001b[1;34m'w'\u001b[0m\u001b[1;33m)\u001b[0m \u001b[1;32mas\u001b[0m \u001b[0mfile\u001b[0m\u001b[1;33m:\u001b[0m\u001b[1;33m\u001b[0m\u001b[1;33m\u001b[0m\u001b[0m\n\u001b[1;32m----> 2\u001b[1;33m     \u001b[1;32mfor\u001b[0m \u001b[0mline\u001b[0m \u001b[1;32min\u001b[0m \u001b[0mfile\u001b[0m\u001b[1;33m:\u001b[0m\u001b[1;33m\u001b[0m\u001b[1;33m\u001b[0m\u001b[0m\n\u001b[0m\u001b[0;32m      3\u001b[0m         \u001b[0mprint\u001b[0m\u001b[1;33m(\u001b[0m\u001b[0mline\u001b[0m\u001b[1;33m)\u001b[0m\u001b[1;33m\u001b[0m\u001b[1;33m\u001b[0m\u001b[0m\n",
      "\u001b[1;31mUnsupportedOperation\u001b[0m: not readable"
     ]
    }
   ],
   "source": [
    "with open(\"famous_quotes.txt\",'w') as file:\n",
    "    for line in file:\n",
    "        print(line)"
   ]
  },
  {
   "cell_type": "code",
   "execution_count": 290,
   "id": "a2b57dc0",
   "metadata": {},
   "outputs": [],
   "source": [
    "with open(\"famous_quotes.txt\", \"r\") as file:\n",
    "    for line in file:\n",
    "        print(line)"
   ]
  },
  {
   "cell_type": "markdown",
   "id": "0ed1ddd5",
   "metadata": {},
   "source": [
    "# How to Write to a File in Python"
   ]
  },
  {
   "cell_type": "raw",
   "id": "ad3ea854",
   "metadata": {},
   "source": [
    "with open(\"<file_path>\", \"w\") as <file_var>:\n",
    "    <code>"
   ]
  },
  {
   "cell_type": "code",
   "execution_count": 291,
   "id": "e8178fe5",
   "metadata": {},
   "outputs": [
    {
     "name": "stdout",
     "output_type": "stream",
     "text": [
      "<_io.TextIOWrapper name='famous_quotes.txt' mode='w' encoding='cp1252'>\n"
     ]
    }
   ],
   "source": [
    "words = [\"Amazing\", \"Green\", \"Python\", \"Code\"]\n",
    "\n",
    "with open(\"famous_quotes.txt\", \"w\") as file:\n",
    "    for word in words:\n",
    "        file.write(word + \"\\n\")\n",
    "    print(file)"
   ]
  },
  {
   "cell_type": "markdown",
   "id": "f4538fac",
   "metadata": {},
   "source": [
    "# How to Append to a File in Python"
   ]
  },
  {
   "cell_type": "code",
   "execution_count": 292,
   "id": "f3b7e1c2",
   "metadata": {},
   "outputs": [],
   "source": [
    "words = [\"Amazing\", \"Green\", \"Python\", \"Code\"]\n",
    "\n",
    "with open(\"famous_quotes.txt\", \"a\") as file:\n",
    "    for word in words:\n",
    "        file.write(word + \"\\n\")"
   ]
  },
  {
   "cell_type": "markdown",
   "id": "da66e08a",
   "metadata": {},
   "source": [
    "# How to Delete a File in Python\n",
    "To delete a file with our script, we can use the os module. It is recommended to check with a conditional \n",
    "if the file exists before calling the remove() function from this module:"
   ]
  },
  {
   "cell_type": "code",
   "execution_count": 293,
   "id": "bbb879c1",
   "metadata": {},
   "outputs": [],
   "source": [
    "import os\n",
    "\n",
    "if os.path.exists(\"famous_quotes.txt\"):\n",
    "  os.remove(\"famous_quotes.txt\")\n",
    "else:\n",
    "  print(\"This file doesn't exist\")"
   ]
  },
  {
   "cell_type": "code",
   "execution_count": 294,
   "id": "d427ecde",
   "metadata": {},
   "outputs": [
    {
     "name": "stdout",
     "output_type": "stream",
     "text": [
      "this file does not exists\n"
     ]
    }
   ],
   "source": [
    "if os.path.exists('amar.txt'):\n",
    "    os.remove('amar.txt')\n",
    "else:\n",
    "    print('this file does not exists')"
   ]
  },
  {
   "cell_type": "code",
   "execution_count": null,
   "id": "77829baa",
   "metadata": {},
   "outputs": [],
   "source": []
  },
  {
   "cell_type": "code",
   "execution_count": null,
   "id": "ac21911e",
   "metadata": {},
   "outputs": [],
   "source": []
  },
  {
   "cell_type": "code",
   "execution_count": 295,
   "id": "b2a41506",
   "metadata": {},
   "outputs": [
    {
     "data": {
      "text/plain": [
       "5.0"
      ]
     },
     "execution_count": 295,
     "metadata": {},
     "output_type": "execute_result"
    }
   ],
   "source": [
    "import math as m\n",
    "m.sqrt(25)\n",
    "5.0"
   ]
  },
  {
   "cell_type": "code",
   "execution_count": 296,
   "id": "32391da5",
   "metadata": {},
   "outputs": [],
   "source": [
    "from math import sqrt"
   ]
  },
  {
   "cell_type": "code",
   "execution_count": 297,
   "id": "5051720d",
   "metadata": {},
   "outputs": [
    {
     "data": {
      "text/plain": [
       "5.0"
      ]
     },
     "execution_count": 297,
     "metadata": {},
     "output_type": "execute_result"
    }
   ],
   "source": [
    "from math import sqrt\n",
    "sqrt(25)\n",
    "5.0"
   ]
  },
  {
   "cell_type": "code",
   "execution_count": 298,
   "id": "6d7829c4",
   "metadata": {},
   "outputs": [
    {
     "data": {
      "text/plain": [
       "1"
      ]
     },
     "execution_count": 298,
     "metadata": {},
     "output_type": "execute_result"
    }
   ],
   "source": [
    "from math import *\n",
    "\n",
    "sqrt(25)\n",
    "5.0\n",
    "\n",
    "factorial(5)\n",
    "120\n",
    "\n",
    "floor(4.6)\n",
    "4\n",
    "\n",
    "gcd(5, 8)\n",
    "1"
   ]
  },
  {
   "cell_type": "code",
   "execution_count": 299,
   "id": "5d4b7f62",
   "metadata": {},
   "outputs": [
    {
     "data": {
      "text/plain": [
       "8"
      ]
     },
     "execution_count": 299,
     "metadata": {},
     "output_type": "execute_result"
    }
   ],
   "source": [
    "2**3"
   ]
  },
  {
   "cell_type": "markdown",
   "id": "0e00b856",
   "metadata": {},
   "source": [
    "# List Comprehension in Python"
   ]
  },
  {
   "cell_type": "code",
   "execution_count": 300,
   "id": "90f1031d",
   "metadata": {},
   "outputs": [
    {
     "data": {
      "text/plain": [
       "[9, 16, 25]"
      ]
     },
     "execution_count": 300,
     "metadata": {},
     "output_type": "execute_result"
    }
   ],
   "source": [
    "[i for i in range(4, 15)]\n",
    "[4, 5, 6, 7, 8, 9, 10, 11, 12, 13, 14]\n",
    "\n",
    "[chr(i) for i in range(67, 80)]\n",
    "['C', 'D', 'E', 'F', 'G', 'H', 'I', 'J', 'K', 'L', 'M', 'N', 'O']\n",
    "\n",
    "[i**3 for i in range(2, 5)]\n",
    "[8, 27, 64]\n",
    "\n",
    "[i + j for i in range(4, 8) for j in range(3, 7)]\n",
    "[8, 9, 10, 9, 10, 11, 10, 11, 12]\n",
    "\n",
    "[k for k in range(3, 35) if k % 2 == 0]\n",
    "[4, 6, 8, 10, 12, 14, 16, 18, 20, 22, 24, 26, 28, 30, 32, 34]\n",
    "\n",
    "[i * j for i in range(2, 6) for j in range(3, 7) if i % j == 0]\n",
    "[9, 16, 25]"
   ]
  },
  {
   "cell_type": "markdown",
   "id": "a759a981",
   "metadata": {},
   "source": [
    "# Dictionary Comprehension in Python"
   ]
  },
  {
   "cell_type": "code",
   "execution_count": 301,
   "id": "96fbb8c2",
   "metadata": {},
   "outputs": [
    {
     "data": {
      "text/plain": [
       "{4: 10, 5: 11, 6: 12, 7: 13}"
      ]
     },
     "execution_count": 301,
     "metadata": {},
     "output_type": "execute_result"
    }
   ],
   "source": [
    "{num: num**3 for num in range(3, 15)}\n",
    "{3: 27, 4: 64, 5: 125, 6: 216, 7: 343, 8: 512, 9: 729, 10: 1000, 11: 1331, 12: 1728, 13: 2197, 14: 2744}\n",
    "\n",
    "{x: x + y for x in range(4, 8) for y in range(3, 7)}\n",
    "{4: 10, 5: 11, 6: 12, 7: 13}"
   ]
  },
  {
   "cell_type": "code",
   "execution_count": 302,
   "id": "c846c0ea",
   "metadata": {},
   "outputs": [
    {
     "data": {
      "text/plain": [
       "[7, 8, 9, 10, 8, 9, 10, 11, 9, 10, 11, 12, 10, 11, 12, 13]"
      ]
     },
     "execution_count": 302,
     "metadata": {},
     "output_type": "execute_result"
    }
   ],
   "source": [
    "[x + y for x in range(4, 8) for y in range(3, 7)]"
   ]
  },
  {
   "cell_type": "code",
   "execution_count": 303,
   "id": "b9936964",
   "metadata": {},
   "outputs": [
    {
     "data": {
      "text/plain": [
       "1"
      ]
     },
     "execution_count": 303,
     "metadata": {},
     "output_type": "execute_result"
    }
   ],
   "source": [
    "~(-2)"
   ]
  },
  {
   "cell_type": "code",
   "execution_count": 304,
   "id": "2fe480fb",
   "metadata": {},
   "outputs": [
    {
     "name": "stdout",
     "output_type": "stream",
     "text": [
      "5\n"
     ]
    }
   ],
   "source": [
    "#operator overriding \n",
    "class A:\n",
    "    def __init__(self,a):\n",
    "        self.a=a\n",
    "    def __add__(self,other):\n",
    "        return self.a+other.a\n",
    "obj1=A(2)\n",
    "obj2=A(3)\n",
    "print(A.__add__(obj1,obj2))"
   ]
  },
  {
   "cell_type": "code",
   "execution_count": 305,
   "id": "84425fb0",
   "metadata": {},
   "outputs": [
    {
     "data": {
      "text/html": [
       "<div>\n",
       "<style scoped>\n",
       "    .dataframe tbody tr th:only-of-type {\n",
       "        vertical-align: middle;\n",
       "    }\n",
       "\n",
       "    .dataframe tbody tr th {\n",
       "        vertical-align: top;\n",
       "    }\n",
       "\n",
       "    .dataframe thead th {\n",
       "        text-align: right;\n",
       "    }\n",
       "</style>\n",
       "<table border=\"1\" class=\"dataframe\">\n",
       "  <thead>\n",
       "    <tr style=\"text-align: right;\">\n",
       "      <th></th>\n",
       "      <th>a</th>\n",
       "      <th>s</th>\n",
       "      <th>d</th>\n",
       "      <th>f</th>\n",
       "      <th>g</th>\n",
       "    </tr>\n",
       "  </thead>\n",
       "  <tbody>\n",
       "    <tr>\n",
       "      <th>0</th>\n",
       "      <td>0.146897</td>\n",
       "      <td>0.748917</td>\n",
       "      <td>0.111546</td>\n",
       "      <td>0.117809</td>\n",
       "      <td>0.279830</td>\n",
       "    </tr>\n",
       "    <tr>\n",
       "      <th>1</th>\n",
       "      <td>0.094679</td>\n",
       "      <td>0.503391</td>\n",
       "      <td>0.148039</td>\n",
       "      <td>0.443910</td>\n",
       "      <td>0.245458</td>\n",
       "    </tr>\n",
       "    <tr>\n",
       "      <th>2</th>\n",
       "      <td>0.767319</td>\n",
       "      <td>0.910110</td>\n",
       "      <td>0.556176</td>\n",
       "      <td>0.442891</td>\n",
       "      <td>0.310637</td>\n",
       "    </tr>\n",
       "    <tr>\n",
       "      <th>3</th>\n",
       "      <td>0.655364</td>\n",
       "      <td>0.755623</td>\n",
       "      <td>0.697828</td>\n",
       "      <td>0.098640</td>\n",
       "      <td>0.032405</td>\n",
       "    </tr>\n",
       "  </tbody>\n",
       "</table>\n",
       "</div>"
      ],
      "text/plain": [
       "          a         s         d         f         g\n",
       "0  0.146897  0.748917  0.111546  0.117809  0.279830\n",
       "1  0.094679  0.503391  0.148039  0.443910  0.245458\n",
       "2  0.767319  0.910110  0.556176  0.442891  0.310637\n",
       "3  0.655364  0.755623  0.697828  0.098640  0.032405"
      ]
     },
     "execution_count": 305,
     "metadata": {},
     "output_type": "execute_result"
    }
   ],
   "source": [
    "import numpy as np\n",
    "import pandas as pd\n",
    "df=pd.DataFrame(np.random.rand(4,5),columns=list(\"asdfg\"))\n",
    "df"
   ]
  },
  {
   "cell_type": "code",
   "execution_count": 306,
   "id": "9ded3ec6",
   "metadata": {},
   "outputs": [
    {
     "data": {
      "text/plain": [
       "0    0.146897\n",
       "1    0.094679\n",
       "Name: a, dtype: float64"
      ]
     },
     "execution_count": 306,
     "metadata": {},
     "output_type": "execute_result"
    }
   ],
   "source": [
    "l1=df['a'][:2]\n",
    "l1"
   ]
  },
  {
   "cell_type": "code",
   "execution_count": 307,
   "id": "276c206c",
   "metadata": {},
   "outputs": [
    {
     "data": {
      "text/plain": [
       "[0.14689710528850863, 0.09467856333507285]"
      ]
     },
     "execution_count": 307,
     "metadata": {},
     "output_type": "execute_result"
    }
   ],
   "source": [
    "output=[]\n",
    "for i in l1:\n",
    "    output.append(i)\n",
    "output"
   ]
  },
  {
   "cell_type": "code",
   "execution_count": 308,
   "id": "15eadc1a",
   "metadata": {},
   "outputs": [
    {
     "data": {
      "text/plain": [
       "0    0.146897\n",
       "1    0.094679\n",
       "Name: a, dtype: float64"
      ]
     },
     "execution_count": 308,
     "metadata": {},
     "output_type": "execute_result"
    }
   ],
   "source": [
    "pd.Series(df['a'][:2],index=None)"
   ]
  },
  {
   "cell_type": "code",
   "execution_count": 309,
   "id": "4aa034bd",
   "metadata": {},
   "outputs": [
    {
     "data": {
      "text/plain": [
       "[0.14689710528850863, 0.09467856333507285, 3, 4, 5]"
      ]
     },
     "execution_count": 309,
     "metadata": {},
     "output_type": "execute_result"
    }
   ],
   "source": [
    "output.extend([3,4,5])\n",
    "o=output\n",
    "o"
   ]
  },
  {
   "cell_type": "code",
   "execution_count": 6,
   "id": "018bc984",
   "metadata": {},
   "outputs": [
    {
     "data": {
      "text/html": [
       "<div>\n",
       "<style scoped>\n",
       "    .dataframe tbody tr th:only-of-type {\n",
       "        vertical-align: middle;\n",
       "    }\n",
       "\n",
       "    .dataframe tbody tr th {\n",
       "        vertical-align: top;\n",
       "    }\n",
       "\n",
       "    .dataframe thead th {\n",
       "        text-align: right;\n",
       "    }\n",
       "</style>\n",
       "<table border=\"1\" class=\"dataframe\">\n",
       "  <thead>\n",
       "    <tr style=\"text-align: right;\">\n",
       "      <th></th>\n",
       "      <th>date</th>\n",
       "      <th>id</th>\n",
       "      <th>order_stats</th>\n",
       "    </tr>\n",
       "  </thead>\n",
       "  <tbody>\n",
       "    <tr>\n",
       "      <th>0</th>\n",
       "      <td>2023-11-21</td>\n",
       "      <td>0.888699</td>\n",
       "      <td>1</td>\n",
       "    </tr>\n",
       "    <tr>\n",
       "      <th>1</th>\n",
       "      <td>2023-11-22</td>\n",
       "      <td>0.104441</td>\n",
       "      <td>2</td>\n",
       "    </tr>\n",
       "    <tr>\n",
       "      <th>2</th>\n",
       "      <td>2023-11-23</td>\n",
       "      <td>3.000000</td>\n",
       "      <td>3</td>\n",
       "    </tr>\n",
       "    <tr>\n",
       "      <th>3</th>\n",
       "      <td>2023-11-24</td>\n",
       "      <td>4.000000</td>\n",
       "      <td>4</td>\n",
       "    </tr>\n",
       "    <tr>\n",
       "      <th>4</th>\n",
       "      <td>2023-11-25</td>\n",
       "      <td>5.000000</td>\n",
       "      <td>5</td>\n",
       "    </tr>\n",
       "  </tbody>\n",
       "</table>\n",
       "</div>"
      ],
      "text/plain": [
       "        date        id  order_stats\n",
       "0 2023-11-21  0.888699            1\n",
       "1 2023-11-22  0.104441            2\n",
       "2 2023-11-23  3.000000            3\n",
       "3 2023-11-24  4.000000            4\n",
       "4 2023-11-25  5.000000            5"
      ]
     },
     "execution_count": 6,
     "metadata": {},
     "output_type": "execute_result"
    }
   ],
   "source": [
    "date=pd.date_range('11/21/2023',periods=5)\n",
    "order_st=[1,2,3,4,5]\n",
    "df1=pd.DataFrame({'date':date,'id':o,'order_stats':order_st},columns=['date','id','order_stats'])\n",
    "df1"
   ]
  }
 ],
 "metadata": {
  "kernelspec": {
   "display_name": "Python 3 (ipykernel)",
   "language": "python",
   "name": "python3"
  },
  "language_info": {
   "codemirror_mode": {
    "name": "ipython",
    "version": 3
   },
   "file_extension": ".py",
   "mimetype": "text/x-python",
   "name": "python",
   "nbconvert_exporter": "python",
   "pygments_lexer": "ipython3",
   "version": "3.9.13"
  }
 },
 "nbformat": 4,
 "nbformat_minor": 5
}
