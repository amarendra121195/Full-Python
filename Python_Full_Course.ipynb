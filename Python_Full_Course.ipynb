{
 "cells": [
  {
   "cell_type": "code",
   "execution_count": 1,
   "id": "186cfa79",
   "metadata": {},
   "outputs": [],
   "source": [
    "import pandas as pd"
   ]
  },
  {
   "cell_type": "code",
   "execution_count": 2,
   "id": "b7805d84",
   "metadata": {},
   "outputs": [],
   "source": [
    "import numpy as np"
   ]
  },
  {
   "cell_type": "code",
   "execution_count": 3,
   "id": "5c13233c",
   "metadata": {},
   "outputs": [
    {
     "data": {
      "text/plain": [
       "range(0, 8)"
      ]
     },
     "execution_count": 3,
     "metadata": {},
     "output_type": "execute_result"
    }
   ],
   "source": [
    "range(8)"
   ]
  },
  {
   "cell_type": "code",
   "execution_count": 4,
   "id": "2afb699d",
   "metadata": {},
   "outputs": [
    {
     "name": "stdout",
     "output_type": "stream",
     "text": [
      "my mobile company name is the Realme.\n"
     ]
    }
   ],
   "source": [
    "class Mobile:\n",
    "    def __init__(self):\n",
    "        self.model='Realme'\n",
    "    def show_model(self):\n",
    "        print(f\"my mobile company name is the {self.model}.\")\n",
    "obj=Mobile()\n",
    "obj.show_model()"
   ]
  },
  {
   "cell_type": "code",
   "execution_count": 5,
   "id": "d31aafa8",
   "metadata": {},
   "outputs": [],
   "source": [
    "dates=pd.date_range('3/5/2023',periods=(5))\n",
    "ts=pd.Series(np.arange(5),index=dates)\n",
    "ts.to_csv('tseries.csv')"
   ]
  },
  {
   "cell_type": "code",
   "execution_count": 6,
   "id": "0b61e991",
   "metadata": {},
   "outputs": [
    {
     "data": {
      "text/html": [
       "<div>\n",
       "<style scoped>\n",
       "    .dataframe tbody tr th:only-of-type {\n",
       "        vertical-align: middle;\n",
       "    }\n",
       "\n",
       "    .dataframe tbody tr th {\n",
       "        vertical-align: top;\n",
       "    }\n",
       "\n",
       "    .dataframe thead th {\n",
       "        text-align: right;\n",
       "    }\n",
       "</style>\n",
       "<table border=\"1\" class=\"dataframe\">\n",
       "  <thead>\n",
       "    <tr style=\"text-align: right;\">\n",
       "      <th></th>\n",
       "      <th>W</th>\n",
       "      <th>X</th>\n",
       "      <th>Y</th>\n",
       "      <th>Z</th>\n",
       "    </tr>\n",
       "  </thead>\n",
       "  <tbody>\n",
       "    <tr>\n",
       "      <th>A</th>\n",
       "      <td>-0.187821</td>\n",
       "      <td>-0.795187</td>\n",
       "      <td>0.740953</td>\n",
       "      <td>0.062699</td>\n",
       "    </tr>\n",
       "    <tr>\n",
       "      <th>B</th>\n",
       "      <td>0.228259</td>\n",
       "      <td>-0.413638</td>\n",
       "      <td>2.185542</td>\n",
       "      <td>0.950796</td>\n",
       "    </tr>\n",
       "    <tr>\n",
       "      <th>C</th>\n",
       "      <td>0.677916</td>\n",
       "      <td>-1.427295</td>\n",
       "      <td>1.086126</td>\n",
       "      <td>1.047001</td>\n",
       "    </tr>\n",
       "    <tr>\n",
       "      <th>D</th>\n",
       "      <td>-0.029046</td>\n",
       "      <td>-0.667710</td>\n",
       "      <td>0.377074</td>\n",
       "      <td>-2.406202</td>\n",
       "    </tr>\n",
       "    <tr>\n",
       "      <th>E</th>\n",
       "      <td>2.350885</td>\n",
       "      <td>-0.016288</td>\n",
       "      <td>-1.608841</td>\n",
       "      <td>0.072304</td>\n",
       "    </tr>\n",
       "  </tbody>\n",
       "</table>\n",
       "</div>"
      ],
      "text/plain": [
       "          W         X         Y         Z\n",
       "A -0.187821 -0.795187  0.740953  0.062699\n",
       "B  0.228259 -0.413638  2.185542  0.950796\n",
       "C  0.677916 -1.427295  1.086126  1.047001\n",
       "D -0.029046 -0.667710  0.377074 -2.406202\n",
       "E  2.350885 -0.016288 -1.608841  0.072304"
      ]
     },
     "execution_count": 6,
     "metadata": {},
     "output_type": "execute_result"
    }
   ],
   "source": [
    "from numpy.random import randn as rn   # randn is normal distribution and rand is uniform distribution \n",
    "df=pd.DataFrame(rn(5,4),index=list('ABCDE'),columns=list('WXYZ'))\n",
    "df"
   ]
  },
  {
   "cell_type": "code",
   "execution_count": 7,
   "id": "f85033de",
   "metadata": {},
   "outputs": [],
   "source": [
    "from matplotlib import pyplot as plt\n",
    "%matplotlib inline"
   ]
  },
  {
   "cell_type": "code",
   "execution_count": 8,
   "id": "f2ffd23c",
   "metadata": {},
   "outputs": [],
   "source": [
    "from word2number import w2n"
   ]
  },
  {
   "cell_type": "code",
   "execution_count": 9,
   "id": "eef74afd",
   "metadata": {},
   "outputs": [
    {
     "name": "stdout",
     "output_type": "stream",
     "text": [
      "welcome to data science course\n"
     ]
    }
   ],
   "source": [
    "print('welcome to data science course')"
   ]
  },
  {
   "cell_type": "code",
   "execution_count": 10,
   "id": "a44306d0",
   "metadata": {},
   "outputs": [
    {
     "data": {
      "text/plain": [
       "'ramuk ardnerama'"
      ]
     },
     "execution_count": 10,
     "metadata": {},
     "output_type": "execute_result"
    }
   ],
   "source": [
    "str1='amarendra kumar'\n",
    "''.join(reversed(str1))"
   ]
  },
  {
   "cell_type": "code",
   "execution_count": 11,
   "id": "25f1774f",
   "metadata": {},
   "outputs": [
    {
     "data": {
      "text/plain": [
       "'ramuk ardnerama'"
      ]
     },
     "execution_count": 11,
     "metadata": {},
     "output_type": "execute_result"
    }
   ],
   "source": [
    "str1[::-1]"
   ]
  },
  {
   "cell_type": "code",
   "execution_count": 12,
   "id": "80789121",
   "metadata": {},
   "outputs": [
    {
     "data": {
      "text/plain": [
       "9"
      ]
     },
     "execution_count": 12,
     "metadata": {},
     "output_type": "execute_result"
    }
   ],
   "source": [
    "# keyword variable lenght argument\n",
    "def add(**num):\n",
    "    z=num['a']+num['b']+num['c']\n",
    "    return z\n",
    "add(a=2,b=3,c=4)"
   ]
  },
  {
   "cell_type": "code",
   "execution_count": null,
   "id": "fb9fa28e",
   "metadata": {},
   "outputs": [],
   "source": []
  },
  {
   "cell_type": "code",
   "execution_count": 13,
   "id": "6495f490",
   "metadata": {},
   "outputs": [
    {
     "data": {
      "text/plain": [
       "9"
      ]
     },
     "execution_count": 13,
     "metadata": {},
     "output_type": "execute_result"
    }
   ],
   "source": [
    "# variable lenght argument\n",
    "def add(*num):\n",
    "    z=num[0]+num[1]+num[2]\n",
    "    return z\n",
    "add(2,3,4)"
   ]
  },
  {
   "cell_type": "code",
   "execution_count": 14,
   "id": "df6753ee",
   "metadata": {},
   "outputs": [
    {
     "data": {
      "text/plain": [
       "'ardnerama'"
      ]
     },
     "execution_count": 14,
     "metadata": {},
     "output_type": "execute_result"
    }
   ],
   "source": [
    "str1='amarendra'\n",
    "str1[::-1]"
   ]
  },
  {
   "cell_type": "code",
   "execution_count": 15,
   "id": "1dbb7753",
   "metadata": {},
   "outputs": [
    {
     "name": "stdout",
     "output_type": "stream",
     "text": [
      "['ardnerama', 'ramuk']\n"
     ]
    }
   ],
   "source": [
    "str1='amarendra kumar'\n",
    "temp=str1.split()\n",
    "output=[]\n",
    "for i in temp:\n",
    "    output.append(i[::-1])\n",
    "print(output)"
   ]
  },
  {
   "cell_type": "code",
   "execution_count": 16,
   "id": "bc848121",
   "metadata": {},
   "outputs": [
    {
     "data": {
      "text/plain": [
       "['amarendra', 'kumar']"
      ]
     },
     "execution_count": 16,
     "metadata": {},
     "output_type": "execute_result"
    }
   ],
   "source": [
    "temp"
   ]
  },
  {
   "cell_type": "code",
   "execution_count": 17,
   "id": "0ee58b14",
   "metadata": {},
   "outputs": [
    {
     "name": "stdout",
     "output_type": "stream",
     "text": [
      "ardnerama ramuk ahawhsuk "
     ]
    }
   ],
   "source": [
    "str2='amarendra kumar kushwaha'\n",
    "temp=str2.split()\n",
    "output=[]\n",
    "for i in temp:\n",
    "    print(i[::-1],end=' ')\n",
    "#     output.append(i[::-1])\n",
    "# print(output)"
   ]
  },
  {
   "cell_type": "code",
   "execution_count": 18,
   "id": "d877ade5",
   "metadata": {},
   "outputs": [
    {
     "name": "stdout",
     "output_type": "stream",
     "text": [
      "['amarendra', 'kumar', 'kushwaha']\n"
     ]
    }
   ],
   "source": [
    "print(temp)"
   ]
  },
  {
   "cell_type": "code",
   "execution_count": 19,
   "id": "110661ec",
   "metadata": {},
   "outputs": [
    {
     "name": "stdout",
     "output_type": "stream",
     "text": [
      "['kushwaha', 'kumar', 'amarendra']\n"
     ]
    }
   ],
   "source": [
    "print(temp[::-1])"
   ]
  },
  {
   "cell_type": "code",
   "execution_count": 20,
   "id": "15f0382b",
   "metadata": {},
   "outputs": [
    {
     "data": {
      "text/plain": [
       "'ramuk ardnerama'"
      ]
     },
     "execution_count": 20,
     "metadata": {},
     "output_type": "execute_result"
    }
   ],
   "source": [
    "''.join(reversed(str1))"
   ]
  },
  {
   "cell_type": "code",
   "execution_count": 21,
   "id": "97c7d6b3",
   "metadata": {},
   "outputs": [
    {
     "name": "stdout",
     "output_type": "stream",
     "text": [
      "40302010\n"
     ]
    }
   ],
   "source": [
    "num='01020304'\n",
    "new_num=int(''.join(reversed(num)))\n",
    "print(new_num)"
   ]
  },
  {
   "cell_type": "code",
   "execution_count": 22,
   "id": "b34a9c8e",
   "metadata": {},
   "outputs": [
    {
     "data": {
      "text/plain": [
       "40302010"
      ]
     },
     "execution_count": 22,
     "metadata": {},
     "output_type": "execute_result"
    }
   ],
   "source": [
    "int(num[::-1])"
   ]
  },
  {
   "cell_type": "code",
   "execution_count": 23,
   "id": "c4b30ae7",
   "metadata": {},
   "outputs": [
    {
     "name": "stdout",
     "output_type": "stream",
     "text": [
      "4030201\n"
     ]
    }
   ],
   "source": [
    "num=1020304 \n",
    "rev=0\n",
    "while num>0:\n",
    "    a=num%10\n",
    "    rev=rev*10+a\n",
    "    num=num//10\n",
    "print(rev)"
   ]
  },
  {
   "cell_type": "code",
   "execution_count": null,
   "id": "6ac402fa",
   "metadata": {},
   "outputs": [],
   "source": []
  },
  {
   "cell_type": "code",
   "execution_count": 24,
   "id": "137db031",
   "metadata": {},
   "outputs": [
    {
     "data": {
      "text/plain": [
       "4"
      ]
     },
     "execution_count": 24,
     "metadata": {},
     "output_type": "execute_result"
    }
   ],
   "source": [
    "num=1020304 \n",
    "num%10"
   ]
  },
  {
   "cell_type": "code",
   "execution_count": 25,
   "id": "c29ee81d",
   "metadata": {},
   "outputs": [
    {
     "data": {
      "text/plain": [
       "'amarendra kumar'"
      ]
     },
     "execution_count": 25,
     "metadata": {},
     "output_type": "execute_result"
    }
   ],
   "source": [
    "str1.strip()"
   ]
  },
  {
   "cell_type": "code",
   "execution_count": 26,
   "id": "dbce70f2",
   "metadata": {},
   "outputs": [
    {
     "data": {
      "text/plain": [
       "'marendra kumar'"
      ]
     },
     "execution_count": 26,
     "metadata": {},
     "output_type": "execute_result"
    }
   ],
   "source": [
    "str1.lstrip('a')"
   ]
  },
  {
   "cell_type": "code",
   "execution_count": 27,
   "id": "7648cf38",
   "metadata": {},
   "outputs": [
    {
     "data": {
      "text/plain": [
       "'amarendra kuma'"
      ]
     },
     "execution_count": 27,
     "metadata": {},
     "output_type": "execute_result"
    }
   ],
   "source": [
    "str1.rstrip('r')"
   ]
  },
  {
   "cell_type": "code",
   "execution_count": 28,
   "id": "a75666a9",
   "metadata": {},
   "outputs": [],
   "source": [
    "str2='data science'"
   ]
  },
  {
   "cell_type": "code",
   "execution_count": 29,
   "id": "2a3c0499",
   "metadata": {},
   "outputs": [
    {
     "data": {
      "text/plain": [
       "'ecneics atad'"
      ]
     },
     "execution_count": 29,
     "metadata": {},
     "output_type": "execute_result"
    }
   ],
   "source": [
    "''.join(reversed(str2))"
   ]
  },
  {
   "cell_type": "code",
   "execution_count": 30,
   "id": "924a496b",
   "metadata": {},
   "outputs": [
    {
     "data": {
      "text/plain": [
       "'ecneics atad'"
      ]
     },
     "execution_count": 30,
     "metadata": {},
     "output_type": "execute_result"
    }
   ],
   "source": [
    "str2[::-1]"
   ]
  },
  {
   "cell_type": "markdown",
   "id": "29ed269c",
   "metadata": {},
   "source": [
    "# Range\n",
    "> range function is generate the sequence of integer by default start with 0 and till 1-n may be -ve and +ve (0 to last numbers)"
   ]
  },
  {
   "cell_type": "code",
   "execution_count": 38,
   "id": "128ccd50",
   "metadata": {},
   "outputs": [],
   "source": [
    "for i in range(2,-10):\n",
    "    print(i)"
   ]
  },
  {
   "cell_type": "code",
   "execution_count": 39,
   "id": "eaafec74",
   "metadata": {},
   "outputs": [
    {
     "data": {
      "text/plain": [
       "[0, 1, 2, 3, 4, 5, 6, 7, 8, 9]"
      ]
     },
     "execution_count": 39,
     "metadata": {},
     "output_type": "execute_result"
    }
   ],
   "source": [
    "list(range(10))"
   ]
  },
  {
   "cell_type": "code",
   "execution_count": 40,
   "id": "c5d4ad86",
   "metadata": {},
   "outputs": [
    {
     "data": {
      "text/plain": [
       "[3, 4, 5, 6, 7, 8, 9]"
      ]
     },
     "execution_count": 40,
     "metadata": {},
     "output_type": "execute_result"
    }
   ],
   "source": [
    "list(range(3,10))"
   ]
  },
  {
   "cell_type": "code",
   "execution_count": 41,
   "id": "7988c126",
   "metadata": {},
   "outputs": [
    {
     "data": {
      "text/plain": [
       "[10, 9, 8, 7, 6, 5, 4]"
      ]
     },
     "execution_count": 41,
     "metadata": {},
     "output_type": "execute_result"
    }
   ],
   "source": [
    "## reverse\n",
    "list(range(10,3,-1))"
   ]
  },
  {
   "cell_type": "code",
   "execution_count": 42,
   "id": "b312fb41",
   "metadata": {},
   "outputs": [
    {
     "name": "stdout",
     "output_type": "stream",
     "text": [
      "True = 3\n",
      "False = 4\n",
      "True = 5\n",
      "False = 6\n",
      "True = 7\n",
      "False = 8\n",
      "True = 25\n",
      "False = 4\n",
      "True = 5\n",
      "False = 5\n"
     ]
    }
   ],
   "source": [
    "l=[3,4,5,6,7,8,25,4,5,5]\n",
    "for i in range(len(l)):\n",
    "    print(i%2==0,'=',l[i])"
   ]
  },
  {
   "cell_type": "code",
   "execution_count": 43,
   "id": "daf324f6",
   "metadata": {},
   "outputs": [],
   "source": [
    "l.insert(10,'amarendra')\n",
    "l.insert(11,'kumar')"
   ]
  },
  {
   "cell_type": "code",
   "execution_count": 44,
   "id": "3a36d386",
   "metadata": {},
   "outputs": [
    {
     "data": {
      "text/plain": [
       "'kumar'"
      ]
     },
     "execution_count": 44,
     "metadata": {},
     "output_type": "execute_result"
    }
   ],
   "source": [
    "l.pop()"
   ]
  },
  {
   "cell_type": "code",
   "execution_count": 45,
   "id": "d39b7143",
   "metadata": {},
   "outputs": [
    {
     "data": {
      "text/plain": [
       "[3, 4, 5, 6, 7, 8, 25, 4, 5, 5, 'amarendra']"
      ]
     },
     "execution_count": 45,
     "metadata": {},
     "output_type": "execute_result"
    }
   ],
   "source": [
    "l"
   ]
  },
  {
   "cell_type": "code",
   "execution_count": 46,
   "id": "f305ee16",
   "metadata": {},
   "outputs": [
    {
     "name": "stdout",
     "output_type": "stream",
     "text": [
      "t:  ['amarendra']\n",
      "t2:  [3, 4, 5, 6, 7, 8, 25, 4, 5, 5]\n"
     ]
    }
   ],
   "source": [
    "t=[]\n",
    "t2=[]\n",
    "for i in l:\n",
    "    if type(i)==str:\n",
    "        t.append(i)\n",
    "    else:\n",
    "        t2.append(i)\n",
    "print('t: ',t)\n",
    "print('t2: ',t2)\n"
   ]
  },
  {
   "cell_type": "code",
   "execution_count": 47,
   "id": "1d9fefef",
   "metadata": {},
   "outputs": [
    {
     "name": "stdout",
     "output_type": "stream",
     "text": [
      "55\n"
     ]
    }
   ],
   "source": [
    "## sumation of data 1 to 10 natural numbers\n",
    "def naturals_numbers(n):\n",
    "    sum=0\n",
    "    i=0\n",
    "    while (n>=i):\n",
    "        sum+=i\n",
    "        i+=1\n",
    "    print(sum)\n",
    "naturals_numbers(10)"
   ]
  },
  {
   "cell_type": "code",
   "execution_count": 48,
   "id": "8a36e59e",
   "metadata": {},
   "outputs": [
    {
     "name": "stdout",
     "output_type": "stream",
     "text": [
      "55\n"
     ]
    }
   ],
   "source": [
    "def naturals(n):\n",
    "    sum=0\n",
    "    for i in range(n+1):\n",
    "        sum+=i\n",
    "    print(sum)\n",
    "naturals(10)"
   ]
  },
  {
   "cell_type": "code",
   "execution_count": 49,
   "id": "90d40078",
   "metadata": {},
   "outputs": [
    {
     "data": {
      "text/plain": [
       "15"
      ]
     },
     "execution_count": 49,
     "metadata": {},
     "output_type": "execute_result"
    }
   ],
   "source": [
    "lst=[1,2,3,4,5]\n",
    "sum(lst)"
   ]
  },
  {
   "cell_type": "code",
   "execution_count": 50,
   "id": "063d44be",
   "metadata": {},
   "outputs": [
    {
     "name": "stdout",
     "output_type": "stream",
     "text": [
      "15\n"
     ]
    }
   ],
   "source": [
    "sum=0\n",
    "for i in lst:\n",
    "    sum+=i\n",
    "print(sum)"
   ]
  },
  {
   "cell_type": "markdown",
   "id": "93508bfa",
   "metadata": {},
   "source": [
    "# break"
   ]
  },
  {
   "cell_type": "code",
   "execution_count": 51,
   "id": "7fce5da4",
   "metadata": {},
   "outputs": [
    {
     "name": "stdout",
     "output_type": "stream",
     "text": [
      "a\n",
      "m\n",
      "a\n",
      "r\n",
      "e\n",
      "out of loop\n"
     ]
    }
   ],
   "source": [
    "for x in 'amarendra':\n",
    "    if x=='n':\n",
    "        break\n",
    "    print(x)\n",
    "else:\n",
    "    print('yes i am able to complete iteration')\n",
    "print('out of loop')"
   ]
  },
  {
   "cell_type": "markdown",
   "id": "abf9aca2",
   "metadata": {},
   "source": [
    "# continue\n",
    "> immediate the control the for loop and after the continue"
   ]
  },
  {
   "cell_type": "code",
   "execution_count": 52,
   "id": "b1215312",
   "metadata": {},
   "outputs": [
    {
     "name": "stdout",
     "output_type": "stream",
     "text": [
      "a\n",
      "m\n",
      "a\n",
      "r\n",
      "e\n",
      "d\n",
      "r\n",
      "a\n",
      "hello amarendra kumar\n"
     ]
    }
   ],
   "source": [
    "for i in 'amarendra':\n",
    "    if i=='n':\n",
    "        continue\n",
    "    print(i)\n",
    "else:\n",
    "    print('hello amarendra kumar')"
   ]
  },
  {
   "cell_type": "markdown",
   "id": "35ef0573",
   "metadata": {},
   "source": [
    "# input\n",
    "> input function is always return the integer, "
   ]
  },
  {
   "cell_type": "code",
   "execution_count": 53,
   "id": "c91bbdf3",
   "metadata": {},
   "outputs": [
    {
     "name": "stdout",
     "output_type": "stream",
     "text": [
      "\n"
     ]
    }
   ],
   "source": [
    "a=input()"
   ]
  },
  {
   "cell_type": "code",
   "execution_count": 54,
   "id": "57e66b5c",
   "metadata": {},
   "outputs": [
    {
     "data": {
      "text/plain": [
       "str"
      ]
     },
     "execution_count": 54,
     "metadata": {},
     "output_type": "execute_result"
    }
   ],
   "source": [
    "type(a)"
   ]
  },
  {
   "cell_type": "code",
   "execution_count": 55,
   "id": "50620c98",
   "metadata": {},
   "outputs": [
    {
     "name": "stdout",
     "output_type": "stream",
     "text": [
      "\n"
     ]
    },
    {
     "ename": "ValueError",
     "evalue": "invalid literal for int() with base 10: ''",
     "output_type": "error",
     "traceback": [
      "\u001b[1;31m---------------------------------------------------------------------------\u001b[0m",
      "\u001b[1;31mValueError\u001b[0m                                Traceback (most recent call last)",
      "\u001b[1;32m~\\AppData\\Local\\Temp\\ipykernel_6832\\3242210412.py\u001b[0m in \u001b[0;36m<module>\u001b[1;34m\u001b[0m\n\u001b[1;32m----> 1\u001b[1;33m \u001b[0mb\u001b[0m\u001b[1;33m=\u001b[0m\u001b[0mint\u001b[0m\u001b[1;33m(\u001b[0m\u001b[0minput\u001b[0m\u001b[1;33m(\u001b[0m\u001b[1;33m)\u001b[0m\u001b[1;33m)\u001b[0m\u001b[1;33m\u001b[0m\u001b[1;33m\u001b[0m\u001b[0m\n\u001b[0m",
      "\u001b[1;31mValueError\u001b[0m: invalid literal for int() with base 10: ''"
     ]
    }
   ],
   "source": [
    "b=int(input())"
   ]
  },
  {
   "cell_type": "code",
   "execution_count": 56,
   "id": "e6698d12",
   "metadata": {},
   "outputs": [
    {
     "ename": "NameError",
     "evalue": "name 'b' is not defined",
     "output_type": "error",
     "traceback": [
      "\u001b[1;31m---------------------------------------------------------------------------\u001b[0m",
      "\u001b[1;31mNameError\u001b[0m                                 Traceback (most recent call last)",
      "\u001b[1;32m~\\AppData\\Local\\Temp\\ipykernel_6832\\1628607479.py\u001b[0m in \u001b[0;36m<module>\u001b[1;34m\u001b[0m\n\u001b[1;32m----> 1\u001b[1;33m \u001b[0mtype\u001b[0m\u001b[1;33m(\u001b[0m\u001b[0mb\u001b[0m\u001b[1;33m)\u001b[0m\u001b[1;33m\u001b[0m\u001b[1;33m\u001b[0m\u001b[0m\n\u001b[0m",
      "\u001b[1;31mNameError\u001b[0m: name 'b' is not defined"
     ]
    }
   ],
   "source": [
    "type(b)"
   ]
  },
  {
   "cell_type": "code",
   "execution_count": 58,
   "id": "20aecd5f",
   "metadata": {},
   "outputs": [
    {
     "name": "stdout",
     "output_type": "stream",
     "text": [
      "insert only an integer : 2\n",
      "integer inserted\n",
      "[2]\n"
     ]
    }
   ],
   "source": [
    "a=int(input('insert only an integer : '))\n",
    "print('integer inserted')\n",
    "l1=[1,2,3,5,6,7,5,5,5,6,7,8,9,9]\n",
    "m=[]\n",
    "for i in l1:\n",
    "    if i==a:\n",
    "        m.append(i)\n",
    "print(m)"
   ]
  },
  {
   "cell_type": "code",
   "execution_count": 59,
   "id": "f96b2434",
   "metadata": {},
   "outputs": [
    {
     "name": "stdout",
     "output_type": "stream",
     "text": [
      "['32', '42', '52', '62', '72', '82', '252', '42', '52', '52', 'amarendra2']\n"
     ]
    }
   ],
   "source": [
    "m=[]\n",
    "for i in l:\n",
    "    m.append(str(i)+str(2))\n",
    "print(m)"
   ]
  },
  {
   "cell_type": "code",
   "execution_count": 60,
   "id": "84ee5eba",
   "metadata": {},
   "outputs": [
    {
     "data": {
      "text/plain": [
       "[3, 4, 5, 6, 7, 8, 25, 4, 5, 5, 'amarendra']"
      ]
     },
     "execution_count": 60,
     "metadata": {},
     "output_type": "execute_result"
    }
   ],
   "source": [
    "l"
   ]
  },
  {
   "cell_type": "code",
   "execution_count": 61,
   "id": "10a2d1a5",
   "metadata": {},
   "outputs": [
    {
     "data": {
      "text/plain": [
       "['32', '42', '52', '62', '72', '82', '252', '42', '52', '52', 'amarendra2']"
      ]
     },
     "execution_count": 61,
     "metadata": {},
     "output_type": "execute_result"
    }
   ],
   "source": [
    "list(map(lambda x:str(x)+str(2),l))"
   ]
  },
  {
   "cell_type": "code",
   "execution_count": 62,
   "id": "5d650990",
   "metadata": {},
   "outputs": [
    {
     "name": "stdout",
     "output_type": "stream",
     "text": [
      "0 = 3\n",
      "1 = 4\n",
      "2 = 5\n",
      "3 = 6\n",
      "4 = 7\n",
      "5 = 8\n",
      "6 = 25\n",
      "7 = 4\n",
      "8 = 5\n",
      "9 = 5\n",
      "10 = amarendra\n"
     ]
    }
   ],
   "source": [
    "for i in range(len(l)):\n",
    "    print(i,'=',l[i])"
   ]
  },
  {
   "cell_type": "code",
   "execution_count": 63,
   "id": "6fddfb9c",
   "metadata": {},
   "outputs": [
    {
     "name": "stdout",
     "output_type": "stream",
     "text": [
      "[5, 6, 7, 8, 5, 5, 'amarendra']\n"
     ]
    }
   ],
   "source": [
    "a=[]\n",
    "for i in l:\n",
    "    if str(i)>=str(5):\n",
    "        a.append(i)\n",
    "print(a)    "
   ]
  },
  {
   "cell_type": "code",
   "execution_count": 64,
   "id": "2e555e11",
   "metadata": {},
   "outputs": [
    {
     "name": "stdout",
     "output_type": "stream",
     "text": [
      "yes it is lesser than 10\n",
      "yes my data is integer\n"
     ]
    }
   ],
   "source": [
    "s=10\n",
    "if s==10:\n",
    "    print('yes it is lesser than 10')\n",
    "    if type(s)==int:\n",
    "        print('yes my data is integer')\n",
    "    elif type(s)==str:\n",
    "        print(\"my data is string\")\n",
    "    else:\n",
    "        print('my data is non of above')\n",
    "elif s==50:\n",
    "    print(\"yes this data is less than 50\")\n",
    "elif s==40:\n",
    "    print(\"yes s is ==40\")\n",
    "else:\n",
    "    print('non of the condition is true') "
   ]
  },
  {
   "cell_type": "markdown",
   "id": "c8f2b378",
   "metadata": {},
   "source": [
    "# concatation\n",
    "> data type is always same"
   ]
  },
  {
   "cell_type": "code",
   "execution_count": 65,
   "id": "5f3c49d6",
   "metadata": {},
   "outputs": [
    {
     "data": {
      "text/plain": [
       "2"
      ]
     },
     "execution_count": 65,
     "metadata": {},
     "output_type": "execute_result"
    }
   ],
   "source": [
    "1+1"
   ]
  },
  {
   "cell_type": "code",
   "execution_count": 66,
   "id": "d96b3b9b",
   "metadata": {},
   "outputs": [
    {
     "data": {
      "text/plain": [
       "'amar1'"
      ]
     },
     "execution_count": 66,
     "metadata": {},
     "output_type": "execute_result"
    }
   ],
   "source": [
    "'amar'+ str(1)"
   ]
  },
  {
   "cell_type": "code",
   "execution_count": 67,
   "id": "477a357d",
   "metadata": {},
   "outputs": [
    {
     "data": {
      "text/plain": [
       "[1, 2, 3, 'amar']"
      ]
     },
     "execution_count": 67,
     "metadata": {},
     "output_type": "execute_result"
    }
   ],
   "source": [
    "[1,2,3]+['amar']"
   ]
  },
  {
   "cell_type": "markdown",
   "id": "8c526fa0",
   "metadata": {},
   "source": [
    "# string\n",
    "> string i collection of charectors, immutable con not be change"
   ]
  },
  {
   "cell_type": "code",
   "execution_count": 68,
   "id": "a1c72324",
   "metadata": {},
   "outputs": [
    {
     "name": "stdout",
     "output_type": "stream",
     "text": [
      "9\n"
     ]
    }
   ],
   "source": [
    "name='amarendra kumar kushwaha'\n",
    "vowels='aeiouAEIOU'\n",
    "count_vowel =0\n",
    "for letter in name:\n",
    "    if letter in vowels:\n",
    "        count_vowel+= 1\n",
    "print(count_vowel)"
   ]
  },
  {
   "cell_type": "code",
   "execution_count": 69,
   "id": "2ee98523",
   "metadata": {},
   "outputs": [
    {
     "name": "stdout",
     "output_type": "stream",
     "text": [
      "9\n"
     ]
    }
   ],
   "source": [
    "# count the no of vowels\n",
    "name='amarendra kumar kushwaha'\n",
    "vowels='aeiouAEIOU'\n",
    "vo_list=[]\n",
    "i=0\n",
    "while i<len(name):\n",
    "    if name[i] in vowels:\n",
    "        vo_list.append(name[i])\n",
    "    i+=1\n",
    "print(len(vo_list))"
   ]
  },
  {
   "cell_type": "code",
   "execution_count": 70,
   "id": "9e8c9d26",
   "metadata": {},
   "outputs": [],
   "source": [
    "from collections import Counter"
   ]
  },
  {
   "cell_type": "code",
   "execution_count": 71,
   "id": "efab6063",
   "metadata": {},
   "outputs": [
    {
     "data": {
      "text/plain": [
       "({'A': 1, 'a': 3, 'e': 1, 'u': 1},\n",
       " {'m': 2, 'r': 3, 'n': 1, 'd': 1, ' ': 1, 'K': 1})"
      ]
     },
     "execution_count": 71,
     "metadata": {},
     "output_type": "execute_result"
    }
   ],
   "source": [
    "def count_and_display_vowels(string):\n",
    "    vowels='aeiouAEIOU'\n",
    "    vowels_list=filter(lambda x: x in vowels,string)\n",
    "    count_vowels=dict(Counter(vowels_list))\n",
    "    \n",
    "    cons_list=filter(lambda x: x not in vowels ,string)\n",
    "    count_cons=dict(Counter(cons_list))\n",
    "    return count_vowels,count_cons\n",
    "string='Amarendra Kumar'\n",
    "count_and_display_vowels(string)"
   ]
  },
  {
   "cell_type": "code",
   "execution_count": 73,
   "id": "a8a9434c",
   "metadata": {},
   "outputs": [
    {
     "name": "stdout",
     "output_type": "stream",
     "text": [
      "enter the string : asd\n",
      "its not palindrom\n"
     ]
    }
   ],
   "source": [
    "def palindrom(s):\n",
    "    return s==s[::-1]\n",
    "s=input('enter the string : ')\n",
    "sd=palindrom(s)\n",
    "if sd:\n",
    "    print('its Palindrom')\n",
    "else:\n",
    "    print('its not palindrom')"
   ]
  },
  {
   "cell_type": "code",
   "execution_count": 74,
   "id": "f77692e6",
   "metadata": {},
   "outputs": [
    {
     "data": {
      "text/plain": [
       "{'A': 1, 'a': 3, 'e': 1, 'u': 1}"
      ]
     },
     "execution_count": 74,
     "metadata": {},
     "output_type": "execute_result"
    }
   ],
   "source": [
    "def counts_vowels(string):\n",
    "    vowels='aeiouAEIOU'\n",
    "    vowels_list=filter(lambda x: x in vowels, string)\n",
    "    count_vowels=dict(Counter(vowels_list))\n",
    "    return count_vowels\n",
    "string='Amarendra kumar'\n",
    "counts_vowels(string)\n",
    "# print(counts_vowels)"
   ]
  },
  {
   "cell_type": "code",
   "execution_count": 75,
   "id": "2424f5f7",
   "metadata": {},
   "outputs": [
    {
     "name": "stdout",
     "output_type": "stream",
     "text": [
      "consonent_list {'m': 3, 'r': 5, 'n': 2, 'd': 2, ' ': 6, 'k': 4, 's': 2, 'h': 4, 'w': 2, 'j': 1}\n",
      "vowels_list {'a': 11, 'e': 1, 'u': 5}\n"
     ]
    }
   ],
   "source": [
    "str1='Amarendra Kumar Kushwaha and Raju Kumar Kushwaha'\n",
    "dct={}\n",
    "dct1={}\n",
    "vowels='AEIOUaeiou'\n",
    "for i in str1.lower():\n",
    "    if i in vowels:\n",
    "        if i in dct:\n",
    "            dct[i]+=1\n",
    "        else:\n",
    "            dct[i]=1\n",
    "    else:\n",
    "        if i in dct1:\n",
    "            dct1[i]+=1\n",
    "        else:\n",
    "            dct1[i]=1\n",
    "print(\"consonent_list\",dct1)\n",
    "print(\"vowels_list\",dct)"
   ]
  },
  {
   "cell_type": "code",
   "execution_count": 65,
   "id": "da8b0474",
   "metadata": {},
   "outputs": [
    {
     "name": "stdout",
     "output_type": "stream",
     "text": [
      "{'Amarendra': 1, 'Kumar': 2, 'Kushwaha': 2, 'and': 1, 'Raju': 1}\n"
     ]
    }
   ],
   "source": [
    "dct={}\n",
    "for i in str1.split():\n",
    "    if i in dct:\n",
    "        dct[i]+=1\n",
    "    else:\n",
    "        dct[i]=1\n",
    "print(dct)"
   ]
  },
  {
   "cell_type": "code",
   "execution_count": 66,
   "id": "f77af408",
   "metadata": {},
   "outputs": [],
   "source": [
    "s='amare'"
   ]
  },
  {
   "cell_type": "code",
   "execution_count": 67,
   "id": "c2c6cdc7",
   "metadata": {},
   "outputs": [
    {
     "data": {
      "text/plain": [
       "str"
      ]
     },
     "execution_count": 67,
     "metadata": {},
     "output_type": "execute_result"
    }
   ],
   "source": [
    "type(s)"
   ]
  },
  {
   "cell_type": "code",
   "execution_count": 68,
   "id": "36e3f84c",
   "metadata": {},
   "outputs": [
    {
     "data": {
      "text/plain": [
       "'amareamareamareamareamare'"
      ]
     },
     "execution_count": 68,
     "metadata": {},
     "output_type": "execute_result"
    }
   ],
   "source": [
    "s*5"
   ]
  },
  {
   "cell_type": "code",
   "execution_count": 69,
   "id": "bbc7abc7",
   "metadata": {},
   "outputs": [
    {
     "data": {
      "text/plain": [
       "[1, 12, 3, 'amar', 1, 12, 3, 'amar', 1, 12, 3, 'amar']"
      ]
     },
     "execution_count": 69,
     "metadata": {},
     "output_type": "execute_result"
    }
   ],
   "source": [
    "[1,12,3,'amar']*3"
   ]
  },
  {
   "cell_type": "code",
   "execution_count": 70,
   "id": "3b04a5f8",
   "metadata": {},
   "outputs": [
    {
     "data": {
      "text/plain": [
       "'AMARE'"
      ]
     },
     "execution_count": 70,
     "metadata": {},
     "output_type": "execute_result"
    }
   ],
   "source": [
    "s.upper()"
   ]
  },
  {
   "cell_type": "code",
   "execution_count": 71,
   "id": "b9c23dee",
   "metadata": {},
   "outputs": [
    {
     "data": {
      "text/plain": [
       "'amare'"
      ]
     },
     "execution_count": 71,
     "metadata": {},
     "output_type": "execute_result"
    }
   ],
   "source": [
    "s.lower()"
   ]
  },
  {
   "cell_type": "code",
   "execution_count": 72,
   "id": "6ebacc7f",
   "metadata": {},
   "outputs": [],
   "source": [
    "a='my name is amarendra kumar kushwaha'"
   ]
  },
  {
   "cell_type": "code",
   "execution_count": 73,
   "id": "8cd43e23",
   "metadata": {},
   "outputs": [
    {
     "name": "stdout",
     "output_type": "stream",
     "text": [
      "my name is amarendra kumar kushwaha "
     ]
    }
   ],
   "source": [
    "## split is always return list\n",
    "temp=a.split()   \n",
    "for i in temp:\n",
    "    print(i,end=' ')"
   ]
  },
  {
   "cell_type": "code",
   "execution_count": 74,
   "id": "9a575901",
   "metadata": {},
   "outputs": [
    {
     "data": {
      "text/plain": [
       "['my', 'name', 'is', 'amarendra', 'kumar', 'kushwaha']"
      ]
     },
     "execution_count": 74,
     "metadata": {},
     "output_type": "execute_result"
    }
   ],
   "source": [
    "b='my@name@is@amarendra@kumar@kushwaha'\n",
    "b.split('@')"
   ]
  },
  {
   "cell_type": "code",
   "execution_count": 75,
   "id": "135e9322",
   "metadata": {},
   "outputs": [
    {
     "data": {
      "text/plain": [
       "['my', 'name@is@amarendra@kumar@kushwaha']"
      ]
     },
     "execution_count": 75,
     "metadata": {},
     "output_type": "execute_result"
    }
   ],
   "source": [
    "c='my#name@is@amarendra@kumar@kushwaha'\n",
    "c.split('#')"
   ]
  },
  {
   "cell_type": "code",
   "execution_count": 76,
   "id": "5197ce73",
   "metadata": {},
   "outputs": [
    {
     "data": {
      "text/plain": [
       "['dfghtdx', 'sdfgt', 'd', 'd']"
      ]
     },
     "execution_count": 76,
     "metadata": {},
     "output_type": "execute_result"
    }
   ],
   "source": [
    "d='dfghtdxasdfgtadad'\n",
    "d.split('a')       ## split at a letter no of  a  in side string   "
   ]
  },
  {
   "cell_type": "code",
   "execution_count": 77,
   "id": "8ad4e664",
   "metadata": {},
   "outputs": [
    {
     "data": {
      "text/plain": [
       "('dfredgrd', 'G', 'fcvgfg')"
      ]
     },
     "execution_count": 77,
     "metadata": {},
     "output_type": "execute_result"
    }
   ],
   "source": [
    "e='dfredgrdGfcvgfg'\n",
    "e.partition('G')     ##  patition is always gives the 3 numbers arg , and return tuple"
   ]
  },
  {
   "cell_type": "code",
   "execution_count": 78,
   "id": "3337a9a1",
   "metadata": {},
   "outputs": [
    {
     "data": {
      "text/plain": [
       "9"
      ]
     },
     "execution_count": 78,
     "metadata": {},
     "output_type": "execute_result"
    }
   ],
   "source": [
    "f='hytrdcfdhesvtgfc'\n",
    "f.find('e')        ## in that case return first accurance of arg index."
   ]
  },
  {
   "cell_type": "code",
   "execution_count": 79,
   "id": "207fa54a",
   "metadata": {},
   "outputs": [
    {
     "data": {
      "text/plain": [
       "-1"
      ]
     },
     "execution_count": 79,
     "metadata": {},
     "output_type": "execute_result"
    }
   ],
   "source": [
    "f.find('z')   ## not find out charector in the string"
   ]
  },
  {
   "cell_type": "code",
   "execution_count": 80,
   "id": "602c253d",
   "metadata": {},
   "outputs": [
    {
     "data": {
      "text/plain": [
       "'################### amarendra ####################'"
      ]
     },
     "execution_count": 80,
     "metadata": {},
     "output_type": "execute_result"
    }
   ],
   "source": [
    "g=' amarendra '\n",
    "g.center(50,'#')   ## 50 is width in that case string is in the center "
   ]
  },
  {
   "cell_type": "code",
   "execution_count": 81,
   "id": "37e70a46",
   "metadata": {},
   "outputs": [
    {
     "data": {
      "text/plain": [
       "['amarendra', 'kumar']"
      ]
     },
     "execution_count": 81,
     "metadata": {},
     "output_type": "execute_result"
    }
   ],
   "source": [
    "'amarendra\\tkumar'.split('\\t')  ## return list"
   ]
  },
  {
   "cell_type": "code",
   "execution_count": 82,
   "id": "84e6ab21",
   "metadata": {},
   "outputs": [
    {
     "data": {
      "text/plain": [
       "'amarendra       kumar'"
      ]
     },
     "execution_count": 82,
     "metadata": {},
     "output_type": "execute_result"
    }
   ],
   "source": [
    "'amarendra\\tkumar'.expandtabs()   ## in that case return data"
   ]
  },
  {
   "cell_type": "code",
   "execution_count": 83,
   "id": "4bbbdeb7",
   "metadata": {},
   "outputs": [
    {
     "data": {
      "text/plain": [
       "'my name is amarendra kumar'"
      ]
     },
     "execution_count": 83,
     "metadata": {},
     "output_type": "execute_result"
    }
   ],
   "source": [
    "'my name is {} kumar'.format('amarendra')"
   ]
  },
  {
   "cell_type": "code",
   "execution_count": 84,
   "id": "1a54bd1b",
   "metadata": {},
   "outputs": [
    {
     "name": "stdout",
     "output_type": "stream",
     "text": [
      "please give your name : \n",
      "please give me your last name : \n",
      "Hello ! My name is  \n"
     ]
    }
   ],
   "source": [
    "a=input('please give your name : ')\n",
    "b=input('please give me your last name : ')\n",
    "print('Hello ! My name is {} {}'.format(a,b))"
   ]
  },
  {
   "cell_type": "markdown",
   "id": "6b418441",
   "metadata": {},
   "source": [
    "# list\n",
    "> collection of element , mutable, can be modified  represented []"
   ]
  },
  {
   "cell_type": "code",
   "execution_count": 85,
   "id": "2f095fe7",
   "metadata": {},
   "outputs": [],
   "source": [
    "a=[1,2,3,4,5,'hello','amar',4,56,[3,4,5]]\n",
    "b=[4,5,7,8,'my','name']"
   ]
  },
  {
   "cell_type": "code",
   "execution_count": 86,
   "id": "c04d0a27",
   "metadata": {},
   "outputs": [],
   "source": [
    "m=[]\n",
    "for i in a:\n",
    "    m.append(i)"
   ]
  },
  {
   "cell_type": "code",
   "execution_count": 87,
   "id": "01e7c0fd",
   "metadata": {},
   "outputs": [
    {
     "data": {
      "text/plain": [
       "[1, 2, 3, 4, 5, 'hello', 'amar', 4, 56, [3, 4, 5]]"
      ]
     },
     "execution_count": 87,
     "metadata": {},
     "output_type": "execute_result"
    }
   ],
   "source": [
    "m"
   ]
  },
  {
   "cell_type": "code",
   "execution_count": 88,
   "id": "ac89fd5a",
   "metadata": {},
   "outputs": [
    {
     "data": {
      "text/plain": [
       "[1, 2, 3, 4, 5, 'hello', 'amar', 4, 56, [3, 4, 5], 4, 5, 7, 8, 'my', 'name']"
      ]
     },
     "execution_count": 88,
     "metadata": {},
     "output_type": "execute_result"
    }
   ],
   "source": [
    "a+b"
   ]
  },
  {
   "cell_type": "code",
   "execution_count": 89,
   "id": "1e6f0136",
   "metadata": {},
   "outputs": [
    {
     "data": {
      "text/plain": [
       "[1, 2, 3, 4, 5, 'hello', 'amar', 4, 56, [3, 4, 5], 4, 5, 7, 8, 'my', 'name']"
      ]
     },
     "execution_count": 89,
     "metadata": {},
     "output_type": "execute_result"
    }
   ],
   "source": [
    "(a+b)*1"
   ]
  },
  {
   "cell_type": "code",
   "execution_count": 90,
   "id": "46b9cb21",
   "metadata": {},
   "outputs": [
    {
     "data": {
      "text/plain": [
       "list"
      ]
     },
     "execution_count": 90,
     "metadata": {},
     "output_type": "execute_result"
    }
   ],
   "source": [
    "type(b)"
   ]
  },
  {
   "cell_type": "code",
   "execution_count": 91,
   "id": "5ee657ba",
   "metadata": {},
   "outputs": [],
   "source": [
    "b.append('df')   ## add the data in the  list at last but insert need index position"
   ]
  },
  {
   "cell_type": "code",
   "execution_count": 92,
   "id": "3dd2f865",
   "metadata": {},
   "outputs": [
    {
     "data": {
      "text/plain": [
       "[4, 5, 7, 8, 'my', 'name', 'df']"
      ]
     },
     "execution_count": 92,
     "metadata": {},
     "output_type": "execute_result"
    }
   ],
   "source": [
    "b"
   ]
  },
  {
   "cell_type": "code",
   "execution_count": 93,
   "id": "967a3947",
   "metadata": {},
   "outputs": [
    {
     "data": {
      "text/plain": [
       "'df'"
      ]
     },
     "execution_count": 93,
     "metadata": {},
     "output_type": "execute_result"
    }
   ],
   "source": [
    "b.pop()"
   ]
  },
  {
   "cell_type": "code",
   "execution_count": 94,
   "id": "b889ae97",
   "metadata": {},
   "outputs": [
    {
     "data": {
      "text/plain": [
       "['name', 'my', 8, 7, 5, 4]"
      ]
     },
     "execution_count": 94,
     "metadata": {},
     "output_type": "execute_result"
    }
   ],
   "source": [
    "b[::-1]   ## never change parmanently"
   ]
  },
  {
   "cell_type": "code",
   "execution_count": 95,
   "id": "e34ba288",
   "metadata": {},
   "outputs": [
    {
     "data": {
      "text/plain": [
       "[4, 5, 7, 8, 'my', 'name']"
      ]
     },
     "execution_count": 95,
     "metadata": {},
     "output_type": "execute_result"
    }
   ],
   "source": [
    "b"
   ]
  },
  {
   "cell_type": "code",
   "execution_count": 96,
   "id": "13c076d3",
   "metadata": {},
   "outputs": [],
   "source": [
    "b.reverse()    ## chnage parmanently"
   ]
  },
  {
   "cell_type": "code",
   "execution_count": 97,
   "id": "01763ea4",
   "metadata": {},
   "outputs": [
    {
     "data": {
      "text/plain": [
       "['name', 'my', 8, 7, 5, 4]"
      ]
     },
     "execution_count": 97,
     "metadata": {},
     "output_type": "execute_result"
    }
   ],
   "source": [
    "b"
   ]
  },
  {
   "cell_type": "code",
   "execution_count": 98,
   "id": "b4e095b5",
   "metadata": {},
   "outputs": [
    {
     "ename": "TypeError",
     "evalue": "'<' not supported between instances of 'int' and 'str'",
     "output_type": "error",
     "traceback": [
      "\u001b[1;31m---------------------------------------------------------------------------\u001b[0m",
      "\u001b[1;31mTypeError\u001b[0m                                 Traceback (most recent call last)",
      "\u001b[1;32m~\\AppData\\Local\\Temp\\ipykernel_8016\\619562382.py\u001b[0m in \u001b[0;36m<module>\u001b[1;34m\u001b[0m\n\u001b[1;32m----> 1\u001b[1;33m \u001b[0mb\u001b[0m\u001b[1;33m.\u001b[0m\u001b[0msort\u001b[0m\u001b[1;33m(\u001b[0m\u001b[1;33m)\u001b[0m \u001b[1;31m## this is not supported between int and str\u001b[0m\u001b[1;33m\u001b[0m\u001b[1;33m\u001b[0m\u001b[0m\n\u001b[0m",
      "\u001b[1;31mTypeError\u001b[0m: '<' not supported between instances of 'int' and 'str'"
     ]
    }
   ],
   "source": [
    "b.sort() ## this is not supported between int and str"
   ]
  },
  {
   "cell_type": "code",
   "execution_count": 99,
   "id": "94791a5f",
   "metadata": {},
   "outputs": [],
   "source": [
    "c=[1,6,43,22,2]"
   ]
  },
  {
   "cell_type": "code",
   "execution_count": 100,
   "id": "ed7f71bf",
   "metadata": {},
   "outputs": [],
   "source": [
    "c.sort()"
   ]
  },
  {
   "cell_type": "code",
   "execution_count": 101,
   "id": "8862bc71",
   "metadata": {},
   "outputs": [
    {
     "data": {
      "text/plain": [
       "[1, 2, 6, 22, 43]"
      ]
     },
     "execution_count": 101,
     "metadata": {},
     "output_type": "execute_result"
    }
   ],
   "source": [
    "c"
   ]
  },
  {
   "cell_type": "code",
   "execution_count": 102,
   "id": "110a6107",
   "metadata": {},
   "outputs": [],
   "source": [
    "d=['asd','sdfrd','ytred']"
   ]
  },
  {
   "cell_type": "code",
   "execution_count": 103,
   "id": "9c2c0da0",
   "metadata": {},
   "outputs": [
    {
     "data": {
      "text/plain": [
       "['asd', 'sdfrd', 'ytred']"
      ]
     },
     "execution_count": 103,
     "metadata": {},
     "output_type": "execute_result"
    }
   ],
   "source": [
    "d"
   ]
  },
  {
   "cell_type": "code",
   "execution_count": 104,
   "id": "f5863dc7",
   "metadata": {},
   "outputs": [],
   "source": [
    "d.sort()"
   ]
  },
  {
   "cell_type": "code",
   "execution_count": 105,
   "id": "dfa5c39e",
   "metadata": {},
   "outputs": [
    {
     "data": {
      "text/plain": [
       "[[1, 2, 3, 4, 5], [4, 5, 6, 7, 8, 9], [5, 5, 9, 3, 2, 2]]"
      ]
     },
     "execution_count": 105,
     "metadata": {},
     "output_type": "execute_result"
    }
   ],
   "source": [
    "x=[1,2,3,4,5]\n",
    "y=[4,5,6,7,8,9]\n",
    "z=[5,5,9,3,2,2]\n",
    "w=[x,y,z]\n",
    "w"
   ]
  },
  {
   "cell_type": "code",
   "execution_count": 106,
   "id": "f173c14a",
   "metadata": {},
   "outputs": [
    {
     "data": {
      "text/plain": [
       "[5, 7, 9, 11, 13]"
      ]
     },
     "execution_count": 106,
     "metadata": {},
     "output_type": "execute_result"
    }
   ],
   "source": [
    "list(map(lambda a,s :a+s,x,y))"
   ]
  },
  {
   "cell_type": "code",
   "execution_count": 107,
   "id": "140f2966",
   "metadata": {},
   "outputs": [
    {
     "data": {
      "text/plain": [
       "[5, 9, 2]"
      ]
     },
     "execution_count": 107,
     "metadata": {},
     "output_type": "execute_result"
    }
   ],
   "source": [
    "w[-1][::2]"
   ]
  },
  {
   "cell_type": "code",
   "execution_count": 108,
   "id": "98b56007",
   "metadata": {},
   "outputs": [
    {
     "data": {
      "text/plain": [
       "[[1, 2, 3, 4, 5], [4, 5, 6, 7, 8, 9], [5, 5, 9, 3, 2, 2]]"
      ]
     },
     "execution_count": 108,
     "metadata": {},
     "output_type": "execute_result"
    }
   ],
   "source": [
    "w"
   ]
  },
  {
   "cell_type": "code",
   "execution_count": 109,
   "id": "90bedda4",
   "metadata": {},
   "outputs": [
    {
     "data": {
      "text/plain": [
       "[[5, 5, 9, 3, 2, 2], [4, 5, 6, 7, 8, 9], [1, 2, 3, 4, 5]]"
      ]
     },
     "execution_count": 109,
     "metadata": {},
     "output_type": "execute_result"
    }
   ],
   "source": [
    "w[::-1]"
   ]
  },
  {
   "cell_type": "code",
   "execution_count": 110,
   "id": "51d4de3c",
   "metadata": {},
   "outputs": [
    {
     "name": "stdout",
     "output_type": "stream",
     "text": [
      "[[2, 2, 3, 9, 5, 5], [9, 8, 7, 6, 5, 4], [5, 4, 3, 2, 1]]\n"
     ]
    }
   ],
   "source": [
    "m=[]\n",
    "w=w[::-1]\n",
    "for i in w:\n",
    "    m.append(i[::-1])\n",
    "print(m)    "
   ]
  },
  {
   "cell_type": "code",
   "execution_count": 111,
   "id": "5dd77dc7",
   "metadata": {},
   "outputs": [
    {
     "name": "stdout",
     "output_type": "stream",
     "text": [
      "ahawhsuk ramuk ardnerama"
     ]
    }
   ],
   "source": [
    "str2='amarendra kumar kushwaha'\n",
    "# str2=str2[::-1]\n",
    "for i in str2[::-1]:\n",
    "    print(i,end='')"
   ]
  },
  {
   "cell_type": "code",
   "execution_count": 112,
   "id": "0859ab5e",
   "metadata": {},
   "outputs": [
    {
     "data": {
      "text/plain": [
       "'amarendra kumar kushwaha'"
      ]
     },
     "execution_count": 112,
     "metadata": {},
     "output_type": "execute_result"
    }
   ],
   "source": [
    "str2"
   ]
  },
  {
   "cell_type": "code",
   "execution_count": 113,
   "id": "4f19027e",
   "metadata": {},
   "outputs": [
    {
     "data": {
      "text/plain": [
       "'ahawhsuk ramuk ardnerama'"
      ]
     },
     "execution_count": 113,
     "metadata": {},
     "output_type": "execute_result"
    }
   ],
   "source": [
    "str1='amarendra kumar kushwaha'\n",
    "''.join(reversed(str1))"
   ]
  },
  {
   "cell_type": "code",
   "execution_count": 114,
   "id": "3bf8759c",
   "metadata": {},
   "outputs": [
    {
     "data": {
      "text/plain": [
       "'ahawhsuk ramuk ardnerama'"
      ]
     },
     "execution_count": 114,
     "metadata": {},
     "output_type": "execute_result"
    }
   ],
   "source": [
    "str2[::-1]"
   ]
  },
  {
   "cell_type": "code",
   "execution_count": 115,
   "id": "9c53254a",
   "metadata": {},
   "outputs": [
    {
     "data": {
      "text/plain": [
       "[[5, 5, 9, 3, 2, 2], [4, 5, 6, 7, 8, 9], [1, 2, 3, 4, 5]]"
      ]
     },
     "execution_count": 115,
     "metadata": {},
     "output_type": "execute_result"
    }
   ],
   "source": [
    "w"
   ]
  },
  {
   "cell_type": "code",
   "execution_count": 116,
   "id": "b0902ea3",
   "metadata": {},
   "outputs": [
    {
     "data": {
      "text/plain": [
       "[[2, 2, 3, 9, 5, 5], [9, 8, 7, 6, 5, 4], [5, 4, 3, 2, 1]]"
      ]
     },
     "execution_count": 116,
     "metadata": {},
     "output_type": "execute_result"
    }
   ],
   "source": [
    "m"
   ]
  },
  {
   "cell_type": "markdown",
   "id": "4959e1eb",
   "metadata": {},
   "source": [
    "# list comprehension\n",
    "> reduce the no of code"
   ]
  },
  {
   "cell_type": "code",
   "execution_count": 117,
   "id": "3bf927d3",
   "metadata": {},
   "outputs": [
    {
     "name": "stdout",
     "output_type": "stream",
     "text": [
      "[6, 14, 6]\n"
     ]
    }
   ],
   "source": [
    "n=[]\n",
    "for i in m:\n",
    "    n.append(i[2]*2)\n",
    "print(n)"
   ]
  },
  {
   "cell_type": "code",
   "execution_count": 118,
   "id": "3eeca30c",
   "metadata": {},
   "outputs": [
    {
     "data": {
      "text/plain": [
       "[6, 14, 6]"
      ]
     },
     "execution_count": 118,
     "metadata": {},
     "output_type": "execute_result"
    }
   ],
   "source": [
    "n"
   ]
  },
  {
   "cell_type": "code",
   "execution_count": 119,
   "id": "feebc7cd",
   "metadata": {},
   "outputs": [
    {
     "data": {
      "text/plain": [
       "[6, 14, 6]"
      ]
     },
     "execution_count": 119,
     "metadata": {},
     "output_type": "execute_result"
    }
   ],
   "source": [
    "[i[2]*2 for i in m]"
   ]
  },
  {
   "cell_type": "code",
   "execution_count": 120,
   "id": "dece18df",
   "metadata": {},
   "outputs": [
    {
     "data": {
      "text/plain": [
       "[1, 2, 3, 4, 5, 'hello', 'amar', 4, 56, [3, 4, 5]]"
      ]
     },
     "execution_count": 120,
     "metadata": {},
     "output_type": "execute_result"
    }
   ],
   "source": [
    "a"
   ]
  },
  {
   "cell_type": "code",
   "execution_count": 121,
   "id": "65f3292c",
   "metadata": {},
   "outputs": [
    {
     "data": {
      "text/plain": [
       "['name', 'my', 8, 7, 5, 4]"
      ]
     },
     "execution_count": 121,
     "metadata": {},
     "output_type": "execute_result"
    }
   ],
   "source": [
    "b"
   ]
  },
  {
   "cell_type": "code",
   "execution_count": 122,
   "id": "d0f1a560",
   "metadata": {},
   "outputs": [],
   "source": [
    "a.extend(b)"
   ]
  },
  {
   "cell_type": "code",
   "execution_count": 123,
   "id": "630bfed0",
   "metadata": {},
   "outputs": [
    {
     "data": {
      "text/plain": [
       "[1, 2, 3, 4, 5, 'hello', 'amar', 4, 56, [3, 4, 5], 'name', 'my', 8, 7, 5, 4]"
      ]
     },
     "execution_count": 123,
     "metadata": {},
     "output_type": "execute_result"
    }
   ],
   "source": [
    "a"
   ]
  },
  {
   "cell_type": "code",
   "execution_count": 124,
   "id": "0b12cb85",
   "metadata": {},
   "outputs": [
    {
     "data": {
      "text/plain": [
       "[1, 2, 3, 4, 5, 'hello', 'amar', 4, 56, [3, 4, 5], 'name', 'my', 8, 7, 5, 4]"
      ]
     },
     "execution_count": 124,
     "metadata": {},
     "output_type": "execute_result"
    }
   ],
   "source": [
    "a"
   ]
  },
  {
   "cell_type": "code",
   "execution_count": 125,
   "id": "58ee1c63",
   "metadata": {},
   "outputs": [
    {
     "data": {
      "text/plain": [
       "['name', 'my', 8, 7, 5, 4]"
      ]
     },
     "execution_count": 125,
     "metadata": {},
     "output_type": "execute_result"
    }
   ],
   "source": [
    "b"
   ]
  },
  {
   "cell_type": "code",
   "execution_count": 126,
   "id": "44f738b7",
   "metadata": {},
   "outputs": [
    {
     "data": {
      "text/plain": [
       "[(1, 'name'), (2, 'my'), (3, 8), (4, 7), (5, 5), ('hello', 4)]"
      ]
     },
     "execution_count": 126,
     "metadata": {},
     "output_type": "execute_result"
    }
   ],
   "source": [
    "c=list(zip(a,b))    ##  zip function always return same index values in form of tuple\n",
    "c"
   ]
  },
  {
   "cell_type": "code",
   "execution_count": null,
   "id": "71ad6236",
   "metadata": {},
   "outputs": [],
   "source": []
  },
  {
   "cell_type": "markdown",
   "id": "0d64e8fe",
   "metadata": {},
   "source": [
    "# Tuple()\n",
    "> collection diiffernt differen element but can not be modified, immutalbe, but modified with slicing "
   ]
  },
  {
   "cell_type": "code",
   "execution_count": 127,
   "id": "8146236f",
   "metadata": {},
   "outputs": [],
   "source": [
    "t=(1,2,3,4,5,'amar')"
   ]
  },
  {
   "cell_type": "code",
   "execution_count": 128,
   "id": "a3f7417e",
   "metadata": {},
   "outputs": [
    {
     "data": {
      "text/plain": [
       "(1, 2, 3, 4, 5, 'amar')"
      ]
     },
     "execution_count": 128,
     "metadata": {},
     "output_type": "execute_result"
    }
   ],
   "source": [
    "t"
   ]
  },
  {
   "cell_type": "code",
   "execution_count": 129,
   "id": "f2be1474",
   "metadata": {},
   "outputs": [
    {
     "data": {
      "text/plain": [
       "tuple"
      ]
     },
     "execution_count": 129,
     "metadata": {},
     "output_type": "execute_result"
    }
   ],
   "source": [
    "type(t)"
   ]
  },
  {
   "cell_type": "code",
   "execution_count": 130,
   "id": "c58e21d9",
   "metadata": {},
   "outputs": [
    {
     "data": {
      "text/plain": [
       "(4, 3, 2, 8, 6, 5, 5)"
      ]
     },
     "execution_count": 130,
     "metadata": {},
     "output_type": "execute_result"
    }
   ],
   "source": [
    "t1=(4,3,2,8,6,5,5)\n",
    "t1"
   ]
  },
  {
   "cell_type": "code",
   "execution_count": 131,
   "id": "db44bd9f",
   "metadata": {},
   "outputs": [
    {
     "data": {
      "text/plain": [
       "(1, 2, 3, 4)"
      ]
     },
     "execution_count": 131,
     "metadata": {},
     "output_type": "execute_result"
    }
   ],
   "source": [
    "a=t[0:4]\n",
    "a"
   ]
  },
  {
   "cell_type": "code",
   "execution_count": 132,
   "id": "6a649f3a",
   "metadata": {},
   "outputs": [
    {
     "data": {
      "text/plain": [
       "(4, 3, 2, 8, 6, 5, 5)"
      ]
     },
     "execution_count": 132,
     "metadata": {},
     "output_type": "execute_result"
    }
   ],
   "source": [
    "b=t1[2:5]\n",
    "t1"
   ]
  },
  {
   "cell_type": "code",
   "execution_count": 133,
   "id": "c3e43de7",
   "metadata": {},
   "outputs": [
    {
     "data": {
      "text/plain": [
       "(1, 2, 3, 4, 2, 8, 6)"
      ]
     },
     "execution_count": 133,
     "metadata": {},
     "output_type": "execute_result"
    }
   ],
   "source": [
    "c=a+b     ## add in form of tuple not allowed duplicate element\n",
    "c"
   ]
  },
  {
   "cell_type": "code",
   "execution_count": 134,
   "id": "2258dabd",
   "metadata": {},
   "outputs": [
    {
     "data": {
      "text/plain": [
       "[(1, 2), (2, 8), (3, 6)]"
      ]
     },
     "execution_count": 134,
     "metadata": {},
     "output_type": "execute_result"
    }
   ],
   "source": [
    "d=list(zip(a,b))\n",
    "d"
   ]
  },
  {
   "cell_type": "code",
   "execution_count": 135,
   "id": "40d083e2",
   "metadata": {},
   "outputs": [
    {
     "data": {
      "text/plain": [
       "1"
      ]
     },
     "execution_count": 135,
     "metadata": {},
     "output_type": "execute_result"
    }
   ],
   "source": [
    "t[0]"
   ]
  },
  {
   "cell_type": "code",
   "execution_count": 136,
   "id": "2c605dc4",
   "metadata": {},
   "outputs": [
    {
     "data": {
      "text/plain": [
       "4"
      ]
     },
     "execution_count": 136,
     "metadata": {},
     "output_type": "execute_result"
    }
   ],
   "source": [
    "t1[0]"
   ]
  },
  {
   "cell_type": "code",
   "execution_count": 137,
   "id": "da773c66",
   "metadata": {},
   "outputs": [
    {
     "data": {
      "text/plain": [
       "('amarendra',)"
      ]
     },
     "execution_count": 137,
     "metadata": {},
     "output_type": "execute_result"
    }
   ],
   "source": [
    "t2=('amarendra',)\n",
    "t2"
   ]
  },
  {
   "cell_type": "code",
   "execution_count": 138,
   "id": "8ef919e3",
   "metadata": {},
   "outputs": [
    {
     "data": {
      "text/plain": [
       "tuple"
      ]
     },
     "execution_count": 138,
     "metadata": {},
     "output_type": "execute_result"
    }
   ],
   "source": [
    "type(t2)"
   ]
  },
  {
   "cell_type": "code",
   "execution_count": 139,
   "id": "e14e4795",
   "metadata": {},
   "outputs": [
    {
     "data": {
      "text/plain": [
       "'amarendra'"
      ]
     },
     "execution_count": 139,
     "metadata": {},
     "output_type": "execute_result"
    }
   ],
   "source": [
    "t2[0]"
   ]
  },
  {
   "cell_type": "code",
   "execution_count": 140,
   "id": "0a7b1982",
   "metadata": {},
   "outputs": [
    {
     "data": {
      "text/plain": [
       "(4, 3, 2, 8, 6, 5, 5)"
      ]
     },
     "execution_count": 140,
     "metadata": {},
     "output_type": "execute_result"
    }
   ],
   "source": [
    "t1"
   ]
  },
  {
   "cell_type": "code",
   "execution_count": 141,
   "id": "2470be96",
   "metadata": {},
   "outputs": [
    {
     "name": "stdout",
     "output_type": "stream",
     "text": [
      "4\n",
      "3\n",
      "2\n",
      "8\n",
      "6\n",
      "5\n",
      "5\n"
     ]
    }
   ],
   "source": [
    "for i in t1:\n",
    "    print(i)"
   ]
  },
  {
   "cell_type": "code",
   "execution_count": 142,
   "id": "be0bb86f",
   "metadata": {},
   "outputs": [
    {
     "name": "stdout",
     "output_type": "stream",
     "text": [
      "[1, 2, 3, 4]\n",
      "[1, 2, 3, 4]\n",
      "[1, 2, 3, 4]\n",
      "[1, 2, 3, 4]\n"
     ]
    }
   ],
   "source": [
    "l1=[1,2,3,4]\n",
    "for i in l1:\n",
    "    print(l1)"
   ]
  },
  {
   "cell_type": "markdown",
   "id": "aa1af8b7",
   "metadata": {},
   "source": [
    "# set{}\n",
    "> duplicate element are not allowed only print unique , slice are not allowed, never return sorted dataset"
   ]
  },
  {
   "cell_type": "markdown",
   "id": "ba7d684e",
   "metadata": {},
   "source": [
    "# Dict{}"
   ]
  },
  {
   "cell_type": "code",
   "execution_count": 143,
   "id": "d323a067",
   "metadata": {},
   "outputs": [
    {
     "data": {
      "text/plain": [
       "{0: 0, 1: 1, 2: 4, 3: 9, 4: 16, 5: 25, 6: 36, 7: 49, 8: 64, 9: 81}"
      ]
     },
     "execution_count": 143,
     "metadata": {},
     "output_type": "execute_result"
    }
   ],
   "source": [
    "{i:i**2 for i in range(10)}"
   ]
  },
  {
   "cell_type": "markdown",
   "id": "1a340cd5",
   "metadata": {},
   "source": [
    "# Function\n",
    ">> functions is reusebility"
   ]
  },
  {
   "cell_type": "code",
   "execution_count": 144,
   "id": "60554fdb",
   "metadata": {},
   "outputs": [
    {
     "name": "stdout",
     "output_type": "stream",
     "text": [
      "this the my first funtions 7\n"
     ]
    }
   ],
   "source": [
    "def test():\n",
    "    a=5\n",
    "    b=2\n",
    "    print(\"this the my first funtions\",a+b)\n",
    "test()"
   ]
  },
  {
   "cell_type": "code",
   "execution_count": 145,
   "id": "fbdfb7e3",
   "metadata": {},
   "outputs": [
    {
     "data": {
      "text/plain": [
       "'its prime numbers'"
      ]
     },
     "execution_count": 145,
     "metadata": {},
     "output_type": "execute_result"
    }
   ],
   "source": [
    "def is_num(num):\n",
    "    for i in range(2,num):   ## 2 is staring num and goes to num\n",
    "        if num%i==0:\n",
    "            return 'its not prime numbers'\n",
    "             #print('this numbers is not a prime numbers')\n",
    "            #break\n",
    "        else:\n",
    "            return 'its prime numbers'\n",
    "            #print('this numbers is a prime numbers ')\n",
    "is_num(17)"
   ]
  },
  {
   "cell_type": "code",
   "execution_count": 146,
   "id": "4a724805",
   "metadata": {},
   "outputs": [
    {
     "name": "stdout",
     "output_type": "stream",
     "text": [
      "yes , its palindrom numbers\n"
     ]
    }
   ],
   "source": [
    "def is_palindrom(str1):\n",
    "    return str1==str1[::-1]\n",
    "str1='malayalam'\n",
    "ans=is_palindrom(str1)\n",
    "if ans:\n",
    "    print('yes , its palindrom numbers')\n",
    "else:\n",
    "    print('not, its not palindrom numbers')"
   ]
  },
  {
   "cell_type": "code",
   "execution_count": 147,
   "id": "2194f8db",
   "metadata": {},
   "outputs": [
    {
     "name": "stdout",
     "output_type": "stream",
     "text": [
      "1\n",
      "8\n",
      "27\n",
      "64\n",
      "125\n",
      "216\n",
      "343\n",
      "512\n",
      "729\n"
     ]
    }
   ],
   "source": [
    "def gencube(n):\n",
    "    for i in range(1,n):\n",
    "        print(i**3)\n",
    "gencube(10)"
   ]
  },
  {
   "cell_type": "code",
   "execution_count": 148,
   "id": "6d296f11",
   "metadata": {},
   "outputs": [
    {
     "data": {
      "text/plain": [
       "<generator object gencube at 0x0000020525EAC120>"
      ]
     },
     "execution_count": 148,
     "metadata": {},
     "output_type": "execute_result"
    }
   ],
   "source": [
    "def gencube(n):\n",
    "    for i in range(n):\n",
    "        yield i**3       ## generator operator not get directely data we apply next function\n",
    "gencube(10)"
   ]
  },
  {
   "cell_type": "code",
   "execution_count": 149,
   "id": "5631d9f3",
   "metadata": {},
   "outputs": [
    {
     "name": "stdout",
     "output_type": "stream",
     "text": [
      "1\n",
      "1\n",
      "2\n"
     ]
    }
   ],
   "source": [
    "def genfi(n):\n",
    "    a=1\n",
    "    b=1\n",
    "    for i in range(n):\n",
    "        yield a\n",
    "        a,b=b,a+b\n",
    "obj=genfi(10)\n",
    "print(next(obj))\n",
    "print(next(obj))\n",
    "print(next(obj))"
   ]
  },
  {
   "cell_type": "code",
   "execution_count": 150,
   "id": "c93ab356",
   "metadata": {},
   "outputs": [
    {
     "name": "stdout",
     "output_type": "stream",
     "text": [
      "3 5 8 13 21 34 55 "
     ]
    }
   ],
   "source": [
    "for i in obj:\n",
    "    print(i,end=' ')"
   ]
  },
  {
   "cell_type": "code",
   "execution_count": null,
   "id": "7bd434a1",
   "metadata": {},
   "outputs": [],
   "source": []
  },
  {
   "cell_type": "code",
   "execution_count": 151,
   "id": "02897976",
   "metadata": {},
   "outputs": [
    {
     "name": "stdout",
     "output_type": "stream",
     "text": [
      "[1, 1, 2, 3, 5, 8, 13, 21, 34, 55]\n"
     ]
    }
   ],
   "source": [
    "def genfi(n):\n",
    "    a=1\n",
    "    b=1\n",
    "    output=[]\n",
    "    for i in range(n):\n",
    "        output.append(a) \n",
    "        a,b=b,a+b\n",
    "    print(output)\n",
    "genfi(10)"
   ]
  },
  {
   "cell_type": "code",
   "execution_count": 152,
   "id": "e460ff4c",
   "metadata": {},
   "outputs": [
    {
     "data": {
      "text/plain": [
       "16"
      ]
     },
     "execution_count": 152,
     "metadata": {},
     "output_type": "execute_result"
    }
   ],
   "source": [
    "def square(n):\n",
    "    return n**2\n",
    "square(4)"
   ]
  },
  {
   "cell_type": "code",
   "execution_count": 153,
   "id": "9eeb43f4",
   "metadata": {},
   "outputs": [
    {
     "name": "stdout",
     "output_type": "stream",
     "text": [
      "[9, 36, 81, 81]\n"
     ]
    }
   ],
   "source": [
    "l=[3,4,5,6,7,8,9,9]\n",
    "n=[]\n",
    "for i in l:\n",
    "    if i%3==0:\n",
    "        n.append(i*i)\n",
    "print(n)"
   ]
  },
  {
   "cell_type": "code",
   "execution_count": 154,
   "id": "e3508212",
   "metadata": {},
   "outputs": [
    {
     "data": {
      "text/plain": [
       "[9, 16, 25, 36, 49, 64, 81, 81]"
      ]
     },
     "execution_count": 154,
     "metadata": {},
     "output_type": "execute_result"
    }
   ],
   "source": [
    "[i**2 for i in l]"
   ]
  },
  {
   "cell_type": "markdown",
   "id": "0491da72",
   "metadata": {},
   "source": [
    "# map function"
   ]
  },
  {
   "cell_type": "code",
   "execution_count": 155,
   "id": "db425309",
   "metadata": {},
   "outputs": [
    {
     "data": {
      "text/plain": [
       "[9, 16, 25, 36, 49, 64, 81, 81]"
      ]
     },
     "execution_count": 155,
     "metadata": {},
     "output_type": "execute_result"
    }
   ],
   "source": [
    "list(map(square,l))"
   ]
  },
  {
   "cell_type": "code",
   "execution_count": 156,
   "id": "65d20986",
   "metadata": {},
   "outputs": [
    {
     "data": {
      "text/plain": [
       "['9Hello',\n",
       " '16Hello',\n",
       " '25Hello',\n",
       " '36Hello',\n",
       " '49Hello',\n",
       " '64Hello',\n",
       " '81Hello',\n",
       " '81Hello']"
      ]
     },
     "execution_count": 156,
     "metadata": {},
     "output_type": "execute_result"
    }
   ],
   "source": [
    "list(map(lambda x: str(x**2)+'Hello',l))"
   ]
  },
  {
   "cell_type": "code",
   "execution_count": 157,
   "id": "c6615d24",
   "metadata": {},
   "outputs": [
    {
     "data": {
      "text/plain": [
       "[9, 16, 25, 36, 49, 64, 81, 81]"
      ]
     },
     "execution_count": 157,
     "metadata": {},
     "output_type": "execute_result"
    }
   ],
   "source": [
    "list(map(lambda x: x**2,l))"
   ]
  },
  {
   "cell_type": "code",
   "execution_count": 158,
   "id": "52c5a4fa",
   "metadata": {},
   "outputs": [],
   "source": [
    "a=[1,2,3,4,5]\n",
    "b=[5,6,7,4,3]\n",
    "c=[6,7,8,6,5,5,4]"
   ]
  },
  {
   "cell_type": "code",
   "execution_count": 159,
   "id": "fa62b547",
   "metadata": {},
   "outputs": [
    {
     "data": {
      "text/plain": [
       "[(1, 5, 6), (2, 6, 7), (3, 7, 8), (4, 4, 6), (5, 3, 5)]"
      ]
     },
     "execution_count": 159,
     "metadata": {},
     "output_type": "execute_result"
    }
   ],
   "source": [
    "list(zip(a,b,c))"
   ]
  },
  {
   "cell_type": "code",
   "execution_count": 160,
   "id": "d73ecf9f",
   "metadata": {},
   "outputs": [
    {
     "data": {
      "text/plain": [
       "[12, 15, 18, 14, 13]"
      ]
     },
     "execution_count": 160,
     "metadata": {},
     "output_type": "execute_result"
    }
   ],
   "source": [
    "d=list(map(lambda x,y,z:x+y+z ,a,b,c))\n",
    "d"
   ]
  },
  {
   "cell_type": "code",
   "execution_count": 161,
   "id": "6ff1ecbd",
   "metadata": {},
   "outputs": [
    {
     "name": "stdout",
     "output_type": "stream",
     "text": [
      "[12, 15, 18, 14, 13]\n"
     ]
    }
   ],
   "source": [
    "output=[]\n",
    "for i,j,k in zip(a,b,c):\n",
    "    output.append(i+j+k)\n",
    "print(output)"
   ]
  },
  {
   "cell_type": "code",
   "execution_count": 162,
   "id": "2541fd6d",
   "metadata": {},
   "outputs": [
    {
     "name": "stdout",
     "output_type": "stream",
     "text": [
      "15\n"
     ]
    }
   ],
   "source": [
    "n=10\n",
    "sum_integer=0\n",
    "for i in range(n):\n",
    "    sum_integer+=i\n",
    "    i+=1\n",
    "print(sum)"
   ]
  },
  {
   "cell_type": "code",
   "execution_count": 163,
   "id": "a5f166e0",
   "metadata": {},
   "outputs": [
    {
     "data": {
      "text/plain": [
       "[1, 2, 3, 4, 5, 5, 6, 7, 4, 3, 6, 7, 8, 6, 5, 5, 4]"
      ]
     },
     "execution_count": 163,
     "metadata": {},
     "output_type": "execute_result"
    }
   ],
   "source": [
    "def sumation(a,b,c):\n",
    "    return a+b+c\n",
    "sumation(a,b,c)"
   ]
  },
  {
   "cell_type": "code",
   "execution_count": 164,
   "id": "04996645",
   "metadata": {},
   "outputs": [
    {
     "data": {
      "text/plain": [
       "[12, 15, 18, 14, 13]"
      ]
     },
     "execution_count": 164,
     "metadata": {},
     "output_type": "execute_result"
    }
   ],
   "source": [
    "list(map(sumation,a,b,c))     ## add multi index value in form of list"
   ]
  },
  {
   "cell_type": "code",
   "execution_count": 165,
   "id": "64880813",
   "metadata": {},
   "outputs": [
    {
     "data": {
      "text/plain": [
       "[12, 15, 18, 14, 13]"
      ]
     },
     "execution_count": 165,
     "metadata": {},
     "output_type": "execute_result"
    }
   ],
   "source": [
    "list(map(lambda x,y,z: x+y+z, a,b,c))"
   ]
  },
  {
   "cell_type": "markdown",
   "id": "69e536a9",
   "metadata": {},
   "source": [
    "# reduce function"
   ]
  },
  {
   "cell_type": "code",
   "execution_count": 166,
   "id": "e5c20eaa",
   "metadata": {},
   "outputs": [],
   "source": [
    "from functools import reduce"
   ]
  },
  {
   "cell_type": "code",
   "execution_count": 167,
   "id": "f5165a2d",
   "metadata": {},
   "outputs": [],
   "source": [
    "def summation(a,b):\n",
    "    return a+b"
   ]
  },
  {
   "cell_type": "code",
   "execution_count": 168,
   "id": "bbeb21e9",
   "metadata": {},
   "outputs": [
    {
     "data": {
      "text/plain": [
       "39"
      ]
     },
     "execution_count": 168,
     "metadata": {},
     "output_type": "execute_result"
    }
   ],
   "source": [
    "l1=[4,5,6,7,8,9]\n",
    "reduce(summation,l1)"
   ]
  },
  {
   "cell_type": "code",
   "execution_count": 169,
   "id": "087bae4c",
   "metadata": {},
   "outputs": [
    {
     "data": {
      "text/plain": [
       "0.0002645502645502645"
      ]
     },
     "execution_count": 169,
     "metadata": {},
     "output_type": "execute_result"
    }
   ],
   "source": [
    "reduce(lambda x,y : x/y,l1)     ## reduce is aggreegate function"
   ]
  },
  {
   "cell_type": "code",
   "execution_count": 170,
   "id": "89ce8ed4",
   "metadata": {},
   "outputs": [
    {
     "data": {
      "text/plain": [
       "[4, 6, 8]"
      ]
     },
     "execution_count": 170,
     "metadata": {},
     "output_type": "execute_result"
    }
   ],
   "source": [
    "list(filter(lambda x: x%2==0,l1))"
   ]
  },
  {
   "cell_type": "code",
   "execution_count": 171,
   "id": "06c80e16",
   "metadata": {},
   "outputs": [],
   "source": [
    "def even_check(n):\n",
    "    if n%2 ==0:\n",
    "        return True"
   ]
  },
  {
   "cell_type": "code",
   "execution_count": 172,
   "id": "eba0d1b8",
   "metadata": {},
   "outputs": [
    {
     "data": {
      "text/plain": [
       "[4, 6, 8]"
      ]
     },
     "execution_count": 172,
     "metadata": {},
     "output_type": "execute_result"
    }
   ],
   "source": [
    "list(filter(even_check,l1))"
   ]
  },
  {
   "cell_type": "markdown",
   "id": "b9efd67e",
   "metadata": {},
   "source": [
    "# Oops"
   ]
  },
  {
   "cell_type": "code",
   "execution_count": 173,
   "id": "8f42ee9c",
   "metadata": {},
   "outputs": [
    {
     "name": "stdout",
     "output_type": "stream",
     "text": [
      "my name is amar\n"
     ]
    }
   ],
   "source": [
    "class person:\n",
    "    def __init__(self,a,b,c):\n",
    "        self.a=a\n",
    "        self.b=b\n",
    "        self.c=c\n",
    "    def __str__(self):\n",
    "        return 'my name is amar'\n",
    "P=person(3,4,5)\n",
    "print(P)"
   ]
  },
  {
   "cell_type": "code",
   "execution_count": 174,
   "id": "89544c13",
   "metadata": {},
   "outputs": [
    {
     "data": {
      "text/plain": [
       "'my name is amar and i am student id: 4'"
      ]
     },
     "execution_count": 174,
     "metadata": {},
     "output_type": "execute_result"
    }
   ],
   "source": [
    "class student(person):  ## inherint\n",
    "    def __init__(self,student_id,*args):     ## *args means a,b,c\n",
    "        super(student,self).__init__(*args)\n",
    "        self.student_id=student_id\n",
    "    def __str__(self):\n",
    "        return super(student,self).__str__()+ ' and i am student id: {}'.format(self.student_id)           ## override concept\n",
    "s=student(4,5,6,7)\n",
    "s.__str__()"
   ]
  },
  {
   "cell_type": "code",
   "execution_count": 175,
   "id": "1e168e8a",
   "metadata": {},
   "outputs": [
    {
     "name": "stdout",
     "output_type": "stream",
     "text": [
      "my name is amar and i am student id: 4\n"
     ]
    }
   ],
   "source": [
    "print(s)"
   ]
  },
  {
   "cell_type": "markdown",
   "id": "33df546a",
   "metadata": {},
   "source": [
    "# Encapsulation"
   ]
  },
  {
   "cell_type": "code",
   "execution_count": 205,
   "id": "13eefdb1",
   "metadata": {},
   "outputs": [
    {
     "name": "stdout",
     "output_type": "stream",
     "text": [
      "sdfs 52 985\n"
     ]
    }
   ],
   "source": [
    "class tyre:\n",
    "    def __init__(self, branch , baise,opt_pre):\n",
    "        self.branch=branch\n",
    "        self.baise=baise\n",
    "        self.opt_pre=opt_pre\n",
    "    def __str__(self):\n",
    "        return str(self.branch) + \" \" + str(self.baise) + \" \" + str(self.opt_pre)\n",
    "t=tyre('sdfs',52,985)\n",
    "print(t)"
   ]
  },
  {
   "cell_type": "code",
   "execution_count": 206,
   "id": "c0133f3b",
   "metadata": {},
   "outputs": [
    {
     "name": "stdout",
     "output_type": "stream",
     "text": [
      "petrol  56\n"
     ]
    }
   ],
   "source": [
    "class engine:\n",
    "    def __init__(self,fuel_type,noise_level):\n",
    "        self.fuel_type=fuel_type\n",
    "        self.noise_level=noise_level\n",
    "    def __str__(self):\n",
    "        return str(self.fuel_type)+'  '+str(self.noise_level)\n",
    "e=engine('petrol',56)\n",
    "print(e)"
   ]
  },
  {
   "cell_type": "code",
   "execution_count": 207,
   "id": "f71ac17a",
   "metadata": {},
   "outputs": [
    {
     "name": "stdout",
     "output_type": "stream",
     "text": [
      "this is my def of engine class : small\n"
     ]
    }
   ],
   "source": [
    "class body:\n",
    "    def __init__(self,body_size):\n",
    "        self.body_size=body_size\n",
    "    def __str__(self):\n",
    "        return  'this is my def of engine class :' +' '+str(self.body_size)\n",
    "b=body('small')\n",
    "print(b)"
   ]
  },
  {
   "cell_type": "code",
   "execution_count": 208,
   "id": "de2f195d",
   "metadata": {},
   "outputs": [
    {
     "name": "stdout",
     "output_type": "stream",
     "text": [
      "tyer brand_is :  sdfs 52 985  \n",
      "engin_is :  petrol  56  \n",
      "body_is :  this is my def of engine class : small\n"
     ]
    }
   ],
   "source": [
    "class car:\n",
    "    def __init__(self,ti,ei,bi):\n",
    "        self.ti=t\n",
    "        self.ei=e\n",
    "        self.bi=b\n",
    "    def __str__(self):\n",
    "        return 'tyer brand_is : ' + ' '+str(self.ti)+\"  \"+'\\nengin_is : ' + ' '+str(self.ei)+\"  \"+'\\nbody_is : ' +' '+str(self.bi)\n",
    "c=car('MRF','M2','Small')\n",
    "print(c)"
   ]
  },
  {
   "cell_type": "markdown",
   "id": "9996f213",
   "metadata": {},
   "source": [
    "#  Dynamic Encapsulation"
   ]
  },
  {
   "cell_type": "code",
   "execution_count": 209,
   "id": "64426970",
   "metadata": {},
   "outputs": [
    {
     "name": "stdout",
     "output_type": "stream",
     "text": [
      "tyer brand_is :  sdfs 52 985  \n",
      "engin_is :  petrol  56  \n",
      "body_is :  this is my def of engine class : small\n"
     ]
    }
   ],
   "source": [
    "c=car(t,e,'this is my def of of engin class   small')\n",
    "print(c)"
   ]
  },
  {
   "cell_type": "code",
   "execution_count": 210,
   "id": "891e7052",
   "metadata": {},
   "outputs": [],
   "source": [
    "### polymorphism\n",
    "\n",
    "def add_x(a,b):\n",
    "    return a*b"
   ]
  },
  {
   "cell_type": "code",
   "execution_count": 211,
   "id": "34cf5a0a",
   "metadata": {},
   "outputs": [
    {
     "data": {
      "text/plain": [
       "'amaramaramaramar'"
      ]
     },
     "execution_count": 211,
     "metadata": {},
     "output_type": "execute_result"
    }
   ],
   "source": [
    "add_x('amar',4)"
   ]
  },
  {
   "cell_type": "code",
   "execution_count": 212,
   "id": "a61cc1b5",
   "metadata": {},
   "outputs": [
    {
     "data": {
      "text/plain": [
       "12"
      ]
     },
     "execution_count": 212,
     "metadata": {},
     "output_type": "execute_result"
    }
   ],
   "source": [
    "add_x(3,4)"
   ]
  },
  {
   "cell_type": "code",
   "execution_count": 213,
   "id": "76a46685",
   "metadata": {},
   "outputs": [
    {
     "data": {
      "text/plain": [
       "[1, 2, 3, 4, 5, 1, 2, 3, 4, 5, 1, 2, 3, 4, 5, 1, 2, 3, 4, 5, 1, 2, 3, 4, 5]"
      ]
     },
     "execution_count": 213,
     "metadata": {},
     "output_type": "execute_result"
    }
   ],
   "source": [
    "add_x([1,2,3,4,5],5)"
   ]
  },
  {
   "cell_type": "markdown",
   "id": "747fa482",
   "metadata": {},
   "source": [
    "# File Handling"
   ]
  },
  {
   "cell_type": "code",
   "execution_count": 217,
   "id": "625f3cc5",
   "metadata": {},
   "outputs": [
    {
     "name": "stdout",
     "output_type": "stream",
     "text": [
      "this is an IOError\n"
     ]
    }
   ],
   "source": [
    "try:\n",
    "    f=open('xyz.text')\n",
    "    f.write('my name is amar')\n",
    "except FileExistsError as e:\n",
    "    print(e)\n",
    "except IOError:\n",
    "    print('this is an IOError')"
   ]
  },
  {
   "cell_type": "code",
   "execution_count": 218,
   "id": "0d460ecf",
   "metadata": {},
   "outputs": [],
   "source": [
    "import sqlite3"
   ]
  },
  {
   "cell_type": "code",
   "execution_count": 219,
   "id": "8892c0dc",
   "metadata": {},
   "outputs": [],
   "source": [
    "c=sqlite3.connect('xyz')"
   ]
  },
  {
   "cell_type": "code",
   "execution_count": 220,
   "id": "812ec5df",
   "metadata": {},
   "outputs": [
    {
     "data": {
      "text/plain": [
       "<sqlite3.Cursor at 0x281437b0490>"
      ]
     },
     "execution_count": 220,
     "metadata": {},
     "output_type": "execute_result"
    }
   ],
   "source": [
    "c.execute('drop table if exists abc')\n"
   ]
  },
  {
   "cell_type": "code",
   "execution_count": 221,
   "id": "a910dc87",
   "metadata": {},
   "outputs": [
    {
     "data": {
      "text/plain": [
       "<sqlite3.Cursor at 0x281437b08f0>"
      ]
     },
     "execution_count": 221,
     "metadata": {},
     "output_type": "execute_result"
    }
   ],
   "source": [
    "c.execute('create table abc(id int,name text, score int)')"
   ]
  },
  {
   "cell_type": "code",
   "execution_count": 222,
   "id": "79d2e502",
   "metadata": {},
   "outputs": [
    {
     "data": {
      "text/plain": [
       "<sqlite3.Cursor at 0x281437b0880>"
      ]
     },
     "execution_count": 222,
     "metadata": {},
     "output_type": "execute_result"
    }
   ],
   "source": [
    "c.execute(\"insert into abc(id , name , score) values(111,'efg',85985)\")"
   ]
  },
  {
   "cell_type": "code",
   "execution_count": null,
   "id": "80979321",
   "metadata": {},
   "outputs": [],
   "source": []
  },
  {
   "cell_type": "markdown",
   "id": "6cef07d2",
   "metadata": {},
   "source": [
    "# Pyhton Assignments"
   ]
  },
  {
   "cell_type": "code",
   "execution_count": null,
   "id": "4ff5994e",
   "metadata": {},
   "outputs": [],
   "source": [
    "## Write a Python program to reverse a word after accepting the input from the user.\n",
    "word = input(\"Input a word to reverse: \")\n",
    "\n",
    "for char in range(len(word) - 1, -1, -1):\n",
    "    print(word[char], end=\"\")\n",
    "print(\"\\n\")"
   ]
  },
  {
   "cell_type": "code",
   "execution_count": 200,
   "id": "8465c241",
   "metadata": {},
   "outputs": [
    {
     "name": "stdout",
     "output_type": "stream",
     "text": [
      "Input a word to reverse:  4\n",
      "4 "
     ]
    }
   ],
   "source": [
    "str1=input(\"Input a word to reverse:  \")\n",
    "temp=str1.split(' ')\n",
    "for i in temp:\n",
    "    print(i[::-1],end=' ')"
   ]
  },
  {
   "cell_type": "code",
   "execution_count": 201,
   "id": "73ce4a5f",
   "metadata": {},
   "outputs": [],
   "source": [
    "## Write a Python function which takes a character (i.e. a string of length 1) and returns True ifit is a vowel, False otherwise.\n"
   ]
  },
  {
   "cell_type": "code",
   "execution_count": null,
   "id": "03fb2bee",
   "metadata": {},
   "outputs": [],
   "source": []
  },
  {
   "cell_type": "code",
   "execution_count": null,
   "id": "566cc501",
   "metadata": {},
   "outputs": [],
   "source": []
  }
 ],
 "metadata": {
  "kernelspec": {
   "display_name": "Python 3 (ipykernel)",
   "language": "python",
   "name": "python3"
  },
  "language_info": {
   "codemirror_mode": {
    "name": "ipython",
    "version": 3
   },
   "file_extension": ".py",
   "mimetype": "text/x-python",
   "name": "python",
   "nbconvert_exporter": "python",
   "pygments_lexer": "ipython3",
   "version": "3.9.13"
  }
 },
 "nbformat": 4,
 "nbformat_minor": 5
}
