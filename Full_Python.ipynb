{
 "cells": [
  {
   "cell_type": "code",
   "execution_count": 1,
   "id": "03cdf247",
   "metadata": {},
   "outputs": [
    {
     "name": "stdout",
     "output_type": "stream",
     "text": [
      "Enter the numbers : 123\n",
      "sum:  6\n"
     ]
    }
   ],
   "source": [
    "# Program Find the sum of a 3 digit number enter by the user\n",
    "\n",
    "number=int(input('Enter the numbers : '))\n",
    "\n",
    "#345%10\n",
    "a=number%10\n",
    "\n",
    "number=number//10\n",
    "#34%10\n",
    "b=number%10\n",
    "\n",
    "number=number//10\n",
    "#3%10\n",
    "c=number%10\n",
    "\n",
    "number=number//10\n",
    "d=number%10\n",
    "number=number//10\n",
    "# sum of 3 digit\n",
    "print('sum: ',a+b+c+d)"
   ]
  },
  {
   "cell_type": "code",
   "execution_count": 2,
   "id": "71f54989",
   "metadata": {},
   "outputs": [
    {
     "data": {
      "text/plain": [
       "5"
      ]
     },
     "execution_count": 2,
     "metadata": {},
     "output_type": "execute_result"
    }
   ],
   "source": [
    "345%10 # reminder 5"
   ]
  },
  {
   "cell_type": "code",
   "execution_count": 3,
   "id": "16c157bc",
   "metadata": {},
   "outputs": [
    {
     "data": {
      "text/plain": [
       "34"
      ]
     },
     "execution_count": 3,
     "metadata": {},
     "output_type": "execute_result"
    }
   ],
   "source": [
    "345//10 # quesent"
   ]
  },
  {
   "cell_type": "code",
   "execution_count": 4,
   "id": "b350309b",
   "metadata": {},
   "outputs": [
    {
     "name": "stdout",
     "output_type": "stream",
     "text": [
      "9\n"
     ]
    }
   ],
   "source": [
    "num='153'\n",
    "sum=0\n",
    "for i in num:\n",
    "    sum+=int(i)\n",
    "print(sum)"
   ]
  },
  {
   "cell_type": "code",
   "execution_count": 5,
   "id": "a0916e7c",
   "metadata": {},
   "outputs": [
    {
     "name": "stdout",
     "output_type": "stream",
     "text": [
      "{'Narendra': 1, 'Damodardas': 1, 'Modi': 2, 'is': 2, 'an': 1, 'Indian': 1, 'politician': 1, 'who': 1, 'has': 1, 'served': 1, 'as': 1, 'the': 3, '14th': 1, 'Prime': 1, 'Minister': 2, 'of': 3, 'India': 1, 'since': 1, 'May': 1, '2014.': 1, 'was': 1, 'Chief': 1, 'Gujarat': 1, 'from': 1, '2001': 1, 'to': 1, '2014': 1, 'and': 1, 'Member': 1, 'Parliament': 1, 'for': 1, 'Varanasi.': 1}\n"
     ]
    }
   ],
   "source": [
    "str1='Narendra Damodardas Modi is an Indian politician who has served as the 14th Prime Minister of India since May 2014. Modi was the Chief Minister of Gujarat from 2001 to 2014 and is the Member of Parliament for Varanasi.'\n",
    "# p=str1.split()\n",
    " \n",
    "# using naive method to get count\n",
    "# of each element in string\n",
    "all_freq={}\n",
    " \n",
    "for i in str1.split():\n",
    "    if i in all_freq:\n",
    "        all_freq[i]+=1\n",
    "    else:\n",
    "        all_freq[i]=1\n",
    "print(all_freq)"
   ]
  },
  {
   "cell_type": "code",
   "execution_count": 6,
   "id": "3911a9d4",
   "metadata": {},
   "outputs": [
    {
     "data": {
      "text/plain": [
       "['the', 'of']"
      ]
     },
     "execution_count": 6,
     "metadata": {},
     "output_type": "execute_result"
    }
   ],
   "source": [
    "max_count=max(all_freq.values())\n",
    "[num for num,count in all_freq.items() if count==max_count]"
   ]
  },
  {
   "cell_type": "code",
   "execution_count": 7,
   "id": "0b9aa5ec",
   "metadata": {},
   "outputs": [
    {
     "data": {
      "text/plain": [
       "[60, 72, 84, 96, 108]"
      ]
     },
     "execution_count": 7,
     "metadata": {},
     "output_type": "execute_result"
    }
   ],
   "source": [
    "lst1=[5,6,7,8,9]\n",
    "lst2=[55,66,77,88,99]\n",
    "lst3=list(map(lambda a,b : a+b,lst1,lst2))\n",
    "lst3"
   ]
  },
  {
   "cell_type": "code",
   "execution_count": 8,
   "id": "8913f2d7",
   "metadata": {},
   "outputs": [],
   "source": [
    "def summation(lst1,lst2):\n",
    "    return lst1+lst2"
   ]
  },
  {
   "cell_type": "code",
   "execution_count": 9,
   "id": "f51c7384",
   "metadata": {},
   "outputs": [
    {
     "data": {
      "text/plain": [
       "[60, 72, 84, 96, 108]"
      ]
     },
     "execution_count": 9,
     "metadata": {},
     "output_type": "execute_result"
    }
   ],
   "source": [
    "list(map(summation,lst1,lst2))"
   ]
  },
  {
   "cell_type": "code",
   "execution_count": 10,
   "id": "6caeab81",
   "metadata": {},
   "outputs": [
    {
     "data": {
      "text/plain": [
       "{'Narendra': 1,\n",
       " 'Damodardas': 1,\n",
       " 'Modi': 2,\n",
       " 'is': 2,\n",
       " 'an': 1,\n",
       " 'Indian': 1,\n",
       " 'politician': 1,\n",
       " 'who': 1,\n",
       " 'has': 1,\n",
       " 'served': 1,\n",
       " 'as': 1,\n",
       " 'the': 3,\n",
       " '14th': 1,\n",
       " 'Prime': 1,\n",
       " 'Minister': 2,\n",
       " 'of': 3,\n",
       " 'India': 1,\n",
       " 'since': 1,\n",
       " 'May': 1,\n",
       " '2014.': 1,\n",
       " 'was': 1,\n",
       " 'Chief': 1,\n",
       " 'Gujarat': 1,\n",
       " 'from': 1,\n",
       " '2001': 1,\n",
       " 'to': 1,\n",
       " '2014': 1,\n",
       " 'and': 1,\n",
       " 'Member': 1,\n",
       " 'Parliament': 1,\n",
       " 'for': 1,\n",
       " 'Varanasi.': 1}"
      ]
     },
     "execution_count": 10,
     "metadata": {},
     "output_type": "execute_result"
    }
   ],
   "source": [
    "from collections import Counter\n",
    "dict(Counter(str1.split()))"
   ]
  },
  {
   "cell_type": "code",
   "execution_count": null,
   "id": "f07ba63f",
   "metadata": {},
   "outputs": [],
   "source": []
  },
  {
   "cell_type": "code",
   "execution_count": 11,
   "id": "1ca4c47c",
   "metadata": {},
   "outputs": [
    {
     "data": {
      "text/plain": [
       "12"
      ]
     },
     "execution_count": 11,
     "metadata": {},
     "output_type": "execute_result"
    }
   ],
   "source": [
    "125//10"
   ]
  },
  {
   "cell_type": "code",
   "execution_count": 12,
   "id": "60b39572",
   "metadata": {},
   "outputs": [
    {
     "name": "stdout",
     "output_type": "stream",
     "text": [
      "enter the number: 4\n",
      "sum : 4\n"
     ]
    }
   ],
   "source": [
    "num1=input('enter the number: ')\n",
    "sum=0\n",
    "for i in num1:\n",
    "    sum+=int(i)\n",
    "print('sum :',sum)"
   ]
  },
  {
   "cell_type": "code",
   "execution_count": 13,
   "id": "8ffa10b1",
   "metadata": {},
   "outputs": [
    {
     "name": "stdout",
     "output_type": "stream",
     "text": [
      "3201\n"
     ]
    }
   ],
   "source": [
    "number=1023\n",
    "sum=0\n",
    "while number>0:\n",
    "    sum=sum*10+number%10\n",
    "    number=number//10\n",
    "print(sum)"
   ]
  },
  {
   "cell_type": "code",
   "execution_count": 14,
   "id": "5c0ad6f4",
   "metadata": {},
   "outputs": [
    {
     "data": {
      "text/plain": [
       "320100"
      ]
     },
     "execution_count": 14,
     "metadata": {},
     "output_type": "execute_result"
    }
   ],
   "source": [
    "number='001023'\n",
    "int(''.join(reversed(number)))"
   ]
  },
  {
   "cell_type": "code",
   "execution_count": 15,
   "id": "af204c28",
   "metadata": {},
   "outputs": [
    {
     "name": "stdout",
     "output_type": "stream",
     "text": [
      "Enter the Email ID: \n",
      "Please Enter the password : \n",
      "Pealse ! Enter the correct email and password\n"
     ]
    }
   ],
   "source": [
    "# email= amarendrakusheah12@gmail.com\n",
    "# password=12345\n",
    "email=input('Enter the Email ID: ')\n",
    "password=input('Please Enter the password : ')\n",
    "if email=='amarendrakushwaha12@gmail.com' and  password=='12345':\n",
    "    print('Welcome Python World')\n",
    "else:\n",
    "    print('Pealse ! Enter the correct email and password')"
   ]
  },
  {
   "cell_type": "code",
   "execution_count": null,
   "id": "452d29c2",
   "metadata": {},
   "outputs": [],
   "source": [
    "num1 = float(input('enter the first numbers  : '))\n",
    "operators = input(\"enter the operators \\n(+ or - or * or (**=bow) or / or//)\")\n",
    "num2 = float(input('enter the second numbers :'))\n",
    "if operators == '+':\n",
    "     print(f\"{int(num1)} + {int(num2)}={num1 + num2}\")\n",
    "elif operators == '-':\n",
    "     print(f\"{int(num1)} - {int(num2)}={num1 - num2}\")\n",
    "\n",
    "elif operators == '*':\n",
    "     print(f\"{int(num1)} * {int(num2)}={num1 * num2}\")\n",
    "elif operators == '**':\n",
    "     print(f\"{int(num1)} ** {int(num2)}={num1 ** num2}\")\n",
    "elif operators == '/':\n",
    "     print(f\"{int(num1)} / {int(num2)}={num1 / num2}\")\n",
    "elif operators == '//':\n",
    "     print(f\"{int(num1)} // {int(num2)}={num1 + num2}\")\n",
    "else:\n",
    "     print('the operator is the worng')"
   ]
  },
  {
   "cell_type": "code",
   "execution_count": 17,
   "id": "b672d8fb",
   "metadata": {},
   "outputs": [
    {
     "name": "stdout",
     "output_type": "stream",
     "text": [
      "\n",
      "Hi ! How can I help you?\n",
      "1. enter 1 for pin change\n",
      "2. enter 2 for balance check\n",
      "3. enter 3 for widthrawl\n",
      "4. enter 4 for exit\n",
      "3\n",
      "exit\n"
     ]
    }
   ],
   "source": [
    "menu=input(\"\"\"\n",
    "Hi ! How can I help you?\n",
    "1. enter 1 for pin change\n",
    "2. enter 2 for balance check\n",
    "3. enter 3 for widthrawl\n",
    "4. enter 4 for exit\n",
    "\"\"\")\n",
    "if menu=='1':\n",
    "    print('pin change')\n",
    "elif menu=='2':\n",
    "    print('balance check')\n",
    "else:\n",
    "    print('exit')"
   ]
  },
  {
   "cell_type": "code",
   "execution_count": 18,
   "id": "66a5ca70",
   "metadata": {},
   "outputs": [],
   "source": [
    "import datetime"
   ]
  },
  {
   "cell_type": "code",
   "execution_count": 19,
   "id": "b3d76b1e",
   "metadata": {},
   "outputs": [
    {
     "name": "stdout",
     "output_type": "stream",
     "text": [
      "2023-12-02 15:15:45.195945\n"
     ]
    }
   ],
   "source": [
    "print(datetime.datetime.now())"
   ]
  },
  {
   "cell_type": "code",
   "execution_count": 20,
   "id": "af807c1f",
   "metadata": {
    "scrolled": true
   },
   "outputs": [
    {
     "name": "stdout",
     "output_type": "stream",
     "text": [
      "enter the numbers: 4\n",
      "4\n",
      "8\n",
      "12\n"
     ]
    }
   ],
   "source": [
    "number=int(input('enter the numbers: '))\n",
    "\n",
    "i=1\n",
    "while i<number:\n",
    "    print(number * i)\n",
    "    i+=1"
   ]
  },
  {
   "cell_type": "code",
   "execution_count": 21,
   "id": "77053495",
   "metadata": {},
   "outputs": [
    {
     "name": "stdout",
     "output_type": "stream",
     "text": [
      "enter the numbers : \n"
     ]
    },
    {
     "ename": "ValueError",
     "evalue": "invalid literal for int() with base 10: ''",
     "output_type": "error",
     "traceback": [
      "\u001b[1;31m---------------------------------------------------------------------------\u001b[0m",
      "\u001b[1;31mValueError\u001b[0m                                Traceback (most recent call last)",
      "\u001b[1;32m~\\AppData\\Local\\Temp\\ipykernel_10760\\1990716449.py\u001b[0m in \u001b[0;36m<module>\u001b[1;34m\u001b[0m\n\u001b[1;32m----> 1\u001b[1;33m \u001b[0mnum_rows\u001b[0m\u001b[1;33m=\u001b[0m \u001b[0mint\u001b[0m\u001b[1;33m(\u001b[0m\u001b[0minput\u001b[0m\u001b[1;33m(\u001b[0m\u001b[1;34m'enter the numbers : '\u001b[0m\u001b[1;33m)\u001b[0m\u001b[1;33m)\u001b[0m\u001b[1;33m\u001b[0m\u001b[1;33m\u001b[0m\u001b[0m\n\u001b[0m\u001b[0;32m      2\u001b[0m \u001b[1;32mfor\u001b[0m \u001b[0mi\u001b[0m \u001b[1;32min\u001b[0m \u001b[0mrange\u001b[0m\u001b[1;33m(\u001b[0m\u001b[0mnum_rows\u001b[0m\u001b[1;33m)\u001b[0m\u001b[1;33m:\u001b[0m\u001b[1;33m\u001b[0m\u001b[1;33m\u001b[0m\u001b[0m\n\u001b[0;32m      3\u001b[0m     \u001b[1;32mfor\u001b[0m \u001b[0mj\u001b[0m \u001b[1;32min\u001b[0m \u001b[0mrange\u001b[0m\u001b[1;33m(\u001b[0m\u001b[0mi\u001b[0m\u001b[1;33m+\u001b[0m\u001b[1;36m1\u001b[0m\u001b[1;33m)\u001b[0m\u001b[1;33m:\u001b[0m\u001b[1;33m\u001b[0m\u001b[1;33m\u001b[0m\u001b[0m\n\u001b[0;32m      4\u001b[0m         \u001b[0mprint\u001b[0m\u001b[1;33m(\u001b[0m\u001b[1;34m'*'\u001b[0m\u001b[1;33m,\u001b[0m\u001b[0mend\u001b[0m\u001b[1;33m=\u001b[0m\u001b[1;34m' '\u001b[0m\u001b[1;33m)\u001b[0m\u001b[1;33m\u001b[0m\u001b[1;33m\u001b[0m\u001b[0m\n\u001b[0;32m      5\u001b[0m     \u001b[0mprint\u001b[0m\u001b[1;33m(\u001b[0m\u001b[1;33m)\u001b[0m\u001b[1;33m\u001b[0m\u001b[1;33m\u001b[0m\u001b[0m\n",
      "\u001b[1;31mValueError\u001b[0m: invalid literal for int() with base 10: ''"
     ]
    }
   ],
   "source": [
    "num_rows= int(input('enter the numbers : '))\n",
    "for i in range(num_rows):\n",
    "    for j in range(i+1):\n",
    "        print('*',end=' ')\n",
    "    print()"
   ]
  },
  {
   "cell_type": "code",
   "execution_count": 22,
   "id": "d408c553",
   "metadata": {},
   "outputs": [
    {
     "data": {
      "text/plain": [
       "array('i', [1, 2, 3, 4, 5, 6, 7, 6, 5, 4, 3, 2, 1])"
      ]
     },
     "execution_count": 22,
     "metadata": {},
     "output_type": "execute_result"
    }
   ],
   "source": [
    "import array\n",
    "arr=array.array('i',[1,2,3,4,5,6,7,6,5,4,3,2,1])\n",
    "arr"
   ]
  },
  {
   "cell_type": "code",
   "execution_count": 23,
   "id": "3ace71b4",
   "metadata": {},
   "outputs": [],
   "source": [
    "import pandas as pd"
   ]
  },
  {
   "cell_type": "code",
   "execution_count": 33,
   "id": "2127c486",
   "metadata": {},
   "outputs": [],
   "source": [
    "s1=(1,1,3,4,5,6,6,4,3,2,2)"
   ]
  },
  {
   "cell_type": "code",
   "execution_count": 34,
   "id": "5e638535",
   "metadata": {},
   "outputs": [
    {
     "data": {
      "text/plain": [
       "(1, 1, 3, 4, 5, 6, 6, 4, 3, 2, 2)"
      ]
     },
     "execution_count": 34,
     "metadata": {},
     "output_type": "execute_result"
    }
   ],
   "source": [
    "s1"
   ]
  },
  {
   "cell_type": "code",
   "execution_count": 35,
   "id": "318caee4",
   "metadata": {},
   "outputs": [
    {
     "data": {
      "text/plain": [
       "[10, 20, 30, 40, 50, 60, 70, 80, 90, 100]"
      ]
     },
     "execution_count": 35,
     "metadata": {},
     "output_type": "execute_result"
    }
   ],
   "source": [
    "[i *10 for i in range(1,11)]"
   ]
  },
  {
   "cell_type": "code",
   "execution_count": 36,
   "id": "f771123f",
   "metadata": {},
   "outputs": [
    {
     "data": {
      "text/plain": [
       "[3, 6, 9, 12, 15, 18, 21, 24, 27, 30]"
      ]
     },
     "execution_count": 36,
     "metadata": {},
     "output_type": "execute_result"
    }
   ],
   "source": [
    "[i for i in range(1,31) if i%3==0]"
   ]
  },
  {
   "cell_type": "code",
   "execution_count": 37,
   "id": "e7933121",
   "metadata": {},
   "outputs": [
    {
     "name": "stdout",
     "output_type": "stream",
     "text": [
      "1 2\n",
      "[3, 4, 5, 6]\n"
     ]
    }
   ],
   "source": [
    "# tuple\n",
    "#it means in tuple case a,b take one one valus and rest  values are contains others\n",
    "\n",
    "a,b,*others=(1,2,3,4,5,6)\n",
    "print(a,b)\n",
    "print(others)"
   ]
  },
  {
   "cell_type": "code",
   "execution_count": 38,
   "id": "83d86e33",
   "metadata": {},
   "outputs": [
    {
     "data": {
      "text/plain": [
       "<generator object <genexpr> at 0x00000226E0816580>"
      ]
     },
     "execution_count": 38,
     "metadata": {},
     "output_type": "execute_result"
    }
   ],
   "source": [
    "(i*2 for i in range(1,11) if i%2==0)"
   ]
  },
  {
   "cell_type": "markdown",
   "id": "7e02e0a6",
   "metadata": {},
   "source": [
    "# Functions"
   ]
  },
  {
   "cell_type": "code",
   "execution_count": 39,
   "id": "2c1530d3",
   "metadata": {},
   "outputs": [
    {
     "name": "stdout",
     "output_type": "stream",
     "text": [
      "enter the numbers : 4\n",
      "even\n"
     ]
    }
   ],
   "source": [
    "#functions create\n",
    "def is_even(num):\n",
    "    \"\"\"\n",
    "    This function returns if a given numbers is even or odd\n",
    "    input- any valid integer\n",
    "    outpu- even or odd\n",
    "    \"\"\"\n",
    "    if type(num)==int:\n",
    "        if num%2==0:\n",
    "            print('even')\n",
    "        else:\n",
    "            print('odd')\n",
    "    else:\n",
    "        return 'plz enter the only interger'\n",
    "num=int(input('enter the numbers : '))\n",
    "is_even(num)"
   ]
  },
  {
   "cell_type": "code",
   "execution_count": 40,
   "id": "ad8d3a09",
   "metadata": {},
   "outputs": [
    {
     "name": "stdout",
     "output_type": "stream",
     "text": [
      "odd\n",
      "None\n",
      "even\n",
      "None\n",
      "odd\n",
      "None\n",
      "even\n",
      "None\n"
     ]
    }
   ],
   "source": [
    "#function output\n",
    "#function_name(input)\n",
    "for i in range(1,5):\n",
    "    x=is_even(i)\n",
    "    print(x)"
   ]
  },
  {
   "cell_type": "code",
   "execution_count": 41,
   "id": "280016ae",
   "metadata": {},
   "outputs": [
    {
     "data": {
      "text/plain": [
       "32"
      ]
     },
     "execution_count": 41,
     "metadata": {},
     "output_type": "execute_result"
    }
   ],
   "source": [
    "def power(a,b):\n",
    "    return a**b\n",
    "power(2,5)"
   ]
  },
  {
   "cell_type": "code",
   "execution_count": 42,
   "id": "93c7a7b2",
   "metadata": {},
   "outputs": [
    {
     "data": {
      "text/plain": [
       "625"
      ]
     },
     "execution_count": 42,
     "metadata": {},
     "output_type": "execute_result"
    }
   ],
   "source": [
    "# positional argument\n",
    "power(5,4)"
   ]
  },
  {
   "cell_type": "code",
   "execution_count": 43,
   "id": "f5d2acf0",
   "metadata": {},
   "outputs": [
    {
     "data": {
      "text/plain": [
       "125"
      ]
     },
     "execution_count": 43,
     "metadata": {},
     "output_type": "execute_result"
    }
   ],
   "source": [
    "# keyword argument\n",
    "power(b=3,a=5)"
   ]
  },
  {
   "cell_type": "markdown",
   "id": "abfb9369",
   "metadata": {},
   "source": [
    "# *args and **kwargs\n",
    ">special python keywords that are used to pass the variable lenght of arguments to a function."
   ]
  },
  {
   "cell_type": "code",
   "execution_count": 44,
   "id": "ee7611d6",
   "metadata": {},
   "outputs": [],
   "source": [
    "# *args \n",
    "def multiply(*args):\n",
    "    print(a*b*c)"
   ]
  },
  {
   "cell_type": "code",
   "execution_count": 45,
   "id": "58b7c2dd",
   "metadata": {},
   "outputs": [
    {
     "name": "stdout",
     "output_type": "stream",
     "text": [
      "2\n"
     ]
    }
   ],
   "source": [
    "multiply(2,3,5)"
   ]
  },
  {
   "cell_type": "code",
   "execution_count": 46,
   "id": "e1ef11c4",
   "metadata": {},
   "outputs": [
    {
     "data": {
      "text/plain": [
       "479001600"
      ]
     },
     "execution_count": 46,
     "metadata": {},
     "output_type": "execute_result"
    }
   ],
   "source": [
    "def multi(*args):\n",
    "    product=1\n",
    "    for i in args:\n",
    "        product*=i\n",
    "    return product\n",
    "multi(1,2,3,4,5,6,7,8,9,10,11,12)"
   ]
  },
  {
   "cell_type": "code",
   "execution_count": 47,
   "id": "3beaba8a",
   "metadata": {},
   "outputs": [],
   "source": [
    "str1='abcddcdas'\n",
    "lst1=[1,2,3,4,5]"
   ]
  },
  {
   "cell_type": "code",
   "execution_count": 48,
   "id": "59629232",
   "metadata": {},
   "outputs": [
    {
     "name": "stdout",
     "output_type": "stream",
     "text": [
      "{'a': 1, 'b': 2, 'c': 3, 'd': 5}\n"
     ]
    }
   ],
   "source": [
    "print(dict(zip(str1,lst1)))"
   ]
  },
  {
   "cell_type": "code",
   "execution_count": 49,
   "id": "6f7d9f2c",
   "metadata": {},
   "outputs": [
    {
     "name": "stdout",
     "output_type": "stream",
     "text": [
      "{'c': 1, 's': 2, 'b': 3, 'a': 4, 'd': 5}\n"
     ]
    }
   ],
   "source": [
    "str1=set('abacdaddcdas')\n",
    "lst1=[1,2,3,4,5]\n",
    "print(dict(zip(str1,lst1)))"
   ]
  },
  {
   "cell_type": "code",
   "execution_count": 50,
   "id": "f5a639eb",
   "metadata": {},
   "outputs": [
    {
     "data": {
      "text/plain": [
       "{'a', 'b', 'c', 'd', 's'}"
      ]
     },
     "execution_count": 50,
     "metadata": {},
     "output_type": "execute_result"
    }
   ],
   "source": [
    "str1"
   ]
  },
  {
   "cell_type": "code",
   "execution_count": 51,
   "id": "acfed290",
   "metadata": {},
   "outputs": [],
   "source": [
    "# **kwargs\n",
    "#  **kwargs allows us to pass any numbers of keywords arguments.\n",
    "# keyword arguments men that they contains  a key -value pairs , like a python dictionary.\n",
    "\n",
    "def display(**kwargs):\n",
    "    for key,value in kwargs.items():\n",
    "        print(key ,'-->',value)"
   ]
  },
  {
   "cell_type": "code",
   "execution_count": 52,
   "id": "173c02dc",
   "metadata": {},
   "outputs": [
    {
     "name": "stdout",
     "output_type": "stream",
     "text": [
      "india --> delhi\n",
      "srilanka --> colombo\n",
      "nepal --> kathmando\n"
     ]
    }
   ],
   "source": [
    "display(india='delhi',srilanka='colombo',nepal='kathmando')"
   ]
  },
  {
   "cell_type": "code",
   "execution_count": null,
   "id": "152e21bb",
   "metadata": {},
   "outputs": [],
   "source": []
  },
  {
   "cell_type": "markdown",
   "id": "06668106",
   "metadata": {},
   "source": [
    "# oops"
   ]
  },
  {
   "cell_type": "markdown",
   "id": "b9231862",
   "metadata": {},
   "source": [
    "# class and object"
   ]
  },
  {
   "cell_type": "code",
   "execution_count": 53,
   "id": "0ae6f985",
   "metadata": {},
   "outputs": [],
   "source": [
    "# class is the blueprint\n",
    "# In python all the data type is  behave like class but file of datatype is called object"
   ]
  },
  {
   "cell_type": "code",
   "execution_count": 54,
   "id": "fc5101b1",
   "metadata": {},
   "outputs": [],
   "source": [
    "# object is an instance of the class \n",
    "# syntax  to create an object\n",
    "\n",
    "    # objectname=classname()"
   ]
  },
  {
   "cell_type": "code",
   "execution_count": 55,
   "id": "5df96390",
   "metadata": {},
   "outputs": [],
   "source": [
    "# Pascal Case\n",
    " # HelloWorld"
   ]
  },
  {
   "cell_type": "code",
   "execution_count": 56,
   "id": "194bfcd3",
   "metadata": {},
   "outputs": [],
   "source": [
    "class Atm:\n",
    "    # constructor(special function)->super power->\n",
    "    def __init__(self):\n",
    "        self.pin=''\n",
    "        self.balance=0\n",
    "        self.menu()\n",
    "    def menu(self):\n",
    "        user_input=input(\"\"\"\n",
    "        How can I help you?\n",
    "        1. press 1 to create pin\n",
    "        2. press 2 to change pin\n",
    "        3. press 3 to check balance\n",
    "        4. press 4 to balance withdraw\n",
    "        5. anything else to exit\n",
    "        \"\"\")\n",
    "        if user_input == '1':\n",
    "            # create pin\n",
    "            self.create_pin()\n",
    "        elif user_input == '2':\n",
    "            # change pin\n",
    "            self.change_pin()\n",
    "        elif user_input == '3':\n",
    "            # check balance\n",
    "            self.check_balance()\n",
    "        elif user_input == '4':\n",
    "            # balance withdraw\n",
    "            self.withdraw()\n",
    "        else:\n",
    "            exit()\n",
    "            \n",
    "    def create_pin(self):\n",
    "        user_pin=input('enter the pin : ')\n",
    "        self.pin=user_pin\n",
    "        \n",
    "        user_balance=int(input('enter the balance : '))\n",
    "        self.balance=user_balance\n",
    "        \n",
    "        print('create pin successfully')\n",
    "        self.menu()\n",
    "        \n",
    "    def change_pin(self):\n",
    "        old_pin=input('enter the pin')\n",
    "        \n",
    "        if old_pin==self.pin:\n",
    "            # let him change the pin\n",
    "            new_pin=input('enter the new pin')\n",
    "            self.pin=new_pin\n",
    "            print('pin cahnge successfully')\n",
    "            self.menu()\n",
    "        else:\n",
    "            print('nahi karne de skta hai re baba')\n",
    "            self.menu()\n",
    "            \n",
    "    def check_balance(self):\n",
    "        user_pin=input('enter your pin')\n",
    "        if user_pin==self.pin:\n",
    "            print('your balance is : ',self.balance)\n",
    "            \n",
    "            self.menu()\n",
    "        else:\n",
    "            print('chal nikal yaha se')\n",
    "            \n",
    "    def withdraw(self):\n",
    "        user_pin=input('enter the pin : ')\n",
    "        if user_pin==self.pin:\n",
    "            # allow to withdraw\n",
    "            ammount=int(input('enter the ammount: '))\n",
    "            if ammount <=self.balance:\n",
    "                self.balance=self.balance-ammount\n",
    "                print('withdraw is successfully.is balance ',self.balance)\n",
    "               \n",
    "            else:\n",
    "                print('not sufficient balance')\n",
    "        else:\n",
    "            print('plz enter the valid pin: ')\n",
    "        self.menu()\n",
    "        "
   ]
  },
  {
   "cell_type": "code",
   "execution_count": null,
   "id": "58e91349",
   "metadata": {},
   "outputs": [],
   "source": []
  },
  {
   "cell_type": "code",
   "execution_count": 57,
   "id": "0e06c162",
   "metadata": {},
   "outputs": [
    {
     "name": "stdout",
     "output_type": "stream",
     "text": [
      "\n",
      "        How can I help you?\n",
      "        1. press 1 to create pin\n",
      "        2. press 2 to change pin\n",
      "        3. press 3 to check balance\n",
      "        4. press 4 to balance withdraw\n",
      "        5. anything else to exit\n",
      "        \n"
     ]
    },
    {
     "data": {
      "text/plain": [
       "<__main__.Atm at 0x226e08514f0>"
      ]
     },
     "execution_count": 57,
     "metadata": {},
     "output_type": "execute_result"
    }
   ],
   "source": [
    "obj=Atm()\n",
    "obj"
   ]
  },
  {
   "cell_type": "code",
   "execution_count": 1,
   "id": "5a71e841",
   "metadata": {},
   "outputs": [
    {
     "name": "stdout",
     "output_type": "stream",
     "text": [
      "\n",
      "        How can i help you?.\n",
      "        1. press one for addition.\n",
      "        2. press two for subtraction.\n",
      "        3. press three for multiplication.\n",
      "        4. press four for division.\n",
      "        5. exits\n",
      "        \n"
     ]
    },
    {
     "data": {
      "text/plain": [
       "<__main__.Calculator at 0x1faf0221220>"
      ]
     },
     "execution_count": 1,
     "metadata": {},
     "output_type": "execute_result"
    }
   ],
   "source": [
    "class Calculator:\n",
    "    def __init__(self):\n",
    "        self.menu()\n",
    "    def menu(self):\n",
    "        user_input=input(\"\"\"\n",
    "        How can i help you?.\n",
    "        1. press one for addition.\n",
    "        2. press two for subtraction.\n",
    "        3. press three for multiplication.\n",
    "        4. press four for division.\n",
    "        5. exits\n",
    "        \"\"\")\n",
    "        if user_input=='1':\n",
    "            self.addition()\n",
    "        elif user_input=='2':\n",
    "            self.substraction()\n",
    "        elif user_input=='3':\n",
    "            self.multiplication()\n",
    "        elif user_input==\"4\":\n",
    "            self.division()\n",
    "        else:\n",
    "            exit()\n",
    "            \n",
    "    def addition(self):\n",
    "        first_value=int(input(\"plz enter the values : \"))\n",
    "        second_value=int(input(\"plz enter the second values : \"))\n",
    "        result=first_value+second_value\n",
    "        print(\"The addition result is : \",result)\n",
    "        self.menu()\n",
    "    def substraction(self):\n",
    "        first_value=int(input(\"plz enter the values : \"))\n",
    "        second_value=int(input(\"plz enter the second values : \"))\n",
    "        result=first_value-second_value\n",
    "        print(\"The substractioncation result is : \",result)\n",
    "        self.menu()\n",
    "    def multiplication(self):\n",
    "        first_value=int(input(\"plz enter the values : \"))\n",
    "        second_value=int(input(\"plz enter the second values : \"))\n",
    "        result=first_value*second_value\n",
    "        print(\"The multiplication result is : \",result)\n",
    "        self.menu()\n",
    "    def division(self):\n",
    "        first_value=int(input(\"plz enter the values : \"))\n",
    "        second_value=int(input(\"plz enter the second values : \"))\n",
    "        result=first_value/second_value\n",
    "        print(\"The division result is : \",result)\n",
    "        self.menu()\n",
    "    \n",
    "obj=Calculator()\n",
    "obj"
   ]
  },
  {
   "cell_type": "code",
   "execution_count": 2,
   "id": "d5cbcfcb",
   "metadata": {},
   "outputs": [],
   "source": [
    "# inside the class function is callled methods \n",
    "# independent function is called functions"
   ]
  },
  {
   "cell_type": "code",
   "execution_count": 3,
   "id": "ad956a74",
   "metadata": {},
   "outputs": [],
   "source": [
    "L=[1,2,3,4,5]"
   ]
  },
  {
   "cell_type": "code",
   "execution_count": 4,
   "id": "1007fb4a",
   "metadata": {},
   "outputs": [
    {
     "data": {
      "text/plain": [
       "5"
      ]
     },
     "execution_count": 4,
     "metadata": {},
     "output_type": "execute_result"
    }
   ],
   "source": [
    "len(L)   # it is a function because outside of the List class"
   ]
  },
  {
   "cell_type": "code",
   "execution_count": null,
   "id": "d55d43b8",
   "metadata": {},
   "outputs": [],
   "source": [
    "L.append(6)  # it is a methods because inside the list class"
   ]
  },
  {
   "cell_type": "code",
   "execution_count": null,
   "id": "bb44b315",
   "metadata": {},
   "outputs": [],
   "source": [
    "L"
   ]
  },
  {
   "cell_type": "markdown",
   "id": "4b313a33",
   "metadata": {},
   "source": [
    "# Magic Methods(Dunder Methods)"
   ]
  },
  {
   "cell_type": "code",
   "execution_count": null,
   "id": "78d951e4",
   "metadata": {},
   "outputs": [],
   "source": [
    "# syntax:    __name of methods__   , similar to : __init__ , under this methods code are automatic are run.\n",
    "# with the hepl of magic methods we will biuld  own  datatypes"
   ]
  },
  {
   "cell_type": "markdown",
   "id": "a95a1a83",
   "metadata": {},
   "source": [
    "# 1. constructor(__init__)\n",
    "> its a special type of methods we build a object then automatic are execute this methods.\n",
    "\n",
    ">The Benefits of constructors configurational related code (used to database code bakaned code or internet connection related code)\n",
    "\n",
    "> Constructor is function can not be control user, its automatic execute when start the application."
   ]
  },
  {
   "cell_type": "markdown",
   "id": "4f190fb2",
   "metadata": {},
   "source": [
    "# 2. __str__\n",
    "> always takes return \n"
   ]
  },
  {
   "cell_type": "code",
   "execution_count": null,
   "id": "36a1c508",
   "metadata": {},
   "outputs": [],
   "source": [
    "class Fraction:\n",
    "    def __init__(self,x,y):\n",
    "        self.nun=x\n",
    "        self.den=y\n",
    "    def __str__(self):\n",
    "        return \"{}/{}\".format(self.nun,self.den)\n",
    "    def __add__(self,other):\n",
    "        new_nun=self.nun*other.den + other.nun*self.den\n",
    "        new_den=self.den*other.den\n",
    "        \n",
    "        return \"{}/{}\".format(new_nun,new_den)\n",
    "    \n",
    "    def __sub__(self,other):\n",
    "        new_nun=self.nun*other.den - other.nun*self.den\n",
    "        new_den=self.den*other.den\n",
    "        \n",
    "        return \"{}/{}\".format(new_nun,new_den)\n",
    "    \n",
    "    def __mul__(self,other):\n",
    "        new_nun=self.nun*other.den * other.nun*self.den\n",
    "        new_den=self.den*other.den\n",
    "        \n",
    "        return \"{}/{}\".format(new_nun,new_den)\n",
    "    def __truediv__(self,other):\n",
    "        new_nun=self.nun*other.den \n",
    "        new_den=self.den*other.den\n",
    "        \n",
    "        return \"{}/{}\".format(new_nun,new_den)\n",
    "    \n",
    "        \n",
    "fr1=Fraction(3,4)\n",
    "fr2=Fraction(1,2)"
   ]
  },
  {
   "cell_type": "code",
   "execution_count": 11,
   "id": "d6249b44",
   "metadata": {},
   "outputs": [
    {
     "name": "stdout",
     "output_type": "stream",
     "text": [
      "3/4\n"
     ]
    },
    {
     "data": {
      "text/plain": [
       "(None, __main__.Fraction)"
      ]
     },
     "execution_count": 11,
     "metadata": {},
     "output_type": "execute_result"
    }
   ],
   "source": [
    "print(fr1),type(fr1)"
   ]
  },
  {
   "cell_type": "code",
   "execution_count": 12,
   "id": "3ad6ac00",
   "metadata": {},
   "outputs": [
    {
     "name": "stdout",
     "output_type": "stream",
     "text": [
      "1/2\n"
     ]
    },
    {
     "data": {
      "text/plain": [
       "(None, __main__.Fraction)"
      ]
     },
     "execution_count": 12,
     "metadata": {},
     "output_type": "execute_result"
    }
   ],
   "source": [
    "print(fr2),type(fr2)"
   ]
  },
  {
   "cell_type": "code",
   "execution_count": 13,
   "id": "c39d8e41",
   "metadata": {},
   "outputs": [
    {
     "name": "stdout",
     "output_type": "stream",
     "text": [
      "10/8\n"
     ]
    }
   ],
   "source": [
    "print(fr1+fr2)"
   ]
  },
  {
   "cell_type": "code",
   "execution_count": 14,
   "id": "9464037f",
   "metadata": {},
   "outputs": [
    {
     "name": "stdout",
     "output_type": "stream",
     "text": [
      "2/8\n"
     ]
    }
   ],
   "source": [
    "print(fr1-fr2)"
   ]
  },
  {
   "cell_type": "code",
   "execution_count": 15,
   "id": "5b7bce48",
   "metadata": {},
   "outputs": [
    {
     "name": "stdout",
     "output_type": "stream",
     "text": [
      "24/8\n"
     ]
    }
   ],
   "source": [
    "print(fr1*fr2)"
   ]
  },
  {
   "cell_type": "code",
   "execution_count": 16,
   "id": "0d5ddf6d",
   "metadata": {},
   "outputs": [
    {
     "name": "stdout",
     "output_type": "stream",
     "text": [
      "6/8\n"
     ]
    }
   ],
   "source": [
    "print(fr1/fr2)"
   ]
  },
  {
   "cell_type": "code",
   "execution_count": 17,
   "id": "14465c2f",
   "metadata": {},
   "outputs": [],
   "source": [
    "class Point:\n",
    "    def __init__(self,x,y):\n",
    "        self.x_cod=x\n",
    "        self.y_cod=y\n",
    "    def __str__(self):\n",
    "        return \"<{},{}>\".format(self.x_cod,self.y_cod)\n",
    "    def euclidean_distance(self,other):\n",
    "        return ((self.x_cod-other.x_cod)**2 + (self.y_cod-other.y_cod)**2)**0.5\n",
    "    def distance_from_origin(self):\n",
    "        return self.euclidean_distance(Point(0,0))\n",
    "    \n",
    "class Line:\n",
    "    def __init__(self,A,B,C):\n",
    "        self.A=A\n",
    "        self.B=B\n",
    "        self.C=C\n",
    "    def __str__(self):\n",
    "        return '{}x+{}y+{}=0'.format(self.A,self.B,self.C)\n",
    "    \n",
    "    def point_on_line(line,point):\n",
    "        if line.A*point.x_cod + line.B*point.y_cod+line.C==0:\n",
    "            return 'lies on the line'\n",
    "        else:\n",
    "            return 'does not lie on the line'"
   ]
  },
  {
   "cell_type": "code",
   "execution_count": 18,
   "id": "480a08c9",
   "metadata": {},
   "outputs": [
    {
     "name": "stdout",
     "output_type": "stream",
     "text": [
      "<0,0>\n",
      "<1,1>\n"
     ]
    }
   ],
   "source": [
    "p1=Point(0,0)\n",
    "p2=Point(1,1)\n",
    "#<x,y>\n",
    "print(p1)\n",
    "print(p2)"
   ]
  },
  {
   "cell_type": "code",
   "execution_count": 19,
   "id": "e854cde8",
   "metadata": {},
   "outputs": [
    {
     "data": {
      "text/plain": [
       "1.4142135623730951"
      ]
     },
     "execution_count": 19,
     "metadata": {},
     "output_type": "execute_result"
    }
   ],
   "source": [
    "p1.euclidean_distance(p2)"
   ]
  },
  {
   "cell_type": "code",
   "execution_count": 20,
   "id": "43b5fa3a",
   "metadata": {},
   "outputs": [
    {
     "data": {
      "text/plain": [
       "0.0"
      ]
     },
     "execution_count": 20,
     "metadata": {},
     "output_type": "execute_result"
    }
   ],
   "source": [
    "p1.distance_from_origin()"
   ]
  },
  {
   "cell_type": "code",
   "execution_count": 21,
   "id": "ff527ced",
   "metadata": {},
   "outputs": [
    {
     "name": "stdout",
     "output_type": "stream",
     "text": [
      "1x+1y+2=0\n",
      "<1,1>\n"
     ]
    }
   ],
   "source": [
    "l1=Line(1,1,2)\n",
    "p=Point(1,1)\n",
    "print(l1)\n",
    "print(p)"
   ]
  },
  {
   "cell_type": "code",
   "execution_count": 22,
   "id": "1877536e",
   "metadata": {},
   "outputs": [
    {
     "data": {
      "text/plain": [
       "'does not lie on the line'"
      ]
     },
     "execution_count": 22,
     "metadata": {},
     "output_type": "execute_result"
    }
   ],
   "source": [
    "l1.point_on_line(p)"
   ]
  },
  {
   "cell_type": "code",
   "execution_count": 23,
   "id": "70a11913",
   "metadata": {},
   "outputs": [],
   "source": [
    "#"
   ]
  },
  {
   "cell_type": "code",
   "execution_count": 24,
   "id": "d0b4ae80",
   "metadata": {},
   "outputs": [],
   "source": [
    "class Person:\n",
    "    def __init__(self,name_input,country_input):\n",
    "        self.name=name_input\n",
    "        self.country=country_input\n",
    "    def greed(self):\n",
    "        if self.country=='India':\n",
    "            print('Namaste',self.name)\n",
    "        else:\n",
    "            print('Hello',self.name)"
   ]
  },
  {
   "cell_type": "code",
   "execution_count": 25,
   "id": "0d400bff",
   "metadata": {},
   "outputs": [
    {
     "name": "stdout",
     "output_type": "stream",
     "text": [
      "Hello amar\n"
     ]
    }
   ],
   "source": [
    "p1=Person('amar','England')   # p1 is not object p1 is reference variable which is contains address of object\n",
    "p1.greed()"
   ]
  },
  {
   "cell_type": "code",
   "execution_count": 26,
   "id": "630b91e5",
   "metadata": {},
   "outputs": [],
   "source": [
    "q=p1"
   ]
  },
  {
   "cell_type": "code",
   "execution_count": 27,
   "id": "fd54be12",
   "metadata": {},
   "outputs": [
    {
     "name": "stdout",
     "output_type": "stream",
     "text": [
      "<__main__.Person object at 0x000001C7E06EE490>\n"
     ]
    },
    {
     "data": {
      "text/plain": [
       "(None, 1957975483536)"
      ]
     },
     "execution_count": 27,
     "metadata": {},
     "output_type": "execute_result"
    }
   ],
   "source": [
    "print(q),id(q)"
   ]
  },
  {
   "cell_type": "code",
   "execution_count": 28,
   "id": "fc50e165",
   "metadata": {},
   "outputs": [
    {
     "name": "stdout",
     "output_type": "stream",
     "text": [
      "<__main__.Person object at 0x000001C7E06EE490>\n"
     ]
    },
    {
     "data": {
      "text/plain": [
       "(None, 1957975483536)"
      ]
     },
     "execution_count": 28,
     "metadata": {},
     "output_type": "execute_result"
    }
   ],
   "source": [
    "print(p1),id(p1)"
   ]
  },
  {
   "cell_type": "markdown",
   "id": "ddba1b32",
   "metadata": {},
   "source": [
    "# Reference Variable\n",
    ". reference variable hold the objects\n",
    "\n",
    ". we can create objects without reference variable as well\n",
    "\n",
    ". Assigning new reference variable to an existing object does not create a new object."
   ]
  },
  {
   "cell_type": "markdown",
   "id": "06874309",
   "metadata": {},
   "source": [
    "# Encapsulation\n",
    "> Instace Variable -> which is the one variable store the multiple values depending on the object.(under the constructor)\n",
    "\n",
    ">Static means single variable are used to every one (under the class)"
   ]
  },
  {
   "cell_type": "markdown",
   "id": "9700716f",
   "metadata": {},
   "source": [
    "# Aggregation "
   ]
  },
  {
   "cell_type": "code",
   "execution_count": 21,
   "id": "38d24e24",
   "metadata": {},
   "outputs": [
    {
     "name": "stdout",
     "output_type": "stream",
     "text": [
      "Pune 412207 maharastra\n"
     ]
    },
    {
     "ename": "TypeError",
     "evalue": "edit_address() missing 3 required positional arguments: 'new_city', 'new_pin', and 'new_state'",
     "output_type": "error",
     "traceback": [
      "\u001b[1;31m---------------------------------------------------------------------------\u001b[0m",
      "\u001b[1;31mTypeError\u001b[0m                                 Traceback (most recent call last)",
      "\u001b[1;32m~\\AppData\\Local\\Temp\\ipykernel_12716\\2212046647.py\u001b[0m in \u001b[0;36m<module>\u001b[1;34m\u001b[0m\n\u001b[0;32m     27\u001b[0m \u001b[0mcust\u001b[0m\u001b[1;33m=\u001b[0m\u001b[0mCustomer\u001b[0m\u001b[1;33m(\u001b[0m\u001b[1;34m'amar'\u001b[0m\u001b[1;33m,\u001b[0m\u001b[1;34m'M'\u001b[0m\u001b[1;33m,\u001b[0m\u001b[0mAdd1\u001b[0m\u001b[1;33m)\u001b[0m\u001b[1;33m\u001b[0m\u001b[1;33m\u001b[0m\u001b[0m\n\u001b[0;32m     28\u001b[0m \u001b[0mcust\u001b[0m\u001b[1;33m.\u001b[0m\u001b[0mprint_address\u001b[0m\u001b[1;33m(\u001b[0m\u001b[1;33m)\u001b[0m\u001b[1;33m\u001b[0m\u001b[1;33m\u001b[0m\u001b[0m\n\u001b[1;32m---> 29\u001b[1;33m \u001b[0mcust\u001b[0m\u001b[1;33m.\u001b[0m\u001b[0medit_profile\u001b[0m\u001b[1;33m(\u001b[0m\u001b[1;34m'ramu'\u001b[0m\u001b[1;33m,\u001b[0m\u001b[1;34m'Bagaha'\u001b[0m\u001b[1;33m,\u001b[0m\u001b[1;36m845105\u001b[0m\u001b[1;33m,\u001b[0m\u001b[1;34m'Bihar'\u001b[0m\u001b[1;33m)\u001b[0m\u001b[1;33m\u001b[0m\u001b[1;33m\u001b[0m\u001b[0m\n\u001b[0m\u001b[0;32m     30\u001b[0m \u001b[0mcust\u001b[0m\u001b[1;33m.\u001b[0m\u001b[0mprint_address\u001b[0m\u001b[1;33m(\u001b[0m\u001b[1;33m)\u001b[0m\u001b[1;33m\u001b[0m\u001b[1;33m\u001b[0m\u001b[0m\n",
      "\u001b[1;32m~\\AppData\\Local\\Temp\\ipykernel_12716\\2212046647.py\u001b[0m in \u001b[0;36medit_profile\u001b[1;34m(self, new_name, new_city, new_pin, new_state)\u001b[0m\n\u001b[0;32m     10\u001b[0m     \u001b[1;32mdef\u001b[0m \u001b[0medit_profile\u001b[0m\u001b[1;33m(\u001b[0m\u001b[0mself\u001b[0m\u001b[1;33m,\u001b[0m\u001b[0mnew_name\u001b[0m\u001b[1;33m,\u001b[0m\u001b[0mnew_city\u001b[0m\u001b[1;33m,\u001b[0m\u001b[0mnew_pin\u001b[0m\u001b[1;33m,\u001b[0m\u001b[0mnew_state\u001b[0m\u001b[1;33m)\u001b[0m\u001b[1;33m:\u001b[0m\u001b[1;33m\u001b[0m\u001b[1;33m\u001b[0m\u001b[0m\n\u001b[0;32m     11\u001b[0m         \u001b[0mself\u001b[0m\u001b[1;33m.\u001b[0m\u001b[0mname\u001b[0m\u001b[1;33m=\u001b[0m\u001b[0mnew_name\u001b[0m\u001b[1;33m\u001b[0m\u001b[1;33m\u001b[0m\u001b[0m\n\u001b[1;32m---> 12\u001b[1;33m         \u001b[0mself\u001b[0m\u001b[1;33m.\u001b[0m\u001b[0maddress\u001b[0m\u001b[1;33m.\u001b[0m\u001b[0medit_address\u001b[0m\u001b[1;33m(\u001b[0m\u001b[1;33m)\u001b[0m\u001b[1;33m\u001b[0m\u001b[1;33m\u001b[0m\u001b[0m\n\u001b[0m\u001b[0;32m     13\u001b[0m \u001b[1;33m\u001b[0m\u001b[0m\n\u001b[0;32m     14\u001b[0m \u001b[1;32mclass\u001b[0m \u001b[0mAddress\u001b[0m\u001b[1;33m:\u001b[0m\u001b[1;33m\u001b[0m\u001b[1;33m\u001b[0m\u001b[0m\n",
      "\u001b[1;31mTypeError\u001b[0m: edit_address() missing 3 required positional arguments: 'new_city', 'new_pin', and 'new_state'"
     ]
    }
   ],
   "source": [
    "class Customer:\n",
    "    def __init__(self,name,gender,address):\n",
    "        self.name=name\n",
    "        self.gender=gender\n",
    "        self.address=address\n",
    "        \n",
    "    def print_address(self):\n",
    "        print(self.address.get_city(),self.address.pin,self.address.state)\n",
    "        \n",
    "    def edit_profile(self,new_name,new_city,new_pin,new_state):\n",
    "        self.name=new_name\n",
    "        self.address.edit_address()\n",
    "        \n",
    "class Address:\n",
    "    def __init__(self,city,pin,state):\n",
    "        self.__city=city\n",
    "        self.pin=pin\n",
    "        self.state=state\n",
    "    def get_city(self):\n",
    "        return self.__city\n",
    "    def edit_address(self,new_city,new_pin,new_state):\n",
    "        self.__city=new_city\n",
    "        self.pin=new_pin\n",
    "        self.state=new_state\n",
    "        \n",
    "Add1=Address('Pune',412207,'maharastra')\n",
    "cust=Customer('amar','M',Add1)\n",
    "cust.print_address()\n",
    "cust.edit_profile('ramu','Bagaha',845105,'Bihar')\n",
    "cust.print_address()"
   ]
  },
  {
   "cell_type": "code",
   "execution_count": 23,
   "id": "7d7f7e6d",
   "metadata": {},
   "outputs": [
    {
     "ename": "TypeError",
     "evalue": "'>' not supported between instances of 'dict' and 'dict'",
     "output_type": "error",
     "traceback": [
      "\u001b[1;31m---------------------------------------------------------------------------\u001b[0m",
      "\u001b[1;31mTypeError\u001b[0m                                 Traceback (most recent call last)",
      "\u001b[1;32m~\\AppData\\Local\\Temp\\ipykernel_12716\\2842890906.py\u001b[0m in \u001b[0;36m<module>\u001b[1;34m\u001b[0m\n\u001b[0;32m      1\u001b[0m \u001b[0md1\u001b[0m\u001b[1;33m=\u001b[0m\u001b[1;33m{\u001b[0m\u001b[1;34m'amar'\u001b[0m\u001b[1;33m:\u001b[0m\u001b[1;36m45\u001b[0m\u001b[1;33m,\u001b[0m\u001b[1;34m'kumar'\u001b[0m\u001b[1;33m:\u001b[0m\u001b[1;36m34\u001b[0m\u001b[1;33m}\u001b[0m\u001b[1;33m\u001b[0m\u001b[1;33m\u001b[0m\u001b[0m\n\u001b[0;32m      2\u001b[0m \u001b[0md2\u001b[0m\u001b[1;33m=\u001b[0m\u001b[1;33m{\u001b[0m\u001b[1;34m'amar'\u001b[0m\u001b[1;33m:\u001b[0m\u001b[1;36m66\u001b[0m\u001b[1;33m,\u001b[0m\u001b[1;34m'kumar'\u001b[0m\u001b[1;33m:\u001b[0m\u001b[1;36m34\u001b[0m\u001b[1;33m}\u001b[0m\u001b[1;33m\u001b[0m\u001b[1;33m\u001b[0m\u001b[0m\n\u001b[1;32m----> 3\u001b[1;33m \u001b[0md1\u001b[0m\u001b[1;33m>\u001b[0m\u001b[0md2\u001b[0m\u001b[1;33m\u001b[0m\u001b[1;33m\u001b[0m\u001b[0m\n\u001b[0m",
      "\u001b[1;31mTypeError\u001b[0m: '>' not supported between instances of 'dict' and 'dict'"
     ]
    }
   ],
   "source": [
    "d1={'amar':45,'kumar':34}\n",
    "d2={'amar':66,'kumar':34}\n",
    "d1>d2"
   ]
  },
  {
   "cell_type": "code",
   "execution_count": null,
   "id": "1e5c042f",
   "metadata": {},
   "outputs": [],
   "source": []
  },
  {
   "cell_type": "code",
   "execution_count": null,
   "id": "31dfa40f",
   "metadata": {},
   "outputs": [],
   "source": []
  }
 ],
 "metadata": {
  "kernelspec": {
   "display_name": "Python 3 (ipykernel)",
   "language": "python",
   "name": "python3"
  },
  "language_info": {
   "codemirror_mode": {
    "name": "ipython",
    "version": 3
   },
   "file_extension": ".py",
   "mimetype": "text/x-python",
   "name": "python",
   "nbconvert_exporter": "python",
   "pygments_lexer": "ipython3",
   "version": "3.9.13"
  }
 },
 "nbformat": 4,
 "nbformat_minor": 5
}
